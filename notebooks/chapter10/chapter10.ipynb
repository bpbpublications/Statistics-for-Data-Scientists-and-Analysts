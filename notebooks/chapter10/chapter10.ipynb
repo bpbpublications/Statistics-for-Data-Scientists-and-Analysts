{
 "cells": [
  {
   "cell_type": "markdown",
   "metadata": {},
   "source": [
    "#### Prompting for Statistics and Data Science"
   ]
  },
  {
   "cell_type": "markdown",
   "metadata": {},
   "source": [
    "**Tutorial 10.1. To use and access GPT-4 using Open-AI api key**\n",
    "\n",
    "`pip install openai`"
   ]
  },
  {
   "cell_type": "code",
   "execution_count": null,
   "metadata": {},
   "outputs": [],
   "source": [
    "# Import libraries\n",
    "import os\n",
    "from dotenv import load_dotenv\n",
    "from openai import OpenAI\n",
    "from IPython.display import display, Markdown\n",
    "# Load environment variables from .env\n",
    "load_dotenv()\n",
    "client = OpenAI(\n",
    "    api_key=os.getenv(\"OPENAI_API_KEY\"),\n",
    ")\n",
    "# Select model and get response from the API\n",
    "response = client.chat.completions.create(\n",
    "    model=\"gpt-3.5-turbo\",\n",
    "    messages=[\n",
    "        {\n",
    "            \"role\": \"user\",\n",
    "            \"content\": \"What is artificial intelligence ?\",\n",
    "        }\n",
    "    ],\n",
    "    max_tokens=150,\n",
    "    n=3\n",
    ")"
   ]
  },
  {
   "cell_type": "markdown",
   "metadata": {},
   "source": [
    "**Tutorial 10.2. To use the hugging face models for text generation**\n",
    "\n",
    "`pip install --upgrade langchain`\n",
    "`pip install huggingface_hub`\n",
    "`pip install transformers`"
   ]
  },
  {
   "cell_type": "code",
   "execution_count": null,
   "metadata": {},
   "outputs": [],
   "source": [
    "from langchain import PromptTemplate, HuggingFaceHub, LLMChain\n",
    "import os\n",
    "from dotenv import load_dotenv\n",
    "load_dotenv()\n",
    "os.environ['HUGGINGFACEHUB_API_TOKEN']\n",
    "# Define the prompt template\n",
    "prompt = PromptTemplate(input_variables=[\n",
    "                        'Domain'], template='What are the uses of artificial intelligence in {Domain} ?')\n",
    "# Define the text generation model from Hugging Face Hub: google/flan-t5-large\n",
    "chain = LLMChain(llm=HuggingFaceHub(\n",
    "    repo_id='google/flan-t5-large'), prompt=prompt)\n",
    "print(chain.run(Domain='healthcare'))"
   ]
  }
 ],
 "metadata": {
  "kernelspec": {
   "display_name": "Python 3",
   "language": "python",
   "name": "python3"
  },
  "language_info": {
   "codemirror_mode": {
    "name": "ipython",
    "version": 3
   },
   "file_extension": ".py",
   "mimetype": "text/x-python",
   "name": "python",
   "nbconvert_exporter": "python",
   "pygments_lexer": "ipython3",
   "version": "3.10.8"
  }
 },
 "nbformat": 4,
 "nbformat_minor": 2
}
