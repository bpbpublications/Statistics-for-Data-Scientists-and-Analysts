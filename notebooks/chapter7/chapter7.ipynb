{
 "cells": [
  {
   "cell_type": "markdown",
   "id": "435d0a44-3f28-4d3b-957b-f8fa58f57346",
   "metadata": {},
   "source": [
    "**Tutorial 7.1: To implement and illustrate the concept of fitting models to independent data**\n",
    "\n",
    "The algorithm used to fit the model is linear regression\n"
   ]
  },
  {
   "cell_type": "code",
   "execution_count": 1,
   "id": "8f0f572a-7222-4adc-b095-8c0c47ff5510",
   "metadata": {},
   "outputs": [
    {
     "name": "stdout",
     "output_type": "stream",
     "text": [
      "The slope of the line is 5.27\n",
      "The intercept of the line is 48.00\n",
      "The equation of the line is y = 5.27x + 48.00\n"
     ]
    },
    {
     "data": {
      "image/png": "[encoded data removed]",
      "text/plain": [
       "<Figure size 640x480 with 1 Axes>"
      ]
     },
     "metadata": {},
     "output_type": "display_data"
    }
   ],
   "source": [
    "import numpy as np\n",
    "import matplotlib.pyplot as plt\n",
    "# Define the data\n",
    "x = np.array([1, 2, 3, 4, 5, 6, 7, 8, 9, 10])  # Number of hours studied\n",
    "y = np.array([50, 60, 65, 70, 75, 80, 85, 90, 95, 100])  # Test score\n",
    "# Fit the linear regression model\n",
    "m, b = np.polyfit(x, y, 1)  # Find the slope and the intercept\n",
    "# Print the results\n",
    "print(f\"The slope of the line is {m:.2f}\")\n",
    "print(f\"The intercept of the line is {b:.2f}\")\n",
    "print(f\"The equation of the line is y = {m:.2f}x + {b:.2f}\")\n",
    "# Plot the data and the line\n",
    "# Data represent the actual values of the number of hours studied and the test score for each student\n",
    "# Line represents the linear regression model that predicts the test score based on the number of hours studied\n",
    "plt.scatter(x, y, color=\"blue\", label=\"Data\")  # Plot the data points\n",
    "plt.plot(x, m*x + b, color=\"red\",\n",
    "         label=\"Linear regression model\")  # Plot the line\n",
    "plt.xlabel(\"Number of hours studied\")  # Label the x-axis\n",
    "plt.ylabel(\"Test score\")  # Label the y-axis\n",
    "plt.legend()  # Show the legend\n",
    "plt.savefig('fitting_models_to_independent_data.jpg',\n",
    "            dpi=600, bbox_inches='tight')  # Show the figure\n",
    "plt.show()  # Show the plot"
   ]
  },
  {
   "cell_type": "markdown",
   "id": "f5016b2a-dd59-4275-bad3-8b9ed5289129",
   "metadata": {},
   "source": [
    "**Tutorial 7.2: To implement and illustrate the concept of linear regression models to fit a model to predict house price based on size and location**\n"
   ]
  },
  {
   "cell_type": "markdown",
   "id": "1a1f8ed1-53d9-4d1f-8c07-4ec2237f0922",
   "metadata": {},
   "source": [
    "**_Syntax for implementing linear regression with sklearn_**\n"
   ]
  },
  {
   "cell_type": "code",
   "execution_count": 2,
   "id": "d64fa3c3-0824-4e91-86a6-b01efe850fcd",
   "metadata": {},
   "outputs": [
    {
     "ename": "NameError",
     "evalue": "name 'X_train' is not defined",
     "output_type": "error",
     "traceback": [
      "\u001b[0;31m---------------------------------------------------------------------------\u001b[0m",
      "\u001b[0;31mNameError\u001b[0m                                 Traceback (most recent call last)",
      "Cell \u001b[0;32mIn[2], line 6\u001b[0m\n\u001b[1;32m      4\u001b[0m linear_regression \u001b[38;5;241m=\u001b[39m LinearRegression()\n\u001b[1;32m      5\u001b[0m \u001b[38;5;66;03m# Train the model\u001b[39;00m\n\u001b[0;32m----> 6\u001b[0m linear_regression\u001b[38;5;241m.\u001b[39mfit(\u001b[43mX_train\u001b[49m, y_train)\n",
      "\u001b[0;31mNameError\u001b[0m: name 'X_train' is not defined"
     ]
    }
   ],
   "source": [
    "# Import linear regression\n",
    "from sklearn.linear_model import LinearRegression\n",
    "# Create a linear regression model\n",
    "linear_regression = LinearRegression()\n",
    "# Train the model\n",
    "linear_regression.fit(X_train, y_train)"
   ]
  },
  {
   "cell_type": "code",
   "execution_count": null,
   "id": "794d1b61-81cb-4e2c-91c2-c95a5aa1035b",
   "metadata": {},
   "outputs": [],
   "source": [
    "# Import the sklearn linear regression library\n",
    "import sklearn.linear_model as lm\n",
    "# Create some fake data\n",
    "# Size and location of the houses\n",
    "x = [[50, 1], [60, 2], [70, 3], [80, 4], [90, 5]]\n",
    "y = [100, 120, 140, 160, 180]  # Price of the houses\n",
    "# Create a linear regression model\n",
    "model = lm.LinearRegression()\n",
    "# Fit the model to the data\n",
    "model.fit(x, y)\n",
    "# Print the intercept (b) and the slope (w1 and w2)\n",
    "print(f\"Intercept: {model.intercept_}\")  # b\n",
    "print(f\"Coefficient/Slope: {model.coef_}\")  # w1 and w2\n",
    "# Predict the price of a house with size 75 and location 3\n",
    "print(f\"Prediction: {model.predict([[75, 3]])}\")  # y"
   ]
  },
  {
   "cell_type": "markdown",
   "id": "b1718011-f4f3-48a9-80cc-0f0b02b335b0",
   "metadata": {},
   "source": [
    "**Tutorial 7.3: To visualize the fitted line in above tutorial 7.2 and the data points in a scatter plot**\n"
   ]
  },
  {
   "cell_type": "code",
   "execution_count": null,
   "id": "5ab39cb8-f79a-42e9-aa5e-8259dfa24165",
   "metadata": {},
   "outputs": [],
   "source": [
    "import matplotlib.pyplot as plt\n",
    "# Extract the x and y values from the data\n",
    "x_values = [row[0] for row in x]\n",
    "y_values = y\n",
    "# Plot the data points as a scatter plot\n",
    "plt.scatter(x_values, y_values, color=\"blue\", label=\"Data points\")\n",
    "# Plot the fitted line as a line plot\n",
    "plt.plot(x_values, model.predict(x), color=\"red\",\n",
    "         label=\"Fitted linear regression model\")\n",
    "# Add some labels and a legend\n",
    "plt.xlabel(\"Size of the house\")\n",
    "plt.ylabel(\"Price of the house\")\n",
    "plt.legend()\n",
    "plt.savefig('house_price_prediction_model.jpg', dpi=600,\n",
    "            bbox_inches='tight')  # Show the figure\n",
    "plt.show()  # Show the plot"
   ]
  },
  {
   "cell_type": "markdown",
   "id": "f3871f47-6ea1-45a0-b0df-ff9234fe27ca",
   "metadata": {},
   "source": [
    "**Tutorial 7.4: To show a scatter plot where data follow curved pattern**\n"
   ]
  },
  {
   "cell_type": "code",
   "execution_count": null,
   "id": "a2b7db95-3f0d-42a4-b43e-34cd89e4fbe2",
   "metadata": {},
   "outputs": [],
   "source": [
    "import numpy as np\n",
    "import matplotlib.pyplot as plt\n",
    "# Some data that follows a curved pattern\n",
    "x = np.array([0, 1, 2, 3, 4, 5, 6, 7, 8, 9])\n",
    "y = np.sin(x)\n",
    "# Plot the data as a scatter plot\n",
    "plt.scatter(x, y, color='blue', label='Data')\n",
    "# Fit a polynomial curve to the data\n",
    "p = np.polyfit(x, y, 6)\n",
    "y_fit = np.polyval(p, x)\n",
    "# Plot the curve as a red line\n",
    "plt.plot(x, y_fit, color='red', label='Curve')\n",
    "# Add some labels and a legend\n",
    "plt.xlabel('X')\n",
    "plt.ylabel('Y')\n",
    "plt.legend()\n",
    "# Save the figure\n",
    "plt.savefig('scatter_curve.png', dpi=600, bbox_inches='tight')\n",
    "plt.show()"
   ]
  },
  {
   "cell_type": "markdown",
   "id": "c1d1c17d-246d-4a8a-8797-c60a918ef10b",
   "metadata": {},
   "source": [
    "**Tutorial 7.5. To implement viewing of the linearity (linear pattern) in the data by plotting the data in a scatterplot**\n"
   ]
  },
  {
   "cell_type": "code",
   "execution_count": null,
   "id": "b9f7dddb-b609-4750-a6e5-e019815b0cf2",
   "metadata": {},
   "outputs": [],
   "source": [
    "import matplotlib.pyplot as plt\n",
    "# Define the x and y variables\n",
    "x = [1, 2, 3, 4, 5, 6, 7, 8]\n",
    "y = [2, 4, 6, 8, 10, 12, 14, 16]\n",
    "# Create a scatter plot\n",
    "plt.scatter(x, y, color=\"red\", marker=\"o\")\n",
    "# Add labels and title\n",
    "plt.xlabel(\"x\")\n",
    "plt.ylabel(\"y\")\n",
    "plt.title(\"Linear relationship between x and y\")\n",
    "# Save the figure\n",
    "plt.savefig('linearity.png', dpi=600, bbox_inches='tight')\n",
    "plt.show()"
   ]
  },
  {
   "cell_type": "markdown",
   "id": "af3a6a0c-074a-4902-ba14-65a63fd75748",
   "metadata": {},
   "source": [
    "**Tutorial 7.6: To check the normality of data**\n"
   ]
  },
  {
   "cell_type": "code",
   "execution_count": null,
   "id": "0ecd0883-6648-4ff4-932b-de68afd13541",
   "metadata": {},
   "outputs": [],
   "source": [
    "import matplotlib.pyplot as plt\n",
    "import statsmodels.api as sm\n",
    "# Define data\n",
    "x = [1, 2, 3, 4, 5, 6, 7, 8]\n",
    "y = [2, 4, 6, 8, 10, 12, 14, 16]\n",
    "# Fit a linear regression model using OLS\n",
    "model = sm.OLS(y, x).fit()  # Create and fit an OLS object\n",
    "# Get the predicted values\n",
    "y_pred = model.predict()\n",
    "# Calculate the residuals\n",
    "residuals = y - y_pred\n",
    "# Plot the residuals\n",
    "plt.scatter(y_pred, residuals, alpha=0.5)\n",
    "plt.title('Residual Plot')\n",
    "plt.xlabel('Predicted values')\n",
    "plt.ylabel('Residuals')\n",
    "# Save the figure\n",
    "plt.savefig('normality.png', dpi=600, bbox_inches='tight')\n",
    "plt.show()"
   ]
  },
  {
   "cell_type": "markdown",
   "id": "e126253b-ca9e-4e7b-a221-819a80825ad4",
   "metadata": {},
   "source": [
    "**Tutorial 7.7. To implement logistic regression to predict whether a student will pass an exam based on the number of hours they studied**\n"
   ]
  },
  {
   "cell_type": "markdown",
   "id": "8d20c3ab-e374-4d8e-99e7-ec4828020c59",
   "metadata": {},
   "source": [
    "**_Syntax for implementing logistic regression with sklearn_**\n"
   ]
  },
  {
   "cell_type": "code",
   "execution_count": null,
   "id": "bc53f8c0-f197-4b92-8ac4-2fc2e46d78fd",
   "metadata": {},
   "outputs": [],
   "source": [
    "# Import logistic regression\n",
    "from sklearn.linear_model import LogisticRegression\n",
    "# Create a logistic regression model\n",
    "logistic_regression = LogisticRegression()\n",
    "# Train the model\n",
    "logistic_regression.fit(X_train, y_train)"
   ]
  },
  {
   "cell_type": "code",
   "execution_count": null,
   "id": "884237f8-5c86-41a4-9859-ca017c89f5bf",
   "metadata": {},
   "outputs": [],
   "source": [
    "import numpy as np\n",
    "import pandas as pd\n",
    "# Import libraries from sklearn for logistic regression prediction\n",
    "from sklearn.linear_model import LogisticRegression\n",
    "# Create the data\n",
    "data = {\"Hours studied\": [0.5, 1, 1.5, 2, 2.5, 3, 3.5, 4, 4.5, 5],\n",
    "        \"Passed\": [0, 0, 0, 0, 0, 1, 1, 1, 1, 1]}\n",
    "df = pd.DataFrame(data)\n",
    "# Define the independent and dependent variables\n",
    "X = df[\"Hours studied\"].values.reshape(-1, 1)\n",
    "y = df[\"Passed\"].values\n",
    "# Fit the logistic regression model\n",
    "model = LogisticRegression()\n",
    "model.fit(X, y)\n",
    "# Predict the probabilities for different values of hours studied\n",
    "x_new = np.linspace(0, 6, 100).reshape(-1, 1)\n",
    "y_new = model.predict_proba(x_new)[:, 1]\n",
    "# Take the number of hours 3.76 to predict the probability of passing\n",
    "x_fixed = 3.76\n",
    "# Predict the probability of passing for the fixed number of hours\n",
    "y_fixed = model.predict_proba([[x_fixed]])[0, 1]\n",
    "# Print the fixed number of hours and the predicted probability\n",
    "print(f\"The fixed number of hours : {x_fixed:.2f}\")\n",
    "print(f\"The predicted probability of passing : {y_fixed:.2f}\")"
   ]
  },
  {
   "cell_type": "markdown",
   "id": "3d62126c-5d1b-46ef-8f24-c7bbfd83c17c",
   "metadata": {},
   "source": [
    "**Tutorial 7.8. To visualize above logistic regression model to predict whether a student will pass an exam based on the number of hours they studied in a plot**\n"
   ]
  },
  {
   "cell_type": "code",
   "execution_count": null,
   "id": "cbe9a482-9970-48e7-8eaf-3ac7208fa2cd",
   "metadata": {},
   "outputs": [],
   "source": [
    "import matplotlib.pyplot as plt\n",
    "# Plot the data and the logistic regression curve\n",
    "plt.scatter(X, y, color=\"blue\", label=\"Data\")\n",
    "plt.plot(x_new, y_new, color=\"red\", label=\"Logistic regression model\")\n",
    "plt.xlabel(\"Hours studied\")\n",
    "plt.ylabel(\"Probability of passing\")\n",
    "plt.legend()\n",
    "# Show the figure\n",
    "plt.savefig('student_reasult_prediction_model.jpg',\n",
    "            dpi=600, bbox_inches='tight')\n",
    "plt.show()"
   ]
  },
  {
   "attachments": {},
   "cell_type": "markdown",
   "id": "aa93c040-5478-414b-9666-e500c808e73a",
   "metadata": {},
   "source": [
    "**Tutorial 7.9. To implement linear mixed effect model to predict blood pressure from 10 patients**\n"
   ]
  },
  {
   "cell_type": "code",
   "execution_count": null,
   "id": "4e73a5de-3afc-44ed-a12e-f4de125262a2",
   "metadata": {},
   "outputs": [],
   "source": [
    "import pandas as pd\n",
    "import statsmodels.api as sm\n",
    "# Generate some dummy data\n",
    "import numpy as np\n",
    "np.random.seed(50)\n",
    "n_patients = 10  # Number of patients\n",
    "n_obs = 5  # Number of observations per patient\n",
    "x = np.random.randn(n_patients * n_obs)  # Covariate\n",
    "patient = np.repeat(np.arange(n_patients), n_obs)  # Patient ID\n",
    "bp = 100 + 5 * x + 10 * np.random.randn(n_patients * n_obs)  # Blood pressure\n",
    "# Create a data frame\n",
    "df = pd.DataFrame({\"bp\": bp, \"x\": x, \"patient\": patient})\n",
    "# Fit a linear mixed effect model with a random intercept for each patient\n",
    "model = sm.MixedLM.from_formula(\"bp ~ x\", groups=\"patient\", data=df)\n",
    "result = model.fit()\n",
    "# Print the summary\n",
    "print(result.summary())"
   ]
  },
  {
   "cell_type": "markdown",
   "id": "e35ecf97-d610-4cc9-a7b9-8d30dd3ff262",
   "metadata": {},
   "source": [
    "**Tutorial 7.10. To implement a decision tree algorithm on patient data to classify the blood pressure of 20 patients into `low`,`normal`,`high`**\n",
    "\n",
    "Dataset used: `patient_data.csv` Synthetic dataset generated for this book.\n"
   ]
  },
  {
   "cell_type": "markdown",
   "id": "6865056b-5674-488d-9b18-27e74aaa22ab",
   "metadata": {},
   "source": [
    "**_Syntax for implementing decision tree with sklearn_**\n"
   ]
  },
  {
   "cell_type": "code",
   "execution_count": null,
   "id": "7b66c9ee-d849-40fb-a0d2-feca0bfad5b5",
   "metadata": {},
   "outputs": [],
   "source": [
    "# Import decision tree\n",
    "from sklearn.tree import DecisionTreeClassifier\n",
    "# Create a decision tree classifier\n",
    "tree = DecisionTreeClassifier()\n",
    "# Train the classifier\n",
    "tree.fit(X_train, y_train)"
   ]
  },
  {
   "cell_type": "code",
   "execution_count": null,
   "id": "42ff0578-66c0-41f7-a557-3983215752fe",
   "metadata": {},
   "outputs": [],
   "source": [
    "import pandas as pd\n",
    "from sklearn.tree import DecisionTreeClassifier\n",
    "# Read the data\n",
    "data = pd.read_csv(\n",
    "    \"/workspaces/ImplementingStatisticsWithPython/data/chapter7/patient_data.csv\")\n",
    "# Separate the features and the target\n",
    "X = data.drop(\"blood_pressure\", axis=1)\n",
    "y = data[\"blood_pressure\"]\n",
    "# Encode the categorical features\n",
    "X[\"gender\"] = X[\"gender\"].map({\"M\": 0, \"F\": 1})\n",
    "# Build and train the decision tree\n",
    "tree = DecisionTreeClassifier()\n",
    "tree.fit(X, y)"
   ]
  },
  {
   "cell_type": "markdown",
   "id": "175ef74f-222e-4e50-bc65-93231bbaceda",
   "metadata": {},
   "source": [
    "**Tutorial 7.11. To view graphical representation of the decision tree, showing the features, thresholds, impurity, and class labels at each node**\n"
   ]
  },
  {
   "cell_type": "code",
   "execution_count": null,
   "id": "5679248b-76f2-420d-98db-320646dcb494",
   "metadata": {},
   "outputs": [],
   "source": [
    "import matplotlib.pyplot as plt\n",
    "# Import the plot_tree function from the sklearn.tree module\n",
    "from sklearn.tree import plot_tree\n",
    "# Plot the decision tree\n",
    "plt.figure(figsize=(10, 8))\n",
    "# Fill the nodes with colors, round the corners, and add feature and class names\n",
    "plot_tree(tree, filled=True, rounded=True, feature_names=X.columns,\n",
    "          class_names=[\"Low\", \"Normal\", \"High\"], fontsize=12)\n",
    "# Show the figure\n",
    "plt.savefig('decision_tree.jpg', dpi=600, bbox_inches='tight')\n",
    "plt.show()"
   ]
  },
  {
   "attachments": {},
   "cell_type": "markdown",
   "id": "cc618cc9-c24a-4365-bb41-75ba0f497abe",
   "metadata": {},
   "source": [
    "**Tutorial 7.12: To implement decision tree by including the separation of dependent and independent variables, train_test split and then fitting data on train set, based on Tutorial 7.10**\n"
   ]
  },
  {
   "cell_type": "code",
   "execution_count": null,
   "id": "b407c8cc-db60-4fec-b505-9c40971e5d3b",
   "metadata": {},
   "outputs": [],
   "source": [
    "import pandas as pd\n",
    "from sklearn.tree import DecisionTreeClassifier\n",
    "from sklearn.model_selection import train_test_split\n",
    "# Import the accuracy_score function\n",
    "from sklearn.metrics import accuracy_score\n",
    "# Read the data\n",
    "data = pd.read_csv(\n",
    "    \"/workspaces/ImplementingStatisticsWithPython/data/chapter7/patient_data.csv\")\n",
    "# Separate the features and the target\n",
    "X = data.drop(\"blood_pressure\", axis=1)  # independent variables\n",
    "y = data[\"blood_pressure\"]  # dependent variable\n",
    "# Encode the categorical features\n",
    "X[\"gender\"] = X[\"gender\"].map({\"M\": 0, \"F\": 1})\n",
    "# Split the data into training and test sets\n",
    "X_train, X_test, y_train, y_test = train_test_split(\n",
    "    X, y, test_size=0.2, random_state=42)\n",
    "# Build and train the decision tree on the training set\n",
    "tree = DecisionTreeClassifier()\n",
    "tree.fit(X_train, y_train)\n",
    "# Further test set can be used to evaluate the model\n",
    "# Predict the values for the test set\n",
    "y_pred = tree.predict(X_test)  # Get the predicted values for the test data\n",
    "# Calculate the accuracy score on the test set\n",
    "# Compare the predicted values with the actual values\n",
    "accuracy = accuracy_score(y_test, y_pred)\n",
    "# Print the accuracy score\n",
    "print(\"Accuracy of the decision tree model on the test set :\", accuracy)"
   ]
  },
  {
   "cell_type": "code",
   "execution_count": null,
   "id": "997df9c1-adb2-4db4-adc7-72dbc6268f7b",
   "metadata": {},
   "outputs": [],
   "source": [
    "1. What is Random Forest ?\n",
    "2. How it works ?\n",
    "3. When or where is Random Forest useful, In what kind of data and situation ? \n",
    "4. Give an example to explain Random Forest? Use the same example to explain Random Forest to a eigth grader ?\n",
    "5. How is Random Forest implement?"
   ]
  },
  {
   "cell_type": "markdown",
   "id": "f62241e6-7b87-4cb1-85d7-2ef6e561f3d8",
   "metadata": {},
   "source": [
    "**Tutorial 7.13. To implement a Random Forest algorithm on patient data to classify the blood pressure of 20 patients into `low`,`normal`,`high`**\n",
    "\n",
    "Dataset used: `patient_data.csv` Synthetic dataset generated for this book.\n"
   ]
  },
  {
   "cell_type": "markdown",
   "id": "4a38d15a-f567-41b6-b0c7-e56286a6b4bd",
   "metadata": {},
   "source": [
    "**_Syntax for implementing Random Forest Classifier with sklearn_**\n"
   ]
  },
  {
   "cell_type": "code",
   "execution_count": null,
   "id": "ed843d02-43ad-49e4-91ba-32e0cfed33d2",
   "metadata": {},
   "outputs": [],
   "source": [
    "# Import RandomForestClassifier\n",
    "from sklearn.ensemble import RandomForestClassifier\n",
    "# Create a Random Forest classifier\n",
    "rf = RandomForestClassifier()\n",
    "# Train the classifier\n",
    "rf.fit(X_train, y_train)"
   ]
  },
  {
   "cell_type": "code",
   "execution_count": null,
   "id": "27384924-1983-427e-9bf2-0642accb0775",
   "metadata": {},
   "outputs": [],
   "source": [
    "import pandas as pd\n",
    "from sklearn.ensemble import RandomForestClassifier\n",
    "# Read the data\n",
    "data = pd.read_csv(\n",
    "    \"/workspaces/ImplementingStatisticsWithPython/data/chapter7/patient_data.csv\")\n",
    "# Separate the features and the target\n",
    "X = data.drop(\"blood_pressure\", axis=1)  # independent variables\n",
    "y = data[\"blood_pressure\"]  # dependent variable\n",
    "# Encode the categorical features\n",
    "X[\"gender\"] = X[\"gender\"].map({\"M\": 0, \"F\": 1})\n",
    "# Split the data into training and test sets\n",
    "X_train, X_test, y_train, y_test = train_test_split(\n",
    "    X, y, test_size=0.2, random_state=42)\n",
    "# Create a Random Forest classifier\n",
    "rf = RandomForestClassifier()\n",
    "# Train the classifier\n",
    "rf.fit(X_train, y_train)"
   ]
  },
  {
   "cell_type": "markdown",
   "id": "37d5d804-00ab-4dd5-a495-31beec578d1d",
   "metadata": {},
   "source": [
    "**Tutorial 7.14: To evaluate Tutorial 7.13 fittted Random Forest classifier on the test set of data**\n"
   ]
  },
  {
   "cell_type": "code",
   "execution_count": null,
   "id": "16aab324-fd3c-4a25-91b6-975000410d6d",
   "metadata": {},
   "outputs": [],
   "source": [
    "from sklearn.model_selection import train_test_split\n",
    "from sklearn.metrics import accuracy_score\n",
    "# Further test set can be used to evaluate the model\n",
    "# Predict the values for the test set\n",
    "y_pred = tree.predict(X_test)  # Get the predicted values for the test data\n",
    "# Calculate the accuracy score on the test set\n",
    "# Compare the predicted values with the actual values\n",
    "accuracy = accuracy_score(y_test, y_pred)\n",
    "# Print the accuracy score\n",
    "print(\"Accuracy of the Random Forest classifier model on the test set :\", accuracy)"
   ]
  },
  {
   "cell_type": "markdown",
   "id": "9a284b1b-98a1-4c7b-b4e9-317e3c2ddbdf",
   "metadata": {},
   "source": [
    "**Tutorial 7.15. To implement a Support Vector Machines (SVM), support vector classifier algorithm on patient data to classify the blood pressure of 20 patients into low, normal, high and evaluate the result**\n"
   ]
  },
  {
   "cell_type": "markdown",
   "id": "ccb20403-c97a-4638-8ee8-8b0d0c1c31d3",
   "metadata": {},
   "source": [
    "**_Syntax for implementing Support vector classifier from SVM with sklearn_**\n"
   ]
  },
  {
   "cell_type": "code",
   "execution_count": null,
   "id": "b346a88e-ecf1-43cc-a978-3fd5834eb6b5",
   "metadata": {},
   "outputs": [],
   "source": [
    "# Import Support vector classifier from SVM\n",
    "from sklearn.svm import SVC\n",
    "# Create a Support Vector Classifier object\n",
    "svm = SVC()\n",
    "# Train the classifier\n",
    "svm.fit(X_train, y_train)"
   ]
  },
  {
   "cell_type": "code",
   "execution_count": null,
   "id": "ae42b1f0-b3d5-44f6-add1-2fc97690d9d4",
   "metadata": {},
   "outputs": [],
   "source": [
    "import pandas as pd\n",
    "# Import the SVC class\n",
    "from sklearn.svm import SVC\n",
    "from sklearn.model_selection import train_test_split\n",
    "from sklearn.metrics import accuracy_score\n",
    "# Read the data\n",
    "data = pd.read_csv(\n",
    "    \"/workspaces/ImplementingStatisticsWithPython/data/chapter7/patient_data.csv\")\n",
    "# Separate the features and the target\n",
    "X = data.drop(\"blood_pressure\", axis=1)  # independent variables\n",
    "y = data[\"blood_pressure\"]  # dependent variable\n",
    "# Encode the categorical features\n",
    "X[\"gender\"] = X[\"gender\"].map({\"M\": 0, \"F\": 1})\n",
    "# Split the data into training and test sets\n",
    "X_train, X_test, y_train, y_test = train_test_split(\n",
    "    X, y, test_size=0.2, random_state=42)\n",
    "# Create an SVM classifier\n",
    "# You can change the parameters as you wish\n",
    "svm = SVC(kernel=\"rbf\", C=1, gamma=0.1)\n",
    "# Train the classifier\n",
    "svm.fit(X_train, y_train)\n",
    "# Predict the values for the test set\n",
    "y_pred = svm.predict(X_test)  # Get the predicted values for the test data\n",
    "# Calculate the accuracy score on the test set\n",
    "# Compare the predicted values with the actual values\n",
    "accuracy = accuracy_score(y_test, y_pred)\n",
    "# Print the accuracy score\n",
    "print(\"Accuracy of the SVM classifier model on the test set :\", accuracy)"
   ]
  },
  {
   "attachments": {},
   "cell_type": "markdown",
   "id": "fa21b305-a1a4-4d4e-b838-85c49f8d84ed",
   "metadata": {},
   "source": [
    "**Tutorial 7.16. To implement a K-nearest neighbor (KNN) on iris dataset to predict the type of flower based on its features, such as petal length, petal width, sepal length, and sepal width and also evaluate the result**\n"
   ]
  },
  {
   "cell_type": "code",
   "execution_count": null,
   "id": "75ac40e9-042c-4307-b3f7-1e46633d2f5a",
   "metadata": {},
   "outputs": [],
   "source": [
    "# Load the Iris dataset\n",
    "from sklearn.datasets import load_iris\n",
    "# Import the KNeighborsClassifier class\n",
    "from sklearn.neighbors import KNeighborsClassifier\n",
    "# Import train_test_split for data splitting\n",
    "from sklearn.model_selection import train_test_split\n",
    "# Import accuracy_score for evaluating model performance\n",
    "from sklearn.metrics import accuracy_score\n",
    "# Load the Iris dataset\n",
    "iris = load_iris()\n",
    "# Separate the features and the target variable\n",
    "# Features (sepal length, sepal width, petal length, petal width)\n",
    "X = iris.data\n",
    "# Target variable (species: Iris-setosa, Iris-versicolor, Iris-virginica)\n",
    "y = iris.target\n",
    "# Encode categorical features (if any)\n",
    "# No categorical features in the Iris dataset\n",
    "# Split the data into training and test sets\n",
    "X_train, X_test, y_train, y_test = train_test_split(\n",
    "    X, y, test_size=0.1, random_state=42)\n",
    "# Create a KNeighborsClassifier object\n",
    "knn = KNeighborsClassifier(n_neighbors=5)  # Set number of neighbors to 5\n",
    "# Train the classifier\n",
    "knn.fit(X_train, y_train)\n",
    "# Make predictions on the test data\n",
    "y_pred = knn.predict(X_test)\n",
    "# Evaluate the model's performance using accuracy\n",
    "accuracy = accuracy_score(y_test, y_pred)\n",
    "# Print the accuracy score\n",
    "print(\"Accuracy of the KNN classifier on the test set :\", accuracy)"
   ]
  },
  {
   "cell_type": "markdown",
   "id": "4276de5e-f840-4785-bf3f-0a6633f5a4f4",
   "metadata": {},
   "source": [
    "**Tutorial 7.30: To implement a tutorial that illustrates model selection and evaluation in machine learning using iris data**"
   ]
  },
  {
   "cell_type": "markdown",
   "id": "e3bd5d46-56c6-4f06-9afa-32f38a40433a",
   "metadata": {},
   "source": [
    "Choosing a single candidate machine learning model for a predictive modeling challenge is known as model selection. Performance, complexity, interpretability, and resource requirements are some examples of selection criteria. This tutorial, with snippets of each section, shows how to use some common model selection techniques in Python using the scikit-learn library.\n",
    "\n",
    "To begin, we need to import modules and load the iris dataset. This dataset contains 150 samples of three different types of iris flowers, each with four features: sepal length, sepal width, petal length, and petal width. Our goal is to construct a classifier that can predict the species of a new flower based on its features.\n"
   ]
  },
  {
   "cell_type": "code",
   "execution_count": null,
   "id": "ee55c4b8-ec24-47c4-a44e-f515945c96f6",
   "metadata": {},
   "outputs": [
    {
     "name": "stdout",
     "output_type": "stream",
     "text": [
      "['sepal length (cm)', 'sepal width (cm)', 'petal length (cm)', 'petal width (cm)']\n",
      "['setosa' 'versicolor' 'virginica']\n"
     ]
    }
   ],
   "source": [
    "import numpy as np  # For numerical operations\n",
    "import pandas as pd  # For data manipulation and analysis\n",
    "import matplotlib.pyplot as plt  # For data visualization\n",
    "from sklearn.datasets import load_iris  # For loading the iris dataset\n",
    "# For splitting data, cross-validation, and hyperparameter tuning\n",
    "from sklearn.model_selection import train_test_split, cross_val_score, GridSearchCV, RandomizedSearchCV\n",
    "from sklearn.linear_model import LogisticRegression  # For logistic regression model\n",
    "from sklearn.tree import DecisionTreeClassifier  # For decision tree model\n",
    "from sklearn.svm import SVC  # For support vector machine model\n",
    "# For evaluating model performance\n",
    "from sklearn.metrics import accuracy_score, precision_score, recall_score, f1_score, confusion_matrix, classification_report\n",
    "# Load dataset\n",
    "iris = load_iris()\n",
    "# Extract the features & labels as a numpy array\n",
    "X = iris.data\n",
    "y = iris.target\n",
    "print(iris.feature_names)\n",
    "print(iris.target_names)"
   ]
  },
  {
   "cell_type": "markdown",
   "id": "ba104cb2-560c-4221-9bab-637468fd5818",
   "metadata": {},
   "source": [
    "We will now split the dataset into training and testing sets. The data will be divided into 70% for training and 30% for testing. Additionally, we will set a random seed for reproducibility."
   ]
  },
  {
   "cell_type": "code",
   "execution_count": null,
   "id": "a45bf269-948c-45bc-8a4c-a6c9027c1b98",
   "metadata": {},
   "outputs": [
    {
     "name": "stdout",
     "output_type": "stream",
     "text": [
      "(105, 4) (105,)\n",
      "(45, 4) (45,)\n"
     ]
    }
   ],
   "source": [
    "# Split dataset\n",
    "X_train, X_test, y_train, y_test = train_test_split(\n",
    "    X, y, test_size=0.3, random_state=42)\n",
    "print(X_train.shape, y_train.shape)\n",
    "print(X_test.shape, y_test.shape)"
   ]
  },
  {
   "cell_type": "markdown",
   "id": "a16fc7a8-4f7e-47ba-a6cf-d19dbf288a44",
   "metadata": {},
   "source": [
    "We will define candidate models to compare, including logistic regression, decision tree, and support vector machine classifiers. Each model has hyperparameters that control behavior and complexity, such For example, logistic regression includes a regularization parameter called 'C', decision trees have a 'max_depth' parameter, and support vector machines have a 'kernel' parameter. We will use default values for these hyperparameters for now and learn how to tune them later."
   ]
  },
  {
   "cell_type": "code",
   "execution_count": null,
   "id": "1cb5ad67-b07a-4b5a-abd0-e64e1ed87789",
   "metadata": {},
   "outputs": [],
   "source": [
    "# Define candidate models\n",
    "models = {\n",
    "    'Logistic Regression': LogisticRegression(),\n",
    "    'Decision Tree': DecisionTreeClassifier(),\n",
    "    'Support Vector Machine': SVC()\n",
    "}"
   ]
  },
  {
   "cell_type": "markdown",
   "id": "98375854-50aa-489b-9390-1734cbbc9e63",
   "metadata": {},
   "source": [
    "To evaluate the performance of each model, we can use cross-validation. This technique involves splitting the training data into k folds. One fold is used as the validation set, and the rest is used as the training set. This process is repeated 'k' times, and the average score across the k folds is reported. Cross-validation helps reduce the variance of the estimate and avoid overfitting. In this case, we will use 5-fold cross-validation and accuracy as the scoring metric."
   ]
  },
  {
   "cell_type": "code",
   "execution_count": null,
   "id": "3676e1a7-d35e-4410-804e-942b1d800edb",
   "metadata": {},
   "outputs": [
    {
     "name": "stdout",
     "output_type": "stream",
     "text": [
      "Logistic Regression: 0.962 (+/- 0.036)\n",
      "Decision Tree: 0.933 (+/- 0.023)\n",
      "Support Vector Machine: 0.952 (+/- 0.043)\n"
     ]
    },
    {
     "name": "stderr",
     "output_type": "stream",
     "text": [
      "/home/codespace/.local/lib/python3.10/site-packages/sklearn/linear_model/_logistic.py:458: ConvergenceWarning: lbfgs failed to converge (status=1):\n",
      "STOP: TOTAL NO. of ITERATIONS REACHED LIMIT.\n",
      "\n",
      "Increase the number of iterations (max_iter) or scale the data as shown in:\n",
      "    https://scikit-learn.org/stable/modules/preprocessing.html\n",
      "Please also refer to the documentation for alternative solver options:\n",
      "    https://scikit-learn.org/stable/modules/linear_model.html#logistic-regression\n",
      "  n_iter_i = _check_optimize_result(\n",
      "/home/codespace/.local/lib/python3.10/site-packages/sklearn/linear_model/_logistic.py:458: ConvergenceWarning: lbfgs failed to converge (status=1):\n",
      "STOP: TOTAL NO. of ITERATIONS REACHED LIMIT.\n",
      "\n",
      "Increase the number of iterations (max_iter) or scale the data as shown in:\n",
      "    https://scikit-learn.org/stable/modules/preprocessing.html\n",
      "Please also refer to the documentation for alternative solver options:\n",
      "    https://scikit-learn.org/stable/modules/linear_model.html#logistic-regression\n",
      "  n_iter_i = _check_optimize_result(\n"
     ]
    }
   ],
   "source": [
    "# Evaluate models using cross-validation\n",
    "scores = {}\n",
    "for name, model in models.items():\n",
    "    score = cross_val_score(model, X_train, y_train, cv=5, scoring='accuracy')\n",
    "    scores[name] = np.mean(score)\n",
    "    print(f'{name}: {np.mean(score):.3f} (+/- {np.std(score):.3f})')"
   ]
  },
  {
   "cell_type": "markdown",
   "id": "03f17e26-3379-433f-8dfb-20e9f91cce9d",
   "metadata": {},
   "source": [
    "The logistic regression and support vector machine models have comparatilvely almost similar and high accuracy scores. However, the decision tree model has a slightly lower, indicating overfitting and poor generalization. To better compare the scores, a bar chart can be plotted."
   ]
  },
  {
   "cell_type": "code",
   "execution_count": null,
   "id": "214e8e32-c3b4-4dc0-9494-8db9ce1d5c26",
   "metadata": {},
   "outputs": [
    {
     "data": {
      "image/png": "[encoded data removed]",
      "text/plain": [
       "<Figure size 640x480 with 1 Axes>"
      ]
     },
     "metadata": {},
     "output_type": "display_data"
    }
   ],
   "source": [
    "# Plot scores\n",
    "plt.bar(scores.keys(), scores.values())\n",
    "plt.ylabel('Accuracy')\n",
    "# Save the figure\n",
    "plt.savefig('model_selection_and_evaluation.png', dpi=600, bbox_inches='tight')\n",
    "plt.show()"
   ]
  },
  {
   "cell_type": "markdown",
   "id": "b8d3ece2-30b0-40cf-896f-f8f82af36870",
   "metadata": {},
   "source": [
    "To evaluate each model's performance, use the testing set.  Fit each model on the training set, make predictions on the testing set, and compare them with the true labels. Compute metrics such as accuracy, confusion matrix, and classification report. The confusion matrix shows the number of accurate and inaccurate predictions for each class,while the classification report presents the precision, recall, f1-score, and support for each class."
   ]
  },
  {
   "cell_type": "code",
   "execution_count": null,
   "id": "39dd4e87-a3e8-4d94-87ff-4baf4beda58b",
   "metadata": {},
   "outputs": [
    {
     "name": "stdout",
     "output_type": "stream",
     "text": [
      "\n",
      "Logistic Regression\n",
      "Accuracy: 1.000\n",
      "Precision: 1.000\n",
      "Recall: 1.000\n",
      "Confusion matrix:\n",
      "[[19  0  0]\n",
      " [ 0 13  0]\n",
      " [ 0  0 13]]\n",
      "\n",
      "Decision Tree\n",
      "Accuracy: 1.000\n",
      "Precision: 1.000\n",
      "Recall: 1.000\n",
      "Confusion matrix:\n",
      "[[19  0  0]\n",
      " [ 0 13  0]\n",
      " [ 0  0 13]]\n",
      "\n",
      "Support Vector Machine\n",
      "Accuracy: 1.000\n",
      "Precision: 1.000\n",
      "Recall: 1.000\n",
      "Confusion matrix:\n",
      "[[19  0  0]\n",
      " [ 0 13  0]\n",
      " [ 0  0 13]]\n"
     ]
    }
   ],
   "source": [
    "# Evaluate models using testing set\n",
    "for name, model in models.items():\n",
    "    model.fit(X_train, y_train)  # Fit model on training set\n",
    "    y_pred = model.predict(X_test)  # Predict on testing set\n",
    "    acc = accuracy_score(y_test, y_pred)  # Compute accuracy\n",
    "    cm = confusion_matrix(y_test, y_pred)  # Compute confusion matrix\n",
    "    prec = precision_score(\n",
    "        y_test, y_pred, average='weighted')  # Compute precision\n",
    "    recall = recall_score(y_test, y_pred, average='weighted')  # Compute recall\n",
    "    f1score = f1_score(y_test, y_pred, average='weighted')  # Compute f1score\n",
    "    print(f'\\n{name}')\n",
    "    print(f'Accuracy: {acc:.3f}')\n",
    "    print(f'Precision: {prec:.3f}')\n",
    "    print(f'Recall: {recall:.3f}')\n",
    "    print(f'Confusion matrix:\\n{cm}')"
   ]
  },
  {
   "cell_type": "markdown",
   "id": "88aa71c0-f60d-4b44-86a4-65cdf30c6d5b",
   "metadata": {},
   "source": [
    "The logistic regression, decision tree and support vector machine models all have the highest accuracy,precision,recall and f1-score of 1.0. All these and the confusion matrix indicate that all models have perfect predictions for all classes. Therefore, all models are equally effective for this classification problem.\n",
    "\n",
    "However, it is important to consider factors beyond just performance, such as complexity, interpretability, and resource requirements. For example, the logistic regression model is the simplest and most interpretable model. On the other hand, the support vector machine model , and decision tree model are the most complex and least interpretable model. The resource requirements for each model depend on the size and dimensionality of the data, the number and range of the hyperparameters, and the available computational power. Therefore, the selection of the final model depends on the trade-off between these factors."
   ]
  },
  {
   "cell_type": "markdown",
   "id": "5ac78410",
   "metadata": {},
   "source": [
    "**Tutorial 7.32. To implement self-training classifier on Iris Dataset**"
   ]
  },
  {
   "cell_type": "code",
   "execution_count": null,
   "id": "4cd76b2b",
   "metadata": {},
   "outputs": [
    {
     "name": "stdout",
     "output_type": "stream",
     "text": [
      "Original labels for unlabeled data:\n",
      "[1 0 2 1 1 0 1 2 1 1 2 0 0 0 0 1 2 1 1 2 0 2 0 2 2 2 2 2 0 0 0 0 1 0 0 2 1\n",
      " 0 0 0 2 1 1 0 0 1 2 2 1 2 1 2 1 0 2 1 0 0 0 1 2 0 0 0 1 0 1 2 0 1 2 0 2 2\n",
      " 1 1 2 1 0 1 2 0 0 1 1 0 2 0 0 1 1 2 1 2 2 1 0 0 2 2 0 0 0 1 2 0 2 2 0 1 1\n",
      " 2 1 2 0 2 1 2 1 1]\n",
      "Predictions on unlabeled data:\n",
      "[1 0 2 1 1 0 1 2 1 1 2 0 0 0 0 1 2 1 1 2 0 2 0 2 2 2 2 2 0 0 0 0 1 0 0 2 1\n",
      " 0 0 0 2 1 1 0 0 1 2 2 1 2 1 2 1 0 2 1 0 0 0 1 2 0 0 0 1 0 1 2 0 1 2 0 2 2\n",
      " 1 1 2 1 0 1 2 0 0 1 2 0 2 0 0 2 1 2 2 2 2 1 0 0 1 2 0 0 0 1 2 0 2 2 0 1 1\n",
      " 2 1 2 0 2 1 2 1 1]\n"
     ]
    },
    {
     "name": "stderr",
     "output_type": "stream",
     "text": [
      "/home/codespace/.local/lib/python3.10/site-packages/sklearn/semi_supervised/_self_training.py:212: UserWarning: y contains no unlabeled samples\n",
      "  warnings.warn(\"y contains no unlabeled samples\", UserWarning)\n"
     ]
    }
   ],
   "source": [
    "from sklearn.semi_supervised import SelfTrainingClassifier\n",
    "from sklearn.datasets import load_iris\n",
    "from sklearn.model_selection import train_test_split\n",
    "from sklearn.linear_model import LogisticRegression\n",
    "# Load the Iris dataset (labeled data)\n",
    "X, y = load_iris(return_X_y=True)\n",
    "# Split data into labeled and unlabeled portions\n",
    "X_labeled, X_unlabeled, y_labeled, y_unlabeled = train_test_split(\n",
    "    X, y, test_size=0.8, random_state=42)\n",
    "# Initialize a base classifier (e.g., logistic regression)\n",
    "base_classifier = LogisticRegression()\n",
    "# Create a self-training classifier\n",
    "self_training_clf = SelfTrainingClassifier(base_classifier)\n",
    "# Fit the model using labeled data\n",
    "self_training_clf.fit(X_labeled, y_labeled)\n",
    "# Predict on unlabeled data\n",
    "y_pred_unlabeled = self_training_clf.predict(X_unlabeled)\n",
    "# Print the original labels for the unlabeled data\n",
    "print(\"Original labels for unlabeled data:\")\n",
    "print(y_unlabeled)\n",
    "# Print the predictions\n",
    "print(\"Predictions on unlabeled data:\")\n",
    "print(y_pred_unlabeled)"
   ]
  },
  {
   "cell_type": "markdown",
   "id": "8d08ccae",
   "metadata": {},
   "source": [
    "**Tutorial 7.33. To evaluate the trained self-training classifier performance using appropriate metrics (e.g., accuracy, F1-score, etc.)**"
   ]
  },
  {
   "cell_type": "code",
   "execution_count": null,
   "id": "ae9755fe",
   "metadata": {},
   "outputs": [],
   "source": [
    "from sklearn.metrics import accuracy_score, f1_score, precision_score, recall_score\n",
    "# Assuming y_unlabeled_true contains true labels for unlabeled data\n",
    "accuracy = accuracy_score(y_unlabeled, y_pred_unlabeled)\n",
    "f1 = f1_score(y_unlabeled, y_pred_unlabeled, average='weighted')\n",
    "precision = precision_score(y_unlabeled, y_pred_unlabeled, average='weighted')\n",
    "recall = recall_score(y_unlabeled, y_pred_unlabeled, average='weighted')\n",
    "print(f\"Accuracy: {accuracy:.2f}\")\n",
    "print(f\"F1-score: {f1:.2f}\")\n",
    "print(f\"Precision: {precision:.2f}\")\n",
    "print(f\"Recall: {recall:.2f}\")"
   ]
  },
  {
   "cell_type": "markdown",
   "id": "3aafbb2e",
   "metadata": {},
   "source": [
    "**Tutorial 7.34. To implement co-training with two views of data on UCImultifeature dataset from `mvlearn.datasets`**"
   ]
  },
  {
   "cell_type": "code",
   "execution_count": null,
   "id": "6afe587f",
   "metadata": {},
   "outputs": [
    {
     "name": "stdout",
     "output_type": "stream",
     "text": [
      "Accuracy:  0.99\n"
     ]
    }
   ],
   "source": [
    "from mvlearn.semi_supervised import CTClassifier\n",
    "from mvlearn.datasets import load_UCImultifeature\n",
    "from sklearn.linear_model import LogisticRegression\n",
    "from sklearn.ensemble import RandomForestClassifier\n",
    "from sklearn.model_selection import train_test_split\n",
    "data, labels = load_UCImultifeature(select_labeled=[0, 1])\n",
    "X1 = data[0]  # Text view\n",
    "X2 = data[1]  # Metadata view\n",
    "X1_train, X1_test, X2_train, X2_test, l_train, l_test = train_test_split(\n",
    "    X1, X2, labels)\n",
    "# Co-training with two views of data and 2 estimator types\n",
    "estimator1 = LogisticRegression()\n",
    "estimator2 = RandomForestClassifier()\n",
    "ctc = CTClassifier(estimator1, estimator2, random_state=1)\n",
    "# Use different matrices for each view\n",
    "ctc = ctc.fit([X1_train, X2_train], l_train)\n",
    "preds = ctc.predict([X1_test, X2_test])\n",
    "print(\"Accuracy: \", sum(preds == l_test) / len(preds))"
   ]
  },
  {
   "cell_type": "markdown",
   "id": "10dbc68f",
   "metadata": {},
   "source": [
    "**Tutorial 7.35. To implement word embeddings using self-supervised task using Word2Vec method**\n",
    "\n",
    "***`pip install gensim`***"
   ]
  },
  {
   "cell_type": "code",
   "execution_count": null,
   "id": "8f1ced19",
   "metadata": {},
   "outputs": [],
   "source": [
    "# Install Gensim and import word2vec for word embeddings\n",
    "import gensim\n",
    "from gensim.models import Word2Vec\n",
    "# Example sentences\n",
    "sentences = [\n",
    "    [\"I\", \"love\", \"deep\", \"learning\"],\n",
    "    [\"deep\", \"learning\", \"is\", \"fun\"],\n",
    "    [\"machine\", \"learning\", \"is\", \"easy\"],\n",
    "    [\"deep\", \"learning\", \"is\", \"hard\"],\n",
    "    # Add more sentences, embeding changes with new words...\n",
    "]\n",
    "# Train Word2Vec model\n",
    "model = Word2Vec(sentences, vector_size=10, window=5, min_count=1, sg=1)\n",
    "# Get word embeddings\n",
    "word_vectors = model.wv\n",
    "# Example: Get embedding for the each word in sentence \"I love deep learning\"\n",
    "print(\"Embedding for 'I':\", word_vectors[\"I\"])\n",
    "print(\"Embedding for 'love':\", word_vectors[\"love\"])\n",
    "print(\"Embedding for 'deep':\", word_vectors[\"deep\"])\n",
    "print(\"Embedding for 'learning':\", word_vectors[\"learning\"])"
   ]
  }
 ],
 "metadata": {
  "kernelspec": {
   "display_name": "Python 3 (ipykernel)",
   "language": "python",
   "name": "python3"
  },
  "language_info": {
   "codemirror_mode": {
    "name": "ipython",
    "version": 3
   },
   "file_extension": ".py",
   "mimetype": "text/x-python",
   "name": "python",
   "nbconvert_exporter": "python",
   "pygments_lexer": "ipython3",
   "version": "3.10.8"
  }
 },
 "nbformat": 4,
 "nbformat_minor": 5
}
