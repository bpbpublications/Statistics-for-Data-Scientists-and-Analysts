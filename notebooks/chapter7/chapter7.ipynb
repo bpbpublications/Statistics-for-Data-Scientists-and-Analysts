{
 "cells": [
  {
   "attachments": {},
   "cell_type": "markdown",
   "id": "c3413b86-5611-4480-be09-64c4bea69a6e",
   "metadata": {},
   "source": [
    "•\tMachine learning\r",
    "    \n",
    "o\tApplication and examples    \r\n",
    "o\tHow it work    s\r\n",
    "o\tRole of data, algorithm and statisti    cs\r\n",
    "o\tInference and prediction model\r\n",
    "•\tSupervised lear    ning\r\n",
    "o\tFitting models to independent         data\r\n",
    "\tLinear regr        ession\r\n",
    "\tLogistic reg    ression\r\n",
    "o\tFitting models to depend        ent data\r\n",
    "\tMultilevel linear regressi        on models\r\n",
    "\tMultilevel logistic regress        ion models\r\n",
    "\tMarginal linear         regression\r\n",
    "\tMarginal logisti    c regression\r\n",
    "o\tBayesi    an approaches\r\n",
    "o\tDecision tree and     random forest\r\n",
    "o\tSupport     vector machine\r\n",
    "•\tUnsup    ervised learn        ing\r\n",
    "o\tClu        stering\r\n",
    "\tK-m    eans\r\n",
    "\tK-prototype\r\n",
    "o\tHie    rarchical clustering\r\n",
    "o\tGa    ussian mixture models\r\n",
    "o\tPrinci    pal component analysis\r\n",
    "o\tSingu•\tr value decomposition\r\n",
    "o\tModelselection and evaluation\r\n"
   ]
  },
  {
   "cell_type": "code",
   "execution_count": null,
   "id": "bc50071a-786d-4afd-8264-7ddd701a9dfc",
   "metadata": {},
   "outputs": [],
   "source": []
  }
 ],
 "metadata": {
  "kernelspec": {
   "display_name": "Python 3 (ipykernel)",
   "language": "python",
   "name": "python3"
  },
  "language_info": {
   "codemirror_mode": {
    "name": "ipython",
    "version": 3
   },
   "file_extension": ".py",
   "mimetype": "text/x-python",
   "name": "python",
   "nbconvert_exporter": "python",
   "pygments_lexer": "ipython3",
   "version": "3.10.8"
  }
 },
 "nbformat": 4,
 "nbformat_minor": 5
}
