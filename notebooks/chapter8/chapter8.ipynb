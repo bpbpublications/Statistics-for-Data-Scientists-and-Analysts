{
 "cells": [
  {
   "attachments": {},
   "cell_type": "markdown",
   "id": "0f9235e4-b82a-4876-96de-49ffcad820df",
   "metadata": {},
   "source": [
    "**Tutorial 8.1: To implement Kmeans clustering using `sklearn` on a sample data**"
   ]
  },
  {
   "cell_type": "markdown",
   "id": "5e4854e1-86f8-4f19-af7e-b781dcdf55e0",
   "metadata": {},
   "source": [
    "**_Syntax for K-means using `sklearn`_**\n"
   ]
  },
  {
   "cell_type": "code",
   "execution_count": null,
   "id": "d86dcabb-1ee1-459c-8787-80b2ca29bb55",
   "metadata": {},
   "outputs": [],
   "source": [
    "from sklearn.cluster import KMeans\n",
    "# Load the dataset\n",
    "data = ...\n",
    "# Create and fit the k-means model, n_clusters can be any number of clusters\n",
    "kmeans = KMeans(n_clusters=...)\n",
    "kmeans.fit(data)"
   ]
  },
  {
   "cell_type": "code",
   "execution_count": null,
   "id": "e850b841-1fa3-459d-b2e9-63936490fd8d",
   "metadata": {},
   "outputs": [],
   "source": [
    "from sklearn.cluster import KMeans\n",
    "# Load the dataset\n",
    "data = [[1, 2], [2, 3], [3, 4], [4, 5], [5, 6], [6, 7]]\n",
    "# Create and fit the k-means model\n",
    "kmeans = KMeans(n_clusters=3)\n",
    "kmeans.fit(data)\n",
    "# Predict the cluster labels for each data point\n",
    "labels = kmeans.predict(data)\n",
    "print(f\"Clusters labels for data: {labels}\")"
   ]
  },
  {
   "cell_type": "markdown",
   "id": "4153d586-5284-43a3-8ec8-530f2a33980d",
   "metadata": {},
   "source": [
    "**Tutorial 8.2: To implement K-prototype using `kmodes` on a sample data**\n"
   ]
  },
  {
   "cell_type": "markdown",
   "id": "ad828d41-1ebe-43a5-8517-f88023a62dc0",
   "metadata": {},
   "source": [
    "**_Syntax for K-prototype using `kmodes`_**\n"
   ]
  },
  {
   "cell_type": "code",
   "execution_count": null,
   "id": "e270b0c0-a7e0-4873-abfa-8d2fe3c54f74",
   "metadata": {},
   "outputs": [],
   "source": [
    "from kmodes.kprototypes import KPrototypes\n",
    "# Load the dataset\n",
    "data = ...\n",
    "# Create and fit the k-prototypes model\n",
    "kproto = KPrototypes(n_clusters=3, init='Cao')\n",
    "kproto.fit(data, categorical=[0, 1])"
   ]
  },
  {
   "cell_type": "code",
   "execution_count": null,
   "id": "1686d7f9-59c6-4fe3-aca2-243090a58705",
   "metadata": {},
   "outputs": [],
   "source": [
    "import numpy as np\n",
    "from kmodes.kmodes import KModes\n",
    "# Load the dataset\n",
    "data = [[1, 2, 'A'], [2, 3, 'B'], [3, 4, 'A'],\n",
    "        [4, 5, 'B'], [5, 6, 'B'], [6, 7, 'A']]\n",
    "# Convert the data to a NumPy array\n",
    "data = np.array(data)\n",
    "# Define the number of clusters\n",
    "num_clusters = 3\n",
    "# Create and fit the k-prototypes model\n",
    "kprototypes = KModes(n_clusters=num_clusters, init='random')\n",
    "kprototypes.fit(data)\n",
    "# Predict the cluster labels for each data point\n",
    "labels = kprototypes.predict(data)\n",
    "print(f\"Clusters labels for data: {labels}\")"
   ]
  },
  {
   "cell_type": "markdown",
   "id": "dbc360e9-73b6-468a-8da3-7e0c6942de0b",
   "metadata": {},
   "source": [
    "**Tutorial 8.3: To implement hierarchical clustering using sklearn on a sample data**\n"
   ]
  },
  {
   "cell_type": "markdown",
   "id": "b78c4d7c-27c4-42f3-b53e-dcbeff992128",
   "metadata": {},
   "source": [
    "**_Syntax for Hierarchical clustering using `sklearn`_**\n"
   ]
  },
  {
   "cell_type": "code",
   "execution_count": null,
   "id": "43ef4719-f723-4e82-a618-8dca7c331e4f",
   "metadata": {},
   "outputs": [],
   "source": [
    "from sklearn.cluster import AgglomerativeClustering\n",
    "# Load the dataset\n",
    "data = ...\n",
    "# Create and fit the hierarchical clustering model\n",
    "hier = AgglomerativeClustering(n_clusters=3)\n",
    "hier.fit(data)"
   ]
  },
  {
   "cell_type": "code",
   "execution_count": null,
   "id": "060406ba-040d-4a69-a1d3-06ab03ba7fc6",
   "metadata": {},
   "outputs": [],
   "source": [
    "from sklearn.cluster import AgglomerativeClustering\n",
    "# Load the dataset\n",
    "data = [[1, 1], [1, 2], [2, 2], [2, 3], [3, 3], [3, 4]]\n",
    "# Create and fit the hierarchical clustering model\n",
    "cluster = AgglomerativeClustering(n_clusters=3)\n",
    "cluster.fit(data)\n",
    "# Predict the cluster labels for each data point\n",
    "labels = cluster.labels_\n",
    "print(f\"Clusters labels for data: {labels}\")"
   ]
  },
  {
   "cell_type": "markdown",
   "id": "1e8f4a5b-210e-4b6c-b970-c8de27f4b140",
   "metadata": {},
   "source": [
    "**Tutorial 8.4: To implement Gaussian mixture models using sklearn on a generated sample data**\n"
   ]
  },
  {
   "cell_type": "markdown",
   "id": "598df200-adee-4903-b396-19f1dc7c0a68",
   "metadata": {},
   "source": [
    "**_Syntax for Gaussian mixture models using `sklearn`_**\n"
   ]
  },
  {
   "cell_type": "code",
   "execution_count": null,
   "id": "edb0573a-0212-4caa-9609-ed742e1433c1",
   "metadata": {},
   "outputs": [],
   "source": [
    "from sklearn.mixture import GaussianMixture\n",
    "# Load the dataset\n",
    "data = ...\n",
    "# Create and fit the Gaussian mixture model\n",
    "gmm = GaussianMixture(n_components=3)\n",
    "gmm.fit(data)"
   ]
  },
  {
   "cell_type": "code",
   "execution_count": null,
   "id": "99ed819d-1459-4b8d-bb48-b85f0cc7dc04",
   "metadata": {},
   "outputs": [],
   "source": [
    "import numpy as np\n",
    "from sklearn.mixture import GaussianMixture\n",
    "from sklearn.datasets import make_blobs\n",
    "# Generate some data\n",
    "X, y = make_blobs(n_samples=100, n_features=2, centers=3, cluster_std=1.5)\n",
    "# Create a GMM with 3 components/clusters\n",
    "gmm = GaussianMixture(n_components=3)\n",
    "# Fit the GMM to the data\n",
    "gmm.fit(X)\n",
    "# Predict the cluster labels for each data point\n",
    "labels = gmm.predict(X)\n",
    "print(f\"Clusters labels for data: {labels}\")"
   ]
  },
  {
   "attachments": {},
   "cell_type": "markdown",
   "id": "2d6001a7-9ad7-47a0-ab48-33903c532061",
   "metadata": {},
   "source": [
    "**Tutorial 8.5: To implement principal component analysis using sklearn on a iris flower dataset**\n"
   ]
  },
  {
   "cell_type": "markdown",
   "id": "2c9908e9-f831-49f3-9f1a-da4f816f6c9b",
   "metadata": {},
   "source": [
    "**_Syntax for Principal component analysis using `sklearn`_**\n"
   ]
  },
  {
   "cell_type": "code",
   "execution_count": null,
   "id": "dd480f47-3704-424e-9833-1478882bab65",
   "metadata": {},
   "outputs": [],
   "source": [
    "from sklearn.decomposition import PCA\n",
    "# Load the dataset\n",
    "data = ...\n",
    "# Create and fit the PCA model\n",
    "pca = PCA(n_components=2)\n",
    "pca.fit(data)"
   ]
  },
  {
   "cell_type": "code",
   "execution_count": null,
   "id": "d32bddde-c9b6-4635-a887-c4fe70800395",
   "metadata": {},
   "outputs": [],
   "source": [
    "import numpy as np\n",
    "from sklearn.datasets import load_iris\n",
    "from sklearn.decomposition import PCA\n",
    "# Load the Iris dataset\n",
    "iris = load_iris()\n",
    "X = iris.data\n",
    "# Create a PCA model with 2 components\n",
    "pca = PCA(n_components=2)\n",
    "# Fit the PCA model to the data\n",
    "X_pca = pca.fit_transform(X)  # Transform the data into 2 principal components\n",
    "print(\n",
    "    f\"Variance explained by principal components: {pca.explained_variance_ratio_}\")"
   ]
  },
  {
   "cell_type": "markdown",
   "id": "3a2646bd-993f-4fd7-ac9a-0cbde9e00827",
   "metadata": {},
   "source": [
    "**Tutorial 8.6: To implement singular value decomposition using sklearn on a iris flower dataset**\n"
   ]
  },
  {
   "cell_type": "markdown",
   "id": "7047f1b4-3ec9-4b27-9724-d6c709e4e5ed",
   "metadata": {},
   "source": [
    "**_Syntax for Singular value decomposition using `numpy`_**\n"
   ]
  },
  {
   "cell_type": "code",
   "execution_count": null,
   "id": "b63487b2-8b20-406c-a436-d4aca6ed3614",
   "metadata": {},
   "outputs": [],
   "source": [
    "from numpy.linalg import svd\n",
    "# Load the dataset\n",
    "data = ...\n",
    "# Perform the SVD\n",
    "u, s, v = svd(data)"
   ]
  },
  {
   "cell_type": "code",
   "execution_count": null,
   "id": "dc38023f-118d-4ce7-b0b0-d2fe7cdd6cae",
   "metadata": {},
   "outputs": [],
   "source": [
    "import numpy as np\n",
    "from sklearn.decomposition import TruncatedSVD\n",
    "# Load the Iris dataset\n",
    "iris = load_iris()\n",
    "X = iris.data\n",
    "# Create a truncated SVD model with 2 components\n",
    "svd = TruncatedSVD(n_components=2)\n",
    "# Fit the truncated SVD model to the data\n",
    "X_svd = svd.fit_transform(X)\n",
    "print(\n",
    "    f\"Variance explained after singular value decomposition: {svd.explained_variance_ratio_}\")"
   ]
  },
  {
   "cell_type": "markdown",
   "id": "3de80a49-190a-41b7-94a9-2a6f2c0309de",
   "metadata": {},
   "source": [
    "**Tutorial 8.7: To implement DBSCAN using sklearn on a generated sample data**\n"
   ]
  },
  {
   "cell_type": "markdown",
   "id": "231cbb62-6423-474e-bbee-75e97e7a44e8",
   "metadata": {},
   "source": [
    "**_Syntax for DBSCAN using `sklearn`_**\n"
   ]
  },
  {
   "cell_type": "code",
   "execution_count": null,
   "id": "2f3989dd-35ff-4834-bf55-3df073c89a89",
   "metadata": {},
   "outputs": [],
   "source": [
    "from sklearn.cluster import DBSCAN\n",
    "# Load the dataset\n",
    "data = ...\n",
    "# Create and fit the DBSCAN model\n",
    "dbscan = DBSCAN(eps=0.5, min_samples=5)\n",
    "dbscan.fit(data)"
   ]
  },
  {
   "cell_type": "code",
   "execution_count": null,
   "id": "e39afbd3-1825-4536-b323-1af50277c30b",
   "metadata": {},
   "outputs": [],
   "source": [
    "import numpy as np\n",
    "from sklearn.cluster import DBSCAN\n",
    "from sklearn.datasets import make_moons\n",
    "# Generate some data\n",
    "X, y = make_moons(n_samples=200, noise=0.1)\n",
    "# Create a DBSCAN clusterer\n",
    "dbscan = DBSCAN(eps=0.3, min_samples=10)\n",
    "# Fit the DBSCAN clusterer to the data\n",
    "dbscan.fit(X)\n",
    "# Predict the cluster labels for each data point\n",
    "labels = dbscan.labels_\n",
    "print(f\"Clusters labels for data: {labels}\")"
   ]
  },
  {
   "cell_type": "markdown",
   "id": "3ab51eec-b821-46ea-baae-7e0403fdb4dc",
   "metadata": {},
   "source": [
    "**Tutorial 8.8: To implement t-Distributed Stochastic Neighbor Embedding (t-SNE) using sklearn on a iris flower dataset**\n"
   ]
  },
  {
   "cell_type": "markdown",
   "id": "786e3dc6-9a13-4cb5-ac27-87fde532d119",
   "metadata": {},
   "source": [
    "**_Syntax for t-Distributed Stochastic Neighbor Embedding (t-SNE) using `sklearn`_**\n"
   ]
  },
  {
   "cell_type": "code",
   "execution_count": null,
   "id": "e1023b4a-1135-42f7-be5d-cc8fa32ab97a",
   "metadata": {},
   "outputs": [],
   "source": [
    "from sklearn.manifold import TSNE\n",
    "# Load the dataset\n",
    "data = ...\n",
    "# Create and fit the t-SNE model\n",
    "tsne = TSNE(n_components=2, perplexity=30)\n",
    "tsne.fit(data)"
   ]
  },
  {
   "cell_type": "code",
   "execution_count": 2,
   "id": "64f79d36-fcaf-4cdd-93bc-0ccbaada1d3a",
   "metadata": {},
   "outputs": [
    {
     "data": {
      "image/png": "[encoded data removed]",
      "text/plain": [
       "<Figure size 640x480 with 1 Axes>"
      ]
     },
     "metadata": {},
     "output_type": "display_data"
    }
   ],
   "source": [
    "import matplotlib.pyplot as plt\n",
    "import numpy as np\n",
    "from sklearn.datasets import load_iris\n",
    "from sklearn.manifold import TSNE\n",
    "# Load the Iris dataset\n",
    "iris = load_iris()\n",
    "X = iris.data\n",
    "# Create a t-SNE model\n",
    "tsne = TSNE()\n",
    "# Fit the t-SNE model to the data\n",
    "X_tsne = tsne.fit_transform(X)\n",
    "# Plot the t-SNE results\n",
    "plt.scatter(X_tsne[:, 0], X_tsne[:, 1], c=iris.target)\n",
    "# Define labels and colors\n",
    "labels = ['setosa', 'versicolor', 'virginica']\n",
    "colors = ['blue', 'orange', 'green']\n",
    "# Create a list of handles for the legend\n",
    "handles = [plt.plot([], [], color=c, marker='o', ls='')[0] for c in colors]\n",
    "# Add the legend to the plot\n",
    "plt.legend(handles, labels, loc='upper right')\n",
    "# x and y labels\n",
    "plt.xlabel('t-SNE dimension 1')\n",
    "plt.ylabel('t-SNE dimension 2')\n",
    "# Title\n",
    "plt.title('t-SNE visualization of the Iris dataset')\n",
    "# Show the figure\n",
    "plt.savefig('TSNE.jpg', dpi=600, bbox_inches='tight')\n",
    "plt.show()"
   ]
  },
  {
   "cell_type": "markdown",
   "id": "0442fde1-1fd7-4614-99f0-5fc75d0c9e6d",
   "metadata": {},
   "source": [
    "**Apriori**\n",
    "\n",
    "Dataset used: Groceries Dataset from the UCI Machine Learning Repository\n",
    "\n",
    "From : https://archive.ics.uci.edu/dataset/292/wholesale+customers\n",
    "\n",
    "Licence: Creative Commons Attribution 4.0 International license (CC-BY 4.0)\n",
    "\n",
    "Install: `pip install apyori`\n"
   ]
  },
  {
   "cell_type": "markdown",
   "id": "556980bf",
   "metadata": {},
   "source": [
    "**Tutorial 8.9: To implement Apriori using `apyori` to find the all the freqently bough item from a grocery item dataset**\n"
   ]
  },
  {
   "cell_type": "markdown",
   "id": "a84d395b-56ac-4b4e-9265-9d01a4618fc0",
   "metadata": {},
   "source": [
    "**_Syntax for Apriori using `apyori`_**\n"
   ]
  },
  {
   "cell_type": "code",
   "execution_count": null,
   "id": "6b9661fb-644b-458a-b633-2cdde385a805",
   "metadata": {},
   "outputs": [],
   "source": [
    "from apyori import apriori\n",
    "# Load the dataset\n",
    "data = ...\n",
    "# Create and fit the apriori model\n",
    "rules = apriori(data, min_support=0.01, min_confidence=0.5)"
   ]
  },
  {
   "cell_type": "code",
   "execution_count": null,
   "id": "79ebced4-f690-492d-aca7-da34093ace14",
   "metadata": {},
   "outputs": [
    {
     "name": "stdout",
     "output_type": "stream",
     "text": [
      "['Detergents_Paper']\n",
      "['Fresh']\n",
      "['Frozen']\n",
      "['Grocery']\n",
      "['Milk']\n",
      "['Region']\n",
      "['Detergents_Paper', 'Delicassen']\n",
      "['Delicassen', 'Fresh']\n",
      "['Frozen', 'Delicassen']\n",
      "['Delicassen', 'Grocery']\n",
      "['Delicassen', 'Milk']\n",
      "['Delicassen', 'Region']\n",
      "['Detergents_Paper', 'Fresh']\n",
      "['Frozen', 'Detergents_Paper']\n",
      "['Detergents_Paper', 'Grocery']\n",
      "['Detergents_Paper', 'Milk']\n",
      "['Detergents_Paper', 'Region']\n",
      "['Frozen', 'Fresh']\n",
      "['Fresh', 'Grocery']\n",
      "['Fresh', 'Milk']\n",
      "['Fresh', 'Region']\n",
      "['Frozen', 'Grocery']\n",
      "['Frozen', 'Milk']\n",
      "['Frozen', 'Region']\n",
      "['Milk', 'Grocery']\n",
      "['Region', 'Grocery']\n",
      "['Region', 'Milk']\n",
      "['Detergents_Paper', 'Delicassen', 'Fresh']\n",
      "['Frozen', 'Detergents_Paper', 'Delicassen']\n",
      "['Detergents_Paper', 'Delicassen', 'Grocery']\n",
      "['Detergents_Paper', 'Delicassen', 'Milk']\n",
      "['Detergents_Paper', 'Delicassen', 'Region']\n",
      "['Frozen', 'Delicassen', 'Fresh']\n",
      "['Delicassen', 'Fresh', 'Grocery']\n",
      "['Delicassen', 'Fresh', 'Milk']\n",
      "['Delicassen', 'Fresh', 'Region']\n",
      "['Frozen', 'Delicassen', 'Grocery']\n",
      "['Frozen', 'Delicassen', 'Milk']\n",
      "['Frozen', 'Delicassen', 'Region']\n",
      "['Delicassen', 'Milk', 'Grocery']\n",
      "['Delicassen', 'Region', 'Grocery']\n",
      "['Delicassen', 'Region', 'Milk']\n",
      "['Frozen', 'Detergents_Paper', 'Fresh']\n",
      "['Detergents_Paper', 'Fresh', 'Grocery']\n",
      "['Detergents_Paper', 'Fresh', 'Milk']\n",
      "['Detergents_Paper', 'Fresh', 'Region']\n",
      "['Frozen', 'Detergents_Paper', 'Grocery']\n",
      "['Frozen', 'Detergents_Paper', 'Milk']\n",
      "['Frozen', 'Detergents_Paper', 'Region']\n",
      "['Detergents_Paper', 'Milk', 'Grocery']\n",
      "['Detergents_Paper', 'Region', 'Grocery']\n",
      "['Detergents_Paper', 'Region', 'Milk']\n",
      "['Frozen', 'Fresh', 'Grocery']\n",
      "['Frozen', 'Fresh', 'Milk']\n",
      "['Frozen', 'Fresh', 'Region']\n",
      "['Fresh', 'Milk', 'Grocery']\n",
      "['Fresh', 'Region', 'Grocery']\n",
      "['Region', 'Fresh', 'Milk']\n",
      "['Frozen', 'Milk', 'Grocery']\n",
      "['Frozen', 'Region', 'Grocery']\n",
      "['Frozen', 'Region', 'Milk']\n",
      "['Region', 'Milk', 'Grocery']\n",
      "['Frozen', 'Detergents_Paper', 'Delicassen', 'Fresh']\n",
      "['Detergents_Paper', 'Delicassen', 'Fresh', 'Grocery']\n",
      "['Detergents_Paper', 'Delicassen', 'Fresh', 'Milk']\n",
      "['Detergents_Paper', 'Delicassen', 'Fresh', 'Region']\n",
      "['Frozen', 'Detergents_Paper', 'Delicassen', 'Grocery']\n",
      "['Frozen', 'Detergents_Paper', 'Delicassen', 'Milk']\n",
      "['Frozen', 'Detergents_Paper', 'Delicassen', 'Region']\n",
      "['Detergents_Paper', 'Delicassen', 'Milk', 'Grocery']\n",
      "['Detergents_Paper', 'Delicassen', 'Region', 'Grocery']\n",
      "['Detergents_Paper', 'Delicassen', 'Region', 'Milk']\n",
      "['Frozen', 'Delicassen', 'Fresh', 'Grocery']\n",
      "['Frozen', 'Delicassen', 'Fresh', 'Milk']\n",
      "['Frozen', 'Delicassen', 'Fresh', 'Region']\n",
      "['Delicassen', 'Fresh', 'Milk', 'Grocery']\n",
      "['Delicassen', 'Fresh', 'Region', 'Grocery']\n",
      "['Region', 'Delicassen', 'Fresh', 'Milk']\n",
      "['Frozen', 'Delicassen', 'Milk', 'Grocery']\n",
      "['Frozen', 'Delicassen', 'Region', 'Grocery']\n",
      "['Frozen', 'Delicassen', 'Region', 'Milk']\n",
      "['Delicassen', 'Region', 'Milk', 'Grocery']\n",
      "['Frozen', 'Detergents_Paper', 'Fresh', 'Grocery']\n",
      "['Frozen', 'Detergents_Paper', 'Fresh', 'Milk']\n",
      "['Frozen', 'Detergents_Paper', 'Fresh', 'Region']\n",
      "['Detergents_Paper', 'Fresh', 'Milk', 'Grocery']\n",
      "['Detergents_Paper', 'Fresh', 'Region', 'Grocery']\n",
      "['Region', 'Detergents_Paper', 'Fresh', 'Milk']\n",
      "['Frozen', 'Detergents_Paper', 'Milk', 'Grocery']\n",
      "['Frozen', 'Detergents_Paper', 'Region', 'Grocery']\n",
      "['Frozen', 'Detergents_Paper', 'Region', 'Milk']\n",
      "['Detergents_Paper', 'Region', 'Milk', 'Grocery']\n",
      "['Frozen', 'Fresh', 'Milk', 'Grocery']\n",
      "['Frozen', 'Fresh', 'Region', 'Grocery']\n",
      "['Frozen', 'Region', 'Fresh', 'Milk']\n",
      "['Region', 'Fresh', 'Milk', 'Grocery']\n",
      "['Frozen', 'Region', 'Milk', 'Grocery']\n",
      "['Grocery', 'Delicassen', 'Fresh', 'Frozen', 'Detergents_Paper']\n",
      "['Delicassen', 'Fresh', 'Milk', 'Frozen', 'Detergents_Paper']\n",
      "['Delicassen', 'Fresh', 'Region', 'Frozen', 'Detergents_Paper']\n",
      "['Grocery', 'Delicassen', 'Fresh', 'Milk', 'Detergents_Paper']\n",
      "['Grocery', 'Delicassen', 'Fresh', 'Region', 'Detergents_Paper']\n",
      "['Delicassen', 'Fresh', 'Region', 'Milk', 'Detergents_Paper']\n",
      "['Grocery', 'Delicassen', 'Milk', 'Frozen', 'Detergents_Paper']\n",
      "['Grocery', 'Delicassen', 'Region', 'Frozen', 'Detergents_Paper']\n",
      "['Delicassen', 'Region', 'Milk', 'Frozen', 'Detergents_Paper']\n",
      "['Grocery', 'Delicassen', 'Region', 'Milk', 'Detergents_Paper']\n",
      "['Grocery', 'Delicassen', 'Fresh', 'Milk', 'Frozen']\n",
      "['Grocery', 'Delicassen', 'Fresh', 'Region', 'Frozen']\n",
      "['Delicassen', 'Fresh', 'Region', 'Milk', 'Frozen']\n",
      "['Grocery', 'Delicassen', 'Fresh', 'Region', 'Milk']\n",
      "['Grocery', 'Delicassen', 'Region', 'Milk', 'Frozen']\n",
      "['Grocery', 'Fresh', 'Milk', 'Frozen', 'Detergents_Paper']\n",
      "['Grocery', 'Fresh', 'Region', 'Frozen', 'Detergents_Paper']\n",
      "['Fresh', 'Region', 'Milk', 'Frozen', 'Detergents_Paper']\n",
      "['Grocery', 'Fresh', 'Region', 'Milk', 'Detergents_Paper']\n",
      "['Grocery', 'Region', 'Milk', 'Frozen', 'Detergents_Paper']\n",
      "['Grocery', 'Fresh', 'Region', 'Milk', 'Frozen']\n",
      "['Grocery', 'Delicassen', 'Fresh', 'Milk', 'Frozen', 'Detergents_Paper']\n",
      "['Grocery', 'Delicassen', 'Fresh', 'Region', 'Frozen', 'Detergents_Paper']\n",
      "['Delicassen', 'Fresh', 'Milk', 'Region', 'Frozen', 'Detergents_Paper']\n",
      "['Grocery', 'Delicassen', 'Fresh', 'Milk', 'Region', 'Detergents_Paper']\n",
      "['Grocery', 'Delicassen', 'Milk', 'Region', 'Frozen', 'Detergents_Paper']\n",
      "['Grocery', 'Delicassen', 'Fresh', 'Milk', 'Region', 'Frozen']\n",
      "['Grocery', 'Fresh', 'Milk', 'Region', 'Frozen', 'Detergents_Paper']\n",
      "['Grocery', 'Delicassen', 'Fresh', 'Milk', 'Region', 'Frozen', 'Detergents_Paper']\n"
     ]
    }
   ],
   "source": [
    "import pandas as pd\n",
    "from apyori import apriori\n",
    "# Load the dataset\n",
    "data = pd.read_csv(\n",
    "    '/workspaces/ImplementingStatisticsWithPython/data/chapter7/Groceries.csv')\n",
    "# Reshape the data from wide to long format\n",
    "data = pd.melt(data, id_vars='Channel',\n",
    "               var_name='Product', value_name='Quantity')\n",
    "# Group the data by customer and aggregate the product categories into a list\n",
    "data = data.groupby('Channel')['Product'].apply(list)\n",
    "# Convert the data into a list of lists\n",
    "data = data.tolist()\n",
    "# Create the apriori model\n",
    "rules = apriori(data, min_support=0.00003)\n",
    "# Print the rules\n",
    "for rule in rules:\n",
    "    for rule in rules:\n",
    "        print(list(rule.items))"
   ]
  },
  {
   "cell_type": "markdown",
   "id": "75319a15-404e-451f-a328-f40c8187d6a4",
   "metadata": {},
   "source": [
    "**Tutorial 8.10: To implement Apriori using `apyori` to find view only the the first 5 frequent items from a grocery item dataset.**\n",
    "\n",
    "Here we use python slicing concept to limit the output of the Apriori algorithm to the first 5 frequent items\n"
   ]
  },
  {
   "cell_type": "code",
   "execution_count": null,
   "id": "c3e4e422-f825-4fb5-8a56-0e341f465647",
   "metadata": {},
   "outputs": [
    {
     "name": "stdout",
     "output_type": "stream",
     "text": [
      "Delicassen\n",
      "Detergents_Paper\n",
      "Fresh\n",
      "Frozen\n",
      "Grocery\n"
     ]
    }
   ],
   "source": [
    "import pandas as pd\n",
    "from apyori import apriori\n",
    "# Load the dataset\n",
    "data = pd.read_csv(\n",
    "    '/workspaces/ImplementingStatisticsWithPython/data/chapter7/Groceries.csv')\n",
    "# Reshape the data from wide to long format\n",
    "data = pd.melt(data, id_vars='Channel',\n",
    "               var_name='Product', value_name='Quantity')\n",
    "# Group the data by customer and aggregate the product categories into a list\n",
    "data = data.groupby('Channel')['Product'].apply(list)\n",
    "# Convert the data into a list of lists\n",
    "data = data.tolist()\n",
    "# Create the apriori model\n",
    "rules = apriori(data, min_support=0.00003)\n",
    "# Print the rules and the first 5 elements\n",
    "rules = list(rules)\n",
    "rules = rules[:5]\n",
    "for rule in rules:\n",
    "    for item in rule.items:\n",
    "        print(item)"
   ]
  },
  {
   "cell_type": "markdown",
   "id": "abebe8d7-a42d-4776-b7b7-bc29a7a1ab29",
   "metadata": {},
   "source": [
    "**Tutorial 8.11: To implement Apriori using `apyori` to view all most frequent items with the support value of each itemset from the grocery item dataset.**\n"
   ]
  },
  {
   "cell_type": "code",
   "execution_count": null,
   "id": "dc352662-f8d8-4251-8063-0818611815e5",
   "metadata": {},
   "outputs": [
    {
     "name": "stdout",
     "output_type": "stream",
     "text": [
      "Delicassen: 1.0\n",
      "Detergents_Paper: 1.0\n",
      "Fresh: 1.0\n",
      "Frozen: 1.0\n",
      "Grocery: 1.0\n",
      "Milk: 1.0\n",
      "Region: 1.0\n",
      "Detergents_Paper, Delicassen: 1.0\n",
      "Delicassen, Fresh: 1.0\n",
      "Frozen, Delicassen: 1.0\n",
      "Delicassen, Grocery: 1.0\n",
      "Delicassen, Milk: 1.0\n",
      "Delicassen, Region: 1.0\n",
      "Detergents_Paper, Fresh: 1.0\n",
      "Frozen, Detergents_Paper: 1.0\n",
      "Detergents_Paper, Grocery: 1.0\n",
      "Detergents_Paper, Milk: 1.0\n",
      "Detergents_Paper, Region: 1.0\n",
      "Frozen, Fresh: 1.0\n",
      "Fresh, Grocery: 1.0\n",
      "Fresh, Milk: 1.0\n",
      "Fresh, Region: 1.0\n",
      "Frozen, Grocery: 1.0\n",
      "Frozen, Milk: 1.0\n",
      "Frozen, Region: 1.0\n",
      "Milk, Grocery: 1.0\n",
      "Region, Grocery: 1.0\n",
      "Region, Milk: 1.0\n",
      "Detergents_Paper, Delicassen, Fresh: 1.0\n",
      "Frozen, Detergents_Paper, Delicassen: 1.0\n",
      "Detergents_Paper, Delicassen, Grocery: 1.0\n",
      "Detergents_Paper, Delicassen, Milk: 1.0\n",
      "Detergents_Paper, Delicassen, Region: 1.0\n",
      "Frozen, Delicassen, Fresh: 1.0\n",
      "Delicassen, Fresh, Grocery: 1.0\n",
      "Delicassen, Fresh, Milk: 1.0\n",
      "Delicassen, Fresh, Region: 1.0\n",
      "Frozen, Delicassen, Grocery: 1.0\n",
      "Frozen, Delicassen, Milk: 1.0\n",
      "Frozen, Delicassen, Region: 1.0\n",
      "Delicassen, Milk, Grocery: 1.0\n",
      "Delicassen, Region, Grocery: 1.0\n",
      "Delicassen, Region, Milk: 1.0\n",
      "Frozen, Detergents_Paper, Fresh: 1.0\n",
      "Detergents_Paper, Fresh, Grocery: 1.0\n",
      "Detergents_Paper, Fresh, Milk: 1.0\n",
      "Detergents_Paper, Fresh, Region: 1.0\n",
      "Frozen, Detergents_Paper, Grocery: 1.0\n",
      "Frozen, Detergents_Paper, Milk: 1.0\n",
      "Frozen, Detergents_Paper, Region: 1.0\n",
      "Detergents_Paper, Milk, Grocery: 1.0\n",
      "Detergents_Paper, Region, Grocery: 1.0\n",
      "Detergents_Paper, Region, Milk: 1.0\n",
      "Frozen, Fresh, Grocery: 1.0\n",
      "Frozen, Fresh, Milk: 1.0\n",
      "Frozen, Fresh, Region: 1.0\n",
      "Fresh, Milk, Grocery: 1.0\n",
      "Fresh, Region, Grocery: 1.0\n",
      "Region, Fresh, Milk: 1.0\n",
      "Frozen, Milk, Grocery: 1.0\n",
      "Frozen, Region, Grocery: 1.0\n",
      "Frozen, Region, Milk: 1.0\n",
      "Region, Milk, Grocery: 1.0\n",
      "Frozen, Detergents_Paper, Delicassen, Fresh: 1.0\n",
      "Detergents_Paper, Delicassen, Fresh, Grocery: 1.0\n",
      "Detergents_Paper, Delicassen, Fresh, Milk: 1.0\n",
      "Detergents_Paper, Delicassen, Fresh, Region: 1.0\n",
      "Frozen, Detergents_Paper, Delicassen, Grocery: 1.0\n",
      "Frozen, Detergents_Paper, Delicassen, Milk: 1.0\n",
      "Frozen, Detergents_Paper, Delicassen, Region: 1.0\n",
      "Detergents_Paper, Delicassen, Milk, Grocery: 1.0\n",
      "Detergents_Paper, Delicassen, Region, Grocery: 1.0\n",
      "Detergents_Paper, Delicassen, Region, Milk: 1.0\n",
      "Frozen, Delicassen, Fresh, Grocery: 1.0\n",
      "Frozen, Delicassen, Fresh, Milk: 1.0\n",
      "Frozen, Delicassen, Fresh, Region: 1.0\n",
      "Delicassen, Fresh, Milk, Grocery: 1.0\n",
      "Delicassen, Fresh, Region, Grocery: 1.0\n",
      "Region, Delicassen, Fresh, Milk: 1.0\n",
      "Frozen, Delicassen, Milk, Grocery: 1.0\n",
      "Frozen, Delicassen, Region, Grocery: 1.0\n",
      "Frozen, Delicassen, Region, Milk: 1.0\n",
      "Delicassen, Region, Milk, Grocery: 1.0\n",
      "Frozen, Detergents_Paper, Fresh, Grocery: 1.0\n",
      "Frozen, Detergents_Paper, Fresh, Milk: 1.0\n",
      "Frozen, Detergents_Paper, Fresh, Region: 1.0\n",
      "Detergents_Paper, Fresh, Milk, Grocery: 1.0\n",
      "Detergents_Paper, Fresh, Region, Grocery: 1.0\n",
      "Region, Detergents_Paper, Fresh, Milk: 1.0\n",
      "Frozen, Detergents_Paper, Milk, Grocery: 1.0\n",
      "Frozen, Detergents_Paper, Region, Grocery: 1.0\n",
      "Frozen, Detergents_Paper, Region, Milk: 1.0\n",
      "Detergents_Paper, Region, Milk, Grocery: 1.0\n",
      "Frozen, Fresh, Milk, Grocery: 1.0\n",
      "Frozen, Fresh, Region, Grocery: 1.0\n",
      "Frozen, Region, Fresh, Milk: 1.0\n",
      "Region, Fresh, Milk, Grocery: 1.0\n",
      "Frozen, Region, Milk, Grocery: 1.0\n",
      "Grocery, Delicassen, Fresh, Frozen, Detergents_Paper: 1.0\n",
      "Delicassen, Fresh, Milk, Frozen, Detergents_Paper: 1.0\n",
      "Delicassen, Fresh, Region, Frozen, Detergents_Paper: 1.0\n",
      "Grocery, Delicassen, Fresh, Milk, Detergents_Paper: 1.0\n",
      "Grocery, Delicassen, Fresh, Region, Detergents_Paper: 1.0\n",
      "Delicassen, Fresh, Region, Milk, Detergents_Paper: 1.0\n",
      "Grocery, Delicassen, Milk, Frozen, Detergents_Paper: 1.0\n",
      "Grocery, Delicassen, Region, Frozen, Detergents_Paper: 1.0\n",
      "Delicassen, Region, Milk, Frozen, Detergents_Paper: 1.0\n",
      "Grocery, Delicassen, Region, Milk, Detergents_Paper: 1.0\n",
      "Grocery, Delicassen, Fresh, Milk, Frozen: 1.0\n",
      "Grocery, Delicassen, Fresh, Region, Frozen: 1.0\n",
      "Delicassen, Fresh, Region, Milk, Frozen: 1.0\n",
      "Grocery, Delicassen, Fresh, Region, Milk: 1.0\n",
      "Grocery, Delicassen, Region, Milk, Frozen: 1.0\n",
      "Grocery, Fresh, Milk, Frozen, Detergents_Paper: 1.0\n",
      "Grocery, Fresh, Region, Frozen, Detergents_Paper: 1.0\n",
      "Fresh, Region, Milk, Frozen, Detergents_Paper: 1.0\n",
      "Grocery, Fresh, Region, Milk, Detergents_Paper: 1.0\n",
      "Grocery, Region, Milk, Frozen, Detergents_Paper: 1.0\n",
      "Grocery, Fresh, Region, Milk, Frozen: 1.0\n",
      "Grocery, Delicassen, Fresh, Milk, Frozen, Detergents_Paper: 1.0\n",
      "Grocery, Delicassen, Fresh, Region, Frozen, Detergents_Paper: 1.0\n",
      "Delicassen, Fresh, Milk, Region, Frozen, Detergents_Paper: 1.0\n",
      "Grocery, Delicassen, Fresh, Milk, Region, Detergents_Paper: 1.0\n",
      "Grocery, Delicassen, Milk, Region, Frozen, Detergents_Paper: 1.0\n",
      "Grocery, Delicassen, Fresh, Milk, Region, Frozen: 1.0\n",
      "Grocery, Fresh, Milk, Region, Frozen, Detergents_Paper: 1.0\n",
      "Grocery, Delicassen, Fresh, Milk, Region, Frozen, Detergents_Paper: 1.0\n"
     ]
    }
   ],
   "source": [
    "import pandas as pd\n",
    "from apyori import apriori\n",
    "# Load the dataset\n",
    "data = pd.read_csv(\n",
    "    '/workspaces/ImplementingStatisticsWithPython/data/chapter7/Groceries.csv')\n",
    "# Reshape the data from wide to long format\n",
    "data = pd.melt(data, id_vars='Channel',\n",
    "               var_name='Product', value_name='Quantity')\n",
    "# Group the data by customer and aggregate the product categories into a list\n",
    "data = data.groupby('Channel')['Product'].apply(list)\n",
    "# Convert the data into a list of lists\n",
    "data = data.tolist()\n",
    "# Create the apriori model\n",
    "rules = apriori(data, min_support=0.00003)\n",
    "# Print the rules\n",
    "for rule in rules:\n",
    "    # Join the items in the itemset with a comma\n",
    "    itemset = \", \".join(rule.items)\n",
    "    # Get the support value of the itemset\n",
    "    support = rule.support\n",
    "    # Print the itemset and the support in one line\n",
    "    print(\"{}: {}\".format(itemset, support))"
   ]
  },
  {
   "cell_type": "markdown",
   "id": "ce932d9e-407d-4a06-8bd2-20ddaa681414",
   "metadata": {},
   "source": [
    "**Tutorial 8.12: To implement frequent item data minning using a sample data set of transactions.**"
   ]
  },
  {
   "cell_type": "code",
   "execution_count": null,
   "id": "5cc451f8-da41-4a5c-a6ab-584dab8a2596",
   "metadata": {},
   "outputs": [
    {
     "name": "stdout",
     "output_type": "stream",
     "text": [
      "A 4\n",
      "B 4\n",
      "C 5\n",
      "D 3\n",
      "E 3\n",
      "AB 3\n",
      "AC 4\n",
      "AE 3\n",
      "BC 4\n",
      "BD 3\n",
      "CD 3\n",
      "CE 3\n",
      "ABC 3\n",
      "ACE 3\n",
      "BCD 3\n"
     ]
    }
   ],
   "source": [
    "# Define a function to convert the data from horizontal to vertical format\n",
    "def horizontal_to_vertical(data):\n",
    "    # Initialize an empty dictionary to store the vertical format\n",
    "    vertical = {}\n",
    "    # Loop through each transaction in the data\n",
    "    for i, transaction in enumerate(data):\n",
    "        # Loop through each item in the transaction\n",
    "        for item in transaction:\n",
    "            # If the item is already in the dictionary, append the transaction ID to its value\n",
    "            if item in vertical:\n",
    "                vertical[item].append(i)\n",
    "            # Otherwise, create a new key-value pair with the item and the transaction ID\n",
    "            else:\n",
    "                vertical[item] = [i]\n",
    "    # Return the vertical format\n",
    "    return vertical\n",
    "\n",
    "# Define a function to generate frequent item sets using the ECLAT algorithm\n",
    "\n",
    "\n",
    "def eclat(data, min_support):\n",
    "    # Convert the data to vertical format\n",
    "    vertical = horizontal_to_vertical(data)\n",
    "    # Initialize an empty list to store the frequent item sets\n",
    "    frequent = []\n",
    "    # Initialize an empty list to store the candidates\n",
    "    candidates = []\n",
    "    # Loop through each item in the vertical format\n",
    "    for item in vertical:\n",
    "        # Get the support count of the item by taking the length of its value\n",
    "        support = len(vertical[item])\n",
    "        # If the support count is greater than or equal to the minimum support, add the item to the frequent list and the candidates list\n",
    "        if support >= min_support:\n",
    "            frequent.append((item, support))\n",
    "            candidates.append((item, vertical[item]))\n",
    "    # Loop until there are no more candidates\n",
    "    while candidates:\n",
    "        # Initialize an empty list to store the new candidates\n",
    "        new_candidates = []\n",
    "        # Loop through each pair of candidates\n",
    "        for i in range(len(candidates) - 1):\n",
    "            for j in range(i + 1, len(candidates)):\n",
    "                # Get the first item set and its transaction IDs from the first candidate\n",
    "                itemset1, tidset1 = candidates[i]\n",
    "                # Get the second item set and its transaction IDs from the second candidate\n",
    "                itemset2, tidset2 = candidates[j]\n",
    "                # If the item sets have the same prefix, they can be combined\n",
    "                if itemset1[:-1] == itemset2[:-1]:\n",
    "                    # Combine the item sets by adding the last element of the second item set to the first item set\n",
    "                    new_itemset = itemset1 + itemset2[-1]\n",
    "                    # Intersect the transaction IDs to get the support count of the new item set\n",
    "                    new_tidset = list(set(tidset1) & set(tidset2))\n",
    "                    new_support = len(new_tidset)\n",
    "                    # If the support count is greater than or equal to the minimum support, add the new item set to the frequent list and the new candidates list\n",
    "                    if new_support >= min_support:\n",
    "                        frequent.append((new_itemset, new_support))\n",
    "                        new_candidates.append((new_itemset, new_tidset))\n",
    "        # Update the candidates list with the new candidates\n",
    "        candidates = new_candidates\n",
    "    # Return the frequent item sets\n",
    "    return frequent\n",
    "\n",
    "\n",
    "# Define a sample data set of transactions\n",
    "data = [\n",
    "    [\"A\", \"B\", \"C\", \"D\"],\n",
    "    [\"A\", \"C\", \"E\"],\n",
    "    [\"A\", \"B\", \"C\", \"E\"],\n",
    "    [\"B\", \"C\", \"D\"],\n",
    "    [\"A\", \"B\", \"C\", \"D\", \"E\"]\n",
    "]\n",
    "\n",
    "# Define a minimum support value\n",
    "min_support = 3\n",
    "# Call the eclat function with the data and the minimum support\n",
    "frequent = eclat(data, min_support)\n",
    "# Print the frequent item sets and their support counts\n",
    "for itemset, support in frequent:\n",
    "    print(itemset, support)"
   ]
  },
  {
   "cell_type": "markdown",
   "id": "fa7c571b-92b4-4c43-86b5-949b96e21dbd",
   "metadata": {},
   "source": [
    "**Tutorial 8.13: To implement frequent item for data minning using FP-Growth using `mlxtend.frequent_patterns`.**"
   ]
  },
  {
   "cell_type": "markdown",
   "id": "897616c1-c5ab-46ce-8177-9a3e820c0331",
   "metadata": {},
   "source": [
    "**Syntax for FP-Growth using `mlxtend.frequent_patterns`**\n",
    "\n",
    "Package used: `pip install mlxtend`"
   ]
  },
  {
   "cell_type": "code",
   "execution_count": null,
   "id": "59a43aea-005b-4a5a-9cac-abf535d53f3f",
   "metadata": {},
   "outputs": [],
   "source": [
    "import pandas as pd\n",
    "from mlxtend.frequent_patterns import fpgrowth\n",
    "# Load the dataset\n",
    "data = ...\n",
    "# Create and fit the FP-Growth model\n",
    "patterns = fpgrowth(data, min_support=0.01, use_colnames=True)"
   ]
  },
  {
   "cell_type": "code",
   "execution_count": null,
   "id": "0b8b25d6-2b18-4faf-b7ee-b8c4bf8f6002",
   "metadata": {},
   "outputs": [
    {
     "data": {
      "text/html": [
       "<div>\n",
       "<style scoped>\n",
       "    .dataframe tbody tr th:only-of-type {\n",
       "        vertical-align: middle;\n",
       "    }\n",
       "\n",
       "    .dataframe tbody tr th {\n",
       "        vertical-align: top;\n",
       "    }\n",
       "\n",
       "    .dataframe thead th {\n",
       "        text-align: right;\n",
       "    }\n",
       "</style>\n",
       "<table border=\"1\" class=\"dataframe\">\n",
       "  <thead>\n",
       "    <tr style=\"text-align: right;\">\n",
       "      <th></th>\n",
       "      <th>support</th>\n",
       "      <th>itemsets</th>\n",
       "    </tr>\n",
       "  </thead>\n",
       "  <tbody>\n",
       "    <tr>\n",
       "      <th>0</th>\n",
       "      <td>1.0</td>\n",
       "      <td>(C)</td>\n",
       "    </tr>\n",
       "    <tr>\n",
       "      <th>1</th>\n",
       "      <td>0.8</td>\n",
       "      <td>(B)</td>\n",
       "    </tr>\n",
       "    <tr>\n",
       "      <th>2</th>\n",
       "      <td>0.8</td>\n",
       "      <td>(A)</td>\n",
       "    </tr>\n",
       "    <tr>\n",
       "      <th>3</th>\n",
       "      <td>0.8</td>\n",
       "      <td>(B, C)</td>\n",
       "    </tr>\n",
       "    <tr>\n",
       "      <th>4</th>\n",
       "      <td>0.8</td>\n",
       "      <td>(A, C)</td>\n",
       "    </tr>\n",
       "  </tbody>\n",
       "</table>\n",
       "</div>"
      ],
      "text/plain": [
       "   support itemsets\n",
       "0      1.0      (C)\n",
       "1      0.8      (B)\n",
       "2      0.8      (A)\n",
       "3      0.8   (B, C)\n",
       "4      0.8   (A, C)"
      ]
     },
     "execution_count": 9,
     "metadata": {},
     "output_type": "execute_result"
    }
   ],
   "source": [
    "import pandas as pd\n",
    "# Import fpgrowth function from mlxtend library for frequent pattern mining\n",
    "from mlxtend.frequent_patterns import fpgrowth\n",
    "# Import TransactionEncoder class from mlxtend library for encoding data\n",
    "from mlxtend.preprocessing import TransactionEncoder\n",
    "# Define a list of transactions, each transaction is a list of items\n",
    "data = [[\"A\", \"B\", \"C\", \"D\"],\n",
    "        [\"A\", \"C\", \"E\"],\n",
    "        [\"A\", \"B\", \"C\", \"E\"],\n",
    "        [\"B\", \"C\", \"D\"],\n",
    "        [\"A\", \"B\", \"C\", \"D\", \"E\"]]\n",
    "# Create an instance of TransactionEncoder\n",
    "te = TransactionEncoder()\n",
    "# Fit and transform the data to get a boolean matrix\n",
    "te_ary = te.fit(data).transform(data)\n",
    "# Convert the matrix to a pandas dataframe with column names as items\n",
    "df = pd.DataFrame(te_ary, columns=te.columns_)\n",
    "# Apply fpgrowth algorithm on the dataframe with a minimum support of 0.8\n",
    "# and return the frequent itemsets with their corresponding support values\n",
    "fpgrowth(df, min_support=0.8, use_colnames=True)"
   ]
  },
  {
   "cell_type": "markdown",
   "id": "4276de5e-f840-4785-bf3f-0a6633f5a4f4",
   "metadata": {},
   "source": [
    "**Tutorial 7.30: To implement a tutorial that illustrates model selection and evaluation in machine learning using iris data**"
   ]
  },
  {
   "cell_type": "markdown",
   "id": "e3bd5d46-56c6-4f06-9afa-32f38a40433a",
   "metadata": {},
   "source": [
    "Choosing a single candidate machine learning model for a predictive modeling challenge is known as model selection. Performance, complexity, interpretability, and resource requirements are some examples of selection criteria. This tutorial, with snippets of each section, shows how to use some common model selection techniques in Python using the scikit-learn library.\n",
    "\n",
    "To begin, we need to import modules and load the iris dataset. This dataset contains 150 samples of three different types of iris flowers, each with four features: sepal length, sepal width, petal length, and petal width. Our goal is to construct a classifier that can predict the species of a new flower based on its features.\n"
   ]
  },
  {
   "cell_type": "code",
   "execution_count": 3,
   "id": "ee55c4b8-ec24-47c4-a44e-f515945c96f6",
   "metadata": {},
   "outputs": [
    {
     "name": "stdout",
     "output_type": "stream",
     "text": [
      "['sepal length (cm)', 'sepal width (cm)', 'petal length (cm)', 'petal width (cm)']\n",
      "['setosa' 'versicolor' 'virginica']\n"
     ]
    }
   ],
   "source": [
    "import numpy as np  # For numerical operations\n",
    "import pandas as pd  # For data manipulation and analysis\n",
    "import matplotlib.pyplot as plt  # For data visualization\n",
    "from sklearn.datasets import load_iris  # For loading the iris dataset\n",
    "# For splitting data, cross-validation, and hyperparameter tuning\n",
    "from sklearn.model_selection import train_test_split, cross_val_score, GridSearchCV, RandomizedSearchCV\n",
    "from sklearn.linear_model import LogisticRegression  # For logistic regression model\n",
    "from sklearn.tree import DecisionTreeClassifier  # For decision tree model\n",
    "from sklearn.svm import SVC  # For support vector machine model\n",
    "# For evaluating model performance\n",
    "from sklearn.metrics import accuracy_score, precision_score, recall_score, f1_score, confusion_matrix, classification_report\n",
    "# Load dataset\n",
    "iris = load_iris()\n",
    "# Extract the features & labels as a numpy array\n",
    "X = iris.data\n",
    "y = iris.target\n",
    "print(iris.feature_names)\n",
    "print(iris.target_names)"
   ]
  },
  {
   "cell_type": "markdown",
   "id": "ba104cb2-560c-4221-9bab-637468fd5818",
   "metadata": {},
   "source": [
    "We will now split the dataset into training and testing sets. The data will be divided into 70% for training and 30% for testing. Additionally, we will set a random seed for reproducibility."
   ]
  },
  {
   "cell_type": "code",
   "execution_count": 4,
   "id": "a45bf269-948c-45bc-8a4c-a6c9027c1b98",
   "metadata": {},
   "outputs": [
    {
     "name": "stdout",
     "output_type": "stream",
     "text": [
      "(105, 4) (105,)\n",
      "(45, 4) (45,)\n"
     ]
    }
   ],
   "source": [
    "# Split dataset\n",
    "X_train, X_test, y_train, y_test = train_test_split(\n",
    "    X, y, test_size=0.3, random_state=42)\n",
    "print(X_train.shape, y_train.shape)\n",
    "print(X_test.shape, y_test.shape)"
   ]
  },
  {
   "cell_type": "markdown",
   "id": "a16fc7a8-4f7e-47ba-a6cf-d19dbf288a44",
   "metadata": {},
   "source": [
    "We will define candidate models to compare, including logistic regression, decision tree, and support vector machine classifiers. Each model has hyperparameters that control behavior and complexity, such For example, logistic regression includes a regularization parameter called 'C', decision trees have a 'max_depth' parameter, and support vector machines have a 'kernel' parameter. We will use default values for these hyperparameters for now and learn how to tune them later."
   ]
  },
  {
   "cell_type": "code",
   "execution_count": 5,
   "id": "1cb5ad67-b07a-4b5a-abd0-e64e1ed87789",
   "metadata": {},
   "outputs": [],
   "source": [
    "# Define candidate models\n",
    "models = {\n",
    "    'Logistic Regression': LogisticRegression(),\n",
    "    'Decision Tree': DecisionTreeClassifier(),\n",
    "    'Support Vector Machine': SVC()\n",
    "}"
   ]
  },
  {
   "cell_type": "markdown",
   "id": "98375854-50aa-489b-9390-1734cbbc9e63",
   "metadata": {},
   "source": [
    "To evaluate the performance of each model, we can use cross-validation. This technique involves splitting the training data into k folds. One fold is used as the validation set, and the rest is used as the training set. This process is repeated 'k' times, and the average score across the k folds is reported. Cross-validation helps reduce the variance of the estimate and avoid overfitting. In this case, we will use 5-fold cross-validation and accuracy as the scoring metric."
   ]
  },
  {
   "cell_type": "code",
   "execution_count": 6,
   "id": "3676e1a7-d35e-4410-804e-942b1d800edb",
   "metadata": {},
   "outputs": [
    {
     "name": "stdout",
     "output_type": "stream",
     "text": [
      "Logistic Regression: 0.962 (+/- 0.036)\n",
      "Decision Tree: 0.933 (+/- 0.023)\n",
      "Support Vector Machine: 0.952 (+/- 0.043)\n"
     ]
    },
    {
     "name": "stderr",
     "output_type": "stream",
     "text": [
      "/home/codespace/.python/current/lib/python3.10/site-packages/sklearn/linear_model/_logistic.py:460: ConvergenceWarning: lbfgs failed to converge (status=1):\n",
      "STOP: TOTAL NO. of ITERATIONS REACHED LIMIT.\n",
      "\n",
      "Increase the number of iterations (max_iter) or scale the data as shown in:\n",
      "    https://scikit-learn.org/stable/modules/preprocessing.html\n",
      "Please also refer to the documentation for alternative solver options:\n",
      "    https://scikit-learn.org/stable/modules/linear_model.html#logistic-regression\n",
      "  n_iter_i = _check_optimize_result(\n",
      "/home/codespace/.python/current/lib/python3.10/site-packages/sklearn/linear_model/_logistic.py:460: ConvergenceWarning: lbfgs failed to converge (status=1):\n",
      "STOP: TOTAL NO. of ITERATIONS REACHED LIMIT.\n",
      "\n",
      "Increase the number of iterations (max_iter) or scale the data as shown in:\n",
      "    https://scikit-learn.org/stable/modules/preprocessing.html\n",
      "Please also refer to the documentation for alternative solver options:\n",
      "    https://scikit-learn.org/stable/modules/linear_model.html#logistic-regression\n",
      "  n_iter_i = _check_optimize_result(\n"
     ]
    }
   ],
   "source": [
    "# Evaluate models using cross-validation\n",
    "scores = {}\n",
    "for name, model in models.items():\n",
    "    score = cross_val_score(model, X_train, y_train, cv=5, scoring='accuracy')\n",
    "    scores[name] = np.mean(score)\n",
    "    print(f'{name}: {np.mean(score):.3f} (+/- {np.std(score):.3f})')"
   ]
  },
  {
   "cell_type": "markdown",
   "id": "03f17e26-3379-433f-8dfb-20e9f91cce9d",
   "metadata": {},
   "source": [
    "The logistic regression and support vector machine models have comparatilvely almost similar and high accuracy scores. However, the decision tree model has a slightly lower, indicating overfitting and poor generalization. To better compare the scores, a bar chart can be plotted."
   ]
  },
  {
   "cell_type": "code",
   "execution_count": 7,
   "id": "214e8e32-c3b4-4dc0-9494-8db9ce1d5c26",
   "metadata": {},
   "outputs": [
    {
     "data": {
      "image/png": "[encoded data removed]",
      "text/plain": [
       "<Figure size 640x480 with 1 Axes>"
      ]
     },
     "metadata": {},
     "output_type": "display_data"
    }
   ],
   "source": [
    "# Plot scores\n",
    "plt.bar(scores.keys(), scores.values())\n",
    "plt.ylabel('Accuracy')\n",
    "# Save the figure\n",
    "plt.savefig('model_selection_and_evaluation.png', dpi=600, bbox_inches='tight')\n",
    "plt.show()"
   ]
  },
  {
   "cell_type": "markdown",
   "id": "b8d3ece2-30b0-40cf-896f-f8f82af36870",
   "metadata": {},
   "source": [
    "To evaluate each model's performance, use the testing set.  Fit each model on the training set, make predictions on the testing set, and compare them with the true labels. Compute metrics such as accuracy, confusion matrix, and classification report. The confusion matrix shows the number of accurate and inaccurate predictions for each class,while the classification report presents the precision, recall, f1-score, and support for each class."
   ]
  },
  {
   "cell_type": "code",
   "execution_count": null,
   "id": "39dd4e87-a3e8-4d94-87ff-4baf4beda58b",
   "metadata": {},
   "outputs": [
    {
     "name": "stdout",
     "output_type": "stream",
     "text": [
      "\n",
      "Logistic Regression\n",
      "Accuracy: 1.000\n",
      "Precision: 1.000\n",
      "Recall: 1.000\n",
      "Confusion matrix:\n",
      "[[19  0  0]\n",
      " [ 0 13  0]\n",
      " [ 0  0 13]]\n",
      "\n",
      "Decision Tree\n",
      "Accuracy: 1.000\n",
      "Precision: 1.000\n",
      "Recall: 1.000\n",
      "Confusion matrix:\n",
      "[[19  0  0]\n",
      " [ 0 13  0]\n",
      " [ 0  0 13]]\n",
      "\n",
      "Support Vector Machine\n",
      "Accuracy: 1.000\n",
      "Precision: 1.000\n",
      "Recall: 1.000\n",
      "Confusion matrix:\n",
      "[[19  0  0]\n",
      " [ 0 13  0]\n",
      " [ 0  0 13]]\n"
     ]
    }
   ],
   "source": [
    "# Evaluate models using testing set\n",
    "for name, model in models.items():\n",
    "    model.fit(X_train, y_train)  # Fit model on training set\n",
    "    y_pred = model.predict(X_test)  # Predict on testing set\n",
    "    acc = accuracy_score(y_test, y_pred)  # Compute accuracy\n",
    "    cm = confusion_matrix(y_test, y_pred)  # Compute confusion matrix\n",
    "    prec = precision_score(\n",
    "        y_test, y_pred, average='weighted')  # Compute precision\n",
    "    recall = recall_score(y_test, y_pred, average='weighted')  # Compute recall\n",
    "    f1score = f1_score(y_test, y_pred, average='weighted')  # Compute f1score\n",
    "    print(f'\\n{name}')\n",
    "    print(f'Accuracy: {acc:.3f}')\n",
    "    print(f'Precision: {prec:.3f}')\n",
    "    print(f'Recall: {recall:.3f}')\n",
    "    print(f'Confusion matrix:\\n{cm}')"
   ]
  },
  {
   "cell_type": "markdown",
   "id": "88aa71c0-f60d-4b44-86a4-65cdf30c6d5b",
   "metadata": {},
   "source": [
    "The logistic regression, decision tree and support vector machine models all have the highest accuracy,precision,recall and f1-score of 1.0. All these and the confusion matrix indicate that all models have perfect predictions for all classes. Therefore, all models are equally effective for this classification problem.\n",
    "\n",
    "However, it is important to consider factors beyond just performance, such as complexity, interpretability, and resource requirements. For example, the logistic regression model is the simplest and most interpretable model. On the other hand, the support vector machine model , and decision tree model are the most complex and least interpretable model. The resource requirements for each model depend on the size and dimensionality of the data, the number and range of the hyperparameters, and the available computational power. Therefore, the selection of the final model depends on the trade-off between these factors."
   ]
  },
  {
   "cell_type": "markdown",
   "id": "f1e8cd1c-1219-4878-838e-9f88638eb5bb",
   "metadata": {},
   "source": [
    "**Tutorial 8.14: To implement a tutorial that illustrates model selection and evaluation in machine learning using iris data**"
   ]
  },
  {
   "cell_type": "markdown",
   "id": "1c78361f-6e3a-4d70-bde0-06b029a2f2c7",
   "metadata": {},
   "source": [
    "To begin, we import the required modules and load the iris dataset, as demonstrated above. The aim is to determine the optimal number of clusters from the dataset and assess the result with evaluation matrices."
   ]
  },
  {
   "cell_type": "code",
   "execution_count": 8,
   "id": "18f49e10-fc4e-4ebc-a5b1-bd33a850b927",
   "metadata": {},
   "outputs": [
    {
     "name": "stdout",
     "output_type": "stream",
     "text": [
      "['sepal length (cm)', 'sepal width (cm)', 'petal length (cm)', 'petal width (cm)']\n"
     ]
    }
   ],
   "source": [
    "import numpy as np\n",
    "import pandas as pd\n",
    "import matplotlib.pyplot as plt\n",
    "from sklearn.datasets import load_iris\n",
    "from sklearn.cluster import KMeans, AgglomerativeClustering\n",
    "from sklearn.metrics import silhouette_score, davies_bouldin_score, calinski_harabasz_score, adjusted_rand_score\n",
    "\n",
    "# Load dataset\n",
    "iris = load_iris()\n",
    "X = iris.data  # Features\n",
    "y = iris.target  # True labels\n",
    "print(iris.feature_names)"
   ]
  },
  {
   "cell_type": "markdown",
   "id": "0f986d0d-9627-46bb-9b27-f4a1a05e7260",
   "metadata": {},
   "source": [
    "We define clustering models to compare, including k-means, agglomerative clustering. And define Silhouette score, Davies-Bouldin index, Calinski-Harabasz index, and adjusted Rand index, metrics to evaluate the models."
   ]
  },
  {
   "cell_type": "code",
   "execution_count": 9,
   "id": "c8109925-bc5f-42b8-940e-5f00714601c8",
   "metadata": {},
   "outputs": [],
   "source": [
    "# Define candidate models\n",
    "models = {\n",
    "    'K-means': KMeans(),\n",
    "    'Agglomerative Clustering': AgglomerativeClustering()\n",
    "}\n",
    "# Evaluate models using multiple metrics\n",
    "metrics = {\n",
    "    'Silhouette score': silhouette_score,\n",
    "    'Davies-Bouldin index': davies_bouldin_score,\n",
    "    'Calinski-Harabasz index': calinski_harabasz_score,\n",
    "    'Adjusted Rand index': adjusted_rand_score\n",
    "}"
   ]
  },
  {
   "cell_type": "markdown",
   "id": "15e15776-6bd4-413b-ba65-f9710b659e70",
   "metadata": {},
   "source": [
    "To evaluate the quality of each cluster, we fit the model and plot the results."
   ]
  },
  {
   "cell_type": "code",
   "execution_count": 10,
   "id": "158f5623-a1dd-4e03-b1e0-1874e53ffc38",
   "metadata": {},
   "outputs": [
    {
     "name": "stderr",
     "output_type": "stream",
     "text": [
      "/home/codespace/.python/current/lib/python3.10/site-packages/sklearn/cluster/_kmeans.py:1416: FutureWarning: The default value of `n_init` will change from 10 to 'auto' in 1.4. Set the value of `n_init` explicitly to suppress the warning\n",
      "  super()._check_params_vs_input(X, default_n_init=10)\n"
     ]
    },
    {
     "name": "stdout",
     "output_type": "stream",
     "text": [
      "K-means, Silhouette score: 0.362\n",
      "K-means, Davies-Bouldin index: 0.922\n",
      "K-means, Calinski-Harabasz index: 439.483\n",
      "K-means, Adjusted Rand index: 0.450\n",
      "Agglomerative Clustering, Silhouette score: 0.687\n",
      "Agglomerative Clustering, Davies-Bouldin index: 0.383\n",
      "Agglomerative Clustering, Calinski-Harabasz index: 502.822\n",
      "Agglomerative Clustering, Adjusted Rand index: 0.568\n"
     ]
    },
    {
     "data": {
      "image/png": "[encoded data removed]",
      "text/plain": [
       "<Figure size 1000x1000 with 4 Axes>"
      ]
     },
     "metadata": {},
     "output_type": "display_data"
    }
   ],
   "source": [
    "# Fit model, get cluster labels, compare reasults\n",
    "scores = {}\n",
    "for name, model in models.items():\n",
    "    labels = model.fit_predict(X)\n",
    "    scores[name] = {}\n",
    "    for metric_name, metric in metrics.items():\n",
    "        if metric_name == 'Adjusted Rand index':\n",
    "            # Compare true labels and predicted labels\n",
    "            score = metric(y, labels)\n",
    "        else:\n",
    "            score = metric(X, labels)  # Compare features and predicted labels\n",
    "        scores[name][metric_name] = score\n",
    "        print(f'{name}, {metric_name}: {score:.3f}')\n",
    "# Plot scores\n",
    "fig, ax = plt.subplots(2, 2, figsize=(10, 10))\n",
    "for i, metric_name in enumerate(metrics.keys()):\n",
    "    row = i // 2\n",
    "    col = i % 2\n",
    "    ax[row, col].bar(scores.keys(), [score[metric_name]\n",
    "                     for score in scores.values()])\n",
    "    ax[row, col].set_ylabel(metric_name)\n",
    "# Save the figure\n",
    "plt.savefig('Clustering_model_selection_and_evaluation.png',\n",
    "            dpi=600, bbox_inches='tight')"
   ]
  }
 ],
 "metadata": {
  "kernelspec": {
   "display_name": "Python 3 (ipykernel)",
   "language": "python",
   "name": "python3"
  },
  "language_info": {
   "codemirror_mode": {
    "name": "ipython",
    "version": 3
   },
   "file_extension": ".py",
   "mimetype": "text/x-python",
   "name": "python",
   "nbconvert_exporter": "python",
   "pygments_lexer": "ipython3",
   "version": "3.10.8"
  }
 },
 "nbformat": 4,
 "nbformat_minor": 5
}
