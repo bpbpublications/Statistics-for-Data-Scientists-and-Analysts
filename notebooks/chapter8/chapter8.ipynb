{
 "cells": [
  {
   "cell_type": "markdown",
   "metadata": {},
   "source": [
    "#### Time Series and Survival Analysis,Linear Algebra and Nonparametric statistics"
   ]
  },
  {
   "cell_type": "markdown",
   "metadata": {},
   "source": [
    "**Tutorial 8.1. To create a 2D vector with NumPy and display**"
   ]
  },
  {
   "cell_type": "code",
   "execution_count": 1,
   "metadata": {},
   "outputs": [
    {
     "name": "stdout",
     "output_type": "stream",
     "text": [
      "Vector v: [3 4]\n",
      "Components: x = 3, y = 4\n",
      "Magnitude: 5.00\n"
     ]
    }
   ],
   "source": [
    "import numpy as np\n",
    "# Create a 2D vector\n",
    "v = np.array([3, 4])\n",
    "# Access individual components\n",
    "x, y = v\n",
    "# Calculate magnitude (Euclidean norm) of the vector\n",
    "magnitude = np.linalg.norm(v)\n",
    "print(f\"Vector v: {v}\")\n",
    "print(f\"Components: x = {x}, y = {y}\")\n",
    "print(f\"Magnitude: {magnitude:.2f}\")"
   ]
  },
  {
   "cell_type": "markdown",
   "metadata": {},
   "source": [
    "**Tutorial 8.2. To create a simple linear function, f(x) = 2x + 3 and plot it.**"
   ]
  },
  {
   "cell_type": "code",
   "execution_count": 3,
   "metadata": {},
   "outputs": [
    {
     "data": {
      "image/png": "[encoded data removed]",
      "text/plain": [
       "<Figure size 640x480 with 1 Axes>"
      ]
     },
     "metadata": {},
     "output_type": "display_data"
    }
   ],
   "source": [
    "import matplotlib.pyplot as plt\n",
    "import numpy as np\n",
    "# Define a linear function: f(x) = 2x + 3\n",
    "def linear_function(x):\n",
    "    return 2 * x + 3\n",
    "# Generate x values\n",
    "x_values = np.linspace(-5, 5, 100)\n",
    "# Calculate corresponding y values\n",
    "y_values = linear_function(x_values)\n",
    "# Plot the linear function\n",
    "plt.plot(x_values, y_values, label=\"f(x) = 2x + 3\")\n",
    "plt.xlabel(\"x\")\n",
    "plt.ylabel(\"f(x)\")\n",
    "plt.title(\"Linear Function\")\n",
    "plt.grid(True)\n",
    "plt.legend()\n",
    "plt.savefig(\"linearfunction.jpg\",dpi=600,bbox_inches='tight')\n",
    "plt.show()"
   ]
  },
  {
   "cell_type": "markdown",
   "metadata": {},
   "source": [
    "**Tutorial 8.3. To create a matrix(rectangular array) of numbers with NumPy and transpose it.**"
   ]
  },
  {
   "cell_type": "code",
   "execution_count": 4,
   "metadata": {},
   "outputs": [
    {
     "name": "stdout",
     "output_type": "stream",
     "text": [
      "Matrix A:\n",
      "[[1 2 3]\n",
      " [4 5 6]]\n",
      "Element at row 2, column 3: 6\n",
      "Transposed matrix A:\n",
      "[[1 4]\n",
      " [2 5]\n",
      " [3 6]]\n"
     ]
    }
   ],
   "source": [
    "import numpy as np\n",
    "# Create a 2x3 matrix\n",
    "A = np.array([[1, 2, 3],\n",
    "              [4, 5, 6]])\n",
    "# Access individual elements\n",
    "element_23 = A[1, 2]\n",
    "# Transpose the matrix\n",
    "A_transposed = A.T\n",
    "print(f\"Matrix A:\\n{A}\")\n",
    "print(f\"Element at row 2, column 3: {element_23}\")\n",
    "print(f\"Transposed matrix A:\\n{A_transposed}\")"
   ]
  },
  {
   "cell_type": "markdown",
   "metadata": {},
   "source": [
    "**Tutorial 8.4. To illustrate the use of linear algebra, solve a linear system of equations using the linear algebra submodule of SciPy.**"
   ]
  },
  {
   "cell_type": "code",
   "execution_count": 19,
   "metadata": {},
   "outputs": [
    {
     "name": "stdout",
     "output_type": "stream",
     "text": [
      "Solution x: [11. -4.]\n",
      "Check if A @ x equals b: True\n"
     ]
    }
   ],
   "source": [
    "import numpy as np\n",
    "# Import the linear algebra submodule of SciPy and assign it the alias \"la\"\n",
    "import scipy.linalg as la\n",
    "A = np.array([[1, 2], [3, 4]])\n",
    "b = np.array([3, 17])\n",
    "# Solving a linear system of equations\n",
    "x = la.solve(A, b)\n",
    "print(f\"Solution x: {x}\")\n",
    "print(f\"Check if A @ x equals b: {np.allclose(A @ x, b)}\")"
   ]
  },
  {
   "cell_type": "markdown",
   "metadata": {},
   "source": [
    "**Tutorial 8.5. To illustrate the use of linear algebra in statistics to compare performance: Solving vs. Inverting for linear systems, using SciPy.**"
   ]
  },
  {
   "cell_type": "code",
   "execution_count": 20,
   "metadata": {},
   "outputs": [
    {
     "name": "stdout",
     "output_type": "stream",
     "text": [
      "31.3 ms ± 4.05 ms per loop (mean ± std. dev. of 7 runs, 10 loops each)\n",
      "112 ms ± 4.51 ms per loop (mean ± std. dev. of 7 runs, 10 loops each)\n",
      "Solve time: 0.03 ms\n",
      "Inversion time: 0.11 ms\n"
     ]
    }
   ],
   "source": [
    "import numpy as np\n",
    "import scipy.linalg as la\n",
    "A1 = np.random.random((1000, 1000))\n",
    "b1 = np.random.random(1000)\n",
    "# Uses %timeit magic command to measure the execution time of la.solve(A1, b1) and la.solve solves linear equations\n",
    "solve_time = %timeit -o la.solve(A1, b1)\n",
    "# Measures the time for solving by first inverting A1 using la.inv(A1) and then multiplying the inverse with b1.\n",
    "inv_time = %timeit -o la.inv(A1) @ b1\n",
    "# Prints the best execution time for la.solve method in milliseconds\n",
    "print(f\"Solve time: {solve_time.best:.2f} ms\")\n",
    "# Prints the best execution time for the inversion method in milliseconds\n",
    "print(f\"Inversion time: {inv_time.best:.2f} ms\")"
   ]
  },
  {
   "cell_type": "markdown",
   "metadata": {},
   "source": [
    "**Tutorial 8.6. To illustrate the use of linear algebra in statistics to perform basic matrix properties, using the linear algebra submodule of SciPy.**"
   ]
  },
  {
   "cell_type": "code",
   "execution_count": 21,
   "metadata": {},
   "outputs": [
    {
     "name": "stdout",
     "output_type": "stream",
     "text": [
      "Conjugate of C:\n",
      "[[1.-0.j 2.-3.j]\n",
      " [3.+2.j 4.-0.j]]\n",
      "Trace of C: (5+0j)\n",
      "Matrix rank of C: 2\n",
      "Frobenius norm of C: 6.557438524302\n",
      "Largest singular value of C: 6.389028023601217\n",
      "Smallest singular value of C: 1.4765909770949925\n"
     ]
    }
   ],
   "source": [
    "import numpy as np\n",
    "import scipy.linalg as la\n",
    "# Create a complex matrix C\n",
    "C = np.array([[1, 2 + 3j], [3 - 2j, 4]])\n",
    "# Print the conjugate of C (element-wise complex conjugate)\n",
    "print(f\"Conjugate of C:\\n{C.conjugate()}\")\n",
    "# Print the trace of C (sum of diagonal elements)\n",
    "print(f\"Trace of C: {np.diag(C).sum()}\")\n",
    "# Print the matrix rank of C (number of linearly independent rows/columns)\n",
    "print(f\"Matrix rank of C: {np.linalg.matrix_rank(C)}\")\n",
    "# Print the Frobenius norm of C (square root of sum of squared elements)\n",
    "print(f\"Frobenius norm of C: {la.norm(C, None)}\")\n",
    "# Print the largest singular value of C (largest eigenvalue of C*C.conjugate())\n",
    "print(f\"Largest singular value of C: {la.norm(C, 2)}\")\n",
    "# Print the smallest singular value of C (smallest eigenvalue of C*C.conjugate())\n",
    "print(f\"Smallest singular value of C: {la.norm(C, -2)}\")"
   ]
  },
  {
   "cell_type": "markdown",
   "metadata": {},
   "source": [
    "**Tutorial 8.7. To illustrate the use of linear algebra in statistics to compute the least squares solution in a square matrix, using the linear algebra submodule of SciPy.**"
   ]
  },
  {
   "cell_type": "code",
   "execution_count": 23,
   "metadata": {},
   "outputs": [
    {
     "name": "stdout",
     "output_type": "stream",
     "text": [
      "Error using la.solve: Matrix is singular.\n",
      "Least-squares solution x: [1.48 2.96]\n"
     ]
    }
   ],
   "source": [
    "import numpy as np\n",
    "import scipy.linalg as la\n",
    "# Define a square matrix A1 and vector b1\n",
    "A1 = np.array([[1, 2], [2, 4]])\n",
    "b1 = np.array([3, 17])\n",
    "# Attempt to solve the system of equations A1x = b1 using la.solve\n",
    "try:\n",
    "    x = la.solve(A1, b1)\n",
    "    print(f\"Solution using la.solve: {x}\")  # Print solution if successful\n",
    "except la.LinAlgError as e:  # Catch potential error if matrix is singular\n",
    "    print(f\"Error using la.solve: {e}\")  # Print error message\n",
    "# # Compute least-squares solution\n",
    "x, residuals, rank, s = la.lstsq(A1, b1)\n",
    "print(f\"Least-squares solution x: {x}\")"
   ]
  },
  {
   "cell_type": "markdown",
   "metadata": {},
   "source": [
    "**Tutorial 8.8. To illustrate the use of linear algebra in statistics to compute the least squares solution of a random matrix, using the linear algebra submodule of SciPy.**"
   ]
  },
  {
   "cell_type": "code",
   "execution_count": 24,
   "metadata": {},
   "outputs": [
    {
     "name": "stdout",
     "output_type": "stream",
     "text": [
      "Least-squares solution for random A2: [0.34430232 0.54211796 0.18343947]\n"
     ]
    }
   ],
   "source": [
    "import numpy as np\n",
    "import scipy.linalg as la\n",
    "import matplotlib.pyplot as plt\n",
    "A2 = np.random.random((10, 3))\n",
    "b2 = np.random.random(10)\n",
    "#Computing least square from random matrix\n",
    "x, residuals, rank, s = la.lstsq(A2, b2)\n",
    "print(f\"Least-squares solution for random A2: {x}\")"
   ]
  },
  {
   "cell_type": "markdown",
   "metadata": {},
   "source": [
    "**Tutorial 8.9. To illustrate the implementation of linear regression to predict car prices based on historical data.**"
   ]
  },
  {
   "cell_type": "code",
   "execution_count": 2,
   "metadata": {},
   "outputs": [
    {
     "name": "stdout",
     "output_type": "stream",
     "text": [
      "Predicted price: $41.60k\n"
     ]
    }
   ],
   "source": [
    "import numpy as np\n",
    "from scipy import linalg\n",
    "# Sample data: car prices (in thousands of dollars) and features\n",
    "prices = np.array([20, 25, 30, 35, 40])\n",
    "features = np.array([[2000, 150],\n",
    "                     [2500, 180],\n",
    "                     [2800, 200],\n",
    "                     [3200, 220],\n",
    "                     [3500, 240]])\n",
    "# Fit a linear regression model\n",
    "coefficients, residuals, rank, singular_values = linalg.lstsq(features, prices)\n",
    "# Predict price for a new car with features [3000, 170]\n",
    "new_features = np.array([3000, 170])\n",
    "# Calculate predicted price using the dot product of the new features and their corresponding coefficients\n",
    "predicted_price = np.dot(new_features, coefficients)\n",
    "print(f\"Predicted price: ${predicted_price:.2f}k\")"
   ]
  },
  {
   "cell_type": "markdown",
   "metadata": {},
   "source": [
    "**Nonparametric Statistics**"
   ]
  },
  {
   "cell_type": "markdown",
   "metadata": {},
   "source": [
    "**Tutorial 8.10. To illustrate the use of nonparametric statistics to compare treatment ratings (ordinal data). We collect treatment ratings (ordinal data) before and after a new drug. We want to know if the drug improves the patient's experience.**"
   ]
  },
  {
   "cell_type": "code",
   "execution_count": 11,
   "metadata": {},
   "outputs": [
    {
     "name": "stdout",
     "output_type": "stream",
     "text": [
      "P-value: 0.0625\n",
      "No significant change\n",
      "P value is greater than or equal to 0.05, so we cannot reject the null hypothesis and therefore cannot conclude that the drug had a significant effect.\n"
     ]
    }
   ],
   "source": [
    "import numpy as np\n",
    "from scipy.stats import wilcoxon\n",
    "# Example data (ratings on a scale of 1 to 5)\n",
    "before_treatment = [3, 4, 2, 3, 4]\n",
    "after_treatment = [4, 5, 3, 4, 5]\n",
    "# Null Hypothesis (H₀): The median treatment rating before the new drug is equal to the median rating after the drug.\n",
    "# Alternative Hypothesis (H₁): The median rating differs before and after the drug.\n",
    "# Perform Wilcoxon signed-rank test\n",
    "statistic, p_value = wilcoxon(before_treatment, after_treatment)\n",
    "if p_value < 0.05:\n",
    "    print(\"P-value:\", p_value)\n",
    "    print(\"P-value is less than 0.05, so reject the null hypothesis, we can confidently say that the new drug led to better treatment experience.\")\n",
    "else:\n",
    "    print(\"P-value:\", p_value)\n",
    "    print(\"No significant change\")\n",
    "    print(\"P value is greater than or equal to 0.05, so we cannot reject the null hypothesis and therefore cannot conclude that the drug had a significant effect.\")"
   ]
  },
  {
   "cell_type": "markdown",
   "metadata": {},
   "source": [
    "**Tutorial 8.11. To implement Chi-Square goodness of fit test, to see if the observed distribution of customers across weekdays matches the expected distribution (equal number of customers each day)**"
   ]
  },
  {
   "cell_type": "code",
   "execution_count": 2,
   "metadata": {},
   "outputs": [
    {
     "name": "stdout",
     "output_type": "stream",
     "text": [
      "Chi-Square Statistic: 4.36\n",
      "p-value: 0.359\n"
     ]
    }
   ],
   "source": [
    "import scipy.stats as stats\n",
    "# Create two arrays to hold the observed and expected number of customers for each day\n",
    "expected = [50, 50, 50, 50, 50]\n",
    "observed = [50, 60, 40, 47, 53]\n",
    "# Perform Chi-Square Goodness of Fit Test using chisquare function\n",
    "# Null Hypothesis (H₀): The variable follows the hypothesized distribution (equal number of customers each day).\n",
    "# Alternative Hypothesis (H₁): The variable does not follow the hypothesized distribution.\n",
    "# Chisquare function takes two arrays: f_obs (observed counts) and f_exp (expected counts).\n",
    "# By default, it assumes that each category is equally likely.\n",
    "result = stats.chisquare(f_obs=observed, f_exp=expected)\n",
    "print(\"Chi-Square Statistic:\", round(result.statistic, 3))\n",
    "print(\"p-value:\", round(result.pvalue, 3))"
   ]
  },
  {
   "cell_type": "markdown",
   "metadata": {},
   "source": [
    "**Tutorial 8.12. To calculate Kendall’s Tau to assess the correlation between the two coaches’ rankings**"
   ]
  },
  {
   "cell_type": "code",
   "execution_count": 6,
   "metadata": {},
   "outputs": [
    {
     "name": "stdout",
     "output_type": "stream",
     "text": [
      "Kendall’s Tau: 0.879\n"
     ]
    }
   ],
   "source": [
    "import scipy.stats as stats\n",
    "# Coach #1 rankings\n",
    "coach1_ranks = [1, 2, 3, 4, 5, 6, 7, 8, 9, 10, 11, 12]\n",
    "# Coach #2 rankings\n",
    "coach2_ranks = [2, 1, 3, 5, 4, 6, 8, 7, 9, 11, 10, 12]\n",
    "# Calculate concordant and discordant pairs\n",
    "concordant = 0\n",
    "discordant = 0\n",
    "n = len(coach1_ranks)\n",
    "# Iterate through all pairs of players (i, j) where i < j\n",
    "for i in range(n):\n",
    "    for j in range(i + 1, n):\n",
    "        # Check if both coaches ranked player i higher than player j (concordant pair)\n",
    "        # or both coaches ranked player i lower than player j (also concordant pair)\n",
    "        if (coach1_ranks[i] < coach1_ranks[j] and coach2_ranks[i] < coach2_ranks[j]) or \\\n",
    "           (coach1_ranks[i] > coach1_ranks[j] and coach2_ranks[i] > coach2_ranks[j]):\n",
    "            concordant += 1\n",
    "        # Otherwise, it's a discordant pair\n",
    "        elif (coach1_ranks[i] < coach1_ranks[j] and coach2_ranks[i] > coach2_ranks[j]) or \\\n",
    "             (coach1_ranks[i] > coach1_ranks[j] and coach2_ranks[i] < coach2_ranks[j]):\n",
    "            discordant += 1\n",
    "# Calculate Kendall’s Tau\n",
    "tau = (concordant - discordant) / (concordant + discordant)\n",
    "print(\"Kendall’s Tau:\", round(tau, 3))"
   ]
  },
  {
   "cell_type": "markdown",
   "metadata": {},
   "source": [
    "**Tutorial 8.13. To implement the Kruskal-Wallis test to compare median heights across multiple groups**"
   ]
  },
  {
   "cell_type": "code",
   "execution_count": 8,
   "metadata": {},
   "outputs": [
    {
     "name": "stdout",
     "output_type": "stream",
     "text": [
      "Kruskal-Wallis Test Statistic: 6.288\n",
      "p-value: 0.043\n"
     ]
    }
   ],
   "source": [
    "from scipy import stats\n",
    "# Create three arrays to hold the plant measurements for each of the three groups\n",
    "group1 = [7, 14, 14, 13, 12, 9, 6, 14, 12, 8]\n",
    "group2 = [15, 17, 13, 15, 15, 13, 9, 12, 10, 8]\n",
    "group3 = [6, 8, 8, 9, 5, 14, 13, 8, 10, 9]\n",
    "# Perform Kruskal-Wallis Test\n",
    "# Null hypothesis (H₀): The median is equal across all groups.\n",
    "# Alternative hypothesis (Hₐ): The median is not equal across all groups\n",
    "result = stats.kruskal(group1, group2, group3)\n",
    "print(\"Kruskal-Wallis Test Statistic:\", round(result.statistic, 3))\n",
    "print(\"p-value:\", round(result.pvalue, 3))"
   ]
  },
  {
   "cell_type": "markdown",
   "metadata": {},
   "source": [
    "**Time Series Analysis**"
   ]
  },
  {
   "cell_type": "code",
   "execution_count": null,
   "metadata": {},
   "outputs": [],
   "source": []
  },
  {
   "cell_type": "markdown",
   "metadata": {},
   "source": [
    "**Survival Analysis**"
   ]
  },
  {
   "cell_type": "code",
   "execution_count": null,
   "metadata": {},
   "outputs": [],
   "source": []
  }
 ],
 "metadata": {
  "kernelspec": {
   "display_name": "Python 3",
   "language": "python",
   "name": "python3"
  },
  "language_info": {
   "codemirror_mode": {
    "name": "ipython",
    "version": 3
   },
   "file_extension": ".py",
   "mimetype": "text/x-python",
   "name": "python",
   "nbconvert_exporter": "python",
   "pygments_lexer": "ipython3",
   "version": "3.10.8"
  }
 },
 "nbformat": 4,
 "nbformat_minor": 2
}
