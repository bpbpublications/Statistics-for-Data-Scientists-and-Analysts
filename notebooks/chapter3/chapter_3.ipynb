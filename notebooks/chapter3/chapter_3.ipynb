{
 "cells": [
  {
   "cell_type": "markdown",
   "id": "5b4a65fc-5ecb-4815-927e-7a0095782bb7",
   "metadata": {},
   "source": [
    "### Measure of Frequency: Relative and Cumulative Frequency, Frequency Tables, Frequency Distribution"
   ]
  },
  {
   "cell_type": "markdown",
   "id": "1b9259f8-d548-4435-9e04-ac26729ae847",
   "metadata": {},
   "source": [
    "**Tutorial: An example to visualize the measure of frequency using pie chart, bar chart , by showing both plots in subplots**"
   ]
  },
  {
   "cell_type": "code",
   "execution_count": null,
   "id": "282fadf9-8e63-435b-914b-64bd45ced61d",
   "metadata": {},
   "outputs": [],
   "source": [
    "import pandas as pd\n",
    "import matplotlib.pyplot as plt\n",
    "\n",
    "# Create a data frame with the new data\n",
    "data = {\"Animal\": [\"Dog\", \"Cat\", \"Cow\", \"Rabbit\"],\n",
    "        \"Frequency\": [4, 3, 2, 1]}\n",
    "df = pd.DataFrame(data)\n",
    "\n",
    "# Create a figure with three subplots\n",
    "fig, (ax1, ax2) = plt.subplots(1, 2, figsize=(18, 6))\n",
    "\n",
    "# Plot a pie chart of the frequency of each animal on the first subplot\n",
    "ax1.pie(df[\"Frequency\"], labels=df[\"Animal\"], autopct=\"%1.1f%%\")\n",
    "ax1.set_title(\"Pie chart of favorite animals\")\n",
    "\n",
    "# Plot a bar chart of the frequency of each animal on the second subplot\n",
    "ax2.bar(df[\"Animal\"], df[\"Frequency\"], color=[\"brown\", \"orange\", \"black\", \"gray\"])\n",
    "ax2.set_title(\"Bar chart of favorite animals\")\n",
    "ax2.set_xlabel(\"Animal\")\n",
    "ax2.set_ylabel(\"Frequency\")\n",
    "\n",
    "# Save and show the figure\n",
    "plt.savefig('measure_frequency.jpg',dpi=600,bbox_inches='tight')\n",
    "plt.show()\n"
   ]
  },
  {
   "cell_type": "markdown",
   "id": "4dd1008d-860e-42d2-bd91-a07efa81304a",
   "metadata": {},
   "source": [
    "**Relative and Cummalative Frequency**"
   ]
  },
  {
   "cell_type": "code",
   "execution_count": null,
   "id": "6b7044c7-49f4-48eb-9f74-12b13929d7d8",
   "metadata": {},
   "outputs": [],
   "source": [
    "import pandas as pd\n",
    "import matplotlib.pyplot as plt\n",
    "\n",
    "# Create a data frame with the given data\n",
    "data = {\"Animal\": [\"Dog\", \"Cat\", \"Cow\", \"Rabbit\"],\n",
    "        \"Frequency\": [4, 3, 2, 1]}\n",
    "df = pd.DataFrame(data)\n",
    "\n",
    "# Calculate the relative frequency by dividing the frequency by the sum of all frequencies\n",
    "df[\"Relative Frequency\"] = df[\"Frequency\"] / df[\"Frequency\"].sum()\n",
    "\n",
    "# Calculate the cumulative frequency by adding the relative frequencies of all the values that are less than or equal to the current value\n",
    "df[\"Cumulative Frequency\"] = df[\"Relative Frequency\"].cumsum()\n",
    "\n",
    "# Print the data frame with the relative and cumulative frequency columns\n",
    "print(df)\n",
    "\n",
    "# Create a figure with two subplots\n",
    "fig, (ax1, ax2) = plt.subplots(1, 2, figsize=(12, 6))\n",
    "\n",
    "# Plot a pie chart of the relative frequency of each animal on the first subplot\n",
    "ax1.pie(df[\"Relative Frequency\"], labels=df[\"Animal\"], autopct=\"%1.1f%%\")\n",
    "ax1.set_title(\"Pie chart of relative frequency of favorite animals\")\n",
    "\n",
    "# Plot a line chart of the cumulative frequency of each animal on the second subplot\n",
    "ax2.plot(df[\"Animal\"], df[\"Cumulative Frequency\"], marker=\"o\", color=\"red\")\n",
    "ax2.set_title(\"Line chart of cumulative frequency of favorite animals\")\n",
    "ax2.set_xlabel(\"Animal\")\n",
    "ax2.set_ylabel(\"Cumulative Frequency\")\n",
    "\n",
    "# Show the figure\n",
    "plt.savefig('relative_cummalative.jpg',dpi=600,bbox_inches='tight')\n",
    "plt.show()"
   ]
  },
  {
   "cell_type": "code",
   "execution_count": 11,
   "id": "f551272c-2e8c-4c14-aabd-62b5b145b2cd",
   "metadata": {},
   "outputs": [
    {
     "name": "stdout",
     "output_type": "stream",
     "text": [
      "The mean of the salary is 52428.57142857143 NOK.\n",
      "The median of the salary is 53000.0 NOK.\n",
      "The mode of the salary is 50000 NOK.\n"
     ]
    }
   ],
   "source": [
    "import pandas as pd\n",
    "import statistics as st\n",
    "\n",
    "# Define a function that takes a data frame as an argument and returns the mean, median, and mode of the salary column\n",
    "def central_tendency(df):\n",
    "  # Calculate the mean, median, and mode of the salary column\n",
    "  mean = df[\"Salary (NOK)\"].mean()\n",
    "  median = df[\"Salary (NOK)\"].median()\n",
    "  mod = st.mode(df[\"Salary (NOK)\"])\n",
    "\n",
    "  # Return the mean, median, and mode as a tuple\n",
    "  return (mean, median, mod)\n",
    "\n",
    "# Create a data frame with the new data\n",
    "data = {\"Country\": [\"USA\", \"Norway\", \"Nepal\", \"India\", \"China\", \"Canada\", \"Sweden\"],\n",
    "        \"Salary (NOK)\": [57000, 54000, 50000, 50000, 50000, 53000, 53000]}\n",
    "df = pd.DataFrame(data)\n",
    "\n",
    "# Call the function and print the results\n",
    "mean, median, mod = central_tendency(df)\n",
    "print(f\"The mean of the salary is {mean} NOK.\")\n",
    "print(f\"The median of the salary is {median} NOK.\")\n",
    "print(f\"The mode of the salary is {mod} NOK.\")\n"
   ]
  },
  {
   "cell_type": "markdown",
   "id": "b227b9a7-3c1a-40fc-a8f0-1ad90c319b8e",
   "metadata": {},
   "source": [
    "### Distribution: Skewness, Kurtosis,Counting and Grouping Data Values"
   ]
  },
  {
   "cell_type": "code",
   "execution_count": null,
   "id": "29ea298f-3eb8-4261-9a41-0993e27520b3",
   "metadata": {},
   "outputs": [],
   "source": []
  },
  {
   "cell_type": "markdown",
   "id": "3479c9e1-15a5-44c3-98ba-e80767ca97f4",
   "metadata": {},
   "source": [
    "### Measure of Central Tendency"
   ]
  },
  {
   "cell_type": "code",
   "execution_count": null,
   "id": "2381dfb6-6697-4af6-8dff-5314bdaeba1d",
   "metadata": {},
   "outputs": [],
   "source": []
  },
  {
   "cell_type": "markdown",
   "id": "5165b71b-dc88-496e-a1ac-513d88385812",
   "metadata": {},
   "source": [
    "### Measures of Variablity or Dispersion"
   ]
  },
  {
   "cell_type": "code",
   "execution_count": null,
   "id": "98e7e7e4-453f-4613-ae9d-258d2ae03909",
   "metadata": {},
   "outputs": [],
   "source": []
  },
  {
   "cell_type": "markdown",
   "id": "93d0d1c7-88e6-45aa-9f7b-b3b87d7ccbfe",
   "metadata": {},
   "source": [
    "### Measures of Shape: Plots, Graphs and Charts"
   ]
  },
  {
   "cell_type": "code",
   "execution_count": null,
   "id": "0aaa2c3f-ae5a-43d8-9820-d6ad661b30ed",
   "metadata": {},
   "outputs": [],
   "source": []
  }
 ],
 "metadata": {
  "kernelspec": {
   "display_name": "Python 3 (ipykernel)",
   "language": "python",
   "name": "python3"
  },
  "language_info": {
   "codemirror_mode": {
    "name": "ipython",
    "version": 3
   },
   "file_extension": ".py",
   "mimetype": "text/x-python",
   "name": "python",
   "nbconvert_exporter": "python",
   "pygments_lexer": "ipython3",
   "version": "3.10.8"
  }
 },
 "nbformat": 4,
 "nbformat_minor": 5
}
