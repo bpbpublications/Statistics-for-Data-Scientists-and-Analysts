{
 "cells": [
  {
   "cell_type": "markdown",
   "id": "5b4a65fc-5ecb-4815-927e-7a0095782bb7",
   "metadata": {},
   "source": [
    "### Measure of Frequency: Relative and Cumulative Frequency, Frequency Tables, Frequency Distribution"
   ]
  },
  {
   "cell_type": "markdown",
   "id": "1b9259f8-d548-4435-9e04-ac26729ae847",
   "metadata": {},
   "source": [
    "**Tutorial: An example to visualize the measure of frequency using pie chart, bar chart , by showing both plots in subplots**"
   ]
  },
  {
   "cell_type": "code",
   "execution_count": null,
   "id": "282fadf9-8e63-435b-914b-64bd45ced61d",
   "metadata": {},
   "outputs": [],
   "source": [
    "import pandas as pd\n",
    "import matplotlib.pyplot as plt\n",
    "\n",
    "# Create a data frame with the new data\n",
    "data = {\"Animal\": [\"Dog\", \"Cat\", \"Cow\", \"Rabbit\"],\n",
    "        \"Frequency\": [4, 3, 2, 1]}\n",
    "df = pd.DataFrame(data)\n",
    "\n",
    "# Create a figure with three subplots\n",
    "fig, (ax1, ax2) = plt.subplots(1, 2, figsize=(18, 6))\n",
    "\n",
    "# Plot a pie chart of the frequency of each animal on the first subplot\n",
    "ax1.pie(df[\"Frequency\"], labels=df[\"Animal\"], autopct=\"%1.1f%%\")\n",
    "ax1.set_title(\"Pie chart of favorite animals\")\n",
    "\n",
    "# Plot a bar chart of the frequency of each animal on the second subplot\n",
    "ax2.bar(df[\"Animal\"], df[\"Frequency\"], color=[\"brown\", \"orange\", \"black\", \"gray\"])\n",
    "ax2.set_title(\"Bar chart of favorite animals\")\n",
    "ax2.set_xlabel(\"Animal\")\n",
    "ax2.set_ylabel(\"Frequency\")\n",
    "\n",
    "# Save and show the figure\n",
    "plt.savefig('measure_frequency.jpg',dpi=600,bbox_inches='tight')\n",
    "plt.show()\n"
   ]
  },
  {
   "cell_type": "markdown",
   "id": "4dd1008d-860e-42d2-bd91-a07efa81304a",
   "metadata": {},
   "source": [
    "**Relative and Cummalative Frequency**"
   ]
  },
  {
   "cell_type": "code",
   "execution_count": null,
   "id": "6b7044c7-49f4-48eb-9f74-12b13929d7d8",
   "metadata": {},
   "outputs": [],
   "source": [
    "import pandas as pd\n",
    "import matplotlib.pyplot as plt\n",
    "\n",
    "# Create a data frame with the given data\n",
    "data = {\"Animal\": [\"Dog\", \"Cat\", \"Cow\", \"Rabbit\"],\n",
    "        \"Frequency\": [4, 3, 2, 1]}\n",
    "df = pd.DataFrame(data)\n",
    "\n",
    "# Calculate the relative frequency by dividing the frequency by the sum of all frequencies\n",
    "df[\"Relative Frequency\"] = df[\"Frequency\"] / df[\"Frequency\"].sum()\n",
    "\n",
    "# Calculate the cumulative frequency by adding the relative frequencies of all the values that are less than or equal to the current value\n",
    "df[\"Cumulative Frequency\"] = df[\"Relative Frequency\"].cumsum()\n",
    "\n",
    "# Print the data frame with the relative and cumulative frequency columns\n",
    "print(df)\n",
    "\n",
    "# Create a figure with two subplots\n",
    "fig, (ax1, ax2) = plt.subplots(1, 2, figsize=(12, 6))\n",
    "\n",
    "# Plot a pie chart of the relative frequency of each animal on the first subplot\n",
    "ax1.pie(df[\"Relative Frequency\"], labels=df[\"Animal\"], autopct=\"%1.1f%%\")\n",
    "ax1.set_title(\"Pie chart of relative frequency of favorite animals\")\n",
    "\n",
    "# Plot a line chart of the cumulative frequency of each animal on the second subplot\n",
    "ax2.plot(df[\"Animal\"], df[\"Cumulative Frequency\"], marker=\"o\", color=\"red\")\n",
    "ax2.set_title(\"Line chart of cumulative frequency of favorite animals\")\n",
    "ax2.set_xlabel(\"Animal\")\n",
    "ax2.set_ylabel(\"Cumulative Frequency\")\n",
    "\n",
    "# Show the figure\n",
    "plt.savefig('relative_cummalative.jpg',dpi=600,bbox_inches='tight')\n",
    "plt.show()"
   ]
  },
  {
   "cell_type": "markdown",
   "id": "3479c9e1-15a5-44c3-98ba-e80767ca97f4",
   "metadata": {},
   "source": [
    "### Measure of Central Tendency"
   ]
  },
  {
   "cell_type": "code",
   "execution_count": 11,
   "id": "f551272c-2e8c-4c14-aabd-62b5b145b2cd",
   "metadata": {},
   "outputs": [
    {
     "name": "stdout",
     "output_type": "stream",
     "text": [
      "The mean of the salary is 52428.57142857143 NOK.\n",
      "The median of the salary is 53000.0 NOK.\n",
      "The mode of the salary is 50000 NOK.\n"
     ]
    }
   ],
   "source": [
    "import pandas as pd\n",
    "import statistics as st\n",
    "\n",
    "# Define a function that takes a data frame as an argument and returns the mean, median, and mode of the salary column\n",
    "def central_tendency(df):\n",
    "  # Calculate the mean, median, and mode of the salary column\n",
    "  mean = df[\"Salary (NOK)\"].mean()\n",
    "  median = df[\"Salary (NOK)\"].median()\n",
    "  mod = st.mode(df[\"Salary (NOK)\"])\n",
    "\n",
    "  # Return the mean, median, and mode as a tuple\n",
    "  return (mean, median, mod)\n",
    "\n",
    "# Create a data frame with the new data\n",
    "data = {\"Country\": [\"USA\", \"Norway\", \"Nepal\", \"India\", \"China\", \"Canada\", \"Sweden\"],\n",
    "        \"Salary (NOK)\": [57000, 54000, 50000, 50000, 50000, 53000, 53000]}\n",
    "df = pd.DataFrame(data)\n",
    "\n",
    "# Call the function and print the results\n",
    "mean, median, mod = central_tendency(df)\n",
    "print(f\"The mean of the salary is {mean} NOK.\")\n",
    "print(f\"The median of the salary is {median} NOK.\")\n",
    "print(f\"The mode of the salary is {mod} NOK.\")\n"
   ]
  },
  {
   "cell_type": "markdown",
   "id": "5165b71b-dc88-496e-a1ac-513d88385812",
   "metadata": {},
   "source": [
    "### Measures of Variablity or Dispersion"
   ]
  },
  {
   "cell_type": "markdown",
   "id": "f3d8f19a-dd66-47b7-ade4-06ecd6b36834",
   "metadata": {},
   "source": [
    "**Range**"
   ]
  },
  {
   "cell_type": "code",
   "execution_count": 14,
   "id": "cf7fb6dd-71a9-43a1-a722-352ee5b33581",
   "metadata": {},
   "outputs": [
    {
     "name": "stdout",
     "output_type": "stream",
     "text": [
      "Range: 9\n"
     ]
    }
   ],
   "source": [
    "# Define a data set as a list of numbers\n",
    "data = [1, 2, 3, 4, 5, 6, 7, 8, 9, 10]\n",
    "\n",
    "# Find the maximum and minimum values in the data set\n",
    "max_value = max(data)\n",
    "min_value = min(data)\n",
    "\n",
    "# Calculate the range by subtracting the minimum from the maximum\n",
    "range = max_value - min_value\n",
    "\n",
    "# Print the range\n",
    "print(\"Range:\", range)"
   ]
  },
  {
   "cell_type": "markdown",
   "id": "447c83be-ab0b-4d7a-a824-cbd8dcefa0c7",
   "metadata": {},
   "source": [
    "**Interquartile range**"
   ]
  },
  {
   "cell_type": "code",
   "execution_count": 25,
   "id": "e1b9777a-ffe1-46a7-a62b-b9dac27bf28b",
   "metadata": {},
   "outputs": [
    {
     "name": "stdout",
     "output_type": "stream",
     "text": [
      "IQR: 4.5\n"
     ]
    }
   ],
   "source": [
    "import numpy as np\n",
    "\n",
    "# Your dataset\n",
    "data = [1, 2, 3, 4, 5, 6, 7, 8, 9, 10]\n",
    "\n",
    "# Calculate the first quartile (Q1)\n",
    "q1 = np.percentile(data, 25)\n",
    "\n",
    "# Calculate the third quartile (Q3)\n",
    "q3 = np.percentile(data, 75)\n",
    "\n",
    "# Calculate the interquartile range (IQR)\n",
    "iqr = q3 - q1\n",
    "\n",
    "print(f\"Interquartile range:: {iqr}\")"
   ]
  },
  {
   "cell_type": "markdown",
   "id": "d422b88b-5a39-4b81-a291-bd61906cb7f5",
   "metadata": {},
   "source": [
    "**Variance**"
   ]
  },
  {
   "cell_type": "code",
   "execution_count": 19,
   "id": "b958b156-0212-467c-9ab5-fa29cdecc5bd",
   "metadata": {},
   "outputs": [
    {
     "name": "stdout",
     "output_type": "stream",
     "text": [
      "Variance: 8.25\n"
     ]
    }
   ],
   "source": [
    "import statistics\n",
    "\n",
    "# Define a data set as a list of numbers\n",
    "data = [1, 2, 3, 4, 5, 6, 7, 8, 9, 10]\n",
    "\n",
    "# Find the mean of the data set\n",
    "mean = statistics.mean(data)\n",
    "# Find the sum of squared deviations from the mean\n",
    "ssd = 0\n",
    "for x in data:\n",
    "    ssd += (x - mean) ** 2\n",
    "\n",
    "# Calculate the variance by dividing the sum of squared deviations by the number of values\n",
    "variance = ssd / len(data)\n",
    "\n",
    "# Print the variance\n",
    "print(\"Variance:\", variance)"
   ]
  },
  {
   "cell_type": "markdown",
   "id": "2639e79d-513f-4077-a2fc-07d3946b2a1d",
   "metadata": {},
   "source": [
    "**Standard deviation**"
   ]
  },
  {
   "cell_type": "code",
   "execution_count": 18,
   "id": "5480e965-4f2b-4985-ad65-d6eebbdaea16",
   "metadata": {},
   "outputs": [
    {
     "name": "stdout",
     "output_type": "stream",
     "text": [
      "Standard deviation: 2.8722813232690143\n"
     ]
    }
   ],
   "source": [
    "import math\n",
    "\n",
    "# Define a data set as a list of numbers\n",
    "data = [1, 2, 3, 4, 5, 6, 7, 8, 9, 10]\n",
    "\n",
    "# Find the mean of the data set\n",
    "mean = sum(data) / len(data)\n",
    "\n",
    "# Find the sum of squared deviations from the mean\n",
    "ssd = 0\n",
    "for x in data:\n",
    "    ssd += (x - mean) ** 2\n",
    "\n",
    "# Calculate the variance by dividing the sum of squared deviations by the number of values\n",
    "variance = ssd / len(data)\n",
    "\n",
    "# Calculate the standard deviation by taking the square root of the variance\n",
    "std = math.sqrt(variance)\n",
    "\n",
    "# Print the standard deviation\n",
    "print(\"Standard deviation:\", std)"
   ]
  },
  {
   "cell_type": "markdown",
   "id": "ff8b86af-1c06-4e00-8940-615f69676e9a",
   "metadata": {},
   "source": [
    "**Mean deviation**"
   ]
  },
  {
   "cell_type": "code",
   "execution_count": 24,
   "id": "9e050913-0518-4488-9e93-63100592cfef",
   "metadata": {},
   "outputs": [
    {
     "name": "stdout",
     "output_type": "stream",
     "text": [
      "Mean Deviation: 2.5\n"
     ]
    }
   ],
   "source": [
    "# Define a data set as a list of numbers\n",
    "data = [1, 2, 3, 4, 5, 6, 7, 8, 9, 10]\n",
    "\n",
    "# Calculate the mean of the data set\n",
    "mean = sum(data) / len(data)\n",
    "\n",
    "# Calculate the mean deviation by summing the absolute differences between each data point and the mean\n",
    "mean_deviation = sum(abs(x - mean) for x in data) / len(data)\n",
    "\n",
    "# Print the mean deviation\n",
    "print(\"Mean Deviation:\", mean_deviation)"
   ]
  },
  {
   "cell_type": "markdown",
   "id": "c94b8353-652c-40bf-9b8f-050a42956c8a",
   "metadata": {},
   "source": [
    "**Quartile deviation**"
   ]
  },
  {
   "cell_type": "code",
   "execution_count": null,
   "id": "79028531-d820-4157-9d4f-a08f72dd71fb",
   "metadata": {},
   "outputs": [],
   "source": []
  },
  {
   "cell_type": "markdown",
   "id": "402fa25e-aceb-4dda-bb50-bc1beb3f558d",
   "metadata": {},
   "source": [
    "### Measures of Association"
   ]
  },
  {
   "cell_type": "markdown",
   "id": "757001ae-0d54-47b3-ae2b-e2cac9094228",
   "metadata": {},
   "source": [
    "**Covariance**"
   ]
  },
  {
   "cell_type": "code",
   "execution_count": 4,
   "id": "9e520bd2-4fc6-4ca5-8ff1-923a63792775",
   "metadata": {},
   "outputs": [
    {
     "name": "stdout",
     "output_type": "stream",
     "text": [
      "The covariance between math and english score is 250.0\n"
     ]
    }
   ],
   "source": [
    "import pandas as pd\n",
    "\n",
    "# Define the dataframe as a dictionary\n",
    "df = {\"Student\": [\"A\", \"B\", \"C\", \"D\", \"E\"], \"Math Score\": [80, 70, 60, 50, 40], \"English Score\": [90, 80, 70, 60, 50]}\n",
    "\n",
    "# Convert the dictionary to a pandas dataframe\n",
    "df = pd.DataFrame(df)\n",
    "\n",
    "# Calculate the covariance between math and english scores using the cov method\n",
    "covariance = df[\"Math Score\"].cov(df[\"English Score\"])\n",
    "\n",
    "# Print the result\n",
    "print(f\"The covariance between math and english score is {covariance}\")"
   ]
  },
  {
   "cell_type": "markdown",
   "id": "a75af580-853e-416b-bd48-1e9edb4ec847",
   "metadata": {},
   "source": [
    "**Correlation**"
   ]
  },
  {
   "cell_type": "code",
   "execution_count": 6,
   "id": "072bcce6-95b9-456c-a50b-8b202b014265",
   "metadata": {},
   "outputs": [
    {
     "name": "stdout",
     "output_type": "stream",
     "text": [
      "Correlation between math and english score: 1.0\n"
     ]
    }
   ],
   "source": [
    "import pandas as pd\n",
    "\n",
    "# Create a dictionary with the data\n",
    "data = {\"Student\": [\"A\", \"B\", \"C\", \"D\", \"E\"],\n",
    "        \"Math Score\": [80, 70, 60, 50, 40],\n",
    "        \"English Score\": [90, 80, 70, 60, 50]}\n",
    "\n",
    "# Create a dataframe from the dictionary\n",
    "df = pd.DataFrame(data)\n",
    "\n",
    "# Compute the correlation between the two columns\n",
    "correlation = df[\"Math Score\"].corr(df[\"English Score\"])\n",
    "\n",
    "# Print the result\n",
    "print(\"Correlation between math and english score:\", correlation)\n"
   ]
  },
  {
   "cell_type": "markdown",
   "id": "1fa4495b-8bf5-4025-8ac7-b40667f1b199",
   "metadata": {},
   "source": [
    "**Chi-square**"
   ]
  },
  {
   "cell_type": "code",
   "execution_count": null,
   "id": "2ecc4ca0-8a7f-4b1c-ad36-39f675c57b1a",
   "metadata": {},
   "outputs": [],
   "source": []
  },
  {
   "cell_type": "markdown",
   "id": "baafe3cc-d727-4be5-a5df-2334f94e9096",
   "metadata": {},
   "source": [
    "**Cramer's V**"
   ]
  },
  {
   "cell_type": "code",
   "execution_count": null,
   "id": "cfa56b0e-b4eb-4b9e-85b5-75ce33d11648",
   "metadata": {},
   "outputs": [],
   "source": []
  },
  {
   "cell_type": "markdown",
   "id": "b227b9a7-3c1a-40fc-a8f0-1ad90c319b8e",
   "metadata": {},
   "source": [
    "### Distribution: Skewness, Kurtosis,Counting and Grouping Data Values"
   ]
  },
  {
   "cell_type": "markdown",
   "id": "93d0d1c7-88e6-45aa-9f7b-b3b87d7ccbfe",
   "metadata": {},
   "source": [
    "### Measures of Shape: Plots, Graphs and Charts"
   ]
  },
  {
   "cell_type": "code",
   "execution_count": null,
   "id": "0aaa2c3f-ae5a-43d8-9820-d6ad661b30ed",
   "metadata": {},
   "outputs": [],
   "source": []
  }
 ],
 "metadata": {
  "kernelspec": {
   "display_name": "Python 3 (ipykernel)",
   "language": "python",
   "name": "python3"
  },
  "language_info": {
   "codemirror_mode": {
    "name": "ipython",
    "version": 3
   },
   "file_extension": ".py",
   "mimetype": "text/x-python",
   "name": "python",
   "nbconvert_exporter": "python",
   "pygments_lexer": "ipython3",
   "version": "3.10.8"
  }
 },
 "nbformat": 4,
 "nbformat_minor": 5
}
