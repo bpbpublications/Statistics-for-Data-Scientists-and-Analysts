{
 "cells": [
  {
   "cell_type": "markdown",
   "id": "5b4a65fc-5ecb-4815-927e-7a0095782bb7",
   "metadata": {},
   "source": [
    "### Measure of Frequency: Relative and Cumulative Frequency, Frequency Tables, Frequency Distribution"
   ]
  },
  {
   "cell_type": "markdown",
   "id": "1b9259f8-d548-4435-9e04-ac26729ae847",
   "metadata": {},
   "source": [
    "**Tutorial: An example to visualize the measure of frequency using pie chart, bar chart , by showing both plots in subplots**"
   ]
  },
  {
   "cell_type": "code",
   "execution_count": null,
   "id": "282fadf9-8e63-435b-914b-64bd45ced61d",
   "metadata": {},
   "outputs": [],
   "source": [
    "import pandas as pd\n",
    "import matplotlib.pyplot as plt\n",
    "\n",
    "# Create a data frame with the new data\n",
    "data = {\"Animal\": [\"Dog\", \"Cat\", \"Cow\", \"Rabbit\"],\n",
    "        \"Frequency\": [4, 3, 2, 1]}\n",
    "df = pd.DataFrame(data)\n",
    "\n",
    "# Create a figure with three subplots\n",
    "fig, (ax1, ax2) = plt.subplots(1, 2, figsize=(18, 6))\n",
    "\n",
    "# Plot a pie chart of the frequency of each animal on the first subplot\n",
    "ax1.pie(df[\"Frequency\"], labels=df[\"Animal\"], autopct=\"%1.1f%%\")\n",
    "ax1.set_title(\"Pie chart of favorite animals\")\n",
    "\n",
    "# Plot a bar chart of the frequency of each animal on the second subplot\n",
    "ax2.bar(df[\"Animal\"], df[\"Frequency\"], color=[\"brown\", \"orange\", \"black\", \"gray\"])\n",
    "ax2.set_title(\"Bar chart of favorite animals\")\n",
    "ax2.set_xlabel(\"Animal\")\n",
    "ax2.set_ylabel(\"Frequency\")\n",
    "\n",
    "# Save and show the figure\n",
    "plt.savefig('measure_frequency.jpg',dpi=600,bbox_inches='tight')\n",
    "plt.show()\n"
   ]
  },
  {
   "cell_type": "markdown",
   "id": "4dd1008d-860e-42d2-bd91-a07efa81304a",
   "metadata": {},
   "source": [
    "**Relative and Cummalative Frequency**"
   ]
  },
  {
   "cell_type": "code",
   "execution_count": null,
   "id": "6b7044c7-49f4-48eb-9f74-12b13929d7d8",
   "metadata": {},
   "outputs": [],
   "source": [
    "import pandas as pd\n",
    "import matplotlib.pyplot as plt\n",
    "\n",
    "# Create a data frame with the given data\n",
    "data = {\"Animal\": [\"Dog\", \"Cat\", \"Cow\", \"Rabbit\"],\n",
    "        \"Frequency\": [4, 3, 2, 1]}\n",
    "df = pd.DataFrame(data)\n",
    "\n",
    "# Calculate the relative frequency by dividing the frequency by the sum of all frequencies\n",
    "df[\"Relative Frequency\"] = df[\"Frequency\"] / df[\"Frequency\"].sum()\n",
    "\n",
    "# Calculate the cumulative frequency by adding the relative frequencies of all the values that are less than or equal to the current value\n",
    "df[\"Cumulative Frequency\"] = df[\"Relative Frequency\"].cumsum()\n",
    "\n",
    "# Print the data frame with the relative and cumulative frequency columns\n",
    "print(df)\n",
    "\n",
    "# Create a figure with two subplots\n",
    "fig, (ax1, ax2) = plt.subplots(1, 2, figsize=(12, 6))\n",
    "\n",
    "# Plot a pie chart of the relative frequency of each animal on the first subplot\n",
    "ax1.pie(df[\"Relative Frequency\"], labels=df[\"Animal\"], autopct=\"%1.1f%%\")\n",
    "ax1.set_title(\"Pie chart of relative frequency of favorite animals\")\n",
    "\n",
    "# Plot a line chart of the cumulative frequency of each animal on the second subplot\n",
    "ax2.plot(df[\"Animal\"], df[\"Cumulative Frequency\"], marker=\"o\", color=\"red\")\n",
    "ax2.set_title(\"Line chart of cumulative frequency of favorite animals\")\n",
    "ax2.set_xlabel(\"Animal\")\n",
    "ax2.set_ylabel(\"Cumulative Frequency\")\n",
    "\n",
    "# Show the figure\n",
    "plt.savefig('relative_cummalative.jpg',dpi=600,bbox_inches='tight')\n",
    "plt.show()"
   ]
  },
  {
   "cell_type": "markdown",
   "id": "3479c9e1-15a5-44c3-98ba-e80767ca97f4",
   "metadata": {},
   "source": [
    "### Measure of Central Tendency"
   ]
  },
  {
   "cell_type": "code",
   "execution_count": 11,
   "id": "f551272c-2e8c-4c14-aabd-62b5b145b2cd",
   "metadata": {},
   "outputs": [
    {
     "name": "stdout",
     "output_type": "stream",
     "text": [
      "The mean of the salary is 52428.57142857143 NOK.\n",
      "The median of the salary is 53000.0 NOK.\n",
      "The mode of the salary is 50000 NOK.\n"
     ]
    }
   ],
   "source": [
    "import pandas as pd\n",
    "import statistics as st\n",
    "\n",
    "# Define a function that takes a data frame as an argument and returns the mean, median, and mode of the salary column\n",
    "def central_tendency(df):\n",
    "  # Calculate the mean, median, and mode of the salary column\n",
    "  mean = df[\"Salary (NOK)\"].mean()\n",
    "  median = df[\"Salary (NOK)\"].median()\n",
    "  mod = st.mode(df[\"Salary (NOK)\"])\n",
    "\n",
    "  # Return the mean, median, and mode as a tuple\n",
    "  return (mean, median, mod)\n",
    "\n",
    "# Create a data frame with the new data\n",
    "data = {\"Country\": [\"USA\", \"Norway\", \"Nepal\", \"India\", \"China\", \"Canada\", \"Sweden\"],\n",
    "        \"Salary (NOK)\": [57000, 54000, 50000, 50000, 50000, 53000, 53000]}\n",
    "df = pd.DataFrame(data)\n",
    "\n",
    "# Call the function and print the results\n",
    "mean, median, mod = central_tendency(df)\n",
    "print(f\"The mean of the salary is {mean} NOK.\")\n",
    "print(f\"The median of the salary is {median} NOK.\")\n",
    "print(f\"The mode of the salary is {mod} NOK.\")\n"
   ]
  },
  {
   "cell_type": "markdown",
   "id": "5165b71b-dc88-496e-a1ac-513d88385812",
   "metadata": {},
   "source": [
    "### Measures of Variablity or Dispersion"
   ]
  },
  {
   "cell_type": "markdown",
   "id": "f3d8f19a-dd66-47b7-ade4-06ecd6b36834",
   "metadata": {},
   "source": [
    "**Range**"
   ]
  },
  {
   "cell_type": "code",
   "execution_count": 14,
   "id": "cf7fb6dd-71a9-43a1-a722-352ee5b33581",
   "metadata": {},
   "outputs": [
    {
     "name": "stdout",
     "output_type": "stream",
     "text": [
      "Range: 9\n"
     ]
    }
   ],
   "source": [
    "# Define a data set as a list of numbers\n",
    "data = [1, 2, 3, 4, 5, 6, 7, 8, 9, 10]\n",
    "\n",
    "# Find the maximum and minimum values in the data set\n",
    "max_value = max(data)\n",
    "min_value = min(data)\n",
    "\n",
    "# Calculate the range by subtracting the minimum from the maximum\n",
    "range = max_value - min_value\n",
    "\n",
    "# Print the range\n",
    "print(\"Range:\", range)"
   ]
  },
  {
   "cell_type": "markdown",
   "id": "447c83be-ab0b-4d7a-a824-cbd8dcefa0c7",
   "metadata": {},
   "source": [
    "**Interquartile range**"
   ]
  },
  {
   "cell_type": "code",
   "execution_count": 25,
   "id": "e1b9777a-ffe1-46a7-a62b-b9dac27bf28b",
   "metadata": {},
   "outputs": [
    {
     "name": "stdout",
     "output_type": "stream",
     "text": [
      "IQR: 4.5\n"
     ]
    }
   ],
   "source": [
    "import numpy as np\n",
    "\n",
    "# Your dataset\n",
    "data = [1, 2, 3, 4, 5, 6, 7, 8, 9, 10]\n",
    "\n",
    "# Calculate the first quartile (Q1)\n",
    "q1 = np.percentile(data, 25)\n",
    "\n",
    "# Calculate the third quartile (Q3)\n",
    "q3 = np.percentile(data, 75)\n",
    "\n",
    "# Calculate the interquartile range (IQR)\n",
    "iqr = q3 - q1\n",
    "\n",
    "print(f\"Interquartile range:: {iqr}\")"
   ]
  },
  {
   "cell_type": "markdown",
   "id": "d422b88b-5a39-4b81-a291-bd61906cb7f5",
   "metadata": {},
   "source": [
    "**Variance**"
   ]
  },
  {
   "cell_type": "code",
   "execution_count": 19,
   "id": "b958b156-0212-467c-9ab5-fa29cdecc5bd",
   "metadata": {},
   "outputs": [
    {
     "name": "stdout",
     "output_type": "stream",
     "text": [
      "Variance: 8.25\n"
     ]
    }
   ],
   "source": [
    "import statistics\n",
    "\n",
    "# Define a data set as a list of numbers\n",
    "data = [1, 2, 3, 4, 5, 6, 7, 8, 9, 10]\n",
    "\n",
    "# Find the mean of the data set\n",
    "mean = statistics.mean(data)\n",
    "# Find the sum of squared deviations from the mean\n",
    "ssd = 0\n",
    "for x in data:\n",
    "    ssd += (x - mean) ** 2\n",
    "\n",
    "# Calculate the variance by dividing the sum of squared deviations by the number of values\n",
    "variance = ssd / len(data)\n",
    "\n",
    "# Print the variance\n",
    "print(\"Variance:\", variance)"
   ]
  },
  {
   "cell_type": "markdown",
   "id": "2639e79d-513f-4077-a2fc-07d3946b2a1d",
   "metadata": {},
   "source": [
    "**Standard deviation**"
   ]
  },
  {
   "cell_type": "code",
   "execution_count": 18,
   "id": "5480e965-4f2b-4985-ad65-d6eebbdaea16",
   "metadata": {},
   "outputs": [
    {
     "name": "stdout",
     "output_type": "stream",
     "text": [
      "Standard deviation: 2.8722813232690143\n"
     ]
    }
   ],
   "source": [
    "import math\n",
    "\n",
    "# Define a data set as a list of numbers\n",
    "data = [1, 2, 3, 4, 5, 6, 7, 8, 9, 10]\n",
    "\n",
    "# Find the mean of the data set\n",
    "mean = sum(data) / len(data)\n",
    "\n",
    "# Find the sum of squared deviations from the mean\n",
    "ssd = 0\n",
    "for x in data:\n",
    "    ssd += (x - mean) ** 2\n",
    "\n",
    "# Calculate the variance by dividing the sum of squared deviations by the number of values\n",
    "variance = ssd / len(data)\n",
    "\n",
    "# Calculate the standard deviation by taking the square root of the variance\n",
    "std = math.sqrt(variance)\n",
    "\n",
    "# Print the standard deviation\n",
    "print(\"Standard deviation:\", std)"
   ]
  },
  {
   "cell_type": "markdown",
   "id": "ff8b86af-1c06-4e00-8940-615f69676e9a",
   "metadata": {},
   "source": [
    "**Mean deviation**"
   ]
  },
  {
   "cell_type": "code",
   "execution_count": 24,
   "id": "9e050913-0518-4488-9e93-63100592cfef",
   "metadata": {},
   "outputs": [
    {
     "name": "stdout",
     "output_type": "stream",
     "text": [
      "Mean Deviation: 2.5\n"
     ]
    }
   ],
   "source": [
    "# Define a data set as a list of numbers\n",
    "data = [1, 2, 3, 4, 5, 6, 7, 8, 9, 10]\n",
    "\n",
    "# Calculate the mean of the data set\n",
    "mean = sum(data) / len(data)\n",
    "\n",
    "# Calculate the mean deviation by summing the absolute differences between each data point and the mean\n",
    "mean_deviation = sum(abs(x - mean) for x in data) / len(data)\n",
    "\n",
    "# Print the mean deviation\n",
    "print(\"Mean Deviation:\", mean_deviation)"
   ]
  },
  {
   "cell_type": "markdown",
   "id": "c94b8353-652c-40bf-9b8f-050a42956c8a",
   "metadata": {},
   "source": [
    "**Quartile deviation**"
   ]
  },
  {
   "cell_type": "code",
   "execution_count": null,
   "id": "79028531-d820-4157-9d4f-a08f72dd71fb",
   "metadata": {},
   "outputs": [],
   "source": []
  },
  {
   "cell_type": "markdown",
   "id": "402fa25e-aceb-4dda-bb50-bc1beb3f558d",
   "metadata": {},
   "source": [
    "### Measures of Association"
   ]
  },
  {
   "cell_type": "markdown",
   "id": "757001ae-0d54-47b3-ae2b-e2cac9094228",
   "metadata": {},
   "source": [
    "**Covariance**"
   ]
  },
  {
   "cell_type": "code",
   "execution_count": 35,
   "id": "9e520bd2-4fc6-4ca5-8ff1-923a63792775",
   "metadata": {},
   "outputs": [
    {
     "name": "stdout",
     "output_type": "stream",
     "text": [
      "The covariance between math and english score is 250.0\n"
     ]
    }
   ],
   "source": [
    "import pandas as pd\n",
    "\n",
    "# Define the dataframe as a dictionary\n",
    "df = {\"Student\": [\"A\", \"B\", \"C\", \"D\", \"E\"], \"Math Score\": [80, 70, 60, 50, 40], \"English Score\": [90, 80, 70, 60, 50]}\n",
    "\n",
    "# Convert the dictionary to a pandas dataframe\n",
    "df = pd.DataFrame(df)\n",
    "\n",
    "# Calculate the covariance between math and english scores using the cov method\n",
    "covariance = df[\"Math Score\"].cov(df[\"English Score\"])\n",
    "\n",
    "# Print the result\n",
    "print(f\"The covariance between math and english score is {covariance}\")"
   ]
  },
  {
   "cell_type": "markdown",
   "id": "a75af580-853e-416b-bd48-1e9edb4ec847",
   "metadata": {},
   "source": [
    "**Correlation**"
   ]
  },
  {
   "cell_type": "code",
   "execution_count": 6,
   "id": "072bcce6-95b9-456c-a50b-8b202b014265",
   "metadata": {},
   "outputs": [
    {
     "name": "stdout",
     "output_type": "stream",
     "text": [
      "Correlation between math and english score: 1.0\n"
     ]
    }
   ],
   "source": [
    "import pandas as pd\n",
    "\n",
    "# Create a dictionary with the data\n",
    "data = {\"Student\": [\"A\", \"B\", \"C\", \"D\", \"E\"],\n",
    "        \"Math Score\": [80, 70, 60, 50, 40],\n",
    "        \"English Score\": [90, 80, 70, 60, 50]}\n",
    "\n",
    "# Create a dataframe from the dictionary\n",
    "df = pd.DataFrame(data)\n",
    "\n",
    "# Compute the correlation between the two columns\n",
    "correlation = df[\"Math Score\"].corr(df[\"English Score\"])\n",
    "\n",
    "# Print the result\n",
    "print(\"Correlation between math and english score:\", correlation)\n"
   ]
  },
  {
   "cell_type": "markdown",
   "id": "1fa4495b-8bf5-4025-8ac7-b40667f1b199",
   "metadata": {},
   "source": [
    "**Chi-square**"
   ]
  },
  {
   "cell_type": "code",
   "execution_count": 36,
   "id": "2ecc4ca0-8a7f-4b1c-ad36-39f675c57b1a",
   "metadata": {},
   "outputs": [
    {
     "name": "stdout",
     "output_type": "stream",
     "text": [
      "       Music  Happy  Sad  Angry  Calm\n",
      "0       Rock     25   15     10    20\n",
      "1        Pop     30   10     15    15\n",
      "2       Jazz     15   20     25    10\n",
      "3  Classical     10   25     30     5\n",
      "4        Rap     20   30     15    10\n",
      "Chi-square test statistic: 50.070718462823734\n",
      "P-value: 1.3577089704505725e-06\n",
      "Degrees of freedom: 12\n",
      "Expected frequencies:\n",
      "[[19.71830986 19.71830986 18.73239437 11.83098592]\n",
      " [19.71830986 19.71830986 18.73239437 11.83098592]\n",
      " [19.71830986 19.71830986 18.73239437 11.83098592]\n",
      " [19.71830986 19.71830986 18.73239437 11.83098592]\n",
      " [21.12676056 21.12676056 20.07042254 12.67605634]]\n"
     ]
    }
   ],
   "source": [
    "import pandas as pd\n",
    "from scipy.stats import chi2_contingency\n",
    "\n",
    "# Create a sample data frame with music and mood categories\n",
    "data = pd.DataFrame({\"Music\": [\"Rock\", \"Pop\", \"Jazz\", \"Classical\", \"Rap\"],\n",
    "                     \"Happy\": [25, 30, 15, 10, 20],\n",
    "                     \"Sad\": [15, 10, 20, 25, 30],\n",
    "                     \"Angry\": [10, 15, 25, 30, 15],\n",
    "                     \"Calm\": [20, 15, 10, 5, 10]})\n",
    "\n",
    "# Print the data frame\n",
    "print(data)\n",
    "\n",
    "# Perform chi-square test of association\n",
    "chi2, p, dof, expected = chi2_contingency(data.iloc[:, 1:])\n",
    "\n",
    "# Print the chi-square test statistic, p-value, and degrees of freedom\n",
    "print(\"Chi-square test statistic:\", chi2)\n",
    "print(\"P-value:\", p)\n",
    "print(\"Degrees of freedom:\", dof)\n",
    "\n",
    "# Print the expected frequencies\n",
    "print(\"Expected frequencies:\")\n",
    "print(expected)\n"
   ]
  },
  {
   "cell_type": "markdown",
   "id": "baafe3cc-d727-4be5-a5df-2334f94e9096",
   "metadata": {},
   "source": [
    "**Cramer's V**"
   ]
  },
  {
   "cell_type": "code",
   "execution_count": 2,
   "id": "cfa56b0e-b4eb-4b9e-85b5-75ce33d11648",
   "metadata": {},
   "outputs": [
    {
     "name": "stdout",
     "output_type": "stream",
     "text": [
      "Eye Color          Blue  Brown\n",
      "Population Gender             \n",
      "A          Female    15     25\n",
      "           Male      10     20\n",
      "B          Female    25      5\n",
      "           Male       5     25\n",
      "\n",
      "Chi-square test for population A:\n",
      "Chi-square statistic = 0.01\n",
      "P-value = 0.9140\n",
      "Degrees of freedom = 1\n",
      "Expected frequencies:\n",
      "[[14.28571429 25.71428571]\n",
      " [10.71428571 19.28571429]]\n",
      "\n",
      "Chi-square test for population B:\n",
      "Chi-square statistic = 24.07\n",
      "P-value = 0.0000\n",
      "Degrees of freedom = 1\n",
      "Expected frequencies:\n",
      "[[15. 15.]\n",
      " [15. 15.]]\n",
      "\n",
      "Cramer's V for population B and population A:\n",
      "Cramer's V for population B = 0.43\n",
      "Cramer's V for population A = 0.01\n"
     ]
    }
   ],
   "source": [
    "import pandas as pd\n",
    "from scipy.stats import chi2_contingency, chi2\n",
    "\n",
    "# Create a dataframe from the given data\n",
    "df = pd.DataFrame({\"Population\": [\"A\", \"A\", \"A\", \"A\", \"B\", \"B\", \"B\", \"B\"],\n",
    "                   \"Gender\": [\"Male\", \"Male\", \"Female\", \"Female\", \"Male\", \"Male\", \"Female\", \"Female\"],\n",
    "                   \"Eye Color\": [\"Blue\", \"Brown\", \"Blue\", \"Brown\", \"Blue\", \"Brown\", \"Blue\", \"Brown\"],\n",
    "                   \"Frequency\": [10, 20, 15, 25, 5, 25, 25, 5]})\n",
    "\n",
    "# Pivot the dataframe to get a contingency table\n",
    "table = pd.pivot_table(df, index=[\"Population\", \"Gender\"], columns=\"Eye Color\", values=\"Frequency\")\n",
    "\n",
    "# Print the table\n",
    "print(table)\n",
    "\n",
    "# Perform chi-square test for each population\n",
    "for pop in [\"A\", \"B\"]:\n",
    "    # Subset the table by population\n",
    "    subtable = table.loc[pop]\n",
    "    # Calculate the chi-square statistic, p-value, degrees of freedom, and expected frequencies\n",
    "    chi2_stat, p_value, dof, expected = chi2_contingency(subtable)\n",
    "    # Print the results\n",
    "    print(f\"\\nChi-square test for population {pop}:\")\n",
    "    print(f\"Chi-square statistic = {chi2_stat:.2f}\")\n",
    "    print(f\"P-value = {p_value:.4f}\")\n",
    "    print(f\"Degrees of freedom = {dof}\")\n",
    "    print(f\"Expected frequencies:\")\n",
    "    print(expected)\n",
    "\n",
    "# Calculate Cramer's V for population B and population A\n",
    "# Cramer's V is the square root of the chi-square statistic divided by the sample size and the minimum of the row or column dimensions minus one\n",
    "n = df[\"Frequency\"].sum() # Sample size\n",
    "k = min(table.shape) - 1 # Minimum of row or column dimensions minus one\n",
    "chi2_stat_B = chi2_contingency(table.loc[\"B\"])[0] # Chi-square statistic for population B\n",
    "chi2_stat_A = chi2_contingency(table.loc[\"A\"])[0] # Chi-square statistic for population A\n",
    "cramers_V_B = (chi2_stat_B / (n * k)) ** 0.5 # Cramer's V for population B\n",
    "cramers_V_A = (chi2_stat_A / (n * k)) ** 0.5 # Cramer's V for population A\n",
    "# Print the results\n",
    "print(f\"\\nCramer's V for population B and population A:\")\n",
    "print(f\"Cramer's V for population B = {cramers_V_B:.2f}\")\n",
    "print(f\"Cramer's V for population A = {cramers_V_A:.2f}\")\n"
   ]
  },
  {
   "cell_type": "markdown",
   "id": "94548d0c-e00f-4ae5-9a2e-2b0ceac9587d",
   "metadata": {},
   "source": [
    "**Contingency coefficient**"
   ]
  },
  {
   "cell_type": "markdown",
   "id": "686a2267-d361-4774-b20a-c257a8644dec",
   "metadata": {},
   "source": [
    "**Contingency Coefficient showing no association**"
   ]
  },
  {
   "cell_type": "code",
   "execution_count": 2,
   "id": "8224526f-5a92-4591-ba21-3d5e8fd7d2f7",
   "metadata": {},
   "outputs": [
    {
     "name": "stdout",
     "output_type": "stream",
     "text": [
      "Contingency Coefficient is: 0.0\n"
     ]
    }
   ],
   "source": [
    "import pandas as pd\n",
    "from scipy.stats import chi2_contingency\n",
    "\n",
    "# Create a simple dataframe\n",
    "data = {'Gender': ['Male', 'Female', 'Female', 'Male', 'Male', 'Female'],\n",
    "        'Product': ['Product A', 'Product B', 'Product A', 'Product A', 'Product B', 'Product B']}\n",
    "df = pd.DataFrame(data)\n",
    "\n",
    "# Create a contingency table\n",
    "contingency_table = pd.crosstab(df['Gender'], df['Product'])\n",
    "\n",
    "# Perform Chi-Square test\n",
    "chi2, p, dof, expected = chi2_contingency(contingency_table)\n",
    "\n",
    "# Calculate the contingency coefficient\n",
    "contingency_coefficient = (chi2 / (chi2 + df.shape[0])) ** 0.5\n",
    "\n",
    "print('Contingency Coefficient is:', contingency_coefficient)"
   ]
  },
  {
   "cell_type": "markdown",
   "id": "7bf83bd0-8e37-45cb-b7c7-911535745990",
   "metadata": {},
   "source": [
    "**Contingency Coefficient showing moderate association**"
   ]
  },
  {
   "cell_type": "code",
   "execution_count": 4,
   "id": "704903e1-c0db-4cf0-8360-089b563c28c8",
   "metadata": {},
   "outputs": [
    {
     "name": "stdout",
     "output_type": "stream",
     "text": [
      "Contingency Coefficient: 0.4338108826652683\n"
     ]
    }
   ],
   "source": [
    "import pandas as pd\n",
    "from scipy.stats import chi2_contingency\n",
    "import numpy as np\n",
    "\n",
    "# Your DataFrame\n",
    "df = pd.DataFrame({\"Population\": [\"A\", \"A\", \"A\", \"A\", \"B\", \"B\", \"B\", \"B\"],\n",
    "                   \"Gender\": [\"Male\", \"Male\", \"Female\", \"Female\", \"Male\", \"Male\", \"Female\", \"Female\"],\n",
    "                   \"Eye Color\": [\"Blue\", \"Brown\", \"Blue\", \"Brown\", \"Blue\", \"Brown\", \"Blue\", \"Brown\"],\n",
    "                   \"Frequency\": [10, 20, 15, 25, 5, 25, 25, 5]})\n",
    "\n",
    "# Create a pivot table\n",
    "pivot_table = pd.pivot_table(df, values='Frequency', index=['Population', 'Gender'], columns=['Eye Color'], aggfunc=np.sum)\n",
    "\n",
    "# Calculate chi-square statistic\n",
    "chi2, _, _, _ = chi2_contingency(pivot_table)\n",
    "\n",
    "# Calculate the total number of observations\n",
    "N = df['Frequency'].sum()\n",
    "\n",
    "# Calculate the Contingency Coefficient\n",
    "C = np.sqrt(chi2 / (chi2 + N))\n",
    "\n",
    "print(f\"Contingency Coefficient: {C}\")"
   ]
  },
  {
   "cell_type": "markdown",
   "id": "93d0d1c7-88e6-45aa-9f7b-b3b87d7ccbfe",
   "metadata": {},
   "source": [
    "### Measures of Shape: Plots, Graphs and Charts"
   ]
  },
  {
   "cell_type": "markdown",
   "id": "224abc4f-f5f7-4c92-a307-cea0f3f9b11d",
   "metadata": {},
   "source": [
    "teacher want to evaluate your students' performance on a recent math test using skewness to see distribution of the scores. If the scores are more spread out on one side of the mean than the other. "
   ]
  },
  {
   "cell_type": "markdown",
   "id": "886854b0-819a-402b-bcba-0204de56231a",
   "metadata": {},
   "source": [
    "**Skewness**"
   ]
  },
  {
   "cell_type": "code",
   "execution_count": 6,
   "id": "bcde4fdc-0bba-4de1-93bc-50329ea3b565",
   "metadata": {},
   "outputs": [
    {
     "data": {
      "image/png": "[encoded data removed]",
      "text/plain": [
       "<Figure size 640x480 with 1 Axes>"
      ]
     },
     "metadata": {},
     "output_type": "display_data"
    }
   ],
   "source": [
    "import matplotlib.pyplot as plt\n",
    "import seaborn as sns\n",
    "\n",
    "# Scores of the students\n",
    "scores = [85, 90, 92, 95, 96, 96, 97, 98, 99, 100]\n",
    "\n",
    "# Create a figure and a set of subplots\n",
    "fig, ax = plt.subplots()\n",
    "\n",
    "# Plot the distribution of scores\n",
    "sns.histplot(scores, bins=10, kde=True, ax=ax)\n",
    "\n",
    "# Calculate and display the mean\n",
    "mean_score = sum(scores) / len(scores)\n",
    "ax.axvline(mean_score, color='red', linestyle='--')\n",
    "ax.text(mean_score+1, 0.1, 'Mean: {:.2f}'.format(mean_score), rotation=90)\n",
    "\n",
    "# Show the plot\n",
    "plt.savefig('skewness.jpg',dpi=600, bbox_inches='tight')\n",
    "plt.show()"
   ]
  },
  {
   "cell_type": "markdown",
   "id": "f1a7d41d-68ca-41d4-8f27-eeef957f9611",
   "metadata": {},
   "source": [
    "**Kurtosis**"
   ]
  },
  {
   "cell_type": "code",
   "execution_count": 34,
   "id": "fee9061c-0770-47a1-b227-0eb342364d6e",
   "metadata": {},
   "outputs": [
    {
     "name": "stdout",
     "output_type": "stream",
     "text": [
      "Kurtosis of Dataset A: 4.841818043320611\n",
      "Kurtosis of Dataset B: -1.2242424242424244\n",
      "Kurtosis of Dataset C: 0.3999999999999999\n"
     ]
    }
   ],
   "source": [
    "import scipy.stats as stats\n",
    "# Datasets\n",
    "dataset_A = [1, 1, 2, 2, 3, 3, 4, 4, 4, 30]\n",
    "dataset_B = [1, 2, 3, 4, 5, 6, 7, 8, 9, 10]\n",
    "dataset_C = [1, 2, 3, 3, 3, 3, 3, 3, 4, 5]\n",
    "# Calculate kurtosis\n",
    "kurtosis_A = stats.kurtosis(dataset_A)\n",
    "kurtosis_B = stats.kurtosis(dataset_B)\n",
    "kurtosis_C = stats.kurtosis(dataset_C)\n",
    "print(f\"Kurtosis of Dataset A: {kurtosis_A}\")\n",
    "print(f\"Kurtosis of Dataset B: {kurtosis_B}\")\n",
    "print(f\"Kurtosis of Dataset C: {kurtosis_C}\")"
   ]
  },
  {
   "cell_type": "markdown",
   "id": "b227b9a7-3c1a-40fc-a8f0-1ad90c319b8e",
   "metadata": {},
   "source": [
    "### Distribution: Skewness, Kurtosis,Counting and Grouping Data Values"
   ]
  }
 ],
 "metadata": {
  "kernelspec": {
   "display_name": "Python 3 (ipykernel)",
   "language": "python",
   "name": "python3"
  },
  "language_info": {
   "codemirror_mode": {
    "name": "ipython",
    "version": 3
   },
   "file_extension": ".py",
   "mimetype": "text/x-python",
   "name": "python",
   "nbconvert_exporter": "python",
   "pygments_lexer": "ipython3",
   "version": "3.10.8"
  }
 },
 "nbformat": 4,
 "nbformat_minor": 5
}
