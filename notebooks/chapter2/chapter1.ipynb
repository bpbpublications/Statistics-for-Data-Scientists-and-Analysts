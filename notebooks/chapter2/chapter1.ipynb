{
 "cells": [
  {
   "cell_type": "markdown",
   "id": "f1a1918d-3cb3-4f2e-bc69-4e3653834268",
   "metadata": {},
   "source": [
    "**Tutorial 1. Data Aggregation: Summarising Data with Mean, Median, Mode, Standard Deviation,Variance, Quantiles, and Percentiles**"
   ]
  },
  {
   "cell_type": "markdown",
   "id": "6291c6c7-f828-4149-bd9c-adcb85cfca49",
   "metadata": {},
   "source": [
    "***1.1. Mean, Median, Mode, Standard Deviation, Max, Min in Pandas DataFrame***"
   ]
  },
  {
   "cell_type": "code",
   "execution_count": 20,
   "id": "37c84782-b380-4ce9-b5bc-43b234efeb6c",
   "metadata": {},
   "outputs": [
    {
     "name": "stdout",
     "output_type": "stream",
     "text": [
      "\n",
      " Mean \n",
      " \n",
      " Pregnancies                   3.845052\n",
      "Glucose                     120.894531\n",
      "BloodPressure                69.105469\n",
      "SkinThickness                20.536458\n",
      "Insulin                      79.799479\n",
      "BMI                          31.992578\n",
      "DiabetesPedigreeFunction      0.471876\n",
      "Age                          33.240885\n",
      "Outcome                       0.348958\n",
      "dtype: float64\n",
      "\n",
      " Median \n",
      " \n",
      " Pregnancies                   3.0000\n",
      "Glucose                     117.0000\n",
      "BloodPressure                72.0000\n",
      "SkinThickness                23.0000\n",
      "Insulin                      30.5000\n",
      "BMI                          32.0000\n",
      "DiabetesPedigreeFunction      0.3725\n",
      "Age                          29.0000\n",
      "Outcome                       0.0000\n",
      "dtype: float64\n",
      "\n",
      " Mode \n",
      " \n",
      "    Pregnancies  Glucose  BloodPressure  SkinThickness  Insulin   BMI  \\\n",
      "0          1.0       99           70.0            0.0      0.0  32.0   \n",
      "1          NaN      100            NaN            NaN      NaN   NaN   \n",
      "\n",
      "   DiabetesPedigreeFunction   Age  Outcome  \n",
      "0                     0.254  22.0      0.0  \n",
      "1                     0.258   NaN      NaN  \n",
      "\n",
      " Varience \n",
      " \n",
      " Pregnancies                    11.354056\n",
      "Glucose                      1022.248314\n",
      "BloodPressure                 374.647271\n",
      "SkinThickness                 254.473245\n",
      "Insulin                     13281.180078\n",
      "BMI                            62.159984\n",
      "DiabetesPedigreeFunction        0.109779\n",
      "Age                           138.303046\n",
      "Outcome                         0.227483\n",
      "dtype: float64\n",
      "\n",
      " Maximum \n",
      " \n",
      " Pregnancies                  17.00\n",
      "Glucose                     199.00\n",
      "BloodPressure               122.00\n",
      "SkinThickness                99.00\n",
      "Insulin                     846.00\n",
      "BMI                          67.10\n",
      "DiabetesPedigreeFunction      2.42\n",
      "Age                          81.00\n",
      "Outcome                       1.00\n",
      "dtype: float64\n",
      "\n",
      " Minimum \n",
      " \n",
      " Pregnancies                  0.000\n",
      "Glucose                      0.000\n",
      "BloodPressure                0.000\n",
      "SkinThickness                0.000\n",
      "Insulin                      0.000\n",
      "BMI                          0.000\n",
      "DiabetesPedigreeFunction     0.078\n",
      "Age                         21.000\n",
      "Outcome                      0.000\n",
      "dtype: float64\n"
     ]
    }
   ],
   "source": [
    "import pandas as pd\n",
    "from IPython.display import display\n",
    "\n",
    "# Read the json file from the direcotory\n",
    "diabities_df = pd.read_csv(\"/workspaces/ImplementingStatisticsWithPython/data/chapter1/diabetes.csv\")\n",
    "\n",
    "print(f'\\n Mean \\n \\n {diabities_df.mean()}')\n",
    "\n",
    "print(f'\\n Median \\n \\n {diabities_df.median()}')\n",
    "\n",
    "print(f'\\n Mode \\n \\n {diabities_df.mode()}')\n",
    "\n",
    "print(f'\\n Varience \\n \\n {diabities_df.var()}')\n",
    "\n",
    "print(f'\\n Maximum \\n \\n {diabities_df.max()}')\n",
    "\n",
    "print(f'\\n Minimum \\n \\n {diabities_df.min()}')"
   ]
  },
  {
   "cell_type": "markdown",
   "id": "d3949f3e-9ae1-459b-b179-43e138f5aba0",
   "metadata": {},
   "source": [
    "***1.2. Mean, Median, Mode, Standard Deviation, Max, Min in Numpy Array***"
   ]
  },
  {
   "cell_type": "code",
   "execution_count": null,
   "id": "cf325fb2-97dd-4ac3-8899-aaf44fe6f7cc",
   "metadata": {},
   "outputs": [],
   "source": []
  },
  {
   "cell_type": "markdown",
   "id": "cb99ae17-92d7-4a17-8fcb-46738c188a02",
   "metadata": {},
   "source": [
    "***1.2. Variance, Quantiles, and Percentiles***"
   ]
  },
  {
   "cell_type": "code",
   "execution_count": null,
   "id": "be5d22b3-31ba-47d3-9f38-16c72a30df77",
   "metadata": {},
   "outputs": [],
   "source": []
  },
  {
   "cell_type": "markdown",
   "id": "c8edb103-9507-4216-8807-647525e004d7",
   "metadata": {},
   "source": [
    "**Tutorial 2. Data Normalisation, Standardization, Transformation**"
   ]
  },
  {
   "cell_type": "code",
   "execution_count": null,
   "id": "6efb620d-6b2d-4207-aa82-b5a6be567a56",
   "metadata": {},
   "outputs": [],
   "source": []
  },
  {
   "cell_type": "markdown",
   "id": "c680e16a-fb45-4431-91d1-3519130a4032",
   "metadata": {},
   "source": [
    "**Tutorial 3. Data Binning, Grouping and Encoding**"
   ]
  },
  {
   "cell_type": "code",
   "execution_count": null,
   "id": "071087a5-230c-49d9-bc6f-0566bac64959",
   "metadata": {},
   "outputs": [],
   "source": []
  },
  {
   "cell_type": "markdown",
   "id": "aaa44d19-dbd8-4a3d-a260-0518f2df8f86",
   "metadata": {},
   "source": [
    "**Tutorial 4. Missing Data, Detecting and Treating Outliers**"
   ]
  },
  {
   "cell_type": "code",
   "execution_count": null,
   "id": "3318c508-fc66-41fe-909d-4938056d7b81",
   "metadata": {},
   "outputs": [],
   "source": []
  },
  {
   "cell_type": "markdown",
   "id": "4b0c534e-2bf8-4567-8594-a819281cd012",
   "metadata": {},
   "source": [
    "**Tutorial 5. Histograms, Box plots, Scatter plots, Pie Charts, Bar Charts, X-Y Plots, Heatmaps**"
   ]
  },
  {
   "cell_type": "code",
   "execution_count": null,
   "id": "b4134f93-4ae1-4ad8-8b3c-67adbc30a76a",
   "metadata": {},
   "outputs": [],
   "source": []
  }
 ],
 "metadata": {
  "kernelspec": {
   "display_name": "Python 3 (ipykernel)",
   "language": "python",
   "name": "python3"
  },
  "language_info": {
   "codemirror_mode": {
    "name": "ipython",
    "version": 3
   },
   "file_extension": ".py",
   "mimetype": "text/x-python",
   "name": "python",
   "nbconvert_exporter": "python",
   "pygments_lexer": "ipython3",
   "version": "3.10.8"
  }
 },
 "nbformat": 4,
 "nbformat_minor": 5
}
