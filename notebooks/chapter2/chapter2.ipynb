{
 "cells": [
  {
   "cell_type": "markdown",
   "id": "f1a1918d-3cb3-4f2e-bc69-4e3653834268",
   "metadata": {},
   "source": [
    "**Tutorial 1. Data Aggregation: Summarising Data with Mean, Median, Mode, Standard Deviation,Variance, Quantiles, and Percentiles**"
   ]
  },
  {
   "cell_type": "markdown",
   "id": "6291c6c7-f828-4149-bd9c-adcb85cfca49",
   "metadata": {},
   "source": [
    "***1.1. Mean, Median, Mode, Standard Deviation, Max, Min in Pandas DataFrame***"
   ]
  },
  {
   "cell_type": "code",
   "execution_count": null,
   "id": "8975d3b0-1e9b-49a7-8c47-4990368eceb2",
   "metadata": {},
   "outputs": [],
   "source": [
    "import pandas as pd\n",
    "from IPython.display import display\n",
    "\n",
    "# Read the json file from the direcotory\n",
    "diabities_df = pd.read_csv(\"/data/chapter1/diabetes.csv\")\n",
    "\n",
    "print(f'\\n Mean \\n \\n {diabities_df.mean()}')\n",
    "\n",
    "print(f'\\n Median \\n \\n {diabities_df.median()}')\n",
    "\n",
    "print(f'\\n Mode \\n \\n {diabities_df.mode()}')\n",
    "\n",
    "print(f'\\n Varience \\n \\n {diabities_df.var()}')\n",
    "\n",
    "print(f'\\n Maximum \\n \\n {diabities_df.max()}')\n",
    "\n",
    "print(f'\\n Minimum \\n \\n {diabities_df.min()}')"
   ]
  },
  {
   "cell_type": "markdown",
   "id": "d3949f3e-9ae1-459b-b179-43e138f5aba0",
   "metadata": {},
   "source": [
    "***1.2. Mean, Median, Mode, Standard Deviation, Max, Min in Numpy Array***"
   ]
  },
  {
   "cell_type": "code",
   "execution_count": null,
   "id": "cf325fb2-97dd-4ac3-8899-aaf44fe6f7cc",
   "metadata": {},
   "outputs": [],
   "source": [
    "import numpy as np\n",
    "import statistics as st\n",
    "\n",
    "# Create a numpy array\n",
    "data = np.array([12, 15, 20, 25, 30, 30, 35, 40, 45, 50])\n",
    "\n",
    "# Mean\n",
    "mean = np.mean(data)\n",
    "\n",
    "# Median\n",
    "median = np.median(data)\n",
    "\n",
    "# Mode\n",
    "mode_result = st.mode(data)\n",
    "mode_result\n",
    "\n",
    "# Standard Deviation\n",
    "std_dev = np.std(data)\n",
    "\n",
    "# Maximum\n",
    "maximum = np.max(data)\n",
    "\n",
    "# Minimum\n",
    "minimum = np.min(data)\n",
    "\n",
    "print(\"Mean:\", mean)\n",
    "print(\"Median:\", median)\n",
    "print(\"Mode:\", mode)\n",
    "print(\"Standard Deviation:\", std_dev)\n",
    "print(\"Maximum:\", maximum)\n",
    "print(\"Minimum:\", minimum)"
   ]
  },
  {
   "cell_type": "markdown",
   "id": "cb99ae17-92d7-4a17-8fcb-46738c188a02",
   "metadata": {},
   "source": [
    "***1.3. Variance, Quantiles, and Percentiles are computed using `var()` and `quantiles` also the `describe()` shows it***"
   ]
  },
  {
   "cell_type": "code",
   "execution_count": 14,
   "id": "be5d22b3-31ba-47d3-9f38-16c72a30df77",
   "metadata": {},
   "outputs": [
    {
     "data": {
      "text/plain": [
       "'Variance:'"
      ]
     },
     "metadata": {},
     "output_type": "display_data"
    },
    {
     "data": {
      "text/plain": [
       "Pregnancies                    11.354056\n",
       "Glucose                      1022.248314\n",
       "BloodPressure                 374.647271\n",
       "SkinThickness                 254.473245\n",
       "Insulin                     13281.180078\n",
       "BMI                            62.159984\n",
       "DiabetesPedigreeFunction        0.109779\n",
       "Age                           138.303046\n",
       "Outcome                         0.227483\n",
       "dtype: float64"
      ]
     },
     "metadata": {},
     "output_type": "display_data"
    },
    {
     "data": {
      "text/plain": [
       "'Quantiles:'"
      ]
     },
     "metadata": {},
     "output_type": "display_data"
    },
    {
     "data": {
      "text/html": [
       "<div>\n",
       "<style scoped>\n",
       "    .dataframe tbody tr th:only-of-type {\n",
       "        vertical-align: middle;\n",
       "    }\n",
       "\n",
       "    .dataframe tbody tr th {\n",
       "        vertical-align: top;\n",
       "    }\n",
       "\n",
       "    .dataframe thead th {\n",
       "        text-align: right;\n",
       "    }\n",
       "</style>\n",
       "<table border=\"1\" class=\"dataframe\">\n",
       "  <thead>\n",
       "    <tr style=\"text-align: right;\">\n",
       "      <th></th>\n",
       "      <th>Pregnancies</th>\n",
       "      <th>Glucose</th>\n",
       "      <th>BloodPressure</th>\n",
       "      <th>SkinThickness</th>\n",
       "      <th>Insulin</th>\n",
       "      <th>BMI</th>\n",
       "      <th>DiabetesPedigreeFunction</th>\n",
       "      <th>Age</th>\n",
       "      <th>Outcome</th>\n",
       "    </tr>\n",
       "  </thead>\n",
       "  <tbody>\n",
       "    <tr>\n",
       "      <th>0.25</th>\n",
       "      <td>1.0</td>\n",
       "      <td>99.00</td>\n",
       "      <td>62.0</td>\n",
       "      <td>0.0</td>\n",
       "      <td>0.00</td>\n",
       "      <td>27.3</td>\n",
       "      <td>0.24375</td>\n",
       "      <td>24.0</td>\n",
       "      <td>0.0</td>\n",
       "    </tr>\n",
       "    <tr>\n",
       "      <th>0.50</th>\n",
       "      <td>3.0</td>\n",
       "      <td>117.00</td>\n",
       "      <td>72.0</td>\n",
       "      <td>23.0</td>\n",
       "      <td>30.50</td>\n",
       "      <td>32.0</td>\n",
       "      <td>0.37250</td>\n",
       "      <td>29.0</td>\n",
       "      <td>0.0</td>\n",
       "    </tr>\n",
       "    <tr>\n",
       "      <th>0.75</th>\n",
       "      <td>6.0</td>\n",
       "      <td>140.25</td>\n",
       "      <td>80.0</td>\n",
       "      <td>32.0</td>\n",
       "      <td>127.25</td>\n",
       "      <td>36.6</td>\n",
       "      <td>0.62625</td>\n",
       "      <td>41.0</td>\n",
       "      <td>1.0</td>\n",
       "    </tr>\n",
       "  </tbody>\n",
       "</table>\n",
       "</div>"
      ],
      "text/plain": [
       "      Pregnancies  Glucose  BloodPressure  SkinThickness  Insulin   BMI  \\\n",
       "0.25          1.0    99.00           62.0            0.0     0.00  27.3   \n",
       "0.50          3.0   117.00           72.0           23.0    30.50  32.0   \n",
       "0.75          6.0   140.25           80.0           32.0   127.25  36.6   \n",
       "\n",
       "      DiabetesPedigreeFunction   Age  Outcome  \n",
       "0.25                   0.24375  24.0      0.0  \n",
       "0.50                   0.37250  29.0      0.0  \n",
       "0.75                   0.62625  41.0      1.0  "
      ]
     },
     "metadata": {},
     "output_type": "display_data"
    },
    {
     "data": {
      "text/plain": [
       "'Percentiles:'"
      ]
     },
     "metadata": {},
     "output_type": "display_data"
    },
    {
     "data": {
      "text/html": [
       "<div>\n",
       "<style scoped>\n",
       "    .dataframe tbody tr th:only-of-type {\n",
       "        vertical-align: middle;\n",
       "    }\n",
       "\n",
       "    .dataframe tbody tr th {\n",
       "        vertical-align: top;\n",
       "    }\n",
       "\n",
       "    .dataframe thead th {\n",
       "        text-align: right;\n",
       "    }\n",
       "</style>\n",
       "<table border=\"1\" class=\"dataframe\">\n",
       "  <thead>\n",
       "    <tr style=\"text-align: right;\">\n",
       "      <th></th>\n",
       "      <th>Pregnancies</th>\n",
       "      <th>Glucose</th>\n",
       "      <th>BloodPressure</th>\n",
       "      <th>SkinThickness</th>\n",
       "      <th>Insulin</th>\n",
       "      <th>BMI</th>\n",
       "      <th>DiabetesPedigreeFunction</th>\n",
       "      <th>Age</th>\n",
       "      <th>Outcome</th>\n",
       "    </tr>\n",
       "  </thead>\n",
       "  <tbody>\n",
       "    <tr>\n",
       "      <th>0.90</th>\n",
       "      <td>9.0</td>\n",
       "      <td>167.0</td>\n",
       "      <td>88.0</td>\n",
       "      <td>40.0</td>\n",
       "      <td>210.0</td>\n",
       "      <td>41.500</td>\n",
       "      <td>0.87860</td>\n",
       "      <td>51.0</td>\n",
       "      <td>1.0</td>\n",
       "    </tr>\n",
       "    <tr>\n",
       "      <th>0.95</th>\n",
       "      <td>10.0</td>\n",
       "      <td>181.0</td>\n",
       "      <td>90.0</td>\n",
       "      <td>44.0</td>\n",
       "      <td>293.0</td>\n",
       "      <td>44.395</td>\n",
       "      <td>1.13285</td>\n",
       "      <td>58.0</td>\n",
       "      <td>1.0</td>\n",
       "    </tr>\n",
       "  </tbody>\n",
       "</table>\n",
       "</div>"
      ],
      "text/plain": [
       "      Pregnancies  Glucose  BloodPressure  SkinThickness  Insulin     BMI  \\\n",
       "0.90          9.0    167.0           88.0           40.0    210.0  41.500   \n",
       "0.95         10.0    181.0           90.0           44.0    293.0  44.395   \n",
       "\n",
       "      DiabetesPedigreeFunction   Age  Outcome  \n",
       "0.90                   0.87860  51.0      1.0  \n",
       "0.95                   1.13285  58.0      1.0  "
      ]
     },
     "metadata": {},
     "output_type": "display_data"
    }
   ],
   "source": [
    "import pandas as pd\n",
    "from IPython.display import display\n",
    "\n",
    "# Read the json file from the direcotory\n",
    "diabities_df = pd.read_csv(\"/workspaces/ImplementingStatisticsWithPython/data/chapter1/diabetes.csv\")\n",
    "\n",
    "# Variance\n",
    "variance = diabities_df.var()\n",
    "\n",
    "# Quantiles (25th, 50th, and 75th percentiles)\n",
    "quantiles = diabities_df.quantile([0.25, 0.5, 0.75])\n",
    "\n",
    "# Percentiles (90th and 95th percentiles)\n",
    "percentiles = diabities_df.quantile([0.9, 0.95])\n",
    "\n",
    "display(\"Variance:\", variance)\n",
    "display(\"Quantiles:\", quantiles)\n",
    "display(\"Percentiles:\", percentiles)"
   ]
  },
  {
   "cell_type": "markdown",
   "id": "c8edb103-9507-4216-8807-647525e004d7",
   "metadata": {},
   "source": [
    "**Tutorial 2. Data Normalisation, Standardization, Transformation**"
   ]
  },
  {
   "cell_type": "markdown",
   "id": "db544176-d722-41b1-a8d2-e12e4c145b3f",
   "metadata": {},
   "source": [
    "***2.1. Data Normalization on a Numpy array***"
   ]
  },
  {
   "cell_type": "code",
   "execution_count": 18,
   "id": "cf25f1d7-d707-4092-a8a3-d3fdfa564617",
   "metadata": {},
   "outputs": [
    {
     "name": "stdout",
     "output_type": "stream",
     "text": [
      "Normalized Structured Data:\n",
      "[[0.  0. ]\n",
      " [0.5 0.5]\n",
      " [1.  1. ]]\n"
     ]
    }
   ],
   "source": [
    "import numpy as np\n",
    "from sklearn.preprocessing import MinMaxScaler\n",
    "\n",
    "# Structured data (2D array)\n",
    "structured_data = np.array([[1, 2], [3, 4], [5, 6]])\n",
    "scaler = MinMaxScaler()\n",
    "normalized_structured = scaler.fit_transform(structured_data)\n",
    "\n",
    "print(\"Normalized Structured Data:\")\n",
    "print(normalized_structured)"
   ]
  },
  {
   "cell_type": "markdown",
   "id": "e4ad4bd8-f615-40ba-bdda-2a37ac57b0fc",
   "metadata": {},
   "source": [
    "***2.2. Data Normalization on Pandas DataFrame***"
   ]
  },
  {
   "cell_type": "code",
   "execution_count": 33,
   "id": "51678968-d6ad-44a9-9a56-5f950770011e",
   "metadata": {},
   "outputs": [
    {
     "name": "stdout",
     "output_type": "stream",
     "text": [
      "Normalized Structured Data:\n"
     ]
    },
    {
     "data": {
      "text/html": [
       "<div>\n",
       "<style scoped>\n",
       "    .dataframe tbody tr th:only-of-type {\n",
       "        vertical-align: middle;\n",
       "    }\n",
       "\n",
       "    .dataframe tbody tr th {\n",
       "        vertical-align: top;\n",
       "    }\n",
       "\n",
       "    .dataframe thead th {\n",
       "        text-align: right;\n",
       "    }\n",
       "</style>\n",
       "<table border=\"1\" class=\"dataframe\">\n",
       "  <thead>\n",
       "    <tr style=\"text-align: right;\">\n",
       "      <th></th>\n",
       "      <th>Pregnancies</th>\n",
       "      <th>Glucose</th>\n",
       "      <th>BloodPressure</th>\n",
       "      <th>SkinThickness</th>\n",
       "      <th>Insulin</th>\n",
       "      <th>BMI</th>\n",
       "      <th>DiabetesPedigreeFunction</th>\n",
       "      <th>Age</th>\n",
       "      <th>Outcome</th>\n",
       "    </tr>\n",
       "  </thead>\n",
       "  <tbody>\n",
       "    <tr>\n",
       "      <th>0</th>\n",
       "      <td>0.352941</td>\n",
       "      <td>0.743719</td>\n",
       "      <td>0.590164</td>\n",
       "      <td>0.353535</td>\n",
       "      <td>0.000000</td>\n",
       "      <td>0.500745</td>\n",
       "      <td>0.234415</td>\n",
       "      <td>0.483333</td>\n",
       "      <td>1.0</td>\n",
       "    </tr>\n",
       "    <tr>\n",
       "      <th>1</th>\n",
       "      <td>0.058824</td>\n",
       "      <td>0.427136</td>\n",
       "      <td>0.540984</td>\n",
       "      <td>0.292929</td>\n",
       "      <td>0.000000</td>\n",
       "      <td>0.396423</td>\n",
       "      <td>0.116567</td>\n",
       "      <td>0.166667</td>\n",
       "      <td>0.0</td>\n",
       "    </tr>\n",
       "    <tr>\n",
       "      <th>2</th>\n",
       "      <td>0.470588</td>\n",
       "      <td>0.919598</td>\n",
       "      <td>0.524590</td>\n",
       "      <td>0.000000</td>\n",
       "      <td>0.000000</td>\n",
       "      <td>0.347243</td>\n",
       "      <td>0.253629</td>\n",
       "      <td>0.183333</td>\n",
       "      <td>1.0</td>\n",
       "    </tr>\n",
       "    <tr>\n",
       "      <th>3</th>\n",
       "      <td>0.058824</td>\n",
       "      <td>0.447236</td>\n",
       "      <td>0.540984</td>\n",
       "      <td>0.232323</td>\n",
       "      <td>0.111111</td>\n",
       "      <td>0.418778</td>\n",
       "      <td>0.038002</td>\n",
       "      <td>0.000000</td>\n",
       "      <td>0.0</td>\n",
       "    </tr>\n",
       "    <tr>\n",
       "      <th>4</th>\n",
       "      <td>0.000000</td>\n",
       "      <td>0.688442</td>\n",
       "      <td>0.327869</td>\n",
       "      <td>0.353535</td>\n",
       "      <td>0.198582</td>\n",
       "      <td>0.642325</td>\n",
       "      <td>0.943638</td>\n",
       "      <td>0.200000</td>\n",
       "      <td>1.0</td>\n",
       "    </tr>\n",
       "    <tr>\n",
       "      <th>...</th>\n",
       "      <td>...</td>\n",
       "      <td>...</td>\n",
       "      <td>...</td>\n",
       "      <td>...</td>\n",
       "      <td>...</td>\n",
       "      <td>...</td>\n",
       "      <td>...</td>\n",
       "      <td>...</td>\n",
       "      <td>...</td>\n",
       "    </tr>\n",
       "    <tr>\n",
       "      <th>763</th>\n",
       "      <td>0.588235</td>\n",
       "      <td>0.507538</td>\n",
       "      <td>0.622951</td>\n",
       "      <td>0.484848</td>\n",
       "      <td>0.212766</td>\n",
       "      <td>0.490313</td>\n",
       "      <td>0.039710</td>\n",
       "      <td>0.700000</td>\n",
       "      <td>0.0</td>\n",
       "    </tr>\n",
       "    <tr>\n",
       "      <th>764</th>\n",
       "      <td>0.117647</td>\n",
       "      <td>0.613065</td>\n",
       "      <td>0.573770</td>\n",
       "      <td>0.272727</td>\n",
       "      <td>0.000000</td>\n",
       "      <td>0.548435</td>\n",
       "      <td>0.111870</td>\n",
       "      <td>0.100000</td>\n",
       "      <td>0.0</td>\n",
       "    </tr>\n",
       "    <tr>\n",
       "      <th>765</th>\n",
       "      <td>0.294118</td>\n",
       "      <td>0.608040</td>\n",
       "      <td>0.590164</td>\n",
       "      <td>0.232323</td>\n",
       "      <td>0.132388</td>\n",
       "      <td>0.390462</td>\n",
       "      <td>0.071307</td>\n",
       "      <td>0.150000</td>\n",
       "      <td>0.0</td>\n",
       "    </tr>\n",
       "    <tr>\n",
       "      <th>766</th>\n",
       "      <td>0.058824</td>\n",
       "      <td>0.633166</td>\n",
       "      <td>0.491803</td>\n",
       "      <td>0.000000</td>\n",
       "      <td>0.000000</td>\n",
       "      <td>0.448584</td>\n",
       "      <td>0.115713</td>\n",
       "      <td>0.433333</td>\n",
       "      <td>1.0</td>\n",
       "    </tr>\n",
       "    <tr>\n",
       "      <th>767</th>\n",
       "      <td>0.058824</td>\n",
       "      <td>0.467337</td>\n",
       "      <td>0.573770</td>\n",
       "      <td>0.313131</td>\n",
       "      <td>0.000000</td>\n",
       "      <td>0.453055</td>\n",
       "      <td>0.101196</td>\n",
       "      <td>0.033333</td>\n",
       "      <td>0.0</td>\n",
       "    </tr>\n",
       "  </tbody>\n",
       "</table>\n",
       "<p>768 rows × 9 columns</p>\n",
       "</div>"
      ],
      "text/plain": [
       "     Pregnancies   Glucose  BloodPressure  SkinThickness   Insulin       BMI  \\\n",
       "0       0.352941  0.743719       0.590164       0.353535  0.000000  0.500745   \n",
       "1       0.058824  0.427136       0.540984       0.292929  0.000000  0.396423   \n",
       "2       0.470588  0.919598       0.524590       0.000000  0.000000  0.347243   \n",
       "3       0.058824  0.447236       0.540984       0.232323  0.111111  0.418778   \n",
       "4       0.000000  0.688442       0.327869       0.353535  0.198582  0.642325   \n",
       "..           ...       ...            ...            ...       ...       ...   \n",
       "763     0.588235  0.507538       0.622951       0.484848  0.212766  0.490313   \n",
       "764     0.117647  0.613065       0.573770       0.272727  0.000000  0.548435   \n",
       "765     0.294118  0.608040       0.590164       0.232323  0.132388  0.390462   \n",
       "766     0.058824  0.633166       0.491803       0.000000  0.000000  0.448584   \n",
       "767     0.058824  0.467337       0.573770       0.313131  0.000000  0.453055   \n",
       "\n",
       "     DiabetesPedigreeFunction       Age  Outcome  \n",
       "0                    0.234415  0.483333      1.0  \n",
       "1                    0.116567  0.166667      0.0  \n",
       "2                    0.253629  0.183333      1.0  \n",
       "3                    0.038002  0.000000      0.0  \n",
       "4                    0.943638  0.200000      1.0  \n",
       "..                        ...       ...      ...  \n",
       "763                  0.039710  0.700000      0.0  \n",
       "764                  0.111870  0.100000      0.0  \n",
       "765                  0.071307  0.150000      0.0  \n",
       "766                  0.115713  0.433333      1.0  \n",
       "767                  0.101196  0.033333      0.0  \n",
       "\n",
       "[768 rows x 9 columns]"
      ]
     },
     "execution_count": 33,
     "metadata": {},
     "output_type": "execute_result"
    }
   ],
   "source": [
    "import pandas as pd\n",
    "from IPython.display import display\n",
    "\n",
    "# Read the json file from the direcotory\n",
    "diabities_df = pd.read_csv(\"/workspaces/ImplementingStatisticsWithPython/data/chapter1/diabetes.csv\")\n",
    "\n",
    "# Specify columns to normalize\n",
    "columns_to_normalize = ['Pregnancies','Glucose','BloodPressure','SkinThickness','Insulin','BMI','DiabetesPedigreeFunction','Age','Outcome']\n",
    "\n",
    "scaler = MinMaxScaler()\n",
    "diabities_df[columns_to_normalize] = scaler.fit_transform(diabities_df[columns_to_normalize])\n",
    "\n",
    "print(\"Normalized Structured Data:\")\n",
    "diabities_df"
   ]
  },
  {
   "cell_type": "markdown",
   "id": "073c3f74-2ac4-4e09-a575-6126f2684fdb",
   "metadata": {},
   "source": [
    "In unstructuctered data like text normalization may involve natural language processing like convert lowercase , removing punctuation, \n",
    "handling special character like whitespaces and many more.\n",
    "<br>\n",
    "As shows in ***Tutorial 2.3.***\n",
    "In image or audio it may involve rescaling pixel values, extracting features."
   ]
  },
  {
   "cell_type": "markdown",
   "id": "43f6b06f-7de4-4a63-87a0-3b65425db18d",
   "metadata": {},
   "source": [
    "***Tutorial 2.3. Convert lowercase , removing punctuation, handling special character like whitespaces in unstructured text data***"
   ]
  },
  {
   "cell_type": "code",
   "execution_count": 36,
   "id": "94f2e740-b242-49e8-a8e1-440158ece00e",
   "metadata": {},
   "outputs": [
    {
     "name": "stdout",
     "output_type": "stream",
     "text": [
      "Original Text: This is an a text for book Implementing Stat with Python, with! various punctuation marks...\n",
      "Normalized Text: this is an a text for book implementing stat with python with various punctuation marks\n"
     ]
    }
   ],
   "source": [
    "import re\n",
    "\n",
    "def normalize_text(text):\n",
    "    # Convert to lowercase\n",
    "    text = text.lower()\n",
    "    \n",
    "    # Remove punctuation\n",
    "    text = re.sub(r'[^\\w\\s]', '', text)\n",
    "    \n",
    "    # Remove extra whitespace\n",
    "    text = re.sub(r'\\s+', ' ', text).strip()\n",
    "    \n",
    "    return text\n",
    "\n",
    "# Sample unstructured text data\n",
    "unstructured_text = \"This is an a text for book Implementing Stat with Python, with! various punctuation marks...\"\n",
    "\n",
    "normalized_text = normalize_text(unstructured_text)\n",
    "print(\"Original Text:\", unstructured_text)\n",
    "print(\"Normalized Text:\", normalized_text)"
   ]
  },
  {
   "cell_type": "markdown",
   "id": "c680e16a-fb45-4431-91d1-3519130a4032",
   "metadata": {},
   "source": [
    "**Tutorial 3. Data Binning, Grouping and Encoding**"
   ]
  },
  {
   "cell_type": "code",
   "execution_count": null,
   "id": "071087a5-230c-49d9-bc6f-0566bac64959",
   "metadata": {},
   "outputs": [],
   "source": []
  },
  {
   "cell_type": "markdown",
   "id": "aaa44d19-dbd8-4a3d-a260-0518f2df8f86",
   "metadata": {},
   "source": [
    "**Tutorial 4. Missing Data, Detecting and Treating Outliers**"
   ]
  },
  {
   "cell_type": "code",
   "execution_count": null,
   "id": "3318c508-fc66-41fe-909d-4938056d7b81",
   "metadata": {},
   "outputs": [],
   "source": []
  },
  {
   "cell_type": "markdown",
   "id": "4b0c534e-2bf8-4567-8594-a819281cd012",
   "metadata": {},
   "source": [
    "**Tutorial 5. Histograms, Box plots, Scatter plots, Pie Charts, Bar Charts, X-Y Plots, Heatmaps**"
   ]
  },
  {
   "cell_type": "code",
   "execution_count": null,
   "id": "b4134f93-4ae1-4ad8-8b3c-67adbc30a76a",
   "metadata": {},
   "outputs": [],
   "source": []
  }
 ],
 "metadata": {
  "kernelspec": {
   "display_name": "Python 3 (ipykernel)",
   "language": "python",
   "name": "python3"
  },
  "language_info": {
   "codemirror_mode": {
    "name": "ipython",
    "version": 3
   },
   "file_extension": ".py",
   "mimetype": "text/x-python",
   "name": "python",
   "nbconvert_exporter": "python",
   "pygments_lexer": "ipython3",
   "version": "3.10.8"
  }
 },
 "nbformat": 4,
 "nbformat_minor": 5
}
