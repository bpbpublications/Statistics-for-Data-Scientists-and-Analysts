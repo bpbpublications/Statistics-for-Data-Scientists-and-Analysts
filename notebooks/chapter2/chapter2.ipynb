{
 "cells": [
  {
   "cell_type": "markdown",
   "id": "f1a1918d-3cb3-4f2e-bc69-4e3653834268",
   "metadata": {},
   "source": [
    "**Tutorial 1. Data Aggregation: Summarising Data with Mean, Median, Mode, Standard Deviation,Variance, Quantiles, and Percentiles**"
   ]
  },
  {
   "cell_type": "markdown",
   "id": "cb0dd1ff-ca90-43c8-824c-7b0179c30bdd",
   "metadata": {},
   "source": [
    "**Mean**"
   ]
  },
  {
   "cell_type": "code",
   "execution_count": null,
   "id": "902c0159-cf8a-4b42-8e85-8e9a75cfb8a5",
   "metadata": {},
   "outputs": [],
   "source": [
    "# Define a list of test scores\n",
    "test_scores = [80, 90, 70, 60, 100]\n",
    "# Calculate the sum of the test scores\n",
    "total = sum(test_scores)\n",
    "# Calculate the number of test scores\n",
    "count = len(test_scores)\n",
    "# Calculate the mean by dividing the sum by the count\n",
    "mean = total / count\n",
    "# Print the mean\n",
    "print(\"The mean is\", mean)"
   ]
  },
  {
   "cell_type": "markdown",
   "id": "58d12e7c-2a13-4e73-8b44-99aa9b120364",
   "metadata": {},
   "source": [
    "**Median**"
   ]
  },
  {
   "cell_type": "code",
   "execution_count": null,
   "id": "7e79a4b2-6ce8-4982-98f3-9483d715ee34",
   "metadata": {},
   "outputs": [],
   "source": [
    "# Define the dataset as a list\n",
    "data = [75, 80, 85, 90, 95]\n",
    "# Calculate the number of data points\n",
    "num_data_points = len(data)\n",
    "# Sort the data in ascending order\n",
    "data.sort()\n",
    "# Check if the number of data points is odd\n",
    "if num_data_points % 2 == 1:\n",
    "    # If odd, find the middle value (median)\n",
    "    median = data[num_data_points // 2]\n",
    "else:\n",
    "    # If even, calculate the average of the two middle values\n",
    "    middle1 = data[num_data_points // 2 - 1]\n",
    "    middle2 = data[num_data_points // 2]\n",
    "    median = (middle1 + middle2) / 2\n",
    "# Print the calculated median\n",
    "print(\"The median is:\", median)\n"
   ]
  },
  {
   "cell_type": "markdown",
   "id": "e5566498-50db-4f8e-85bf-12b67362b5ee",
   "metadata": {},
   "source": [
    "**Mode**"
   ]
  },
  {
   "cell_type": "code",
   "execution_count": null,
   "id": "444d92f7-fd7a-42bc-859a-511a161ba95b",
   "metadata": {},
   "outputs": [],
   "source": [
    "# Define the dataset as a list\n",
    "shoe_sizes = [6, 7, 7, 8, 8, 8, 9, 10]\n",
    "# Create an empty dictionary to store the count of each value\n",
    "size_counts = {}\n",
    "# Iterate through the dataset to count occurrences\n",
    "for size in shoe_sizes:\n",
    "    if size in size_counts:\n",
    "        size_counts[size] += 1\n",
    "    else:\n",
    "        size_counts[size] = 1\n",
    "# Find the mode by finding the key with the maximum value in the dictionary\n",
    "mode = max(size_counts, key=size_counts.get)\n",
    "# Print the mode\n",
    "print(\"The mode is:\", mode)\n"
   ]
  },
  {
   "cell_type": "markdown",
   "id": "6bbf05d0-d221-420d-8b56-354f332446a3",
   "metadata": {},
   "source": [
    "**Variance**"
   ]
  },
  {
   "cell_type": "code",
   "execution_count": null,
   "id": "0356fe34-4c68-4c6c-84cb-6575d216f9d7",
   "metadata": {},
   "outputs": [],
   "source": [
    "# Import numpy module\n",
    "import numpy as np\n",
    "# Define two sets of test scores\n",
    "A = [90, 92, 94, 96, 98]\n",
    "B = [70, 80, 90, 100, 110]\n",
    "# Calculate and print the variance of A and B\n",
    "var_A = np.var(A)\n",
    "var_B = np.var(B)\n",
    "print(\"The variance of A is\", var_A)\n",
    "print(\"The variance of B is\", var_B)"
   ]
  },
  {
   "cell_type": "markdown",
   "id": "463c6e97-cfbc-46c0-af10-a125c7698743",
   "metadata": {},
   "source": [
    "**Standard deviation** "
   ]
  },
  {
   "cell_type": "code",
   "execution_count": null,
   "id": "c7ae9095-0355-45cc-b71c-01b11afb8eba",
   "metadata": {},
   "outputs": [],
   "source": [
    "# Import numpy module\n",
    "import numpy as np\n",
    "# Define two sets of test scores\n",
    "A = [90, 92, 94, 96, 98]\n",
    "B = [70, 80, 90, 100, 110]\n",
    "# Calculate and print the standard deviation of A and B\n",
    "std_A = np.std(A)\n",
    "std_B = np.std(B)\n",
    "print(\"The standard deviation of A is\", std_A)\n",
    "print(\"The standard deviation of B is\", std_B)"
   ]
  },
  {
   "cell_type": "markdown",
   "id": "6bd08fba-ef33-4f2c-9441-e6936a18e64a",
   "metadata": {},
   "source": [
    "**Quantile**"
   ]
  },
  {
   "cell_type": "code",
   "execution_count": null,
   "id": "0deac8ee-edce-4f8a-a523-73f78b19782f",
   "metadata": {},
   "outputs": [],
   "source": [
    "# Import numpy module\n",
    "import numpy as np\n",
    "# Define a data set of heights in centimeters\n",
    "heights = [150 ,152 ,154 ,156 ,158 ,160 ,162 ,164 ,166 ,168 ,170 ,172 ,174 ,176 ,178]\n",
    "# Calculate and print the quartiles of the heights\n",
    "Q1 = np.quantile(heights ,0.25)\n",
    "Q2 = np.quantile(heights ,0.5)\n",
    "Q3 = np.quantile(heights ,0.75)\n",
    "print(\"The first quartile is\", Q1)\n",
    "print(\"The second quartile is\", Q2)\n",
    "print(\"The third quartile is\", Q3)"
   ]
  },
  {
   "cell_type": "markdown",
   "id": "6291c6c7-f828-4149-bd9c-adcb85cfca49",
   "metadata": {},
   "source": [
    "***1.1. Mean, Median, Mode, Standard Deviation, Max, Min in Pandas DataFrame***"
   ]
  },
  {
   "cell_type": "code",
   "execution_count": null,
   "id": "8975d3b0-1e9b-49a7-8c47-4990368eceb2",
   "metadata": {},
   "outputs": [],
   "source": [
    "# Import the pandas library and the display function\n",
    "import pandas as pd\n",
    "from IPython.display import display\n",
    "\n",
    "# Load the diabetes data from a csv file\n",
    "diabities_df = pd.read_csv(\"/workspaces/ImplementingStatisticsWithPython/data/chapter1/diabetes.csv\")\n",
    "\n",
    "# Print the mean of each column\n",
    "print(f'Mean: \\n {diabities_df.mean()}')\n",
    "\n",
    "# Print the median of each column\n",
    "print(f'Median: \\n {diabities_df.median()}')\n",
    "\n",
    "# Print the mode of each column\n",
    "print(f'Mode: \\n {diabities_df.mode()}')\n",
    "\n",
    "# Print the variance of each column\n",
    "print(f'Varience: \\n {diabities_df.var()}')\n",
    "\n",
    "# Print the standard deviation of each column\n",
    "print(f'Standard Deviation: \\n{diabities_df.std()}')\n",
    "\n",
    "# Print the maximum value of each column\n",
    "print(f'Maximum: \\n {diabities_df.max()}')\n",
    "\n",
    "# Print the minimum value of each column\n",
    "print(f'Minimum: \\n {diabities_df.min()}')\n"
   ]
  },
  {
   "cell_type": "markdown",
   "id": "d3949f3e-9ae1-459b-b179-43e138f5aba0",
   "metadata": {},
   "source": [
    "***1.2. Mean, Median, Mode, Standard Deviation, Max, Min in Numpy Array***"
   ]
  },
  {
   "cell_type": "code",
   "execution_count": null,
   "id": "cf325fb2-97dd-4ac3-8899-aaf44fe6f7cc",
   "metadata": {},
   "outputs": [],
   "source": [
    "# Import the numpy and statistics libraries\n",
    "import numpy as np\n",
    "import statistics as st\n",
    "\n",
    "# Create a numpy array with some data\n",
    "data = np.array([12, 15, 20, 25, 30, 30, 35, 40, 45, 50])\n",
    "\n",
    "# Calculate the mean of the data using numpy\n",
    "mean = np.mean(data)\n",
    "\n",
    "# Calculate the median of the data using numpy\n",
    "median = np.median(data)\n",
    "\n",
    "# Calculate the mode of the data using statistics\n",
    "mode_result = st.mode(data)\n",
    "\n",
    "# Calculate the standard deviation of the data using numpy\n",
    "std_dev = np.std(data)\n",
    "\n",
    "# Find the maximum value of the data using numpy\n",
    "maximum = np.max(data)\n",
    "\n",
    "# Find the minimum value of the data using numpy\n",
    "minimum = np.min(data)\n",
    "\n",
    "# Print the results to the console\n",
    "print(\"Mean:\", mean)\n",
    "print(\"Median:\", median)\n",
    "print(\"Mode:\", mode_result)\n",
    "print(\"Standard Deviation:\", std_dev)\n",
    "print(\"Maximum:\", maximum)\n",
    "print(\"Minimum:\", minimum)\n"
   ]
  },
  {
   "cell_type": "markdown",
   "id": "cb99ae17-92d7-4a17-8fcb-46738c188a02",
   "metadata": {},
   "source": [
    "***1.3. Variance, Quantiles, and Percentiles are computed using `var()` and `quantiles` also the `describe()` shows it***"
   ]
  },
  {
   "cell_type": "code",
   "execution_count": null,
   "id": "be5d22b3-31ba-47d3-9f38-16c72a30df77",
   "metadata": {},
   "outputs": [],
   "source": [
    "# Import the pandas library and the display function\n",
    "import pandas as pd\n",
    "from IPython.display import display\n",
    "\n",
    "# Load the diabetes data from a csv file\n",
    "diabities_df = pd.read_csv(\"/workspaces/ImplementingStatisticsWithPython/data/chapter1/diabetes.csv\")\n",
    "\n",
    "# Calculate the variance of each column using pandas\n",
    "variance = diabities_df.var()\n",
    "\n",
    "# Calculate the quantiles (25th, 50th, and 75th percentiles) of each column using pandas\n",
    "quantiles = diabities_df.quantile([0.25, 0.5, 0.75])\n",
    "\n",
    "# Calculate the percentiles (90th and 95th percentiles) of each column using pandas\n",
    "percentiles = diabities_df.quantile([0.9, 0.95])\n",
    "\n",
    "# Display the results using the display function\n",
    "display(\"Variance:\", variance)\n",
    "display(\"Quantiles:\", quantiles)\n",
    "display(\"Percentiles:\", percentiles)\n"
   ]
  },
  {
   "cell_type": "markdown",
   "id": "c8edb103-9507-4216-8807-647525e004d7",
   "metadata": {},
   "source": [
    "**Tutorial 2. Data Normalisation, Standardization, Transformation**"
   ]
  },
  {
   "cell_type": "markdown",
   "id": "db544176-d722-41b1-a8d2-e12e4c145b3f",
   "metadata": {},
   "source": [
    "***2.1. Data Normalization on a Numpy array***"
   ]
  },
  {
   "cell_type": "code",
   "execution_count": null,
   "id": "cdcced5b-87de-4663-9353-0942b42bd77e",
   "metadata": {},
   "outputs": [],
   "source": [
    "#import numpy\n",
    "import numpy as np\n",
    "#create a sample dataset\n",
    "print(data)\n",
    "data = np.array([10, 15, 20, 25, 30])\n",
    "#find the minimum and maximum values of the data\n",
    "xmin = np.min(data)\n",
    "xmax = np.max(data)\n",
    "#normalize the data using the formula\n",
    "normalized_data = (data - xmin) / (xmax - xmin)\n",
    "#print the normalized data\n",
    "print(normalized_data)\n"
   ]
  },
  {
   "cell_type": "code",
   "execution_count": null,
   "id": "22bc34ae-6199-41f1-a8d7-d6e2b281c275",
   "metadata": {},
   "outputs": [],
   "source": [
    "#import the preprocessing module from the scikit-learn library\n",
    "from sklearn import preprocessing\n",
    "\n",
    "#create a sample dataset with two features: x and y\n",
    "data = [[10, 2000], [15, 3000], [20, 4000], [25, 5000]]\n",
    "print(data)\n",
    "#initialize a MinMaxScaler object that can normalize the data\n",
    "scaler = preprocessing.MinMaxScaler()\n",
    "\n",
    "#fit the scaler to the data and transform the data to a range between 0 and 1\n",
    "normalized_data = scaler.fit_transform(data)\n",
    "\n",
    "#print the normalized data as a numpy array\n",
    "print(normalized_data)\n"
   ]
  },
  {
   "cell_type": "code",
   "execution_count": null,
   "id": "cf25f1d7-d707-4092-a8a3-d3fdfa564617",
   "metadata": {},
   "outputs": [],
   "source": [
    "#import numpy library for working with arrays\n",
    "import numpy as np\n",
    "\n",
    "#import MinMaxScaler class from the preprocessing module of scikit-learn library for data normalization\n",
    "from sklearn.preprocessing import MinMaxScaler\n",
    "\n",
    "#create a structured data as a 2D array with two features: x and y\n",
    "structured_data = np.array([[100, 200], [300, 400], [500, 600]])\n",
    "\n",
    "#print the normalized structured data as a numpy array\n",
    "print(\"Original Data:\")\n",
    "print(structured_data)\n",
    "\n",
    "#create an instance of MinMaxScaler object that can normalize the data\n",
    "scaler = MinMaxScaler()\n",
    "\n",
    "#fit the scaler to the data and transform the data to a range between 0 and 1\n",
    "normalized_structured = scaler.fit_transform(structured_data)\n",
    "\n",
    "#print the normalized structured data as a numpy array\n",
    "print(\"Normalized Data:\")\n",
    "print(normalized_structured)\n"
   ]
  },
  {
   "cell_type": "markdown",
   "id": "e4ad4bd8-f615-40ba-bdda-2a37ac57b0fc",
   "metadata": {},
   "source": [
    "***2.2. Data Normalization on Pandas DataFrame***"
   ]
  },
  {
   "cell_type": "code",
   "execution_count": null,
   "id": "d17e8705-dbbe-422b-8962-4656a7579285",
   "metadata": {},
   "outputs": [],
   "source": [
    "#import pandas and sklearn\n",
    "import pandas as pd\n",
    "from sklearn.preprocessing import MinMaxScaler\n",
    "\n",
    "#create a sample dataframe with three columns: age, height, and weight\n",
    "df = pd.DataFrame({\n",
    "    'age': [25, 35, 45, 55],\n",
    "    'height': [160, 170, 180, 190],\n",
    "    'weight': [60, 70, 80, 90]\n",
    "})\n",
    "\n",
    "#print the original dataframe\n",
    "print(\"Original dataframe:\")\n",
    "print(df)\n",
    "\n",
    "#create a MinMaxScaler object\n",
    "scaler = MinMaxScaler()\n",
    "\n",
    "#fit and transform the dataframe using the scaler\n",
    "normalized_df = scaler.fit_transform(df)\n",
    "\n",
    "#convert the normalized array into a dataframe\n",
    "normalized_df = pd.DataFrame(normalized_df, columns=df.columns)\n",
    "\n",
    "#print the normalized dataframe\n",
    "print(\"Normalized dataframe:\")\n",
    "print(normalized_df)\n"
   ]
  },
  {
   "cell_type": "code",
   "execution_count": null,
   "id": "51678968-d6ad-44a9-9a56-5f950770011e",
   "metadata": {},
   "outputs": [],
   "source": [
    "#import pandas library for working with dataframes\n",
    "import pandas as pd\n",
    "\n",
    "#import IPython.display for displaying the dataframe\n",
    "from IPython.display import display\n",
    "\n",
    "#read the csv file from the directory and store it as a dataframe\n",
    "diabities_df = pd.read_csv(\"/workspaces/ImplementingStatisticsWithPython/data/chapter1/diabetes.csv\")\n",
    "\n",
    "#specify the columns to normalize, which are all the numerical features in the dataframe\n",
    "columns_to_normalize = ['Pregnancies','Glucose','BloodPressure','SkinThickness','Insulin','BMI','DiabetesPedigreeFunction','Age','Outcome']\n",
    "\n",
    "#display the unnormalized dataframe\n",
    "display(diabities_df[columns_to_normalize].head(4))\n",
    "\n",
    "#import MinMaxScaler class from the preprocessing module of scikit-learn library for data normalization\n",
    "from sklearn.preprocessing import MinMaxScaler\n",
    "\n",
    "#create an instance of MinMaxScaler object that can normalize the data\n",
    "scaler = MinMaxScaler()\n",
    "\n",
    "#fit and transform the dataframe using the scaler and assign the normalized values to the same columns\n",
    "diabities_df[columns_to_normalize] = scaler.fit_transform(diabities_df[columns_to_normalize])\n",
    "\n",
    "#print a message to indicate the normalized structured data\n",
    "print(\"Normalized Structured Data:\")\n",
    "\n",
    "#display the normalized dataframe\n",
    "display(diabities_df.head(4))\n"
   ]
  },
  {
   "cell_type": "markdown",
   "id": "487e2fd5-6dba-49fd-b0d6-8c2ce0120888",
   "metadata": {},
   "source": [
    "**Robust Scalar**"
   ]
  },
  {
   "cell_type": "code",
   "execution_count": null,
   "id": "90078aa5-9165-4d0f-ba6d-434745a36b49",
   "metadata": {},
   "outputs": [],
   "source": [
    "#import the preprocessing module from the scikit-learn library\n",
    "from sklearn import preprocessing\n",
    "#create a sample dataset with two features: x and y\n",
    "data = [[10, 2000], [15, 3000], [20, 4000], [25, 5000]]\n",
    "print(data)\n",
    "#initialize a RobustScaler object that can normalize the data\n",
    "scaler = preprocessing.RobustScaler()\n",
    "#fit the scaler to the data and transform the data using the interquartile range\n",
    "normalized_data = scaler.fit_transform(data)\n",
    "#print the normalized data as a numpy array\n",
    "print(normalized_data)"
   ]
  },
  {
   "cell_type": "markdown",
   "id": "10c4b473-19b3-4d14-9076-8db5788a7eec",
   "metadata": {},
   "source": [
    "**Data standarization on Numpy Array**"
   ]
  },
  {
   "cell_type": "code",
   "execution_count": null,
   "id": "aa5f346e-04ef-456f-9a80-36a1f94ab41f",
   "metadata": {},
   "outputs": [],
   "source": [
    "# Import numpy library for numerical calculations\n",
    "import numpy as np\n",
    "\n",
    "# Define the data as numpy arrays\n",
    "height = np.array([160, 175, 180, 168, 162])\n",
    "weight = np.array([50, 70, 80, 60, 52])\n",
    "\n",
    "# Calculate the mean and standard deviation of each variable\n",
    "height_mean = np.mean(height)\n",
    "height_std = np.std(height)\n",
    "weight_mean = np.mean(weight)\n",
    "weight_std = np.std(weight)\n",
    "\n",
    "# Define the z-score formula as a function\n",
    "def z_score(x, mean, std):\n",
    "    return (x - mean) / std\n",
    "\n",
    "# Apply the z-score formula to each value in the data\n",
    "height_z = z_score(height, height_mean, height_std)\n",
    "weight_z = z_score(weight, weight_mean, weight_std)\n",
    "\n",
    "# Print the standardized values\n",
    "print(\"Height (z-score):\", height_z)\n",
    "print(\"Weight (z-score):\", weight_z)\n"
   ]
  },
  {
   "cell_type": "markdown",
   "id": "1e54a919-63cf-4fda-8799-5fa8265d632a",
   "metadata": {},
   "source": [
    "**Data standarization on Pandas dataframe**"
   ]
  },
  {
   "cell_type": "code",
   "execution_count": null,
   "id": "330cbb0e-4848-49e3-b8ba-4884e306f417",
   "metadata": {},
   "outputs": [],
   "source": [
    "# Import pandas library for data manipulation\n",
    "import pandas as pd\n",
    "\n",
    "# Define the original data as a pandas dataframe\n",
    "data = pd.DataFrame({\"Height\": [160, 175, 180, 168, 162], \"Weight\": [50, 70, 80, 60, 52]})\n",
    "\n",
    "# Calculate the mean and standard deviation of each column\n",
    "data_mean = data.mean()\n",
    "data_std = data.std()\n",
    "\n",
    "\n",
    "# # Define the z-score formula as a function\n",
    "def z_score(column):\n",
    "    mean = column.mean()\n",
    "    std_dev = column.std()\n",
    "    standardized_column = (column - mean) / std_dev\n",
    "    return standardized_column\n",
    "\n",
    "# Apply the z-score formula to each column in the dataframe\n",
    "data_z = data.apply(z_score)\n",
    "\n",
    "# Print the standardized dataframe\n",
    "print(\"Data (z-score):\", data_z)\n"
   ]
  },
  {
   "cell_type": "markdown",
   "id": "b12fce48-2a22-4f7e-90a4-6258fd59ac47",
   "metadata": {},
   "source": [
    "**Data Transformation**"
   ]
  },
  {
   "cell_type": "code",
   "execution_count": 16,
   "id": "af90a750-cf94-4db6-843a-c5f067cd5c78",
   "metadata": {},
   "outputs": [
    {
     "data": {
      "image/png": "[encoded data removed]",
      "text/plain": [
       "<Figure size 640x480 with 1 Axes>"
      ]
     },
     "metadata": {},
     "output_type": "display_data"
    }
   ],
   "source": [
    "# Import the libraries\n",
    "import numpy as np\n",
    "import matplotlib.pyplot as plt\n",
    "\n",
    "# Generate some random data for the annual income of 1000 people in US dollars\n",
    "np.random.seed(42) # Set the seed for reproducibility\n",
    "income = np.random.lognormal(mean=10, sigma=1, size=1000) # Generate 1000 incomes from a lognormal distribution with mean 10 and standard deviation 1\n",
    "income = income.round(2) # Round the incomes to two decimal places\n",
    "\n",
    "# Plot a histogram of the original income\n",
    "plt.hist(income, bins=20)\n",
    "plt.xlabel(\"Income (USD)\")\n",
    "plt.ylabel(\"Frequency\")\n",
    "plt.title(\"Histogram of Income\")\n",
    "# Set the DPI to 600\n",
    "plt.savefig('data_transformation1.png', dpi=600,bbox_inches='tight')\n",
    "# Show the plot (optional)\n",
    "plt.show()"
   ]
  },
  {
   "cell_type": "markdown",
   "id": "3270dada-fdfe-4e83-8982-9679048c4da0",
   "metadata": {},
   "source": [
    "***Histogram of Income***"
   ]
  },
  {
   "cell_type": "code",
   "execution_count": 17,
   "id": "a7244252-470e-4227-aca7-4c115d2eff57",
   "metadata": {},
   "outputs": [
    {
     "data": {
      "image/png": "[encoded data removed]",
      "text/plain": [
       "<Figure size 640x480 with 1 Axes>"
      ]
     },
     "metadata": {},
     "output_type": "display_data"
    }
   ],
   "source": [
    "# Apply a logarithm transformation to the income\n",
    "log_income = np.log10(income) # Take the base 10 logarithm of each income value\n",
    "# Plot a histogram of the transformed income\n",
    "plt.hist(log_income, bins=20)\n",
    "plt.xlabel(\"Logarithm of Income\")\n",
    "plt.ylabel(\"Frequency\")\n",
    "plt.title(\"Histogram of Logarithm of Income\")\n",
    "# Set the DPI to 600\n",
    "plt.savefig('data_transformation2.png', dpi=600, bbox_inches='tight')\n",
    "# Show the plot (optional)\n",
    "plt.show()"
   ]
  },
  {
   "cell_type": "markdown",
   "id": "27b2df85-fc24-423d-b963-1636ff29648c",
   "metadata": {},
   "source": [
    "***Histogram of Logarithm of Income with Original Values***"
   ]
  },
  {
   "cell_type": "code",
   "execution_count": 18,
   "id": "592e5344-4499-4eba-8eeb-b8af597ac038",
   "metadata": {},
   "outputs": [
    {
     "data": {
      "image/png": "[encoded data removed]",
      "text/plain": [
       "<Figure size 640x480 with 1 Axes>"
      ]
     },
     "metadata": {},
     "output_type": "display_data"
    }
   ],
   "source": [
    "# Label the x-axis with the original values by using 10^x as tick marks\n",
    "plt.hist(log_income, bins=20)\n",
    "plt.xlabel(\"Income (USD)\")\n",
    "plt.ylabel(\"Frequency\")\n",
    "plt.title(\"Histogram of Logarithm of Income\")\n",
    "plt.xticks(np.arange(1, 7), [\"$10\", \"$100\", \"$1K\", \"$10K\", \"$100K\", \"$1M\"])\n",
    "# Set the DPI to 600\n",
    "plt.savefig('data_transformation3.png', dpi=600,bbox_inches='tight')\n",
    "# Show the plot (optional)\n",
    "plt.show()"
   ]
  },
  {
   "cell_type": "markdown",
   "id": "16542ded-5c14-4ff9-abbe-3d24f7c15180",
   "metadata": {},
   "source": [
    "As you can see, the data transformation made the data more evenly distributed across bins, and reduced the effect of outliers. The histogram of the log-transformed income showed a clearer picture of how income varies among people. The x-axis was labeled with the original values by using 10^x as tick marks."
   ]
  },
  {
   "cell_type": "markdown",
   "id": "073c3f74-2ac4-4e09-a575-6126f2684fdb",
   "metadata": {},
   "source": [
    "In unstructuctered data like text normalization may involve natural language processing like convert lowercase , removing punctuation, \n",
    "handling special character like whitespaces and many more.\n",
    "<br>\n",
    "As shows in ***Tutorial 2.3.***\n",
    "In image or audio it may involve rescaling pixel values, extracting features."
   ]
  },
  {
   "cell_type": "markdown",
   "id": "43f6b06f-7de4-4a63-87a0-3b65425db18d",
   "metadata": {},
   "source": [
    "***Tutorial 2.3. Convert lowercase , removing punctuation, handling special character like whitespaces in unstructured text data***"
   ]
  },
  {
   "cell_type": "code",
   "execution_count": null,
   "id": "94f2e740-b242-49e8-a8e1-440158ece00e",
   "metadata": {},
   "outputs": [],
   "source": [
    "# Import the re module, which provides regular expression operations\n",
    "import re\n",
    "\n",
    "# Define a function named normalize_text that takes a text as an argument\n",
    "def normalize_text(text):\n",
    "    # Convert all the characters in the text to lowercase\n",
    "    text = text.lower()\n",
    "    # Remove any punctuation marks (such as . , ! ?) from the text using a regular expression\n",
    "    text = re.sub(r'[^\\w\\s]', '', text)\n",
    "    # Remove any extra whitespace (such as tabs, newlines, or multiple spaces) from the text using a regular expression\n",
    "    text = re.sub(r'\\s+', ' ', text).strip()\n",
    "    # Return the normalized text as the output of the function\n",
    "    return text\n",
    "\n",
    "# Create a sample unstructured text data as a string\n",
    "unstructured_text = \"This is an a text for book Implementing Stat with Python, with! various punctuation marks...\"\n",
    "\n",
    "# Call the normalize_text function on the unstructured text and assign the result to a variable named normalized_text\n",
    "normalized_text = normalize_text(unstructured_text)\n",
    "\n",
    "# Print the original and normalized texts to compare them\n",
    "print(\"Original Text:\", unstructured_text)\n",
    "print(\"Normalized Text:\", normalized_text)"
   ]
  },
  {
   "cell_type": "markdown",
   "id": "c680e16a-fb45-4431-91d1-3519130a4032",
   "metadata": {},
   "source": [
    "**Tutorial 3. Data Binning, Grouping and Encoding**\n",
    "<br>\n",
    "Data binning summerizes, preprocess data. It is important to handle noisy data, statical inference, detecting pattern, performing analysis.\n",
    "<br>\n",
    "Group set of contineous data points into discreate interval or bins. "
   ]
  },
  {
   "cell_type": "markdown",
   "id": "793e94b5-c2c0-4667-a20f-74dafa8903d6",
   "metadata": {},
   "source": [
    "**Simple implementation of data binning for the example of grouping the ages of 100 people into 5 bins: [0-20), [20-40), [40-60), [60-80), and [80-100] in Python**"
   ]
  },
  {
   "cell_type": "code",
   "execution_count": null,
   "id": "d01503d7-a78e-4a01-9fdf-679c5fa013b8",
   "metadata": {},
   "outputs": [],
   "source": [
    "# Import the libraries\n",
    "import numpy as np\n",
    "import pandas as pd\n",
    "import matplotlib.pyplot as plt\n",
    "\n",
    "# Generate some random data for the ages of 100 people\n",
    "np.random.seed(42) # Set the seed for reproducibility\n",
    "ages = np.random.randint(low=0, high=101, size=100) # Generate 100 ages between 0 and 100\n",
    "\n",
    "# Create a pandas dataframe with the ages\n",
    "df = pd.DataFrame({\"Age\": ages}) # Create a dataframe with one column: Age\n",
    "\n",
    "# Define the bins and labels for the age groups\n",
    "bins = [0, 20, 40, 60, 80, 100] # Define the bin edges\n",
    "labels = [\"[0-20)\", \"[20-40)\", \"[40-60)\", \"[60-80)\", \"[80-100]\"] # Define the bin labels\n",
    "\n",
    "# Apply data binning to the ages using the pd.cut function\n",
    "df[\"Age Group\"] = pd.cut(df[\"Age\"], bins=bins, labels=labels, right=False) # Create a new column with the age groups\n",
    "\n",
    "# Print the first 10 rows of the dataframe\n",
    "print(df.head(10))\n"
   ]
  },
  {
   "cell_type": "code",
   "execution_count": null,
   "id": "0cad5c34-cdce-46ee-b704-dbd7e9ce6765",
   "metadata": {},
   "outputs": [],
   "source": [
    "# Plot a bar chart of the frequency of each age group\n",
    "plt.bar(labels, df[\"Age Group\"].value_counts(sort=False))\n",
    "plt.xlabel(\"Age Group\")\n",
    "plt.ylabel(\"Frequency\")\n",
    "plt.title(\"Bar Chart of Age Groups\")\n",
    "plt.savefig(\"data_binning1.jpg\", dpi=600)\n",
    "plt.show()"
   ]
  },
  {
   "cell_type": "markdown",
   "id": "51195012-fc8c-4707-83a6-2545159264e5",
   "metadata": {},
   "source": [
    "***3.1. Data Binning in pandas DataFrame***"
   ]
  },
  {
   "cell_type": "code",
   "execution_count": null,
   "id": "b8201243-9df0-4b3a-8e34-e3d30315ab2d",
   "metadata": {},
   "outputs": [],
   "source": [
    "import pandas as pd\n",
    "# Read the json file from the direcotory\n",
    "diabities_df = pd.read_csv(\"/workspaces/ImplementingStatisticsWithPython/data/chapter1/diabetes.csv\")\n",
    "\n",
    "# Define the bin intervals\n",
    "bin_edges = [0, 30, 60, 100]\n",
    "\n",
    "# Use cut to create a new column with bin labels\n",
    "diabities_df['Age_Group'] = pd.cut(diabities_df['Age'], bins=bin_edges, labels=['<30', '30-60', '60-100'])\n",
    "\n",
    "# Count the number of people in each age group\n",
    "age_group_counts = diabities_df['Age_Group'].value_counts().sort_index()\n",
    "\n",
    "# View new DataFrame with the new bin(categories) columns\n",
    "diabities_df"
   ]
  },
  {
   "cell_type": "markdown",
   "id": "48dea6b9-1d0d-4d04-86b6-e2e48b8ec399",
   "metadata": {},
   "source": [
    "***3.2. Data Binning in Numpy Array***"
   ]
  },
  {
   "cell_type": "code",
   "execution_count": 19,
   "id": "eec68112-7432-4bb7-8a56-171a802e3b4d",
   "metadata": {},
   "outputs": [
    {
     "data": {
      "image/png": "[encoded data removed]",
      "text/plain": [
       "<Figure size 640x480 with 1 Axes>"
      ]
     },
     "metadata": {},
     "output_type": "display_data"
    }
   ],
   "source": [
    "import numpy as np\n",
    "import matplotlib.pyplot as plt\n",
    "\n",
    "# Create a sample NumPy array of exam scores\n",
    "scores = np.array([75, 82, 95, 68, 90, 85, 78, 72, 88, 93, 60, 72, 80])\n",
    "\n",
    "# Define the bin intervals\n",
    "bin_edges = [0, 60, 70, 80, 90, 100]\n",
    "\n",
    "# Use histogram to count the number of scores in each bin\n",
    "bin_counts, _ = np.histogram(scores, bins=bin_edges)\n",
    "\n",
    "# Plot a histogram of the binned scores\n",
    "plt.bar(range(len(bin_counts)), bin_counts, align='center')\n",
    "plt.xticks(range(len(bin_edges) - 1), ['<60', '60-69', '70-79', '80-89', '90+'])\n",
    "plt.xlabel('Score Range')\n",
    "plt.ylabel('Count')\n",
    "plt.title('Distribution of Exam Scores')\n",
    "plt.savefig(\"data_binning2.jpg\",dpi=600,bbox_inches='tight')\n",
    "plt.show()"
   ]
  },
  {
   "cell_type": "markdown",
   "id": "e437b756-7b2c-47c7-9502-2974cd0ae458",
   "metadata": {},
   "source": [
    "In text files, data binning can be grouping and categorizing of text data based on some criteria.To perform it simply :\n",
    "1. Determine a criteria for binning. For example: Could be count of sentences in text, word count, sentiment score, topic.\n",
    "2. Read text and calculate the choosen criteria for binning. For example: Count number of words in bins.\n",
    "3. Define bins based on range of values for the choosen criteria. For example: Defining short, medium, long based on word count of text.\n",
    "4. Assign text files appropriate bin based on calculated value.\n",
    "5. Analyse or summerize the data in the new bins\n",
    "\n",
    "Some use cases of binning in text file:\n",
    "a. Grouping text files based on their length.\n",
    "b. Binning based on the sentiment analysis score.\n",
    "c. Topic binning by performing topic modelling.\n",
    "d. Language binning if text files are in different languages.\n",
    "e. Time-based binning if text files have timestamps. "
   ]
  },
  {
   "cell_type": "markdown",
   "id": "8b31ca2e-acbf-42b8-94fd-de64afe7e082",
   "metadata": {},
   "source": [
    "***3.3. Data Binning in Text file collection using word count***"
   ]
  },
  {
   "cell_type": "code",
   "execution_count": 5,
   "id": "e4fd1cab-5e93-40af-a577-d45f804a1f6a",
   "metadata": {},
   "outputs": [
    {
     "name": "stdout",
     "output_type": "stream",
     "text": [
      "Date: 2023-08-05\n",
      "Merchant: Bistro Delight\n",
      "Amount: $42.75\n",
      "Description: Dinner with colleagues - celebrating a successful project launch.\n",
      "\n",
      "Thank you for choosing Bistro Delight. Your payment of $42.75 has been processed.\n",
      "\n"
     ]
    },
    {
     "data": {
      "text/html": [
       "<div>\n",
       "<style scoped>\n",
       "    .dataframe tbody tr th:only-of-type {\n",
       "        vertical-align: middle;\n",
       "    }\n",
       "\n",
       "    .dataframe tbody tr th {\n",
       "        vertical-align: top;\n",
       "    }\n",
       "\n",
       "    .dataframe thead th {\n",
       "        text-align: right;\n",
       "    }\n",
       "</style>\n",
       "<table border=\"1\" class=\"dataframe\">\n",
       "  <thead>\n",
       "    <tr style=\"text-align: right;\">\n",
       "      <th></th>\n",
       "      <th>file</th>\n",
       "      <th>count</th>\n",
       "      <th>bin</th>\n",
       "    </tr>\n",
       "  </thead>\n",
       "  <tbody>\n",
       "    <tr>\n",
       "      <th>0</th>\n",
       "      <td>/workspaces/ImplementingStatisticsWithPython/d...</td>\n",
       "      <td>25</td>\n",
       "      <td>Short</td>\n",
       "    </tr>\n",
       "    <tr>\n",
       "      <th>1</th>\n",
       "      <td>/workspaces/ImplementingStatisticsWithPython/d...</td>\n",
       "      <td>30</td>\n",
       "      <td>Medium</td>\n",
       "    </tr>\n",
       "    <tr>\n",
       "      <th>2</th>\n",
       "      <td>/workspaces/ImplementingStatisticsWithPython/d...</td>\n",
       "      <td>31</td>\n",
       "      <td>Long</td>\n",
       "    </tr>\n",
       "    <tr>\n",
       "      <th>3</th>\n",
       "      <td>/workspaces/ImplementingStatisticsWithPython/d...</td>\n",
       "      <td>27</td>\n",
       "      <td>Medium</td>\n",
       "    </tr>\n",
       "    <tr>\n",
       "      <th>4</th>\n",
       "      <td>/workspaces/ImplementingStatisticsWithPython/d...</td>\n",
       "      <td>33</td>\n",
       "      <td>Long</td>\n",
       "    </tr>\n",
       "  </tbody>\n",
       "</table>\n",
       "</div>"
      ],
      "text/plain": [
       "                                                file  count     bin\n",
       "0  /workspaces/ImplementingStatisticsWithPython/d...     25   Short\n",
       "1  /workspaces/ImplementingStatisticsWithPython/d...     30  Medium\n",
       "2  /workspaces/ImplementingStatisticsWithPython/d...     31    Long\n",
       "3  /workspaces/ImplementingStatisticsWithPython/d...     27  Medium\n",
       "4  /workspaces/ImplementingStatisticsWithPython/d...     33    Long"
      ]
     },
     "execution_count": 5,
     "metadata": {},
     "output_type": "execute_result"
    }
   ],
   "source": [
    "# Import the os, glob, and pandas modules\n",
    "import os\n",
    "import glob\n",
    "import pandas as pd\n",
    "\n",
    "# Define the path of the folder that contains the files\n",
    "path = \"/workspaces/ImplementingStatisticsWithPython/data/chapter1/TransactionNarrative\" \n",
    "files = glob.glob(path + \"/*.txt\") # Get a list of files that match the pattern \"/*.txt\" in the folder\n",
    "\n",
    "# Display a the information in first file\n",
    "file_one = glob.glob(\"/workspaces/ImplementingStatisticsWithPython/data/chapter1/TransactionNarrative/1.txt\") \n",
    "for file1 in file_one: # Loop through the file_one list\n",
    "    # To open each file in read mode with utf-8 encoding and assign it to a file object\n",
    "    with open(file1, \"r\", encoding=\"utf-8\") as f1: # Open each file in read mode with utf-8 encoding and assign it to a file object named f1\n",
    "        print(f1.read()) # Print the content of the file object\n",
    "\n",
    "# Function that takes a file name as an argument and returns the word count of that file\n",
    "def word_count(file): # Define a function named word_count that takes a file name as an argument\n",
    "    # Open the file in read mode\n",
    "    with open(file, \"r\") as f: # Open the file in read mode and assign it to a file object named f\n",
    "        # Read the file content\n",
    "        content = f.read() # Read the content of the file object and assign it to a variable named content\n",
    "        # Split the content by whitespace characters\n",
    "        words = content.split() # Split the content by whitespace characters and assign it to a variable named words\n",
    "        # Return the length of the words list\n",
    "        return len(words) # Return the length of the words list as the output of the function\n",
    "\n",
    "counts = [word_count(file) for file in files] # Use a list comprehension to apply the word_count function to each file in the files list and assign it to a variable named counts\n",
    "\n",
    "binning_df = pd.DataFrame({\"file\": files, \"count\": counts}) # Create a pandas dataframe with two columns: file and count, using the files and counts lists as values\n",
    "binning_df[\"bin\"] = pd.cut(binning_df[\"count\"], bins=[0, 26, 30, 35]) # Create a new column named bin, using the pd.cut function to group the count values into three bins: [0-26), [26-30), and [30-35]\n",
    "binning_df[\"bin\"] = pd.cut(binning_df[\"count\"], bins=[0, 26, 30, 35], labels=[\"Short\", \"Medium\", \"Long\"]) # Replace the bin values with labels: Short, Medium, and Long, using the labels argument of the pd.cut function\n",
    "binning_df # Display the dataframe"
   ]
  },
  {
   "cell_type": "markdown",
   "id": "7680bf7c-0edd-4764-ad30-0f107f03869b",
   "metadata": {},
   "source": [
    "In unstructured data, the data binning can be used for text categorization and modelling of text data, color quantization and feature extraction on image data, audio segmentation and feature extraction on audio data. \n"
   ]
  },
  {
   "cell_type": "markdown",
   "id": "be61ddf0-1005-44ad-8641-afce78d3b9a8",
   "metadata": {},
   "source": [
    "***3.3. Grouping***"
   ]
  },
  {
   "cell_type": "markdown",
   "id": "deeef48b-94a6-41a7-9ac3-132a512d315a",
   "metadata": {},
   "source": [
    "**Grouping sales by region**"
   ]
  },
  {
   "cell_type": "code",
   "execution_count": 5,
   "id": "8626bef4-784e-446e-b2d6-9bf55eba71ef",
   "metadata": {},
   "outputs": [
    {
     "name": "stdout",
     "output_type": "stream",
     "text": [
      "\n",
      "Original dataframe\n",
      "  product region  sales\n",
      "0       A  North    100\n",
      "1       A  South    200\n",
      "2       B  North    150\n",
      "3       B  South    250\n",
      "4       C  North    120\n",
      "5       C  South    300\n",
      "\n",
      "Grouped by product\n",
      "             region  sales\n",
      "product                   \n",
      "A        NorthSouth    300\n",
      "B        NorthSouth    400\n",
      "C        NorthSouth    420\n",
      "\n",
      "Grouped by region\n",
      "       product  sales\n",
      "region               \n",
      "North      ABC    370\n",
      "South      ABC    750\n"
     ]
    }
   ],
   "source": [
    "# Import pandas library\n",
    "import pandas as pd\n",
    "\n",
    "# Create a sample sales data frame with columns for product, region, and sales\n",
    "sales_data = pd.DataFrame({\n",
    "    \"product\": [\"A\", \"A\", \"B\", \"B\", \"C\", \"C\"],\n",
    "    \"region\": [\"North\", \"South\", \"North\", \"South\", \"North\", \"South\"],\n",
    "    \"sales\": [100, 200, 150, 250, 120, 300]\n",
    "})\n",
    "\n",
    "# Print the sales data frame\n",
    "print(\"\\nOriginal dataframe\")\n",
    "print(sales_data)\n",
    "\n",
    "# Group the sales data by product and calculate the total sales for each product\n",
    "group_by_product = sales_data.groupby(\"product\").sum()\n",
    "\n",
    "# Print the grouped data by product\n",
    "print(\"\\nGrouped by product\")\n",
    "print(group_by_product)\n",
    "\n",
    "# Group the sales data by region and calculate the average sales for each region\n",
    "group_by_region = sales_data.groupby(\"region\").sum()\n",
    "\n",
    "# Print the grouped data by region\n",
    "print(\"\\nGrouped by region\")\n",
    "print(group_by_region)\n"
   ]
  },
  {
   "cell_type": "markdown",
   "id": "d3335576-fb28-4db6-8bbe-4d4c2f502f9e",
   "metadata": {},
   "source": [
    "***3.3.1.Groping of the DataFrame based on the condition and binning***"
   ]
  },
  {
   "cell_type": "code",
   "execution_count": 8,
   "id": "e100e988-cebb-4d76-b29a-b49399694543",
   "metadata": {},
   "outputs": [
    {
     "name": "stdout",
     "output_type": "stream",
     "text": [
      "Age\n",
      "(13, 16]    85.166667\n",
      "(16, 18]    78.000000\n",
      "Name: Score, dtype: float64\n"
     ]
    }
   ],
   "source": [
    "# Import pandas library to work with data frames\n",
    "import pandas as pd\n",
    "\n",
    "# Create a data frame with student data, including name, age, and score\n",
    "data = {'Name': ['John', 'Anna', 'Peter', 'Carol', 'David', 'Oystein','Hari'],\n",
    "        'Age': [15, 16, 17, 15, 16, 14, 16],\n",
    "        'Score': [85, 92, 78, 80, 88, 77, 89]}\n",
    "df = pd.DataFrame(data)\n",
    "\n",
    "# Create age intervals based on the age column, using bins of 13-16 and 17-18\n",
    "age_intervals = pd.cut(df['Age'], bins=[13, 16, 18])\n",
    "\n",
    "# Group the data frame by the age intervals and calculate the mean score for each group\n",
    "grouped_data = df.groupby(age_intervals)['Score'].mean()\n",
    "\n",
    "# Print the grouped data with the age intervals and the mean score\n",
    "print(grouped_data)\n"
   ]
  },
  {
   "cell_type": "markdown",
   "id": "a6fd1f79-0062-48c5-b62f-9fa311a933c8",
   "metadata": {},
   "source": [
    "***3.3.2. Scikit-learn digit datasets can be grouped based on relevant criteria such as the target labels***"
   ]
  },
  {
   "cell_type": "code",
   "execution_count": 12,
   "id": "c1de465e-c4f8-46ff-8e75-a2e467cd59e7",
   "metadata": {},
   "outputs": [
    {
     "data": {
      "image/png": "[encoded data removed]",
      "text/plain": [
       "<Figure size 1000x400 with 5 Axes>"
      ]
     },
     "metadata": {},
     "output_type": "display_data"
    },
    {
     "name": "stdout",
     "output_type": "stream",
     "text": [
      "Target 0: 178 samples\n",
      "Target 1: 182 samples\n",
      "Target 2: 177 samples\n",
      "Target 3: 183 samples\n",
      "Target 4: 181 samples\n",
      "Target 5: 182 samples\n",
      "Target 6: 181 samples\n",
      "Target 7: 179 samples\n",
      "Target 8: 174 samples\n",
      "Target 9: 180 samples\n"
     ]
    }
   ],
   "source": [
    "# Import the sklearn library to load the digits dataset\n",
    "from sklearn.datasets import load_digits\n",
    "# Import the matplotlib library to plot the images\n",
    "import matplotlib.pyplot as plt\n",
    "\n",
    "# Class to display and perform grouping of digits\n",
    "class Digits_Grouping:\n",
    "    # Contructor method to initialize the object's attributes\n",
    "    def __init__(self,digits):\n",
    "        self.digits = digits\n",
    "\n",
    "    def display_digit_image(self):\n",
    "        # Get the images and labels from the dataset\n",
    "        images = self.digits.images\n",
    "        labels = self.digits.target\n",
    "        \n",
    "        # Display the first few images along with their labels\n",
    "        num_images_to_display = 5  # You can change this number as needed\n",
    "\n",
    "        # Plot the selected few image in a subplot\n",
    "        plt.figure(figsize=(10, 4))\n",
    "        for i in range(num_images_to_display):\n",
    "            plt.subplot(1, num_images_to_display, i + 1)\n",
    "            plt.imshow(images[i], cmap='gray')\n",
    "            plt.title(f\"Label: {labels[i]}\")\n",
    "            plt.axis('off')\n",
    "\n",
    "        # Save the figure to a file with no padding\n",
    "        plt.savefig('data_grouping.jpg', dpi=600, bbox_inches='tight')\n",
    "        plt.show()\n",
    "\n",
    "    def display_label_based_grouping(self):\n",
    "        # Group the data based on target labels\n",
    "        grouped_data = {}\n",
    "        # Iterate through each image and its corresponding target in the dataset.\n",
    "        for image, target in zip(self.digits.images, self.digits.target):\n",
    "            # Check if the current target value is not already present as a key in grouped_data.\n",
    "            if target not in grouped_data:\n",
    "                # If the target is not in grouped_data, add it as a new key with an empty list as the value.\n",
    "                grouped_data[target] = []\n",
    "            \n",
    "            # Append the current image to the list associated with the target key in grouped_data.\n",
    "            grouped_data[target].append(image)\n",
    "\n",
    "        # Print the number of samples in each group\n",
    "        for target, images in grouped_data.items():\n",
    "            print(f\"Target {target}: {len(images)} samples\")\n",
    "\n",
    "# Create an object of Digits_Grouping class with the digits dataset as an argument\n",
    "displayDigit = Digits_Grouping(load_digits())\n",
    "# Call the display_digit_image method to show some images and labels from the dataset\n",
    "displayDigit.display_digit_image()\n",
    "# Call the display_label_based_grouping method to show how many samples are there for each label\n",
    "displayDigit.display_label_based_grouping()\n",
    "\n",
    "\n"
   ]
  },
  {
   "cell_type": "markdown",
   "id": "f3a9d358-9223-49cc-a076-41d24ad9fac9",
   "metadata": {},
   "source": [
    "***3.4. Encoding***"
   ]
  },
  {
   "cell_type": "markdown",
   "id": "68089466-73aa-4a59-84c2-e97522f1a9d2",
   "metadata": {},
   "source": [
    "***3.4.1. One-hot encoding tutorial with method get_dummies()***"
   ]
  },
  {
   "cell_type": "markdown",
   "id": "3f170c3b-8516-4821-8949-8b02a2b67526",
   "metadata": {},
   "source": [
    "One-hot encoding creates a new column for each distinct value of the category variable, and the presence or absence of that value in each row is denoted by a binary value of 1 or 0. It encodes categorical data in a way that machine learning algorithms can understand and interpret. However, it makes the data more dimensional and produces sparse matrices."
   ]
  },
  {
   "cell_type": "code",
   "execution_count": 17,
   "id": "ea709b0b-d9ec-4afc-b5b8-18a6cf36d0a0",
   "metadata": {},
   "outputs": [
    {
     "name": "stdout",
     "output_type": "stream",
     "text": [
      "Original dataframe\n",
      "    name gender   color\n",
      "0  Alice      F  yellow\n",
      "1    Eve      F   green\n",
      "2    Lee      M   green\n",
      "3    Dam      M  yellow\n",
      "4    Eva      F    pink\n",
      "One hot encoded dataframe\n"
     ]
    },
    {
     "data": {
      "text/html": [
       "<div>\n",
       "<style scoped>\n",
       "    .dataframe tbody tr th:only-of-type {\n",
       "        vertical-align: middle;\n",
       "    }\n",
       "\n",
       "    .dataframe tbody tr th {\n",
       "        vertical-align: top;\n",
       "    }\n",
       "\n",
       "    .dataframe thead th {\n",
       "        text-align: right;\n",
       "    }\n",
       "</style>\n",
       "<table border=\"1\" class=\"dataframe\">\n",
       "  <thead>\n",
       "    <tr style=\"text-align: right;\">\n",
       "      <th></th>\n",
       "      <th>name</th>\n",
       "      <th>gender_F</th>\n",
       "      <th>gender_M</th>\n",
       "      <th>color_green</th>\n",
       "      <th>color_pink</th>\n",
       "      <th>color_yellow</th>\n",
       "    </tr>\n",
       "  </thead>\n",
       "  <tbody>\n",
       "    <tr>\n",
       "      <th>0</th>\n",
       "      <td>Alice</td>\n",
       "      <td>1</td>\n",
       "      <td>0</td>\n",
       "      <td>0</td>\n",
       "      <td>0</td>\n",
       "      <td>1</td>\n",
       "    </tr>\n",
       "    <tr>\n",
       "      <th>1</th>\n",
       "      <td>Eve</td>\n",
       "      <td>1</td>\n",
       "      <td>0</td>\n",
       "      <td>1</td>\n",
       "      <td>0</td>\n",
       "      <td>0</td>\n",
       "    </tr>\n",
       "    <tr>\n",
       "      <th>2</th>\n",
       "      <td>Lee</td>\n",
       "      <td>0</td>\n",
       "      <td>1</td>\n",
       "      <td>1</td>\n",
       "      <td>0</td>\n",
       "      <td>0</td>\n",
       "    </tr>\n",
       "    <tr>\n",
       "      <th>3</th>\n",
       "      <td>Dam</td>\n",
       "      <td>0</td>\n",
       "      <td>1</td>\n",
       "      <td>0</td>\n",
       "      <td>0</td>\n",
       "      <td>1</td>\n",
       "    </tr>\n",
       "    <tr>\n",
       "      <th>4</th>\n",
       "      <td>Eva</td>\n",
       "      <td>1</td>\n",
       "      <td>0</td>\n",
       "      <td>0</td>\n",
       "      <td>1</td>\n",
       "      <td>0</td>\n",
       "    </tr>\n",
       "  </tbody>\n",
       "</table>\n",
       "</div>"
      ],
      "text/plain": [
       "    name  gender_F  gender_M  color_green  color_pink  color_yellow\n",
       "0  Alice         1         0            0           0             1\n",
       "1    Eve         1         0            1           0             0\n",
       "2    Lee         0         1            1           0             0\n",
       "3    Dam         0         1            0           0             1\n",
       "4    Eva         1         0            0           1             0"
      ]
     },
     "execution_count": 17,
     "metadata": {},
     "output_type": "execute_result"
    }
   ],
   "source": [
    "# Import pandas library\n",
    "import pandas as pd\n",
    "\n",
    "# Create a sample dataframe with 3 columns: name, gender and color\n",
    "df = pd.DataFrame({\n",
    "    'name': ['Alice', 'Eve', 'Lee', 'Dam', 'Eva'],\n",
    "    'gender': ['F', 'F', 'M', 'M', 'F'],\n",
    "    'color': ['yellow', 'green', 'green', 'yellow', 'pink']\n",
    "})\n",
    "\n",
    "# Print the original dataframe\n",
    "print(\"Original dataframe\")\n",
    "print(df)\n",
    "\n",
    "# Apply one hot encoding on the gender and color columns using pandas.get_dummies()\n",
    "df_encoded = pd.get_dummies(df, columns=['gender', 'color'], dtype=int)\n",
    "\n",
    "# Print the encoded dataframe\n",
    "print(\"One hot encoded dataframe\")\n",
    "df_encoded"
   ]
  },
  {
   "cell_type": "markdown",
   "id": "07363d67-c07e-40ef-839e-88fb2fd68de3",
   "metadata": {},
   "source": [
    "***3.4.2. One-hot encoding on the complete dataframe with object column***\n",
    "<br>\n",
    "Dataset used:  \n",
    "Becker,Barry and Kohavi,Ronny. (1996). Adult. UCI Machine Learning Repository. https://doi.org/10.24432/C5XW20.\n",
    "Accessed From: https://archive.ics.uci.edu/dataset/2/adult \n",
    "Used under the Creative Commons Attribution 0.0 International license (CC0: Public Domain)."
   ]
  },
  {
   "cell_type": "code",
   "execution_count": 19,
   "id": "fcf45953-5959-47bc-b4a0-e5a6b1430afa",
   "metadata": {},
   "outputs": [
    {
     "data": {
      "text/html": [
       "<div>\n",
       "<style scoped>\n",
       "    .dataframe tbody tr th:only-of-type {\n",
       "        vertical-align: middle;\n",
       "    }\n",
       "\n",
       "    .dataframe tbody tr th {\n",
       "        vertical-align: top;\n",
       "    }\n",
       "\n",
       "    .dataframe thead th {\n",
       "        text-align: right;\n",
       "    }\n",
       "</style>\n",
       "<table border=\"1\" class=\"dataframe\">\n",
       "  <thead>\n",
       "    <tr style=\"text-align: right;\">\n",
       "      <th></th>\n",
       "      <th>Age</th>\n",
       "      <th>person_id</th>\n",
       "      <th>education_number</th>\n",
       "      <th>capital_gain</th>\n",
       "      <th>capital_loss</th>\n",
       "      <th>hours_per_week</th>\n",
       "      <th>Work_ ?</th>\n",
       "      <th>Work_ Federal-gov</th>\n",
       "      <th>Work_ Local-gov</th>\n",
       "      <th>Work_ Never-worked</th>\n",
       "      <th>...</th>\n",
       "      <th>native_country_ Scotland</th>\n",
       "      <th>native_country_ South</th>\n",
       "      <th>native_country_ Taiwan</th>\n",
       "      <th>native_country_ Thailand</th>\n",
       "      <th>native_country_ Trinadad&amp;Tobago</th>\n",
       "      <th>native_country_ United-States</th>\n",
       "      <th>native_country_ Vietnam</th>\n",
       "      <th>native_country_ Yugoslavia</th>\n",
       "      <th>income_ &lt;=50K</th>\n",
       "      <th>income_ &gt;50K</th>\n",
       "    </tr>\n",
       "  </thead>\n",
       "  <tbody>\n",
       "    <tr>\n",
       "      <th>0</th>\n",
       "      <td>39</td>\n",
       "      <td>77516</td>\n",
       "      <td>13</td>\n",
       "      <td>2174</td>\n",
       "      <td>0</td>\n",
       "      <td>40</td>\n",
       "      <td>0</td>\n",
       "      <td>0</td>\n",
       "      <td>0</td>\n",
       "      <td>0</td>\n",
       "      <td>...</td>\n",
       "      <td>0</td>\n",
       "      <td>0</td>\n",
       "      <td>0</td>\n",
       "      <td>0</td>\n",
       "      <td>0</td>\n",
       "      <td>1</td>\n",
       "      <td>0</td>\n",
       "      <td>0</td>\n",
       "      <td>1</td>\n",
       "      <td>0</td>\n",
       "    </tr>\n",
       "    <tr>\n",
       "      <th>1</th>\n",
       "      <td>50</td>\n",
       "      <td>83311</td>\n",
       "      <td>13</td>\n",
       "      <td>0</td>\n",
       "      <td>0</td>\n",
       "      <td>13</td>\n",
       "      <td>0</td>\n",
       "      <td>0</td>\n",
       "      <td>0</td>\n",
       "      <td>0</td>\n",
       "      <td>...</td>\n",
       "      <td>0</td>\n",
       "      <td>0</td>\n",
       "      <td>0</td>\n",
       "      <td>0</td>\n",
       "      <td>0</td>\n",
       "      <td>1</td>\n",
       "      <td>0</td>\n",
       "      <td>0</td>\n",
       "      <td>1</td>\n",
       "      <td>0</td>\n",
       "    </tr>\n",
       "    <tr>\n",
       "      <th>2</th>\n",
       "      <td>38</td>\n",
       "      <td>215646</td>\n",
       "      <td>9</td>\n",
       "      <td>0</td>\n",
       "      <td>0</td>\n",
       "      <td>40</td>\n",
       "      <td>0</td>\n",
       "      <td>0</td>\n",
       "      <td>0</td>\n",
       "      <td>0</td>\n",
       "      <td>...</td>\n",
       "      <td>0</td>\n",
       "      <td>0</td>\n",
       "      <td>0</td>\n",
       "      <td>0</td>\n",
       "      <td>0</td>\n",
       "      <td>1</td>\n",
       "      <td>0</td>\n",
       "      <td>0</td>\n",
       "      <td>1</td>\n",
       "      <td>0</td>\n",
       "    </tr>\n",
       "    <tr>\n",
       "      <th>3</th>\n",
       "      <td>53</td>\n",
       "      <td>234721</td>\n",
       "      <td>7</td>\n",
       "      <td>0</td>\n",
       "      <td>0</td>\n",
       "      <td>40</td>\n",
       "      <td>0</td>\n",
       "      <td>0</td>\n",
       "      <td>0</td>\n",
       "      <td>0</td>\n",
       "      <td>...</td>\n",
       "      <td>0</td>\n",
       "      <td>0</td>\n",
       "      <td>0</td>\n",
       "      <td>0</td>\n",
       "      <td>0</td>\n",
       "      <td>1</td>\n",
       "      <td>0</td>\n",
       "      <td>0</td>\n",
       "      <td>1</td>\n",
       "      <td>0</td>\n",
       "    </tr>\n",
       "    <tr>\n",
       "      <th>4</th>\n",
       "      <td>28</td>\n",
       "      <td>338409</td>\n",
       "      <td>13</td>\n",
       "      <td>0</td>\n",
       "      <td>0</td>\n",
       "      <td>40</td>\n",
       "      <td>0</td>\n",
       "      <td>0</td>\n",
       "      <td>0</td>\n",
       "      <td>0</td>\n",
       "      <td>...</td>\n",
       "      <td>0</td>\n",
       "      <td>0</td>\n",
       "      <td>0</td>\n",
       "      <td>0</td>\n",
       "      <td>0</td>\n",
       "      <td>0</td>\n",
       "      <td>0</td>\n",
       "      <td>0</td>\n",
       "      <td>1</td>\n",
       "      <td>0</td>\n",
       "    </tr>\n",
       "  </tbody>\n",
       "</table>\n",
       "<p>5 rows × 110 columns</p>\n",
       "</div>"
      ],
      "text/plain": [
       "   Age   person_id   education_number   capital_gain   capital_loss  \\\n",
       "0   39       77516                 13           2174              0   \n",
       "1   50       83311                 13              0              0   \n",
       "2   38      215646                  9              0              0   \n",
       "3   53      234721                  7              0              0   \n",
       "4   28      338409                 13              0              0   \n",
       "\n",
       "    hours_per_week   Work_ ?   Work_ Federal-gov   Work_ Local-gov  \\\n",
       "0               40         0                   0                 0   \n",
       "1               13         0                   0                 0   \n",
       "2               40         0                   0                 0   \n",
       "3               40         0                   0                 0   \n",
       "4               40         0                   0                 0   \n",
       "\n",
       "    Work_ Never-worked  ...   native_country_ Scotland  \\\n",
       "0                    0  ...                          0   \n",
       "1                    0  ...                          0   \n",
       "2                    0  ...                          0   \n",
       "3                    0  ...                          0   \n",
       "4                    0  ...                          0   \n",
       "\n",
       "    native_country_ South   native_country_ Taiwan   native_country_ Thailand  \\\n",
       "0                       0                        0                          0   \n",
       "1                       0                        0                          0   \n",
       "2                       0                        0                          0   \n",
       "3                       0                        0                          0   \n",
       "4                       0                        0                          0   \n",
       "\n",
       "    native_country_ Trinadad&Tobago   native_country_ United-States  \\\n",
       "0                                 0                               1   \n",
       "1                                 0                               1   \n",
       "2                                 0                               1   \n",
       "3                                 0                               1   \n",
       "4                                 0                               0   \n",
       "\n",
       "    native_country_ Vietnam   native_country_ Yugoslavia   income_ <=50K  \\\n",
       "0                         0                            0               1   \n",
       "1                         0                            0               1   \n",
       "2                         0                            0               1   \n",
       "3                         0                            0               1   \n",
       "4                         0                            0               1   \n",
       "\n",
       "    income_ >50K  \n",
       "0              0  \n",
       "1              0  \n",
       "2              0  \n",
       "3              0  \n",
       "4              0  \n",
       "\n",
       "[5 rows x 110 columns]"
      ]
     },
     "metadata": {},
     "output_type": "display_data"
    },
    {
     "name": "stdout",
     "output_type": "stream",
     "text": [
      "None\n"
     ]
    }
   ],
   "source": [
    "# Import libraries\n",
    "import pandas as pd\n",
    "import numpy as np\n",
    "\n",
    "# Read the json file from the direcotory\n",
    "diabities_df = pd.read_csv(\"/workspaces/ImplementingStatisticsWithPython/data/chapter2/Adult_UCI/adult.data\")\n",
    "\n",
    "def one_hot_encoding(diabities_df):\n",
    "    # Identify columns that are categorical to apply one hot encoding in them only\n",
    "    columns_for_one_hot = diabities_df.select_dtypes(include=\"object\").columns\n",
    "    \n",
    "    # Apply one hot encoding to the categorical columns\n",
    "    diabities_df = pd.get_dummies(diabities_df, columns=columns_for_one_hot, prefix=columns_for_one_hot, dtype=int)\n",
    "    \n",
    "    # Display the transformed dataframe\n",
    "    print(display(diabities_df.head(5)))\n",
    "\n",
    "# Call the one hot encoding method by passing dataframe as argument\n",
    "one_hot_encoding(diabities_df)"
   ]
  },
  {
   "cell_type": "markdown",
   "id": "e46d60cb-bbe6-467c-bf12-065ffd614a39",
   "metadata": {},
   "source": [
    "***3.4.3. Binary encoding tutorial***\n",
    "<br>\n",
    "For this lets use `category_encoders` using `pip install category_encoders`"
   ]
  },
  {
   "cell_type": "code",
   "execution_count": 26,
   "id": "40f3494e-97f7-40a6-b4aa-a2e9456b550c",
   "metadata": {},
   "outputs": [
    {
     "name": "stdout",
     "output_type": "stream",
     "text": [
      "Original dataframe\n",
      "      name gender   color\n",
      "0    Alice      F     red\n",
      "1      Bob      M    blue\n",
      "2  Charlie      M   green\n",
      "3    David      M  yellow\n",
      "4      Eve      F    pink\n",
      "5      Ane      F     red\n",
      "6       Bo      M    blue\n",
      "Binary encoded dataframe\n",
      "      name  gender_0  gender_1  color_0  color_1  color_2\n",
      "0    Alice         0         1        0        0        1\n",
      "1      Bob         1         0        0        1        0\n",
      "2  Charlie         1         0        0        1        1\n",
      "3    David         1         0        1        0        0\n",
      "4      Eve         0         1        1        0        1\n",
      "5      Ane         0         1        0        0        1\n",
      "6       Bo         1         0        0        1        0\n"
     ]
    }
   ],
   "source": [
    "# Import pandas library and category_encoders library\n",
    "import pandas as pd\n",
    "import category_encoders as ce\n",
    "\n",
    "# Create a sample dataframe with 3 columns: name, gender and color\n",
    "df = pd.DataFrame({\n",
    "    'name': ['Alice', 'Bob', 'Charlie', 'David', 'Eve', 'Ane', 'Bo'],\n",
    "    'gender': ['F', 'M', 'M', 'M', 'F', 'F', 'M'],\n",
    "    'color': ['red', 'blue', 'green', 'yellow', 'pink', 'red', 'blue']\n",
    "})\n",
    "\n",
    "# Print the original dataframe\n",
    "print(\"Original dataframe\")\n",
    "print(df)\n",
    "\n",
    "# Create a binary encoder object\n",
    "encoder = ce.BinaryEncoder(cols=['gender', 'color'])\n",
    "\n",
    "# Fit and transform the dataframe using the encoder\n",
    "df_encoded = encoder.fit_transform(df)\n",
    "\n",
    "# Print the encoded dataframe\n",
    "print(\"Binary encoded dataframe\")\n",
    "print(df_encoded)\n"
   ]
  },
  {
   "cell_type": "markdown",
   "id": "60b605fe-190c-489e-adbf-a41523ed7a3e",
   "metadata": {},
   "source": [
    "***3.4.3. Label encoding tutorial***"
   ]
  },
  {
   "cell_type": "markdown",
   "id": "3232e58a-a11e-47b5-94ae-ea3a11fd6c29",
   "metadata": {},
   "source": [
    "Label encoder works by assigning an integer value to each unique category in the categorical variable, starting from 0. The transformed variable will have numerical values instead of categorical values. Its drawback is the loss of information about the similarity or difference between categories."
   ]
  },
  {
   "cell_type": "code",
   "execution_count": 22,
   "id": "96f39b73-2cf3-423e-918b-9ed1e3d9d98e",
   "metadata": {},
   "outputs": [
    {
     "name": "stdout",
     "output_type": "stream",
     "text": [
      "      name gender   color  gender_label  color_label\n",
      "0    Alice      F     red             0            3\n",
      "1      Bob      M    blue             1            0\n",
      "2  Charlie      M   green             1            1\n",
      "3    David      M  yellow             1            4\n",
      "4      Eve      F    pink             0            2\n",
      "5      Ane      F     red             0            3\n",
      "6       Bo      M    blue             1            0\n"
     ]
    }
   ],
   "source": [
    "# Import pandas library to work with data frames\n",
    "import pandas as pd\n",
    "\n",
    "# Create a data frame with name, gender, and color columns\n",
    "df = pd.DataFrame({\n",
    "    'name': ['Alice', 'Bob', 'Charlie', 'David', 'Eve', 'Ane', 'Bo'],\n",
    "    'gender': ['F', 'M', 'M', 'M', 'F', 'F', 'M'],\n",
    "    'color': ['red', 'blue', 'green', 'yellow', 'pink', 'red', 'blue']\n",
    "})\n",
    "\n",
    "# Convert the gender column to a categorical variable and assign numerical codes to each category\n",
    "df['gender_label'] = df['gender'].astype('category').cat.codes\n",
    "\n",
    "# Convert the color column to a categorical variable and assign numerical codes to each category\n",
    "df['color_label'] = df['color'].astype('category').cat.codes\n",
    "\n",
    "# Print the data frame with the label encoded columns\n",
    "print(df)\n"
   ]
  },
  {
   "cell_type": "markdown",
   "id": "894a564e-c04a-4468-a02e-4a4918027b70",
   "metadata": {},
   "source": [
    "***Difference betweeen binary encoder and label encoder is:***"
   ]
  },
  {
   "cell_type": "code",
   "execution_count": 33,
   "id": "4df075f0-ea42-4a57-8fea-61fb49804f1d",
   "metadata": {},
   "outputs": [
    {
     "name": "stdout",
     "output_type": "stream",
     "text": [
      "One-hot encoded dataframe\n",
      "      name gender  color_blue  color_green  color_red\n",
      "0    Alice      F           0            0          1\n",
      "1      Bob      M           1            0          0\n",
      "2  Charlie      M           0            1          0\n",
      "3    David      M           1            0          0\n",
      "4      Eve      F           0            1          0\n",
      "5      Ane      F           0            0          1\n",
      "Binary encoded dataframe\n",
      "      name gender  color_0  color_1\n",
      "0    Alice      F        0        1\n",
      "1      Bob      M        1        0\n",
      "2  Charlie      M        1        1\n",
      "3    David      M        1        0\n",
      "4      Eve      F        1        1\n",
      "5      Ane      F        0        1\n"
     ]
    }
   ],
   "source": [
    "# Import the display function to show the data frames\n",
    "from IPython.display import display\n",
    "# Import pandas library to work with data frames\n",
    "import pandas as pd\n",
    "# Import category_encoders library to apply different encoding techniques\n",
    "import category_encoders as ce\n",
    "\n",
    "# Class to compare the difference between one-hot encoding and binary encoding\n",
    "class Encoders_Difference:\n",
    "    # Constructor method to initialize the object's attribute\n",
    "    def __init__(self,df):\n",
    "        self.df = df\n",
    "\n",
    "    # Method to apply one-hot encoding to the color column\n",
    "    def one_hot_encoding(self):\n",
    "        # Use the get_dummies function to create binary vectors for each color category\n",
    "        df_encoded1 = pd.get_dummies(df, columns=['color'],dtype=int)\n",
    "        # Display the encoded data frame\n",
    "        print(\"One-hot encoded dataframe\")\n",
    "        print(df_encoded1)\n",
    "\n",
    "    # Method to apply binary encoding to the color column\n",
    "    def binary_encoder(self):\n",
    "        # Create a binary encoder object with the color column as the target\n",
    "        encoder = ce.BinaryEncoder(cols=['color'])\n",
    "        # Fit and transform the data frame with the encoder object\n",
    "        df_encoded2 = encoder.fit_transform(df)\n",
    "        # Display the encoded data frame\n",
    "        print(\"Binary encoded dataframe\")\n",
    "        print(df_encoded2)\n",
    "        \n",
    "\n",
    "# Create a sample data frame with 3 columns: name, gender and color\n",
    "df = pd.DataFrame({\n",
    "    'name': ['Alice', 'Bob', 'Charlie', 'David', 'Eve', 'Ane'],\n",
    "    'gender': ['F', 'M', 'M', 'M', 'F', 'F'],\n",
    "    'color': ['red', 'blue', 'green', 'blue', 'green', 'red']\n",
    "})\n",
    "\n",
    "# Create an object of Encoders_Difference class with the sample data frame as an argument\n",
    "encoderDifference_obj = Encoders_Difference(df)\n",
    "# Call the one_hot_encoding method to show the result of one-hot encoding\n",
    "encoderDifference_obj.one_hot_encoding()\n",
    "# Call the binary_encoder method to show the result of binary encoding\n",
    "encoderDifference_obj.binary_encoder()\n"
   ]
  },
  {
   "cell_type": "markdown",
   "id": "aaa44d19-dbd8-4a3d-a260-0518f2df8f86",
   "metadata": {},
   "source": [
    "**Tutorial 4. Missing Data, Detecting and Treating Outliers**"
   ]
  },
  {
   "cell_type": "markdown",
   "id": "571e8d4b-e5ae-4883-b90d-615b99ab3cbf",
   "metadata": {},
   "source": [
    "**Missing Data and how to handle missing data**"
   ]
  },
  {
   "cell_type": "markdown",
   "id": "6c0f7d74-6c35-42d4-980f-16b4c3e930ba",
   "metadata": {},
   "source": [
    "Data values that are not stored or captured for some variables or observations in a dataset are referred to as missing data. It may happen for a number of reasons, including human mistakes, equipment malfunctions, data entry challenges, privacy concerns, or flaws with survey design. The accuracy and reliability of the analysis and inference can be impacted by missing data. \n",
    "In structured data identifying missing values is pretty easy whereas in semi and unstructured it may not always be the case."
   ]
  },
  {
   "cell_type": "markdown",
   "id": "11e96d48-0162-407b-980f-38af165082f7",
   "metadata": {},
   "source": [
    "Ways to handle missing data\n",
    "<br>\n",
    "1. Deletion\n",
    "2. Imputation\n",
    "3. Prediction of missing value"
   ]
  },
  {
   "cell_type": "markdown",
   "id": "6acb3beb-ec8c-483d-9d05-605d179255d9",
   "metadata": {},
   "source": [
    "**Count the null or missing value in dataframe**"
   ]
  },
  {
   "cell_type": "code",
   "execution_count": 37,
   "id": "89972124-08a2-442b-9901-2c884e907f3a",
   "metadata": {},
   "outputs": [
    {
     "name": "stdout",
     "output_type": "stream",
     "text": [
      "Original dataframe\n",
      "      Name   Age Gender\n",
      "0    Alice  25.0      F\n",
      "1      Bob  30.0      M\n",
      "2  Charlie  35.0   None\n",
      "3     None   NaN   None\n",
      "4      Eve  40.0      F\n",
      "Null value count in dataframe\n",
      "Name      1\n",
      "Age       1\n",
      "Gender    2\n",
      "dtype: int64\n"
     ]
    }
   ],
   "source": [
    "# Import pandas library\n",
    "import pandas as pd\n",
    "\n",
    "# Create a dataframe with some null values\n",
    "df = pd.DataFrame({\"Name\": [\"Alice\", \"Bob\", \"Charlie\", None, \"Eve\"], \n",
    "                   \"Age\": [25, 30, 35, None, 40], \n",
    "                   \"Gender\": [\"F\", \"M\", None, None, \"F\"]})\n",
    "\n",
    "# Display the dataframe\n",
    "print(\"Original dataframe\")\n",
    "print(df)\n",
    "\n",
    "# Use isna().sum() to view the sum of null values for each column\n",
    "print(\"Null value count in dataframe\")\n",
    "print(df.isna().sum())"
   ]
  },
  {
   "cell_type": "markdown",
   "id": "3ee68d33-6d69-4cbd-a2a6-079d1d4c18ec",
   "metadata": {},
   "source": [
    "**4.1. Deletion or drop a column from a dataframe**"
   ]
  },
  {
   "cell_type": "code",
   "execution_count": 42,
   "id": "3ec08da8-00c4-4501-be59-7e4a7912e1a1",
   "metadata": {},
   "outputs": [
    {
     "name": "stdout",
     "output_type": "stream",
     "text": [
      "Columns before drop\n",
      "Index(['Age', ' Work', ' person_id', ' education', ' education_number',\n",
      "       ' marital_status', ' occupation', ' relationship', ' race', ' gender',\n",
      "       ' capital_gain', ' capital_loss', ' hours_per_week', ' native_country',\n",
      "       ' income'],\n",
      "      dtype='object')\n",
      "Columns after drop\n",
      "Index(['Age', ' occupation', ' relationship', ' race', ' gender',\n",
      "       ' capital_gain', ' capital_loss', ' hours_per_week', ' native_country',\n",
      "       ' income'],\n",
      "      dtype='object')\n"
     ]
    }
   ],
   "source": [
    "import pandas as pd\n",
    "\n",
    "# Read the json file from the direcotory\n",
    "diabities_df = pd.read_csv(\"/workspaces/ImplementingStatisticsWithPython/data/chapter2/Adult_UCI/adult.data\")\n",
    "\n",
    "# View all columns in dataframe\n",
    "print(\"Columns before drop\")\n",
    "print(diabities_df.columns)\n",
    "\n",
    "# Drop the 'Age' and 'Work' columns\n",
    "diabities_df = diabities_df.drop(columns=[' Work', ' person_id', ' education', ' education_number',\n",
    "       ' marital_status'], axis=1)\n",
    "\n",
    "# Verify the updated DataFrame\n",
    "print(\"Columns after drop\")\n",
    "print(diabities_df.columns)"
   ]
  },
  {
   "cell_type": "markdown",
   "id": "15507a6c-47ae-4db4-8d98-c78a8d16d8e6",
   "metadata": {},
   "source": [
    "**4.2. Imputation**"
   ]
  },
  {
   "cell_type": "markdown",
   "id": "0737986b-7911-424b-95dc-0de7e23c51aa",
   "metadata": {},
   "source": [
    "Basic inputation can be done with `mean()`, `median()`, `mode()` , random constant value , or in some cases prediction can be done and predicted value can be imputed."
   ]
  },
  {
   "cell_type": "markdown",
   "id": "1f658ac2-e230-437a-ad4b-a339d68f5dd4",
   "metadata": {},
   "source": [
    "4.2.1 Imputation of mean value with `mean()`"
   ]
  },
  {
   "cell_type": "code",
   "execution_count": 47,
   "id": "5e6cd00b-0425-42d3-8114-900a02e6d6cb",
   "metadata": {},
   "outputs": [
    {
     "name": "stdout",
     "output_type": "stream",
     "text": [
      "Before Mean Inputation DataFrame\n",
      "     Name   Age  Score\n",
      "0    John  15.0   85.0\n",
      "1    Anna  16.0   92.0\n",
      "2   Peter   NaN   78.0\n",
      "3    Hari  16.0   80.0\n",
      "4  Suresh  30.0    NaN\n",
      "5     Ram  31.0   76.0\n",
      "DataFrame after mean imputation\n",
      "     Name   Age  Score\n",
      "0    John  15.0   85.0\n",
      "1    Anna  16.0   92.0\n",
      "2   Peter  21.6   78.0\n",
      "3    Hari  16.0   80.0\n",
      "4  Suresh  30.0   82.2\n",
      "5     Ram  31.0   76.0\n"
     ]
    }
   ],
   "source": [
    "# Import pandas library for data manipulation and analysis\n",
    "import pandas as pd\n",
    "\n",
    "# Create a DataFrame with student data using a dictionary\n",
    "data = {'Name': ['John', 'Anna', 'Peter','Hari', 'Suresh','Ram'],\n",
    "        'Age': [15, 16, np.nan, 16, 30, 31],\n",
    "        'Score': [85, 92, 78, 80, np.nan, 76]}\n",
    "student_DF = pd.DataFrame(data)\n",
    "# Print a message before showing the dataframe with missing values\n",
    "print(f'Before Mean Inputation DataFrame')\n",
    "# Display the dataframe with missing values using the display function\n",
    "print(student_DF)\n",
    "\n",
    "# Calculate the mean of the Age column and store it in a variable\n",
    "mean_age = student_DF['Age'].mean()\n",
    "# Calculate the mean of the Score column and store it in a variable\n",
    "mean_score = student_DF['Score'].mean()\n",
    "# Print a message before showing the dataframe with imputed values\n",
    "print(f'DataFrame after mean imputation')\n",
    "# Replace the missing values in the dataframe with the mean values using the fillna method and a dictionary\n",
    "student_DF = student_DF.fillna(value= {'Age' : mean_age, 'Score': mean_score})\n",
    "# Display the dataframe with imputed values using the display function\n",
    "print(student_DF)\n"
   ]
  },
  {
   "cell_type": "markdown",
   "id": "c8733e51-8bcd-43fe-a958-e9448720438e",
   "metadata": {},
   "source": [
    "4.2.2. Imputation by median value. Here we do with `median()` also `SimpleImputer()` from the sklearn `from sklearn.impute import SimpleImputer` can also be used."
   ]
  },
  {
   "cell_type": "code",
   "execution_count": null,
   "id": "0ff50fb8-66f4-47c2-bff4-6126c842ac81",
   "metadata": {},
   "outputs": [],
   "source": [
    "import pandas as pd\n",
    "from IPython.display import display\n",
    "\n",
    "# Create a DataFrame with student data\n",
    "data = {'Name': ['John', 'Anna', 'Peter', 'Carol', 'David', 'Oystein','Hari', 'Suresh','Ram'],\n",
    "        'Age': [15, 16, np.nan, 15, 16, 14, 16, 30, 31],\n",
    "        'Score': [85, 92, 78, 80, np.nan, 77, 89, 99, 76]}\n",
    "student_DF = pd.DataFrame(data)\n",
    "print(f'Before Median Inputation DataFrame')\n",
    "display(student_DF)\n",
    "\n",
    "median_age = student_DF['Age'].median()\n",
    "median_score = student_DF['Score'].median()\n",
    "print(f'DataFrame After Median Imputation')\n",
    "student_DF = student_DF.fillna(value= {'Age' : median_age, 'Score': median_score})\n",
    "display(student_DF)"
   ]
  },
  {
   "cell_type": "markdown",
   "id": "9ee49916-1c15-44fe-a09a-9c88fb685943",
   "metadata": {},
   "source": [
    "**4.3. Prediction of missing value**\n",
    "Missing values can be estimated and predicted based on other available information in the dataset. If estimates are not done properly it can introduce noise and uncertainty in the data. The missing values (missingness) can also be used as a variable, indicating whether a value was missing or not, if appropriate. But doing so can increase dimensionality. More on this will be discussed in Chapter 7."
   ]
  },
  {
   "cell_type": "markdown",
   "id": "206bfa96-6a79-4af2-bde3-269c9342353f",
   "metadata": {},
   "source": [
    "Some general guilines:\n",
    "1. If the missing data is randomly distributed across the dataset and not too many (less than 5% of the total observations), then a simple method such as replacing the missing values with the mean, median, or mode of the corresponding variable may be sufficient. This method is implemented by the SimpleImputer class in scikit-learn.\n",
    "2. If the missing data are not randomly distributed or are too many (more than 5% of the total observations), a simple method may introduce bias and reduce the variability of the data. In this case, a more sophisticated method that takes into account the relationship between variables may be preferable. For example, you can use a regression model to predict the missing values based on other variables, or a nearest neighbor approach to find the most similar observation and use its value as an imputation.\n",
    "3. If the missing data are longitudinal, that is, they occur in repeated measurements over time, then a method that accounts for the temporal structure of the data may be more appropriate. For example, one can use a time series model to predict the missing values based on past and future observations, or a mixed effects model to account for both fixed and random effects over time."
   ]
  },
  {
   "cell_type": "markdown",
   "id": "4b0c534e-2bf8-4567-8594-a819281cd012",
   "metadata": {},
   "source": [
    "**Tutorial 5. Histograms, Box plots, Scatter plots, Pie Charts, Bar Charts, X-Y Plots, Heatmaps**"
   ]
  },
  {
   "cell_type": "code",
   "execution_count": null,
   "id": "fbae7612-d052-47b5-879c-707ca6cc366d",
   "metadata": {},
   "outputs": [],
   "source": [
    "While plotting information in the plot the first thing to do is, to identify which kind of plot is appropriate for that data. There are many factors to consider when selecting a chart type, such as the number of variables, the type of data, \n",
    "the purpose of the analysis, and the audience’s preferences.\n",
    "To know which plot is useful for what kind of data, you can check out this website: \n",
    "1. https://www.data-to-viz.com/\n",
    "2. https://datavizproject.com/\n",
    "\n",
    "There are many factors to consider when selecting a chart type, such as the number of variables, the type of data, \n",
    "the purpose of the analysis, and the audience’s preferences"
   ]
  },
  {
   "cell_type": "code",
   "execution_count": null,
   "id": "00ca160d-4cbe-4822-82fc-e9d333835ef4",
   "metadata": {},
   "outputs": [],
   "source": [
    "5.1. Histograms"
   ]
  },
  {
   "cell_type": "code",
   "execution_count": 3,
   "id": "a32c3dee-9f84-4d99-8616-54f5fb249ee5",
   "metadata": {},
   "outputs": [
    {
     "data": {
      "image/png": "[encoded data removed]",
      "text/plain": [
       "<Figure size 640x480 with 1 Axes>"
      ]
     },
     "metadata": {},
     "output_type": "display_data"
    }
   ],
   "source": [
    "# Import matplotlib.pyplot and numpy modules\n",
    "import matplotlib.pyplot as plt\n",
    "import numpy as np\n",
    "\n",
    "# Generate a large sample of BMIs using numpy.random.normal function\n",
    "# The mean BMI is 25 and the standard deviation is 5\n",
    "bmis = np.random.normal(25, 5, 1000)\n",
    "\n",
    "# Plot the histogram with bmis and 20 bins\n",
    "plt.hist(bmis, bins=20)\n",
    "\n",
    "# Add a title for the histogram\n",
    "plt.title(\"Histogram of BMIs in a Large Sample of Individuals\")\n",
    "\n",
    "# Add labels for the x-axis and y-axis\n",
    "plt.xlabel(\"BMI\")\n",
    "plt.ylabel(\"Frequency\")\n",
    "\n",
    "# Show the histogram\n",
    "plt.savefig('histogram.jpg',dpi=600,bbox_inches='tight')\n",
    "plt.show()\n"
   ]
  },
  {
   "cell_type": "code",
   "execution_count": null,
   "id": "0ce8dc0c-9adf-4e76-a8e7-43064961da57",
   "metadata": {},
   "outputs": [],
   "source": [
    "import matplotlib.pyplot as plt\n",
    "\n",
    "# Create your data\n",
    "data = [1, 2, 2, 3, 3, 3, 4, 4, 4, 4, 5]\n",
    "\n",
    "# Create the histogram\n",
    "plt.hist(data)\n",
    "\n",
    "# Customize the plot (add labels, title, etc.)\n",
    "plt.xlabel('X-axis Label')\n",
    "plt.ylabel('Y-axis Label')\n",
    "plt.title('Histogram Title')\n",
    "\n",
    "# Show the plot\n",
    "plt.show()"
   ]
  },
  {
   "cell_type": "code",
   "execution_count": null,
   "id": "eebed68d-2b6c-4b5a-9a57-d504313716dd",
   "metadata": {},
   "outputs": [],
   "source": [
    "5.2. Pie chart"
   ]
  },
  {
   "cell_type": "code",
   "execution_count": 7,
   "id": "a528437a-fc88-4457-b342-d50ef2b6e150",
   "metadata": {},
   "outputs": [
    {
     "data": {
      "image/png": "[encoded data removed]",
      "text/plain": [
       "<Figure size 640x480 with 1 Axes>"
      ]
     },
     "metadata": {},
     "output_type": "display_data"
    }
   ],
   "source": [
    "# Import matplotlib.pyplot module\n",
    "import matplotlib.pyplot as plt\n",
    "\n",
    "# Create a list of percentages of daily calories consumed from carbohydrates, fats, and proteins\n",
    "calories = [50, 30, 20]\n",
    "\n",
    "# Create a list of labels for the pie chart\n",
    "labels = [\"Carbohydrates\", \"Fats\", \"Proteins\"]\n",
    "\n",
    "# Plot the pie chart with calories and labels\n",
    "plt.pie(calories, labels=labels, autopct=\"%1.1f%%\")\n",
    "\n",
    "# Add a title for the pie chart\n",
    "plt.title(\"Percentages of Daily Calories Consumed from Carbohydrates, Fats, and Proteins\")\n",
    "\n",
    "# Show the pie chart\n",
    "plt.savefig(\"piechart1.jpg\",dpi=600,bbox_inches='tight')\n",
    "plt.show()\n"
   ]
  },
  {
   "cell_type": "code",
   "execution_count": null,
   "id": "cda40d30-3c8c-46ab-b98c-ccdf5cd3aed4",
   "metadata": {},
   "outputs": [],
   "source": [
    "import matplotlib.pyplot as plt\n",
    "\n",
    "sizes = [15, 30, 45, 10]  \n",
    "labels = ['Category A', 'Category B', 'Category C', 'Category D']  \n",
    "colors = ['blue', 'green', 'red', 'purple']  \n",
    "\n",
    "# Create the pie chart\n",
    "plt.pie(sizes, labels=labels)\n",
    "\n",
    "# Customize the plot (add title, aspect ratio, etc.)\n",
    "plt.axis('equal')  \n",
    "plt.title('Pie Chart Title')\n",
    "\n",
    "# Show the plot\n",
    "plt.show()"
   ]
  },
  {
   "cell_type": "code",
   "execution_count": null,
   "id": "ae46a426-cdf2-4113-8968-43b44e2d5d04",
   "metadata": {},
   "outputs": [],
   "source": [
    "5.3. Bar plot"
   ]
  },
  {
   "cell_type": "code",
   "execution_count": 22,
   "id": "645492f7-4c82-4bf3-bd7a-523c14165a35",
   "metadata": {},
   "outputs": [
    {
     "data": {
      "image/png": "[encoded data removed]",
      "text/plain": [
       "<Figure size 640x480 with 1 Axes>"
      ]
     },
     "metadata": {},
     "output_type": "display_data"
    }
   ],
   "source": [
    "# Import matplotlib.pyplot module\n",
    "import matplotlib.pyplot as plt\n",
    "\n",
    "# Create a list of age groups for the x-axis\n",
    "age_groups = [\"20s\", \"30s\", \"40s\", \"50s\", \"60s\"]\n",
    "\n",
    "# Create a list of average daily step counts for the y-axis\n",
    "step_counts = [10000, 9000, 8000, 7000, 6000]\n",
    "\n",
    "# Plot the bar chart with age_groups and step_counts\n",
    "plt.bar(age_groups, step_counts)\n",
    "\n",
    "# Add a title for the bar chart\n",
    "plt.title(\"Average Daily Step Counts by Age Group\")\n",
    "\n",
    "# Add labels for the x-axis and y-axis\n",
    "plt.xlabel(\"Age Group\")\n",
    "plt.ylabel(\"Step Count\")\n",
    "\n",
    "# Show the bar chart\n",
    "plt.savefig('barplot1.jpg',dpi=600,bbox_inches='tight')\n",
    "plt.show()"
   ]
  },
  {
   "cell_type": "code",
   "execution_count": null,
   "id": "56cc7822-c748-47d9-9083-e913674cc421",
   "metadata": {},
   "outputs": [],
   "source": [
    "import matplotlib.pyplot as plt\n",
    "\n",
    "# Create your data\n",
    "categories = ['Category A', 'Category B', 'Category C', 'Category D']\n",
    "values = [10, 25, 15, 30]\n",
    "\n",
    "# Create the bar chart\n",
    "plt.bar(categories, values)\n",
    "\n",
    "# Customize the plot (add labels, title, etc.)\n",
    "plt.xlabel('Categories')\n",
    "plt.ylabel('Values')\n",
    "plt.title('Bar Chart Title')\n",
    "\n",
    "# Show the plot\n",
    "plt.show()"
   ]
  },
  {
   "cell_type": "code",
   "execution_count": null,
   "id": "3b7e6435-0367-474c-ab41-630dca98e371",
   "metadata": {},
   "outputs": [],
   "source": [
    "5.4. Line plot"
   ]
  },
  {
   "cell_type": "code",
   "execution_count": 21,
   "id": "f84e7431-e966-41ff-9953-9f077424f230",
   "metadata": {},
   "outputs": [
    {
     "data": {
      "image/png": "[encoded data removed]",
      "text/plain": [
       "<Figure size 640x480 with 1 Axes>"
      ]
     },
     "metadata": {},
     "output_type": "display_data"
    }
   ],
   "source": [
    "# Import matplotlib.pyplot module\n",
    "import matplotlib.pyplot as plt\n",
    "\n",
    "# Create a list of dates for the x-axis\n",
    "dates = [ \"01/08/2023\", \"01/09/2023\", \"01/10/2023\", \"01/11/2023\", \"01/12/2023\"]\n",
    "\n",
    "# Create a list of blood pressure readings for the y-axis\n",
    "bp_readings = [120, 155, 160, 170, 175]\n",
    "\n",
    "# Plot the line plot with dates and bp_readings\n",
    "plt.plot(dates, bp_readings)\n",
    "\n",
    "# Add a title for the plot\n",
    "plt.title(\"Patient's Blood Pressure Readings Throughout the Year\")\n",
    "\n",
    "# Add labels for the x-axis and y-axis\n",
    "plt.xlabel(\"Date\")\n",
    "plt.ylabel(\"Blood Pressure (mmHg)\")\n",
    "\n",
    "# Show the plot\n",
    "plt.savefig(\"lineplot.jpg\",dpi=600,bbox_inches='tight')\n",
    "plt.show()\n"
   ]
  },
  {
   "cell_type": "code",
   "execution_count": null,
   "id": "748f7c42-8b2f-43a0-91ec-61d843de7d73",
   "metadata": {},
   "outputs": [],
   "source": [
    "import matplotlib.pyplot as plt\n",
    "\n",
    "# Create your data\n",
    "x_data = [1, 2, 3, 4, 5]\n",
    "y_data = [10, 15, 13, 20, 18]\n",
    "\n",
    "# Create the line plot\n",
    "plt.plot(x_data, y_data)\n",
    "\n",
    "# Customize the plot (add labels, title, etc.)\n",
    "plt.xlabel('X-axis Label')\n",
    "plt.ylabel('Y-axis Label')\n",
    "plt.title('Line Plot Title')\n",
    "\n",
    "# Show the plot\n",
    "plt.show()"
   ]
  },
  {
   "cell_type": "code",
   "execution_count": null,
   "id": "5d9bc012-6fc7-4340-9482-b9389bd2836b",
   "metadata": {},
   "outputs": [],
   "source": [
    "5.5. Scatter plot"
   ]
  },
  {
   "cell_type": "code",
   "execution_count": 4,
   "id": "6b171cf4-e7a8-44ce-a319-36de24669653",
   "metadata": {},
   "outputs": [
    {
     "data": {
      "image/png": "[encoded data removed]",
      "text/plain": [
       "<Figure size 640x480 with 1 Axes>"
      ]
     },
     "metadata": {},
     "output_type": "display_data"
    }
   ],
   "source": [
    "# Import matplotlib.pyplot and numpy modules\n",
    "import matplotlib.pyplot as plt\n",
    "import numpy as np\n",
    "\n",
    "# Generate a sample of hours of sleep using numpy.random.uniform function\n",
    "# The hours of sleep range from 4 to 10\n",
    "sleep = np.random.uniform(4, 10, 100)\n",
    "\n",
    "# Generate a sample of stress levels using numpy.random.normal function\n",
    "# The stress levels range from 1 to 10, with a negative correlation with sleep\n",
    "stress = np.random.normal(10 - sleep, 1)\n",
    "\n",
    "# Plot the scatter plot with sleep and stress\n",
    "plt.scatter(sleep, stress)\n",
    "\n",
    "# Add a title for the scatter plot\n",
    "plt.title(\"Scatter Plot of Hours of Sleep and Stress Levels\")\n",
    "\n",
    "# Add labels for the x-axis and y-axis\n",
    "plt.xlabel(\"Hours of Sleep\")\n",
    "plt.ylabel(\"Stress Level\")\n",
    "\n",
    "# Show the scatter plot\n",
    "plt.savefig(\"scatterplot.jpg\", dpi=600, bbox_inches='tight')\n",
    "plt.show()"
   ]
  },
  {
   "cell_type": "code",
   "execution_count": null,
   "id": "0d5c9fe6-428b-42f4-8fc4-122a493d1d9e",
   "metadata": {},
   "outputs": [],
   "source": [
    "import pandas as pd\n",
    "import matplotlib.pyplot as plt\n",
    "\n",
    "# Create a sample DataFrame (replace this with your own DataFrame)\n",
    "data = {'X': [1, 2, 3, 4, 5],\n",
    "        'Y': [10, 15, 13, 20, 18]}\n",
    "df = pd.DataFrame(data)\n",
    "\n",
    "# Extract the columns you want to plot\n",
    "x_data = df['X']\n",
    "y_data = df['Y']\n",
    "\n",
    "# Create a scatter plot\n",
    "plt.scatter(x_data, y_data, marker='o')\n",
    "\n",
    "# Add labels and a title\n",
    "plt.xlabel('X-axis')\n",
    "plt.ylabel('Y-axis')\n",
    "plt.title('Scatter Plot Example')\n",
    "\n",
    "# Show a legend if needed\n",
    "plt.legend()\n",
    "\n",
    "# Display the plot\n",
    "plt.show()"
   ]
  },
  {
   "cell_type": "code",
   "execution_count": null,
   "id": "711de57f-1e50-4ee9-b9e6-1cceee8315e3",
   "metadata": {},
   "outputs": [],
   "source": [
    "5.6 Box plot"
   ]
  },
  {
   "cell_type": "markdown",
   "id": "59b5b924-7ecf-4844-bedf-b0d9ce6c80a9",
   "metadata": {},
   "source": [
    "A box plot is a type of graph that can be used to display the distribution of numerical data. It is especially useful when the data has outliers, skewness, or different ranges. A box plot can show the minimum, maximum, median, first quartile, and third quartile of the data, as well as the interquartile range and any outliers.\n",
    "\n",
    "Some examples of when to use a box plot are\n",
    "\n",
    "When you want to compare the variability or spread of different groups of data. For example, you can use a box plot to compare the test scores of different classes or the heights of different plants.\n",
    "To identify outliers or extreme values in your data. For example, you can use a box plot to see if there are unusually high or low temperatures in a month or abnormal blood pressure readings in a group of patients.\n",
    "When you want to see the shape or symmetry of your data distribution. For example, you can use a box plot to see if your data is symmetrical, skewed to the left or right, or bimodal (with two peaks)."
   ]
  },
  {
   "cell_type": "code",
   "execution_count": null,
   "id": "2e7efdd0-74ff-4fe3-ac4d-ec1824c20e52",
   "metadata": {},
   "outputs": [],
   "source": [
    "# Import matplotlib.pyplot module\n",
    "import matplotlib.pyplot as plt\n",
    "\n",
    "# Create some random data\n",
    "data = [23, 45, 16, 37, 29, 43, 32, 48, 26, 38]\n",
    "\n",
    "# Plot a box plot of the data\n",
    "plt.boxplot(data)\n",
    "\n",
    "# Show the plot\n",
    "plt.show()"
   ]
  },
  {
   "cell_type": "markdown",
   "id": "59948dd7-77d7-4174-9b42-2147e8f7b692",
   "metadata": {},
   "source": [
    "**Stacked area plot**"
   ]
  },
  {
   "cell_type": "code",
   "execution_count": 23,
   "id": "eb3ea014-01d1-40c8-acf7-acadfc3054ac",
   "metadata": {},
   "outputs": [
    {
     "data": {
      "image/png": "[encoded data removed]",
      "text/plain": [
       "<Figure size 640x480 with 1 Axes>"
      ]
     },
     "metadata": {},
     "output_type": "display_data"
    }
   ],
   "source": [
    "# Import matplotlib.pyplot and numpy modules\n",
    "import matplotlib.pyplot as plt\n",
    "import numpy as np\n",
    "\n",
    "# Create a sample data set with four variables\n",
    "x = np.arange(2020, 2025) \n",
    "y1 = np.random.randint(1, 10, 5)\n",
    "y2 = np.random.randint(1, 10, 5)\n",
    "y3 = np.random.randint(1, 10, 5)\n",
    "y4 = np.random.randint(1, 10, 5)\n",
    "\n",
    "# Plot the stacked area plot with x and y1, y2, y3, y4\n",
    "plt.stackplot(x, y1, y2, y3, y4, labels=[\"y1\", \"y2\", \"y3\", \"y4\"])\n",
    "\n",
    "# Add a title for the stacked area plot\n",
    "plt.title(\"Stacked Area Plot of Sample Data Set\")\n",
    "\n",
    "# Add labels for the x-axis and y-axis\n",
    "plt.xlabel(\"Year\")\n",
    "plt.ylabel(\"y\")\n",
    "\n",
    "# Add a legend for the plot\n",
    "plt.legend()\n",
    "\n",
    "# Show the stacked area plot\n",
    "plt.savefig('stackedareaplot.jpg',dpi=600,bbox_inches='tight')\n",
    "plt.show()"
   ]
  }
 ],
 "metadata": {
  "kernelspec": {
   "display_name": "Python 3 (ipykernel)",
   "language": "python",
   "name": "python3"
  },
  "language_info": {
   "codemirror_mode": {
    "name": "ipython",
    "version": 3
   },
   "file_extension": ".py",
   "mimetype": "text/x-python",
   "name": "python",
   "nbconvert_exporter": "python",
   "pygments_lexer": "ipython3",
   "version": "3.10.8"
  }
 },
 "nbformat": 4,
 "nbformat_minor": 5
}
