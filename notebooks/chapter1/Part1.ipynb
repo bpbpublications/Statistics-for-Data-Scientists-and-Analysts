{
 "cells": [
  {
   "cell_type": "markdown",
   "id": "016fe3f9-fc82-4516-b862-11a1fce133fa",
   "metadata": {},
   "source": [
    "## Part 1:\n",
    "<ol>\n",
    "    <li>Types of Data: Qualitative and Quantitative Data</li>\n",
    "    <li>Levels of Measurement: Nominal, Ordinal, Interval, Ratio</li>\n",
    "</ol>"
   ]
  },
  {
   "cell_type": "markdown",
   "id": "d0f4ae09-7228-4b3a-8a72-7139db8cf3ee",
   "metadata": {},
   "source": [
    "<hr>"
   ]
  },
  {
   "cell_type": "markdown",
   "id": "603a9557-0b3b-48a9-b540-ce4a52e12006",
   "metadata": {},
   "source": [
    "#### Examples of Qualitative and Quantitative Data"
   ]
  },
  {
   "cell_type": "markdown",
   "id": "a6553ae1-d819-4d13-810b-bf2c7110df58",
   "metadata": {},
   "source": [
    "**Example 1 : Create a dataframe consisting of qualitative data ?**"
   ]
  },
  {
   "cell_type": "code",
   "execution_count": 36,
   "id": "5f45c54a-d470-44fa-a351-a1a3c75cd9dc",
   "metadata": {},
   "outputs": [
    {
     "name": "stdout",
     "output_type": "stream",
     "text": [
      "      Name           City  Gender Occupation       Race Smartphone Brand\n",
      "0     John       New York    Male   Engineer      Black            Apple\n",
      "1    Alice    Los Angeles  Female     Artist      White          Samsung\n",
      "2      Bob        Chicago    Male    Teacher      Asian            Xiomi\n",
      "3      Eve  San Francisco  Female     Doctor     Indian            Apple\n",
      "4  Michael          Miami    Male     Lawyer  Mongolian           Google\n"
     ]
    }
   ],
   "source": [
    "**Tutorial : An example to create a dataframe consisting of qualitative data ?**\n",
    "\n",
    "#Import the Pandas library to create a pandas Dataframe\n",
    "import pandas as pd\n",
    "\n",
    "# Sample qualitative data\n",
    "qualitative_data = {\n",
    "    'Name': ['John', 'Alice', 'Bob', 'Eve', 'Michael'],\n",
    "    'City': ['New York', 'Los Angeles', 'Chicago', 'San Francisco', 'Miami'],\n",
    "    'Gender': ['Male', 'Female', 'Male', 'Female', 'Male'],\n",
    "    'Occupation': ['Engineer', 'Artist', 'Teacher', 'Doctor', 'Lawyer'],\n",
    "    'Race': ['Black', 'White', 'Asian', 'Indian', 'Mongolian'],\n",
    "    'Smartphone Brand': ['Apple', 'Samsung', 'Xiomi', 'Apple', 'Google']\n",
    "}\n",
    "\n",
    "# Create the DataFrame\n",
    "qualtitative_df = pd.DataFrame(qualitative_data)\n",
    "\n",
    "# Prints the created DataFrame\n",
    "print(qualtitative_df)"
   ]
  },
  {
   "cell_type": "markdown",
   "id": "ec44deb0-eb5f-4749-a94d-9c091df639a2",
   "metadata": {},
   "source": [
    "***Row consisting number 0, 1, 2, 3, 4 is index column which is not part of qualitative data.\n",
    "To exclude it from output simply hide the index column using `to_string()`***"
   ]
  },
  {
   "cell_type": "code",
   "execution_count": 40,
   "id": "4ecbf52e-cd79-4faa-87d6-d240fec8ad17",
   "metadata": {},
   "outputs": [
    {
     "name": "stdout",
     "output_type": "stream",
     "text": [
      "   Name          City Gender Occupation      Race Smartphone Brand\n",
      "   John      New York   Male   Engineer     Black            Apple\n",
      "  Alice   Los Angeles Female     Artist     White          Samsung\n",
      "    Bob       Chicago   Male    Teacher     Asian            Xiomi\n",
      "    Eve San Francisco Female     Doctor    Indian            Apple\n",
      "Michael         Miami   Male     Lawyer Mongolian           Google\n"
     ]
    }
   ],
   "source": [
    "print(qualtitative_df.to_string(index=False))"
   ]
  },
  {
   "cell_type": "markdown",
   "id": "fa295a96-27ce-451b-8055-2bab2bffa85e",
   "metadata": {},
   "source": [
    "**Example 2 : Create a dataframe consisting of quantitative data ?**"
   ]
  },
  {
   "cell_type": "code",
   "execution_count": 38,
   "id": "016b9a88-8f6a-466f-977a-79482042a314",
   "metadata": {},
   "outputs": [
    {
     "name": "stdout",
     "output_type": "stream",
     "text": [
      " price  distance  height  weight  salary  temperature\n",
      "300000        10     170      70    5000           25\n",
      "250000        15     180      80    6000           30\n",
      "400000        20     190      90    7000           35\n",
      "350000        25     160      60    8000           40\n",
      "450000        30     175      75    9000           45\n"
     ]
    }
   ],
   "source": [
    "**Tutorial : An example to create a dataframe consisting of quantitative data ?**\n",
    "\n",
    "#Import the Pandas library to create a pandas Dataframe\n",
    "import pandas as pd\n",
    "quantitative_df = pd.DataFrame({\n",
    "    \"price\": [300000, 250000, 400000, 350000, 450000], \n",
    "    \"distance\": [10, 15, 20, 25, 30], \n",
    "    \"height\": [170, 180, 190, 160, 175], \n",
    "    \"weight\": [70, 80, 90, 60, 75], \n",
    "    \"salary\": [5000, 6000, 7000, 8000, 9000], \n",
    "    \"temperature\": [25, 30, 35, 40, 45], \n",
    "})\n",
    "\n",
    "# Print the DataFrame without index\n",
    "print(quantitative_df.to_string(index=False))\n"
   ]
  },
  {
   "cell_type": "markdown",
   "id": "04779837-82c2-4112-9489-ce14e87c1818",
   "metadata": {},
   "source": [
    "**Example 3 : Create a dataframe consisting of qualitative nominal data ?**"
   ]
  },
  {
   "cell_type": "code",
   "execution_count": 3,
   "id": "db5a1816-23e9-4b37-a4c2-27cdf2aeae2c",
   "metadata": {},
   "outputs": [
    {
     "name": "stdout",
     "output_type": "stream",
     "text": [
      "   Gender   Religion  Ethnicity   Color Electronic Appliances Ownership  \\\n",
      "0    Male      Hindu     Indian     Red                         Samsung   \n",
      "1  Female     Muslim  Pakistani   Green                              LG   \n",
      "2    Male  Christian   American    Blue                           Apple   \n",
      "3  Female   Buddhist    Chinese  Yellow                          Huawei   \n",
      "4    Male     Jewish    Israeli   White                            Sony   \n",
      "\n",
      "  Person Favorite Meal Pet Preference  \n",
      "0              Biryani            Dog  \n",
      "1                Kebab            Cat  \n",
      "2                Pizza         Parrot  \n",
      "3              Noodles           Fish  \n",
      "4              Falafel        Hamster  \n"
     ]
    }
   ],
   "source": [
    "**Tutorial : An example to create a dataframe consisting of nominal data ?**\n",
    "\n",
    "#Import the Pandas library to create a pandas Dataframe\n",
    "import pandas as pd\n",
    "nominal_data = {\n",
    "    \"Gender\": [\"Male\", \"Female\", \"Male\", \"Female\", \"Male\"],\n",
    "    \"Religion\": [\"Hindu\", \"Muslim\", \"Christian\", \"Buddhist\", \"Jewish\"],\n",
    "    \"Ethnicity\": [\"Indian\", \"Pakistani\", \"American\", \"Chinese\", \"Israeli\"],\n",
    "    \"Color\": [\"Red\", \"Green\", \"Blue\", \"Yellow\", \"White\"],\n",
    "    \"Electronic Appliances Ownership\": [\"Samsung\", \"LG\", \"Apple\", \"Huawei\", \"Sony\"],\n",
    "    \"Person Favorite Meal\": [\"Biryani\", \"Kebab\", \"Pizza\", \"Noodles\", \"Falafel\"],\n",
    "    \"Pet Preference\": [\"Dog\", \"Cat\", \"Parrot\", \"Fish\", \"Hamster\"]\n",
    "}\n",
    "nominal_df = pd.DataFrame(nominal_data)\n",
    "print(nominal_df)"
   ]
  },
  {
   "cell_type": "markdown",
   "id": "a4f72f9e-85ef-493d-9aa0-ac41d717bd19",
   "metadata": {},
   "source": [
    "**Example 4 : Create a dataframe consisting of qualitative ordinal data ?**"
   ]
  },
  {
   "cell_type": "code",
   "execution_count": 3,
   "id": "fbfa9700-f606-4ddc-8047-7775194d712a",
   "metadata": {
    "jupyter": {
     "source_hidden": true
    }
   },
   "outputs": [
    {
     "name": "stdout",
     "output_type": "stream",
     "text": [
      "   Gender   Religion  Ethnicity   Color Electronic Appliances Ownership  \\\n",
      "0    Male      Hindu     Indian     Red                         Samsung   \n",
      "1  Female     Muslim  Pakistani   Green                              LG   \n",
      "2    Male  Christian   American    Blue                           Apple   \n",
      "3  Female   Buddhist    Chinese  Yellow                          Huawei   \n",
      "4    Male     Jewish    Israeli   White                            Sony   \n",
      "\n",
      "  Person Favorite Meal Pet Preference  \n",
      "0              Biryani            Dog  \n",
      "1                Kebab            Cat  \n",
      "2                Pizza         Parrot  \n",
      "3              Noodles           Fish  \n",
      "4              Falafel        Hamster  \n"
     ]
    }
   ],
   "source": [
    "**Tutorial : An example to create a dataframe consisting of ordinal data ?**\n",
    "\n",
    "#Import the Pandas library to create a pandas Dataframe\n",
    "import pandas as pd\n",
    "ordinal_data = {\n",
    "    \"Student Rank in a Class\": [\"1st\", \"2nd\", \"3rd\", \"4th\", \"5th\"],\n",
    "    \"Educational Qualification\": [\"Graduate\", \"Undergraduate\", \"High School\", \"Graduate\", \"Undergraduate\"],\n",
    "    \"Satisfaction Level\": [\"Good\", \"Average\", \"Bad\", \"Average\", \"Good\"],\n",
    "    \"Income Level Range\": [\"80,000-100,000\", \"60,000-80,000\", \"40,000-60,000\", \"100,000-120,000\", \"50,000-70,000\"],\n",
    "    \"Level of Agreement\": [\"Agree\", \"Neutral\", \"Disagree\", \"Neutral\", \"Agree\"]\n",
    "}\n",
    "ordinal_df = pd.DataFrame(ordinal_data)\n",
    "print(ordinal_df)"
   ]
  },
  {
   "cell_type": "markdown",
   "id": "072d2603-2168-4aad-b45d-4ffb6703f828",
   "metadata": {},
   "source": [
    "**Example 5 : Create a dataframe consisting of quantitative discrete data ?**"
   ]
  },
  {
   "cell_type": "code",
   "execution_count": 3,
   "id": "69a03f20-5314-4481-bba1-afdc0c667184",
   "metadata": {},
   "outputs": [
    {
     "name": "stdout",
     "output_type": "stream",
     "text": [
      "   Gender   Religion  Ethnicity   Color Electronic Appliances Ownership  \\\n",
      "0    Male      Hindu     Indian     Red                         Samsung   \n",
      "1  Female     Muslim  Pakistani   Green                              LG   \n",
      "2    Male  Christian   American    Blue                           Apple   \n",
      "3  Female   Buddhist    Chinese  Yellow                          Huawei   \n",
      "4    Male     Jewish    Israeli   White                            Sony   \n",
      "\n",
      "  Person Favorite Meal Pet Preference  \n",
      "0              Biryani            Dog  \n",
      "1                Kebab            Cat  \n",
      "2                Pizza         Parrot  \n",
      "3              Noodles           Fish  \n",
      "4              Falafel        Hamster  \n"
     ]
    }
   ],
   "source": [
    "**Tutorial : An example to create a dataframe consisting of discrete data ?**\n",
    "\n",
    "#Import the Pandas library to create a pandas Dataframe\n",
    "import pandas as pd\n",
    "discrete_data = {\n",
    "    \"Total Numbers of Students Present in a Class\": [25, 30, 35, 40, 45],\n",
    "    \"Cost of a Cell Phone\": [500, 600, 700, 800, 900],\n",
    "    \"Numbers of Employees in a Company\": [100, 150, 200, 250, 300],\n",
    "    \"The Total Number of Players who Participated in a Competition\": [50, 40, 30, 20, 10],\n",
    "    \"Days in a Week\": [7, 7, 7, 7, 7]\n",
    "}\n",
    "discrete_df = pd.DataFrame(discrete_data)\n",
    "print(discrete_df)\n"
   ]
  },
  {
   "cell_type": "markdown",
   "id": "981f0395-2d2b-43ac-b0e9-6e736588b4f7",
   "metadata": {},
   "source": [
    "**Example 6 : Create a dataframe consisting of quantitative interval data ?**"
   ]
  },
  {
   "cell_type": "code",
   "execution_count": 9,
   "id": "76a139d9-076c-4fa3-b5e8-cea738d199c3",
   "metadata": {},
   "outputs": [
    {
     "data": {
      "text/html": [
       "<div>\n",
       "<style scoped>\n",
       "    .dataframe tbody tr th:only-of-type {\n",
       "        vertical-align: middle;\n",
       "    }\n",
       "\n",
       "    .dataframe tbody tr th {\n",
       "        vertical-align: top;\n",
       "    }\n",
       "\n",
       "    .dataframe thead th {\n",
       "        text-align: right;\n",
       "    }\n",
       "</style>\n",
       "<table border=\"1\" class=\"dataframe\">\n",
       "  <thead>\n",
       "    <tr style=\"text-align: right;\">\n",
       "      <th></th>\n",
       "      <th>Temperature (Celsius)</th>\n",
       "      <th>GMAT Score (200 - 800)</th>\n",
       "      <th>SAT Score (400 - 1600)</th>\n",
       "      <th>Time</th>\n",
       "    </tr>\n",
       "  </thead>\n",
       "  <tbody>\n",
       "    <tr>\n",
       "      <th>0</th>\n",
       "      <td>10</td>\n",
       "      <td>600</td>\n",
       "      <td>1200</td>\n",
       "      <td>9:00</td>\n",
       "    </tr>\n",
       "    <tr>\n",
       "      <th>1</th>\n",
       "      <td>15</td>\n",
       "      <td>650</td>\n",
       "      <td>1300</td>\n",
       "      <td>10:00</td>\n",
       "    </tr>\n",
       "    <tr>\n",
       "      <th>2</th>\n",
       "      <td>20</td>\n",
       "      <td>700</td>\n",
       "      <td>1400</td>\n",
       "      <td>11:00</td>\n",
       "    </tr>\n",
       "    <tr>\n",
       "      <th>3</th>\n",
       "      <td>25</td>\n",
       "      <td>750</td>\n",
       "      <td>1500</td>\n",
       "      <td>12:00</td>\n",
       "    </tr>\n",
       "    <tr>\n",
       "      <th>4</th>\n",
       "      <td>30</td>\n",
       "      <td>800</td>\n",
       "      <td>1600</td>\n",
       "      <td>13:00</td>\n",
       "    </tr>\n",
       "  </tbody>\n",
       "</table>\n",
       "</div>"
      ],
      "text/plain": [
       "   Temperature (Celsius)  GMAT Score (200 - 800)  SAT Score (400 - 1600)  \\\n",
       "0                     10                     600                    1200   \n",
       "1                     15                     650                    1300   \n",
       "2                     20                     700                    1400   \n",
       "3                     25                     750                    1500   \n",
       "4                     30                     800                    1600   \n",
       "\n",
       "    Time  \n",
       "0   9:00  \n",
       "1  10:00  \n",
       "2  11:00  \n",
       "3  12:00  \n",
       "4  13:00  "
      ]
     },
     "execution_count": 9,
     "metadata": {},
     "output_type": "execute_result"
    }
   ],
   "source": [
    "**Tutorial : An example to create a dataframe consisting of interval data ?**\n",
    "\n",
    "#Import the Pandas library to create a pandas Dataframe\n",
    "import pandas as pd\n",
    "interval_data = {\n",
    "    \"Temperature (Celsius)\": [10, 15, 20, 25, 30],\n",
    "    \"GMAT Score (200 - 800)\": [600, 650, 700, 750, 800],\n",
    "    \"SAT Score (400 - 1600)\": [1200, 1300, 1400, 1500, 1600],\n",
    "    \"Time\": [\"9:00\", \"10:00\", \"11:00\", \"12:00\", \"13:00\"]\n",
    "}\n",
    "interval_df = pd.DataFrame(interval_data)\n",
    "# Print DataFrame as it is without print() also\n",
    "interval_df"
   ]
  },
  {
   "cell_type": "markdown",
   "id": "6e47bbf6-19bd-4a50-81f2-bae7a80995a4",
   "metadata": {},
   "source": [
    "**Example 7 : Create a dataframe consisting of quantitative ratio data ?**"
   ]
  },
  {
   "cell_type": "code",
   "execution_count": 9,
   "id": "4a2df40d-e14a-47da-a612-dc20becfffe3",
   "metadata": {},
   "outputs": [
    {
     "data": {
      "text/html": [
       "<div>\n",
       "<style scoped>\n",
       "    .dataframe tbody tr th:only-of-type {\n",
       "        vertical-align: middle;\n",
       "    }\n",
       "\n",
       "    .dataframe tbody tr th {\n",
       "        vertical-align: top;\n",
       "    }\n",
       "\n",
       "    .dataframe thead th {\n",
       "        text-align: right;\n",
       "    }\n",
       "</style>\n",
       "<table border=\"1\" class=\"dataframe\">\n",
       "  <thead>\n",
       "    <tr style=\"text-align: right;\">\n",
       "      <th></th>\n",
       "      <th>Temperature (Celsius)</th>\n",
       "      <th>GMAT Score (200 - 800)</th>\n",
       "      <th>SAT Score (400 - 1600)</th>\n",
       "      <th>Time</th>\n",
       "    </tr>\n",
       "  </thead>\n",
       "  <tbody>\n",
       "    <tr>\n",
       "      <th>0</th>\n",
       "      <td>10</td>\n",
       "      <td>600</td>\n",
       "      <td>1200</td>\n",
       "      <td>9:00</td>\n",
       "    </tr>\n",
       "    <tr>\n",
       "      <th>1</th>\n",
       "      <td>15</td>\n",
       "      <td>650</td>\n",
       "      <td>1300</td>\n",
       "      <td>10:00</td>\n",
       "    </tr>\n",
       "    <tr>\n",
       "      <th>2</th>\n",
       "      <td>20</td>\n",
       "      <td>700</td>\n",
       "      <td>1400</td>\n",
       "      <td>11:00</td>\n",
       "    </tr>\n",
       "    <tr>\n",
       "      <th>3</th>\n",
       "      <td>25</td>\n",
       "      <td>750</td>\n",
       "      <td>1500</td>\n",
       "      <td>12:00</td>\n",
       "    </tr>\n",
       "    <tr>\n",
       "      <th>4</th>\n",
       "      <td>30</td>\n",
       "      <td>800</td>\n",
       "      <td>1600</td>\n",
       "      <td>13:00</td>\n",
       "    </tr>\n",
       "  </tbody>\n",
       "</table>\n",
       "</div>"
      ],
      "text/plain": [
       "   Temperature (Celsius)  GMAT Score (200 - 800)  SAT Score (400 - 1600)  \\\n",
       "0                     10                     600                    1200   \n",
       "1                     15                     650                    1300   \n",
       "2                     20                     700                    1400   \n",
       "3                     25                     750                    1500   \n",
       "4                     30                     800                    1600   \n",
       "\n",
       "    Time  \n",
       "0   9:00  \n",
       "1  10:00  \n",
       "2  11:00  \n",
       "3  12:00  \n",
       "4  13:00  "
      ]
     },
     "execution_count": 9,
     "metadata": {},
     "output_type": "execute_result"
    }
   ],
   "source": [
    "**Tutorial : An example to create a dataframe consisting of ratio data ?**\n",
    "\n",
    "#Import the Pandas library to create a pandas Dataframe\n",
    "import pandas as pd\n",
    "ratio_data = {\n",
    "    \"Height\": [170, 180, 190, 200, 210],\n",
    "    \"Weight\": [60, 70, 80, 90, 100],\n",
    "    \"Age\": [20, 25, 30, 35, 40],\n",
    "    \"Speed\": [80, 90, 100, 110, 120],\n",
    "    \"Tax Amount\": [1000, 1500, 2000, 2500, 3000]\n",
    "}\n",
    "ratio_df = pd.DataFrame(ratio_data)\n",
    "ratio_df"
   ]
  },
  {
   "cell_type": "markdown",
   "id": "1acac68c-8f19-4631-a1c4-a4d87753de97",
   "metadata": {},
   "source": [
    "**Example 7.1 : Sometimes data can be in JSON. As the data used in above tutorial is in JSON format. In that case ´json.loads()´method can load it ?**"
   ]
  },
  {
   "cell_type": "code",
   "execution_count": 12,
   "id": "b3d98a7d-502d-47b7-aa2d-4a9b586f037f",
   "metadata": {},
   "outputs": [
    {
     "data": {
      "text/plain": [
       "[{'Height': 170, 'Weight': 60, 'Age': 20, 'Speed': 80, 'Tax Amount': 1000},\n",
       " {'Height': 180, 'Weight': 70, 'Age': 25, 'Speed': 90, 'Tax Amount': 1500},\n",
       " {'Height': 190, 'Weight': 80, 'Age': 30, 'Speed': 100, 'Tax Amount': 2000},\n",
       " {'Height': 200, 'Weight': 90, 'Age': 35, 'Speed': 110, 'Tax Amount': 2500},\n",
       " {'Height': 210, 'Weight': 100, 'Age': 40, 'Speed': 120, 'Tax Amount': 3000}]"
      ]
     },
     "execution_count": 12,
     "metadata": {},
     "output_type": "execute_result"
    }
   ],
   "source": [
    "import json\n",
    "\n",
    "# The JSON string:\n",
    "json_data = \"\"\"\n",
    "[\n",
    "  {\n",
    "    \"Height\": 170,\n",
    "    \"Weight\": 60,\n",
    "    \"Age\": 20,\n",
    "    \"Speed\": 80,\n",
    "    \"Tax Amount\": 1000\n",
    "  },\n",
    "  {\n",
    "    \"Height\": 180,\n",
    "    \"Weight\": 70,\n",
    "    \"Age\": 25,\n",
    "    \"Speed\": 90,\n",
    "    \"Tax Amount\": 1500\n",
    "  },\n",
    "  {\n",
    "    \"Height\": 190,\n",
    "    \"Weight\": 80,\n",
    "    \"Age\": 30,\n",
    "    \"Speed\": 100,\n",
    "    \"Tax Amount\": 2000\n",
    "  },\n",
    "  {\n",
    "    \"Height\": 200,\n",
    "    \"Weight\": 90,\n",
    "    \"Age\": 35,\n",
    "    \"Speed\": 110,\n",
    "    \"Tax Amount\": 2500\n",
    "  },\n",
    "  {\n",
    "    \"Height\": 210,\n",
    "    \"Weight\": 100,\n",
    "    \"Age\": 40,\n",
    "    \"Speed\": 120,\n",
    "    \"Tax Amount\": 3000\n",
    "   }\n",
    "]\n",
    "\"\"\"\n",
    "\n",
    "# Convert to Python object (list of dicts):\n",
    "data = json.loads(json_data)\n",
    "data"
   ]
  },
  {
   "cell_type": "markdown",
   "id": "157189c0-238f-4bc7-a247-c9264aaa6a4b",
   "metadata": {},
   "source": [
    "**Contining Qualitative Data Image, Auido, Video, Text Data are also qualitative data**\n",
    "<br>\n",
    "**Example 8. To access and create a DataFrame of the image data.**"
   ]
  },
  {
   "cell_type": "markdown",
   "id": "cbd4092e-d544-4162-b8f7-46872b2affa7",
   "metadata": {},
   "source": [
    "For this we used open source Olivetti faces dataset. This dataset contains a set of face images taken between April 1992 and April 1994 at AT&T Laboratories Cambridge. There are ten different images of each of 40 distinct subjects, with varying lighting, facial expressions, and facial details. \n",
    "The images are quantized to 256 grey levels and have a resolution of 64x64 pixels (Source: https://kapernikov.com/tutorial-image-classification-with-scikit-learn/).To create a dataframe consisting of the Olivetti faces dataset, you can use the following steps:\n",
    "First, you need to fetch the Olivetti faces dataset from sklearn using the sklearn.datasets.fetch_olivetti_faces function. \n",
    "This will return a Bunch object that holds the data and some metadata.\n",
    "Next, you can use the pandas.DataFrame constructor to create a dataframe from the data and the feature names. \n",
    "You can also add a column for the target labels using the target and target_names attributes of the Bunch object.\n",
    "Finally, you can use the pandas methods to display and analyze the dataframe. For example, you can use df.head(), df.describe(), df.info(), etc."
   ]
  },
  {
   "cell_type": "code",
   "execution_count": 7,
   "id": "05e881d7-c79a-49f7-b899-c55c41ff0926",
   "metadata": {},
   "outputs": [
    {
     "name": "stdout",
     "output_type": "stream",
     "text": [
      "          0         1         2         3         4         5         6  \\\n",
      "0  0.309917  0.367769  0.417355  0.442149  0.528926  0.607438  0.657025   \n",
      "1  0.454545  0.471074  0.512397  0.557851  0.595041  0.640496  0.681818   \n",
      "2  0.318182  0.400826  0.491736  0.528926  0.586777  0.657025  0.681818   \n",
      "\n",
      "          7         8         9  ...      4087      4088      4089      4090  \\\n",
      "0  0.677686  0.690083  0.685950  ...  0.669421  0.652893  0.661157  0.475207   \n",
      "1  0.702479  0.710744  0.702479  ...  0.157025  0.136364  0.148760  0.152893   \n",
      "2  0.685950  0.702479  0.698347  ...  0.132231  0.181818  0.136364  0.128099   \n",
      "\n",
      "       4091      4092      4093      4094      4095  target  \n",
      "0  0.132231  0.148760  0.152893  0.161157  0.157025       0  \n",
      "1  0.152893  0.152893  0.152893  0.152893  0.152893       0  \n",
      "2  0.148760  0.144628  0.140496  0.148760  0.152893       0  \n",
      "\n",
      "[3 rows x 4097 columns]\n",
      "\n",
      "\n"
     ]
    },
    {
     "data": {
      "image/png": "[encoded data removed]",
      "text/plain": [
       "<Figure size 640x480 with 1 Axes>"
      ]
     },
     "metadata": {},
     "output_type": "display_data"
    }
   ],
   "source": [
    "**Tutorial : To access and create a DataFrame of the image data.**\n",
    "    \n",
    "import pandas as pd\n",
    "#Import datasets from the sklearn library\n",
    "from sklearn import datasets\n",
    "\n",
    "# Fetch the Olivetti faces dataset\n",
    "faces = datasets.fetch_olivetti_faces()\n",
    "\n",
    "# Create a dataframe from the data and feature names\n",
    "df = pd.DataFrame(faces.data)\n",
    "\n",
    "# Add a column for the target labels\n",
    "df[\"target\"] = faces.target\n",
    "\n",
    "# Display the first 3 rows of the dataframe\n",
    "print(f\"{df.head(3)}\")\n",
    "# Print new line\n",
    "print(\"\\n\")\n",
    "\n",
    "# Display the first image in the dataset\n",
    "import matplotlib.pyplot as plt\n",
    "plt.imshow(df.iloc[0, :-1].values.reshape(64, 64), cmap=\"gray\")\n",
    "plt.title(f\"Image of person {df.iloc[0, -1]}\")\n",
    "plt.show()"
   ]
  },
  {
   "cell_type": "markdown",
   "id": "c08f8a99-23a9-4d78-9ac6-5be0bd548326",
   "metadata": {},
   "source": [
    "**Contining quantitative Data: For this we will use tabular iris dataset provided by sklearn**\n",
    "<br>\n",
    "**Example 9. To access and create a DataFrame by loading the tabular iris data.**"
   ]
  },
  {
   "cell_type": "markdown",
   "id": "3a4cdcbc-f874-4887-a03b-7bb75aa717e7",
   "metadata": {},
   "source": [
    "Iris tabular dataset contains 150 samples of iris flowers, with four features (sepal length, sepal width, petal length, and petal width)\n",
    "and three classes (setosa, versicolor, and virginica). The sepal length, sepal width, petal length, petal width and target(class) are columns \n",
    "of the table(Source: https://scikit-learn.org/stable/datasets/toy_dataset.html#iris-dataset)\n",
    "<br>\n",
    "To create a dataframe consisting of the iris dataset, you can use the following steps:\n",
    "\n",
    "First, you need to load the iris dataset from sklearn using the sklearn.datasets.load_iris function. This will return a Bunch object that holds the data and some metadata.\n",
    "Next, you can use the pandas.DataFrame constructor to create a dataframe from the data and the feature names. You can also add a column for the target labels using the target and target_names attributes of the Bunch object.\n",
    "Finally, you can use the pandas methods to display and analyze the dataframe. For example, you can use df.head(), df.describe(), df.info(), etc"
   ]
  },
  {
   "cell_type": "code",
   "execution_count": 12,
   "id": "58d74893-f38e-445f-aa88-6f8897a678d6",
   "metadata": {},
   "outputs": [
    {
     "data": {
      "text/html": [
       "<div>\n",
       "<style scoped>\n",
       "    .dataframe tbody tr th:only-of-type {\n",
       "        vertical-align: middle;\n",
       "    }\n",
       "\n",
       "    .dataframe tbody tr th {\n",
       "        vertical-align: top;\n",
       "    }\n",
       "\n",
       "    .dataframe thead th {\n",
       "        text-align: right;\n",
       "    }\n",
       "</style>\n",
       "<table border=\"1\" class=\"dataframe\">\n",
       "  <thead>\n",
       "    <tr style=\"text-align: right;\">\n",
       "      <th></th>\n",
       "      <th>sepal length (cm)</th>\n",
       "      <th>sepal width (cm)</th>\n",
       "      <th>petal length (cm)</th>\n",
       "      <th>petal width (cm)</th>\n",
       "      <th>target</th>\n",
       "    </tr>\n",
       "  </thead>\n",
       "  <tbody>\n",
       "    <tr>\n",
       "      <th>0</th>\n",
       "      <td>5.1</td>\n",
       "      <td>3.5</td>\n",
       "      <td>1.4</td>\n",
       "      <td>0.2</td>\n",
       "      <td>0</td>\n",
       "    </tr>\n",
       "    <tr>\n",
       "      <th>1</th>\n",
       "      <td>4.9</td>\n",
       "      <td>3.0</td>\n",
       "      <td>1.4</td>\n",
       "      <td>0.2</td>\n",
       "      <td>0</td>\n",
       "    </tr>\n",
       "    <tr>\n",
       "      <th>2</th>\n",
       "      <td>4.7</td>\n",
       "      <td>3.2</td>\n",
       "      <td>1.3</td>\n",
       "      <td>0.2</td>\n",
       "      <td>0</td>\n",
       "    </tr>\n",
       "    <tr>\n",
       "      <th>3</th>\n",
       "      <td>4.6</td>\n",
       "      <td>3.1</td>\n",
       "      <td>1.5</td>\n",
       "      <td>0.2</td>\n",
       "      <td>0</td>\n",
       "    </tr>\n",
       "    <tr>\n",
       "      <th>4</th>\n",
       "      <td>5.0</td>\n",
       "      <td>3.6</td>\n",
       "      <td>1.4</td>\n",
       "      <td>0.2</td>\n",
       "      <td>0</td>\n",
       "    </tr>\n",
       "  </tbody>\n",
       "</table>\n",
       "</div>"
      ],
      "text/plain": [
       "   sepal length (cm)  sepal width (cm)  petal length (cm)  petal width (cm)  \\\n",
       "0                5.1               3.5                1.4               0.2   \n",
       "1                4.9               3.0                1.4               0.2   \n",
       "2                4.7               3.2                1.3               0.2   \n",
       "3                4.6               3.1                1.5               0.2   \n",
       "4                5.0               3.6                1.4               0.2   \n",
       "\n",
       "   target  \n",
       "0       0  \n",
       "1       0  \n",
       "2       0  \n",
       "3       0  \n",
       "4       0  "
      ]
     },
     "execution_count": 12,
     "metadata": {},
     "output_type": "execute_result"
    }
   ],
   "source": [
    "** Tutorial: To access and create a DataFrame by loading the tabular iris data. **\n",
    "\n",
    "import pandas as pd\n",
    "from sklearn import datasets\n",
    "\n",
    "# Load the iris dataset\n",
    "iris = datasets.load_iris()\n",
    "\n",
    "# Create a dataframe from the data and feature names\n",
    "df = pd.DataFrame(iris.data, columns=iris.feature_names)\n",
    "\n",
    "# Add a column for the target labels\n",
    "df[\"target\"] = iris.target\n",
    "\n",
    "# Display the first 5 rows of the dataframe\n",
    "df.head()"
   ]
  },
  {
   "cell_type": "markdown",
   "id": "5edc32c5-1504-4852-8e50-e9bdcc274219",
   "metadata": {},
   "source": [
    "#### Ways to differenciate and determine Qualitative and Quantitative Data and its subtypes\n",
    "Methods listed below can be used to understand the data and DataFrame. These methods assist in sneeking and describing the types of information present. Knowing the types will help in classfing if a data is nominal,ordinal,interval or ratio.   "
   ]
  },
  {
   "cell_type": "markdown",
   "id": "45eebc90-0074-4906-80c6-49cee8f76486",
   "metadata": {},
   "source": [
    "**Way 1: `dtype()`** <br> **Tutorial : Use dtype() to check the datatypes of the different features or column in a dataframe**"
   ]
  },
  {
   "cell_type": "code",
   "execution_count": 2,
   "id": "b89630e5-ee6b-45ab-a898-ea25fe8471fe",
   "metadata": {},
   "outputs": [
    {
     "name": "stdout",
     "output_type": "stream",
     "text": [
      "      name  age  gender hair color marital status  salary  height  weight\n",
      "0    Alice   25  female      black         single    5000     6.0      60\n",
      "1      Bob   30    male      brown        married    6000     5.7      57\n",
      "2  Charlie   35    male      white       divorced    7000     5.5      55\n",
      "name               object\n",
      "age                 int64\n",
      "gender             object\n",
      "hair color         object\n",
      "marital status     object\n",
      "salary              int64\n",
      "height            float64\n",
      "weight              int64\n",
      "dtype: object\n"
     ]
    }
   ],
   "source": [
    "\n",
    "import pandas as pd\n",
    "\n",
    "# Create a data frame with qualitative and quantitative columns\n",
    "df = pd.DataFrame({\n",
    "    \"name\": [\"Alice\", \"Bob\", \"Charlie\"], # a qualitative column\n",
    "    \"age\": [25, 30, 35], # a quantitative column\n",
    "    \"gender\": [\"female\", \"male\", \"male\"], # a qualitative column\n",
    "    \"hair color\": [\"black\", \"brown\", \"white\"], # a qualitative column\n",
    "    \"marital status\": [\"single\", \"married\", \"divorced\"], # a qualitative column\n",
    "    \"salary\": [5000, 6000, 7000], # a quantitative column\n",
    "    \"height\": [6, 5.7, 5.5], # a quantitative column\n",
    "    \"weight\": [60, 57, 55] # a quantitative column\n",
    "})\n",
    "\n",
    "# Print the data frame\n",
    "print(df)\n",
    "\n",
    "# Print the data types of each column\n",
    "print(df.dtypes)"
   ]
  },
  {
   "cell_type": "markdown",
   "id": "30cf63d6-5ebc-4c93-aabd-760e7ecdb566",
   "metadata": {},
   "source": [
    "**Way 2: `describe()`**\n",
    "<br>\n",
    "**Tutorial : To describe() the dataframe used in tutorial of dtype()**\n",
    "You can also use the describe method of a pandas data frame to generate descriptive statistics for each column. \n",
    "This method will only show statistics for quantitative columns by default, such as mean, standard deviation, minimum, maximum, etc. \n",
    "To include qualitative columns, you need to specify include='O' as an argument. This will show statistics for qualitative columns, \n",
    "such as count, unique values, top value, and frequency.\n",
    "As you can see, the descriptive statistics for qualitative and quantitative columns are different, \n",
    "reflecting the nature of the data."
   ]
  },
  {
   "cell_type": "code",
   "execution_count": 23,
   "id": "9bfd60f3-bfdb-4913-a931-d087e94ab4c9",
   "metadata": {},
   "outputs": [
    {
     "name": "stdout",
     "output_type": "stream",
     "text": [
      "        age  salary    height     weight\n",
      "count   3.0     3.0  3.000000   3.000000\n",
      "mean   30.0  6000.0  5.733333  57.333333\n",
      "std     5.0  1000.0  0.251661   2.516611\n",
      "min    25.0  5000.0  5.500000  55.000000\n",
      "25%    27.5  5500.0  5.600000  56.000000\n",
      "50%    30.0  6000.0  5.700000  57.000000\n",
      "75%    32.5  6500.0  5.850000  58.500000\n",
      "max    35.0  7000.0  6.000000  60.000000\n",
      "         name gender hair color marital status\n",
      "count       3      3          3              3\n",
      "unique      3      2          3              3\n",
      "top     Alice   male      black         single\n",
      "freq        1      2          1              1\n"
     ]
    }
   ],
   "source": [
    "# Print the descriptive statistics for quantitative columns\n",
    "print(df.describe())\n",
    "\n",
    "# Print the descriptive statistics for qualitative columns\n",
    "print(df.describe(include='O'))"
   ]
  },
  {
   "cell_type": "markdown",
   "id": "4c92022d-fb45-400f-8013-39453ae38265",
   "metadata": {},
   "source": [
    "**Way 3: `value_count()`**\n",
    "<br>\n",
    "Tutorial: Counting the frequency of each unique value in a column or showing the distribution of categories or labels helps knowing qualitative data.\n",
    "<br>\n",
    "For this the `value_counts()` is used. It will also display the data type`dtype`. The dtype displayed is the data type of the values in the Series object returned by the value_counts method. In case of `gender`, the values are counts of each unique value in the gender column of the dataframe, and the data type is int64, which means 64-bit integer."
   ]
  },
  {
   "cell_type": "code",
   "execution_count": 19,
   "id": "5518f990-7c64-49f9-9561-9c37f308101c",
   "metadata": {},
   "outputs": [
    {
     "name": "stdout",
     "output_type": "stream",
     "text": [
      "gender\n",
      "male      2\n",
      "female    1\n",
      "Name: count, dtype: int64\n",
      "\n",
      "\n",
      "age\n",
      "25    1\n",
      "30    1\n",
      "35    1\n",
      "Name: count, dtype: int64\n"
     ]
    }
   ],
   "source": [
    "# To count the values in `gender` column\n",
    "print(df['gender'].value_counts())\n",
    "print(\"\\n\")\n",
    "# To count the values in `age` column\n",
    "print(df['age'].value_counts())"
   ]
  },
  {
   "cell_type": "markdown",
   "id": "e1ecc851-d347-4209-a941-c1856e61acfd",
   "metadata": {},
   "source": [
    "**Way 4: `is_numeric_dtype()`, `is_string_dtype()`**\n",
    "<br>\n",
    "Functions `is_numeric_dtype()` and `is_string_dtype()`from the pandas.api.types module can help you determine if a column contains numeric or string (object) data."
   ]
  },
  {
   "cell_type": "code",
   "execution_count": 21,
   "id": "2a338d99-311b-438f-8822-dd2283ee5a70",
   "metadata": {},
   "outputs": [
    {
     "name": "stdout",
     "output_type": "stream",
     "text": [
      "Is string?:  True\n",
      "Is numeric?:  True\n",
      "Is string?:  False\n",
      "Is numeric?:  False\n"
     ]
    }
   ],
   "source": [
    "import pandas.api.types as ptypes\n",
    "\n",
    "print(f\"Is string?:  {ptypes.is_string_dtype(df['hair color'])}\")\n",
    "print(f\"Is numeric?:  {ptypes.is_numeric_dtype(df['weight'])}\")\n",
    "\n",
    "print(f\"Is string?:  {ptypes.is_string_dtype(df['salary'])}\")\n",
    "print(f\"Is numeric?:  {ptypes.is_numeric_dtype(df['name'])}\")"
   ]
  },
  {
   "cell_type": "markdown",
   "id": "e0215357-007b-4a54-8b84-9a18e9acbc07",
   "metadata": {},
   "source": [
    "Also we ca use a for loop to check it for all the columns iteratively"
   ]
  },
  {
   "cell_type": "code",
   "execution_count": 22,
   "id": "b7aebc82-de55-4175-bfd5-d4001a2207cd",
   "metadata": {},
   "outputs": [
    {
     "name": "stdout",
     "output_type": "stream",
     "text": [
      "name:\n",
      "Is numeric? False\n",
      "Is string? True\n",
      "\n",
      "age:\n",
      "Is numeric? True\n",
      "Is string? False\n",
      "\n",
      "gender:\n",
      "Is numeric? False\n",
      "Is string? True\n",
      "\n",
      "hair color:\n",
      "Is numeric? False\n",
      "Is string? True\n",
      "\n",
      "marital status:\n",
      "Is numeric? False\n",
      "Is string? True\n",
      "\n",
      "salary:\n",
      "Is numeric? True\n",
      "Is string? False\n",
      "\n",
      "height:\n",
      "Is numeric? True\n",
      "Is string? False\n",
      "\n",
      "weight:\n",
      "Is numeric? True\n",
      "Is string? False\n",
      "\n"
     ]
    }
   ],
   "source": [
    "# Check the data types of each column using is_numeric_dtype() and is_string_dtype()\n",
    "for col in df.columns:\n",
    "    print(f\"{col}:\")\n",
    "    print(f\"Is numeric? {ptypes.is_numeric_dtype(df[col])}\")\n",
    "    print(f\"Is string? {ptypes.is_string_dtype(df[col])}\")\n",
    "    print()"
   ]
  },
  {
   "cell_type": "markdown",
   "id": "19181475-7dd8-4b0e-abe9-8e95e91fab92",
   "metadata": {},
   "source": [
    "**Way 5: `info()`**\n",
    "<br>\n",
    "`info()` describes the dataframe with column name, the number of not null values and data type of each column"
   ]
  },
  {
   "cell_type": "code",
   "execution_count": 27,
   "id": "bb9d4bdc-9cad-404d-bcf9-07bce87fd2c9",
   "metadata": {},
   "outputs": [
    {
     "name": "stdout",
     "output_type": "stream",
     "text": [
      "<class 'pandas.core.frame.DataFrame'>\n",
      "RangeIndex: 3 entries, 0 to 2\n",
      "Data columns (total 8 columns):\n",
      " #   Column          Non-Null Count  Dtype  \n",
      "---  ------          --------------  -----  \n",
      " 0   name            3 non-null      object \n",
      " 1   age             3 non-null      int64  \n",
      " 2   gender          3 non-null      object \n",
      " 3   hair color      3 non-null      object \n",
      " 4   marital status  3 non-null      object \n",
      " 5   salary          3 non-null      int64  \n",
      " 6   height          3 non-null      float64\n",
      " 7   weight          3 non-null      int64  \n",
      "dtypes: float64(1), int64(3), object(4)\n",
      "memory usage: 320.0+ bytes\n"
     ]
    }
   ],
   "source": [
    "df.info()"
   ]
  },
  {
   "cell_type": "markdown",
   "id": "7180efe9-6ec5-47e8-b97b-cad1e84c7883",
   "metadata": {},
   "source": [
    "**Way 6: head() and tail()**\n",
    "<br>\n",
    "`head()` displays the DataFrame with first few rows. Also inside the parathesis if head() you can define the number of rows you want to view.\n",
    "For example to view first 10 rows of the DataFrame write `head(10)`. "
   ]
  },
  {
   "cell_type": "code",
   "execution_count": 34,
   "id": "01ea6b31-345f-40a1-bd9e-1b02ed88afa0",
   "metadata": {},
   "outputs": [
    {
     "name": "stdout",
     "output_type": "stream",
     "text": [
      "      name  age  gender hair color marital status  salary  height  weight\n",
      "0    Alice   25  female      black         single    5000     6.0      60\n",
      "1      Bob   30    male      brown        married    6000     5.7      57\n",
      "2  Charlie   35    male      white       divorced    7000     5.5      55\n"
     ]
    },
    {
     "data": {
      "text/html": [
       "<div>\n",
       "<style scoped>\n",
       "    .dataframe tbody tr th:only-of-type {\n",
       "        vertical-align: middle;\n",
       "    }\n",
       "\n",
       "    .dataframe tbody tr th {\n",
       "        vertical-align: top;\n",
       "    }\n",
       "\n",
       "    .dataframe thead th {\n",
       "        text-align: right;\n",
       "    }\n",
       "</style>\n",
       "<table border=\"1\" class=\"dataframe\">\n",
       "  <thead>\n",
       "    <tr style=\"text-align: right;\">\n",
       "      <th></th>\n",
       "      <th>name</th>\n",
       "      <th>age</th>\n",
       "      <th>gender</th>\n",
       "      <th>hair color</th>\n",
       "      <th>marital status</th>\n",
       "      <th>salary</th>\n",
       "      <th>height</th>\n",
       "      <th>weight</th>\n",
       "    </tr>\n",
       "  </thead>\n",
       "  <tbody>\n",
       "    <tr>\n",
       "      <th>0</th>\n",
       "      <td>Alice</td>\n",
       "      <td>25</td>\n",
       "      <td>female</td>\n",
       "      <td>black</td>\n",
       "      <td>single</td>\n",
       "      <td>5000</td>\n",
       "      <td>6.0</td>\n",
       "      <td>60</td>\n",
       "    </tr>\n",
       "  </tbody>\n",
       "</table>\n",
       "</div>"
      ],
      "text/plain": [
       "    name  age  gender hair color marital status  salary  height  weight\n",
       "0  Alice   25  female      black         single    5000     6.0      60"
      ]
     },
     "execution_count": 34,
     "metadata": {},
     "output_type": "execute_result"
    }
   ],
   "source": [
    "# View the first few rows of the DataFrame\n",
    "print(df.head())\n",
    "\n",
    "# View first 2 rows of the DataFrame\n",
    "df.head(1)"
   ]
  },
  {
   "cell_type": "markdown",
   "id": "8efee3f6-95ad-4d90-83a1-279d8422bc89",
   "metadata": {},
   "source": [
    "Similarly to that to display the bottomost rows `tail()` is used.\n",
    "<br>\n",
    "`IPython.display` module is a module that provides tools to display various types of data and media in `IPython` environments, such as notebooks and terminals.\n",
    "It can display text, images, audio, video, HTML, LaTeX, JSON, and more. \n",
    "Here we used it to display multiple objects in a single output cell. (Source: https://ipython.readthedocs.io/en/stable/api/generated/IPython.display.html)"
   ]
  },
  {
   "cell_type": "code",
   "execution_count": 33,
   "id": "d0c89daf-74e1-4a80-911a-f5bd162a666f",
   "metadata": {},
   "outputs": [
    {
     "data": {
      "text/html": [
       "<div>\n",
       "<style scoped>\n",
       "    .dataframe tbody tr th:only-of-type {\n",
       "        vertical-align: middle;\n",
       "    }\n",
       "\n",
       "    .dataframe tbody tr th {\n",
       "        vertical-align: top;\n",
       "    }\n",
       "\n",
       "    .dataframe thead th {\n",
       "        text-align: right;\n",
       "    }\n",
       "</style>\n",
       "<table border=\"1\" class=\"dataframe\">\n",
       "  <thead>\n",
       "    <tr style=\"text-align: right;\">\n",
       "      <th></th>\n",
       "      <th>name</th>\n",
       "      <th>age</th>\n",
       "      <th>gender</th>\n",
       "      <th>hair color</th>\n",
       "      <th>marital status</th>\n",
       "      <th>salary</th>\n",
       "      <th>height</th>\n",
       "      <th>weight</th>\n",
       "    </tr>\n",
       "  </thead>\n",
       "  <tbody>\n",
       "    <tr>\n",
       "      <th>0</th>\n",
       "      <td>Alice</td>\n",
       "      <td>25</td>\n",
       "      <td>female</td>\n",
       "      <td>black</td>\n",
       "      <td>single</td>\n",
       "      <td>5000</td>\n",
       "      <td>6.0</td>\n",
       "      <td>60</td>\n",
       "    </tr>\n",
       "    <tr>\n",
       "      <th>1</th>\n",
       "      <td>Bob</td>\n",
       "      <td>30</td>\n",
       "      <td>male</td>\n",
       "      <td>brown</td>\n",
       "      <td>married</td>\n",
       "      <td>6000</td>\n",
       "      <td>5.7</td>\n",
       "      <td>57</td>\n",
       "    </tr>\n",
       "    <tr>\n",
       "      <th>2</th>\n",
       "      <td>Charlie</td>\n",
       "      <td>35</td>\n",
       "      <td>male</td>\n",
       "      <td>white</td>\n",
       "      <td>divorced</td>\n",
       "      <td>7000</td>\n",
       "      <td>5.5</td>\n",
       "      <td>55</td>\n",
       "    </tr>\n",
       "  </tbody>\n",
       "</table>\n",
       "</div>"
      ],
      "text/plain": [
       "      name  age  gender hair color marital status  salary  height  weight\n",
       "0    Alice   25  female      black         single    5000     6.0      60\n",
       "1      Bob   30    male      brown        married    6000     5.7      57\n",
       "2  Charlie   35    male      white       divorced    7000     5.5      55"
      ]
     },
     "metadata": {},
     "output_type": "display_data"
    },
    {
     "data": {
      "text/html": [
       "<div>\n",
       "<style scoped>\n",
       "    .dataframe tbody tr th:only-of-type {\n",
       "        vertical-align: middle;\n",
       "    }\n",
       "\n",
       "    .dataframe tbody tr th {\n",
       "        vertical-align: top;\n",
       "    }\n",
       "\n",
       "    .dataframe thead th {\n",
       "        text-align: right;\n",
       "    }\n",
       "</style>\n",
       "<table border=\"1\" class=\"dataframe\">\n",
       "  <thead>\n",
       "    <tr style=\"text-align: right;\">\n",
       "      <th></th>\n",
       "      <th>name</th>\n",
       "      <th>age</th>\n",
       "      <th>gender</th>\n",
       "      <th>hair color</th>\n",
       "      <th>marital status</th>\n",
       "      <th>salary</th>\n",
       "      <th>height</th>\n",
       "      <th>weight</th>\n",
       "    </tr>\n",
       "  </thead>\n",
       "  <tbody>\n",
       "    <tr>\n",
       "      <th>2</th>\n",
       "      <td>Charlie</td>\n",
       "      <td>35</td>\n",
       "      <td>male</td>\n",
       "      <td>white</td>\n",
       "      <td>divorced</td>\n",
       "      <td>7000</td>\n",
       "      <td>5.5</td>\n",
       "      <td>55</td>\n",
       "    </tr>\n",
       "  </tbody>\n",
       "</table>\n",
       "</div>"
      ],
      "text/plain": [
       "      name  age gender hair color marital status  salary  height  weight\n",
       "2  Charlie   35   male      white       divorced    7000     5.5      55"
      ]
     },
     "metadata": {},
     "output_type": "display_data"
    }
   ],
   "source": [
    "from IPython.display import display\n",
    "# View the last few rows of the DataFrame\n",
    "display(df.tail())\n",
    "# View last 2 rows of the DataFrame\n",
    "display(df.tail(1))"
   ]
  },
  {
   "cell_type": "markdown",
   "id": "d397375b-6293-4d89-aec1-757457208390",
   "metadata": {},
   "source": [
    "**Way 7: Other ways**\n",
    "<br>\n",
    "<ol>\n",
    "    <li>select_dtypes(include='____')</li>\n",
    "    <li>groupby()</li>\n",
    "    <li>groupby().sum()</li>\n",
    "    <li>columns</li>\n",
    "    <li>type()</li>\n",
    "</ol>"
   ]
  },
  {
   "cell_type": "markdown",
   "id": "27498c62-547a-4155-b7f7-85f48bb24f3b",
   "metadata": {},
   "source": [
    "***Way 7.1. `select_dtypes(include='____')`***\n",
    "<br>\n",
    "Used to select columns with specific datatype. i.e, `number`and `object`"
   ]
  },
  {
   "cell_type": "code",
   "execution_count": 9,
   "id": "8d911328-8bfc-4858-8fa8-82b30f0ee4c8",
   "metadata": {},
   "outputs": [
    {
     "data": {
      "text/html": [
       "<div>\n",
       "<style scoped>\n",
       "    .dataframe tbody tr th:only-of-type {\n",
       "        vertical-align: middle;\n",
       "    }\n",
       "\n",
       "    .dataframe tbody tr th {\n",
       "        vertical-align: top;\n",
       "    }\n",
       "\n",
       "    .dataframe thead th {\n",
       "        text-align: right;\n",
       "    }\n",
       "</style>\n",
       "<table border=\"1\" class=\"dataframe\">\n",
       "  <thead>\n",
       "    <tr style=\"text-align: right;\">\n",
       "      <th></th>\n",
       "      <th>age</th>\n",
       "      <th>salary</th>\n",
       "      <th>height</th>\n",
       "      <th>weight</th>\n",
       "    </tr>\n",
       "  </thead>\n",
       "  <tbody>\n",
       "    <tr>\n",
       "      <th>0</th>\n",
       "      <td>25</td>\n",
       "      <td>5000</td>\n",
       "      <td>6.0</td>\n",
       "      <td>60</td>\n",
       "    </tr>\n",
       "    <tr>\n",
       "      <th>1</th>\n",
       "      <td>30</td>\n",
       "      <td>6000</td>\n",
       "      <td>5.7</td>\n",
       "      <td>57</td>\n",
       "    </tr>\n",
       "    <tr>\n",
       "      <th>2</th>\n",
       "      <td>35</td>\n",
       "      <td>7000</td>\n",
       "      <td>5.5</td>\n",
       "      <td>55</td>\n",
       "    </tr>\n",
       "  </tbody>\n",
       "</table>\n",
       "</div>"
      ],
      "text/plain": [
       "   age  salary  height  weight\n",
       "0   25    5000     6.0      60\n",
       "1   30    6000     5.7      57\n",
       "2   35    7000     5.5      55"
      ]
     },
     "metadata": {},
     "output_type": "display_data"
    },
    {
     "data": {
      "text/html": [
       "<div>\n",
       "<style scoped>\n",
       "    .dataframe tbody tr th:only-of-type {\n",
       "        vertical-align: middle;\n",
       "    }\n",
       "\n",
       "    .dataframe tbody tr th {\n",
       "        vertical-align: top;\n",
       "    }\n",
       "\n",
       "    .dataframe thead th {\n",
       "        text-align: right;\n",
       "    }\n",
       "</style>\n",
       "<table border=\"1\" class=\"dataframe\">\n",
       "  <thead>\n",
       "    <tr style=\"text-align: right;\">\n",
       "      <th></th>\n",
       "      <th>name</th>\n",
       "      <th>gender</th>\n",
       "      <th>hair color</th>\n",
       "      <th>marital status</th>\n",
       "    </tr>\n",
       "  </thead>\n",
       "  <tbody>\n",
       "    <tr>\n",
       "      <th>0</th>\n",
       "      <td>Alice</td>\n",
       "      <td>female</td>\n",
       "      <td>black</td>\n",
       "      <td>single</td>\n",
       "    </tr>\n",
       "    <tr>\n",
       "      <th>1</th>\n",
       "      <td>Bob</td>\n",
       "      <td>male</td>\n",
       "      <td>brown</td>\n",
       "      <td>married</td>\n",
       "    </tr>\n",
       "    <tr>\n",
       "      <th>2</th>\n",
       "      <td>Charlie</td>\n",
       "      <td>male</td>\n",
       "      <td>white</td>\n",
       "      <td>divorced</td>\n",
       "    </tr>\n",
       "  </tbody>\n",
       "</table>\n",
       "</div>"
      ],
      "text/plain": [
       "      name  gender hair color marital status\n",
       "0    Alice  female      black         single\n",
       "1      Bob    male      brown        married\n",
       "2  Charlie    male      white       divorced"
      ]
     },
     "metadata": {},
     "output_type": "display_data"
    }
   ],
   "source": [
    "# Select and display DataFrame with only numeric values\n",
    "display(df.select_dtypes(include='number'))\n",
    "\n",
    "# Select and display DataFrame with only object values in the same cell(display() displays DataFrame in same cell)\n",
    "'''In pandas, object are the column containing strings or mixed types of data. \n",
    "It is the default data type for columns that have text or arbitrary Python objects'''\n",
    "display(df.select_dtypes(include='object'))"
   ]
  },
  {
   "cell_type": "markdown",
   "id": "8d3a6d5b-29a7-49f6-b6ea-9bb4b5434582",
   "metadata": {},
   "source": [
    "***Way 7.2. `groupby()`***\n",
    "<br>\n",
    "Used to group based on column"
   ]
  },
  {
   "cell_type": "code",
   "execution_count": 3,
   "id": "77f794c5-8199-4379-8e18-a1db417c9ace",
   "metadata": {},
   "outputs": [
    {
     "data": {
      "text/html": [
       "<div>\n",
       "<style scoped>\n",
       "    .dataframe tbody tr th:only-of-type {\n",
       "        vertical-align: middle;\n",
       "    }\n",
       "\n",
       "    .dataframe tbody tr th {\n",
       "        vertical-align: top;\n",
       "    }\n",
       "\n",
       "    .dataframe thead th {\n",
       "        text-align: right;\n",
       "    }\n",
       "</style>\n",
       "<table border=\"1\" class=\"dataframe\">\n",
       "  <thead>\n",
       "    <tr style=\"text-align: right;\">\n",
       "      <th></th>\n",
       "      <th>name</th>\n",
       "      <th>age</th>\n",
       "      <th>hair color</th>\n",
       "      <th>marital status</th>\n",
       "      <th>salary</th>\n",
       "      <th>height</th>\n",
       "      <th>weight</th>\n",
       "    </tr>\n",
       "    <tr>\n",
       "      <th>gender</th>\n",
       "      <th></th>\n",
       "      <th></th>\n",
       "      <th></th>\n",
       "      <th></th>\n",
       "      <th></th>\n",
       "      <th></th>\n",
       "      <th></th>\n",
       "    </tr>\n",
       "  </thead>\n",
       "  <tbody>\n",
       "    <tr>\n",
       "      <th>female</th>\n",
       "      <td>Alice</td>\n",
       "      <td>25</td>\n",
       "      <td>black</td>\n",
       "      <td>single</td>\n",
       "      <td>5000</td>\n",
       "      <td>6.0</td>\n",
       "      <td>60</td>\n",
       "    </tr>\n",
       "    <tr>\n",
       "      <th>male</th>\n",
       "      <td>BobCharlie</td>\n",
       "      <td>65</td>\n",
       "      <td>brownwhite</td>\n",
       "      <td>marrieddivorced</td>\n",
       "      <td>13000</td>\n",
       "      <td>11.2</td>\n",
       "      <td>112</td>\n",
       "    </tr>\n",
       "  </tbody>\n",
       "</table>\n",
       "</div>"
      ],
      "text/plain": [
       "              name  age  hair color   marital status  salary  height  weight\n",
       "gender                                                                      \n",
       "female       Alice   25       black           single    5000     6.0      60\n",
       "male    BobCharlie   65  brownwhite  marrieddivorced   13000    11.2     112"
      ]
     },
     "metadata": {},
     "output_type": "display_data"
    }
   ],
   "source": [
    "# Group by gender and calculate the sum of each group\n",
    "display(df.groupby(\"gender\").sum())"
   ]
  },
  {
   "cell_type": "markdown",
   "id": "68fd6ead-3603-4879-9549-d25f2a7d19a3",
   "metadata": {},
   "source": [
    "***Way 7.3. `groupby().sum()`***\n",
    "<br>\n",
    "Display based on group and calculates sum in each group"
   ]
  },
  {
   "cell_type": "code",
   "execution_count": 4,
   "id": "d9bd99d4-6697-437d-b4d4-9297486aa45d",
   "metadata": {},
   "outputs": [
    {
     "data": {
      "text/html": [
       "<div>\n",
       "<style scoped>\n",
       "    .dataframe tbody tr th:only-of-type {\n",
       "        vertical-align: middle;\n",
       "    }\n",
       "\n",
       "    .dataframe tbody tr th {\n",
       "        vertical-align: top;\n",
       "    }\n",
       "\n",
       "    .dataframe thead th {\n",
       "        text-align: right;\n",
       "    }\n",
       "</style>\n",
       "<table border=\"1\" class=\"dataframe\">\n",
       "  <thead>\n",
       "    <tr style=\"text-align: right;\">\n",
       "      <th></th>\n",
       "      <th></th>\n",
       "      <th>name</th>\n",
       "      <th>age</th>\n",
       "      <th>marital status</th>\n",
       "      <th>salary</th>\n",
       "      <th>height</th>\n",
       "      <th>weight</th>\n",
       "    </tr>\n",
       "    <tr>\n",
       "      <th>gender</th>\n",
       "      <th>hair color</th>\n",
       "      <th></th>\n",
       "      <th></th>\n",
       "      <th></th>\n",
       "      <th></th>\n",
       "      <th></th>\n",
       "      <th></th>\n",
       "    </tr>\n",
       "  </thead>\n",
       "  <tbody>\n",
       "    <tr>\n",
       "      <th>female</th>\n",
       "      <th>black</th>\n",
       "      <td>Alice</td>\n",
       "      <td>25</td>\n",
       "      <td>single</td>\n",
       "      <td>5000</td>\n",
       "      <td>6.0</td>\n",
       "      <td>60</td>\n",
       "    </tr>\n",
       "    <tr>\n",
       "      <th rowspan=\"2\" valign=\"top\">male</th>\n",
       "      <th>brown</th>\n",
       "      <td>Bob</td>\n",
       "      <td>30</td>\n",
       "      <td>married</td>\n",
       "      <td>6000</td>\n",
       "      <td>5.7</td>\n",
       "      <td>57</td>\n",
       "    </tr>\n",
       "    <tr>\n",
       "      <th>white</th>\n",
       "      <td>Charlie</td>\n",
       "      <td>35</td>\n",
       "      <td>divorced</td>\n",
       "      <td>7000</td>\n",
       "      <td>5.5</td>\n",
       "      <td>55</td>\n",
       "    </tr>\n",
       "  </tbody>\n",
       "</table>\n",
       "</div>"
      ],
      "text/plain": [
       "                      name  age marital status  salary  height  weight\n",
       "gender hair color                                                     \n",
       "female black         Alice   25         single    5000     6.0      60\n",
       "male   brown           Bob   30        married    6000     5.7      57\n",
       "       white       Charlie   35       divorced    7000     5.5      55"
      ]
     },
     "execution_count": 4,
     "metadata": {},
     "output_type": "execute_result"
    }
   ],
   "source": [
    "# Group by gender and hair color and calculate the sum of each group\n",
    "df.groupby([\"gender\", \"hair color\"]).sum()"
   ]
  },
  {
   "cell_type": "markdown",
   "id": "71034bd3-544d-43cc-8230-90af622a5b10",
   "metadata": {},
   "source": [
    "***Way 7.4. columns***"
   ]
  },
  {
   "cell_type": "code",
   "execution_count": 10,
   "id": "b08db71d-47c3-4dd6-a119-6f28d1b5bf8f",
   "metadata": {},
   "outputs": [
    {
     "data": {
      "text/plain": [
       "Index(['name', 'age', 'gender', 'hair color', 'marital status', 'salary',\n",
       "       'height', 'weight'],\n",
       "      dtype='object')"
      ]
     },
     "execution_count": 10,
     "metadata": {},
     "output_type": "execute_result"
    }
   ],
   "source": [
    "# Displayes column names. Sometime through descriptive columns names type of data can be distinguished. So diplaying column name can be useful\n",
    "df.columns"
   ]
  },
  {
   "cell_type": "markdown",
   "id": "5ca6e7b1-8b3d-466e-b1c5-520ed55e7e45",
   "metadata": {},
   "source": [
    "***Way 7.5. type()***\n",
    "type() is used to display the type of a variable. It can be used to determine the type of a single variable"
   ]
  },
  {
   "cell_type": "code",
   "execution_count": 63,
   "id": "3818d983-031a-4236-9d3c-0faf5a001825",
   "metadata": {},
   "outputs": [
    {
     "name": "stdout",
     "output_type": "stream",
     "text": [
      "<class 'int'>\n",
      "<class 'str'>\n",
      "<class 'list'>\n"
     ]
    }
   ],
   "source": [
    "x = 42\n",
    "y = \"Hello\"\n",
    "z = [1, 2, 3]\n",
    "\n",
    "print(type(x))  \n",
    "print(type(y))  \n",
    "print(type(z))  "
   ]
  },
  {
   "cell_type": "markdown",
   "id": "1e046cb4-634f-434e-b6f7-8deccb4ec97f",
   "metadata": {},
   "source": [
    "**Example 10: Read and view a dataset (JSON) using `read_json()`**\n",
    "<br>\n",
    "Lets load a dataset and see what kind of data does it contains. For this we will use Nobel Prize Dataset from Github (https://github.com/jdorfman/awesome-json-datasets#nobel-prize)"
   ]
  },
  {
   "cell_type": "code",
   "execution_count": 53,
   "id": "45cebd43-c065-4c57-974a-7f089c7c55c8",
   "metadata": {},
   "outputs": [
    {
     "data": {
      "text/html": [
       "<div>\n",
       "<style scoped>\n",
       "    .dataframe tbody tr th:only-of-type {\n",
       "        vertical-align: middle;\n",
       "    }\n",
       "\n",
       "    .dataframe tbody tr th {\n",
       "        vertical-align: top;\n",
       "    }\n",
       "\n",
       "    .dataframe thead th {\n",
       "        text-align: right;\n",
       "    }\n",
       "</style>\n",
       "<table border=\"1\" class=\"dataframe\">\n",
       "  <thead>\n",
       "    <tr style=\"text-align: right;\">\n",
       "      <th></th>\n",
       "      <th>year</th>\n",
       "      <th>category</th>\n",
       "      <th>laureates</th>\n",
       "      <th>overallMotivation</th>\n",
       "    </tr>\n",
       "  </thead>\n",
       "  <tbody>\n",
       "    <tr>\n",
       "      <th>0</th>\n",
       "      <td>2022</td>\n",
       "      <td>chemistry</td>\n",
       "      <td>[{'id': '1015', 'firstname': 'Carolyn', 'surna...</td>\n",
       "      <td>NaN</td>\n",
       "    </tr>\n",
       "    <tr>\n",
       "      <th>1</th>\n",
       "      <td>2022</td>\n",
       "      <td>economics</td>\n",
       "      <td>[{'id': '1021', 'firstname': 'Ben', 'surname':...</td>\n",
       "      <td>NaN</td>\n",
       "    </tr>\n",
       "    <tr>\n",
       "      <th>2</th>\n",
       "      <td>2022</td>\n",
       "      <td>literature</td>\n",
       "      <td>[{'id': '1017', 'firstname': 'Annie', 'surname...</td>\n",
       "      <td>NaN</td>\n",
       "    </tr>\n",
       "    <tr>\n",
       "      <th>3</th>\n",
       "      <td>2022</td>\n",
       "      <td>peace</td>\n",
       "      <td>[{'id': '1018', 'firstname': 'Ales', 'surname'...</td>\n",
       "      <td>NaN</td>\n",
       "    </tr>\n",
       "    <tr>\n",
       "      <th>4</th>\n",
       "      <td>2022</td>\n",
       "      <td>physics</td>\n",
       "      <td>[{'id': '1012', 'firstname': 'Alain', 'surname...</td>\n",
       "      <td>NaN</td>\n",
       "    </tr>\n",
       "    <tr>\n",
       "      <th>...</th>\n",
       "      <td>...</td>\n",
       "      <td>...</td>\n",
       "      <td>...</td>\n",
       "      <td>...</td>\n",
       "    </tr>\n",
       "    <tr>\n",
       "      <th>659</th>\n",
       "      <td>1901</td>\n",
       "      <td>chemistry</td>\n",
       "      <td>[{'id': '160', 'firstname': 'Jacobus H.', 'sur...</td>\n",
       "      <td>NaN</td>\n",
       "    </tr>\n",
       "    <tr>\n",
       "      <th>660</th>\n",
       "      <td>1901</td>\n",
       "      <td>literature</td>\n",
       "      <td>[{'id': '569', 'firstname': 'Sully', 'surname'...</td>\n",
       "      <td>NaN</td>\n",
       "    </tr>\n",
       "    <tr>\n",
       "      <th>661</th>\n",
       "      <td>1901</td>\n",
       "      <td>peace</td>\n",
       "      <td>[{'id': '462', 'firstname': 'Henry', 'surname'...</td>\n",
       "      <td>NaN</td>\n",
       "    </tr>\n",
       "    <tr>\n",
       "      <th>662</th>\n",
       "      <td>1901</td>\n",
       "      <td>physics</td>\n",
       "      <td>[{'id': '1', 'firstname': 'Wilhelm Conrad', 's...</td>\n",
       "      <td>NaN</td>\n",
       "    </tr>\n",
       "    <tr>\n",
       "      <th>663</th>\n",
       "      <td>1901</td>\n",
       "      <td>medicine</td>\n",
       "      <td>[{'id': '293', 'firstname': 'Emil', 'surname':...</td>\n",
       "      <td>NaN</td>\n",
       "    </tr>\n",
       "  </tbody>\n",
       "</table>\n",
       "<p>664 rows × 4 columns</p>\n",
       "</div>"
      ],
      "text/plain": [
       "     year    category                                          laureates  \\\n",
       "0    2022   chemistry  [{'id': '1015', 'firstname': 'Carolyn', 'surna...   \n",
       "1    2022   economics  [{'id': '1021', 'firstname': 'Ben', 'surname':...   \n",
       "2    2022  literature  [{'id': '1017', 'firstname': 'Annie', 'surname...   \n",
       "3    2022       peace  [{'id': '1018', 'firstname': 'Ales', 'surname'...   \n",
       "4    2022     physics  [{'id': '1012', 'firstname': 'Alain', 'surname...   \n",
       "..    ...         ...                                                ...   \n",
       "659  1901   chemistry  [{'id': '160', 'firstname': 'Jacobus H.', 'sur...   \n",
       "660  1901  literature  [{'id': '569', 'firstname': 'Sully', 'surname'...   \n",
       "661  1901       peace  [{'id': '462', 'firstname': 'Henry', 'surname'...   \n",
       "662  1901     physics  [{'id': '1', 'firstname': 'Wilhelm Conrad', 's...   \n",
       "663  1901    medicine  [{'id': '293', 'firstname': 'Emil', 'surname':...   \n",
       "\n",
       "    overallMotivation  \n",
       "0                 NaN  \n",
       "1                 NaN  \n",
       "2                 NaN  \n",
       "3                 NaN  \n",
       "4                 NaN  \n",
       "..                ...  \n",
       "659               NaN  \n",
       "660               NaN  \n",
       "661               NaN  \n",
       "662               NaN  \n",
       "663               NaN  \n",
       "\n",
       "[664 rows x 4 columns]"
      ]
     },
     "execution_count": 53,
     "metadata": {},
     "output_type": "execute_result"
    }
   ],
   "source": [
    "import pandas as pd\n",
    "\n",
    "# Read the json file from the direcotory\n",
    "json_df = pd.read_json(\"/workspaces/ImplementingStatisticsWithPython/data/chapter1/prize.json\")\n",
    "\n",
    "# Convert the json data into a dataframe\n",
    "data = json_df[\"prizes\"]\n",
    "prize_df = pd.json_normalize(data)\n",
    "\n",
    "# Display the dataframe\n",
    "prize_df"
   ]
  },
  {
   "cell_type": "markdown",
   "id": "f6950580-d412-47f6-a319-228b0154bbfa",
   "metadata": {},
   "source": [
    "**Tutorial 10.1. Read and view a dataset in CSV format using `read_csv()`**"
   ]
  },
  {
   "cell_type": "code",
   "execution_count": null,
   "id": "9aa38e6d-b08d-4573-a688-7391bc1ee57c",
   "metadata": {},
   "outputs": [],
   "source": [
    "import pandas as pd\n",
    "\n",
    "# Read the json file from the direcotory\n",
    "csv_df = pd.read_csv(\"/workspaces/ImplementingStatisticsWithPython/data/chapter1/prize.csv\")\n",
    "\n",
    "# Display the dataframe\n",
    "prize_df"
   ]
  },
  {
   "cell_type": "markdown",
   "id": "3d426fac-3a6f-4956-b6db-e73e528f5c27",
   "metadata": {},
   "source": [
    "**Tutorial 10.2: Lets Use `info()` and `head()` to know what type of data it contains**"
   ]
  },
  {
   "cell_type": "code",
   "execution_count": 59,
   "id": "3a318133-886e-4fbb-b97d-1a3d1e856092",
   "metadata": {},
   "outputs": [
    {
     "name": "stdout",
     "output_type": "stream",
     "text": [
      "<class 'pandas.core.frame.DataFrame'>\n",
      "RangeIndex: 664 entries, 0 to 663\n",
      "Data columns (total 4 columns):\n",
      " #   Column             Non-Null Count  Dtype \n",
      "---  ------             --------------  ----- \n",
      " 0   year               664 non-null    object\n",
      " 1   category           664 non-null    object\n",
      " 2   laureates          615 non-null    object\n",
      " 3   overallMotivation  58 non-null     object\n",
      "dtypes: object(4)\n",
      "memory usage: 20.9+ KB\n"
     ]
    },
    {
     "data": {
      "text/html": [
       "<div>\n",
       "<style scoped>\n",
       "    .dataframe tbody tr th:only-of-type {\n",
       "        vertical-align: middle;\n",
       "    }\n",
       "\n",
       "    .dataframe tbody tr th {\n",
       "        vertical-align: top;\n",
       "    }\n",
       "\n",
       "    .dataframe thead th {\n",
       "        text-align: right;\n",
       "    }\n",
       "</style>\n",
       "<table border=\"1\" class=\"dataframe\">\n",
       "  <thead>\n",
       "    <tr style=\"text-align: right;\">\n",
       "      <th></th>\n",
       "      <th>year</th>\n",
       "      <th>category</th>\n",
       "      <th>laureates</th>\n",
       "      <th>overallMotivation</th>\n",
       "    </tr>\n",
       "  </thead>\n",
       "  <tbody>\n",
       "    <tr>\n",
       "      <th>0</th>\n",
       "      <td>2022</td>\n",
       "      <td>chemistry</td>\n",
       "      <td>[{'id': '1015', 'firstname': 'Carolyn', 'surna...</td>\n",
       "      <td>NaN</td>\n",
       "    </tr>\n",
       "    <tr>\n",
       "      <th>1</th>\n",
       "      <td>2022</td>\n",
       "      <td>economics</td>\n",
       "      <td>[{'id': '1021', 'firstname': 'Ben', 'surname':...</td>\n",
       "      <td>NaN</td>\n",
       "    </tr>\n",
       "    <tr>\n",
       "      <th>2</th>\n",
       "      <td>2022</td>\n",
       "      <td>literature</td>\n",
       "      <td>[{'id': '1017', 'firstname': 'Annie', 'surname...</td>\n",
       "      <td>NaN</td>\n",
       "    </tr>\n",
       "    <tr>\n",
       "      <th>3</th>\n",
       "      <td>2022</td>\n",
       "      <td>peace</td>\n",
       "      <td>[{'id': '1018', 'firstname': 'Ales', 'surname'...</td>\n",
       "      <td>NaN</td>\n",
       "    </tr>\n",
       "    <tr>\n",
       "      <th>4</th>\n",
       "      <td>2022</td>\n",
       "      <td>physics</td>\n",
       "      <td>[{'id': '1012', 'firstname': 'Alain', 'surname...</td>\n",
       "      <td>NaN</td>\n",
       "    </tr>\n",
       "  </tbody>\n",
       "</table>\n",
       "</div>"
      ],
      "text/plain": [
       "   year    category                                          laureates  \\\n",
       "0  2022   chemistry  [{'id': '1015', 'firstname': 'Carolyn', 'surna...   \n",
       "1  2022   economics  [{'id': '1021', 'firstname': 'Ben', 'surname':...   \n",
       "2  2022  literature  [{'id': '1017', 'firstname': 'Annie', 'surname...   \n",
       "3  2022       peace  [{'id': '1018', 'firstname': 'Ales', 'surname'...   \n",
       "4  2022     physics  [{'id': '1012', 'firstname': 'Alain', 'surname...   \n",
       "\n",
       "  overallMotivation  \n",
       "0               NaN  \n",
       "1               NaN  \n",
       "2               NaN  \n",
       "3               NaN  \n",
       "4               NaN  "
      ]
     },
     "execution_count": 59,
     "metadata": {},
     "output_type": "execute_result"
    }
   ],
   "source": [
    "prize_df.info()\n",
    "prize_df.head()"
   ]
  },
  {
   "cell_type": "markdown",
   "id": "fcb45304-cb3a-4871-a7aa-29258f301269",
   "metadata": {},
   "source": [
    "***Alternatively the data for `Example 10` can directly be accessed be sending the request as shown in snipped below***"
   ]
  },
  {
   "cell_type": "code",
   "execution_count": 35,
   "id": "23b2ead1-bf79-457a-9abe-4a2c6185edb8",
   "metadata": {},
   "outputs": [],
   "source": [
    "import pandas as pd\n",
    "import requests\n",
    "\n",
    "# Get the json data from the url\n",
    "response = requests.get(\"https://api.nobelprize.org/v1/prize.json\")\n",
    "data = response.json()\n",
    "\n",
    "# Convert the json data into a dataframe\n",
    "df = pd.json_normalize(data, record_path=\"prizes\")"
   ]
  },
  {
   "cell_type": "markdown",
   "id": "6e8d22f1-a4a1-4681-97d2-b060a665c977",
   "metadata": {},
   "source": [
    "**Tutorial 10.3. Use numpy to read files like CSV files or JSON files**"
   ]
  },
  {
   "cell_type": "code",
   "execution_count": null,
   "id": "6089b9fa-dacb-48da-b478-12361f1ac685",
   "metadata": {},
   "outputs": [],
   "source": [
    "Most common ways are using `numpy.loadtxt()` and using `numpy.genfromtxt()`. `numpy.loadtxt()` assumes that the file has no missing values, no comments, no headers, \n",
    "and uses whitespace as the delimiter by default. You can change the delimiter to a comma by passing delimiter=‘,’ as a parameter. You can also specify the data type of the array by passing dtype=… as a parameter."
   ]
  },
  {
   "cell_type": "code",
   "execution_count": null,
   "id": "d360c1ac-29d4-4aa4-be3c-d2a85fd423af",
   "metadata": {},
   "outputs": [],
   "source": [
    "import numpy as np \n",
    "arr = np.loadtxt(‘data.csv’, delimiter=‘,’) \n",
    "print(arr)"
   ]
  },
  {
   "cell_type": "markdown",
   "id": "98bcc695-2969-466c-a946-7cf67c40772f",
   "metadata": {},
   "source": [
    "The `numpy.genfromtxt()` function can handle missing values, comments, headers, and various delimiters. You can use the missing_values parameter to specify which values to treat as missing, such as NA' or '?\n",
    "You can use the comments parameter to specify which character indicates a comment line, such as #' or `%'. You can use the names parameter to indicate whether the file has a header line with column names. \n",
    "You can use the delimiter parameter to specify which character separates the values in each row, such as ',' or ';'. You can also specify the data type of the array by passing dtype=... as a parameter. \n",
    "For example, if you have a CSV file named data.csv that looks like this"
   ]
  },
  {
   "cell_type": "code",
   "execution_count": 2,
   "id": "626caf4e-b4e3-4c7e-86f9-91af9ce9ae71",
   "metadata": {},
   "outputs": [
    {
     "ename": "SyntaxError",
     "evalue": "invalid character '‘' (U+2018) (266402216.py, line 6)",
     "output_type": "error",
     "traceback": [
      "\u001b[0;36m  Cell \u001b[0;32mIn[2], line 6\u001b[0;36m\u001b[0m\n\u001b[0;31m    import numpy as np arr = np.genfromtxt(‘data.csv’, delimiter=‘,’, names=True, missing_values=‘?’, dtype=None) print(arr)\u001b[0m\n\u001b[0m                                           ^\u001b[0m\n\u001b[0;31mSyntaxError\u001b[0m\u001b[0;31m:\u001b[0m invalid character '‘' (U+2018)\n"
     ]
    }
   ],
   "source": [
    "# This is a comment line\n",
    "# Name,Age,Height Alice,25,1.65 Bob,30,1.75 Charlie,?,1.8\n",
    "\n",
    "'''You can read it with numpy.genfromtxt() like this:'''\n",
    "\n",
    "import numpy as np \n",
    "arr = np.genfromtxt(‘data.csv’, delimiter=‘,’, names=True, missing_values=‘?’, dtype=None) \n",
    "print(arr)\n",
    "\n",
    "'''This will print:\n",
    "\n",
    "[(b’Alice’, 25., 1.65) (b’Bob’, 30., 1.75) (b’Charlie’, nan, 1.8)]'''"
   ]
  }
 ],
 "metadata": {
  "kernelspec": {
   "display_name": "Python 3 (ipykernel)",
   "language": "python",
   "name": "python3"
  },
  "language_info": {
   "codemirror_mode": {
    "name": "ipython",
    "version": 3
   },
   "file_extension": ".py",
   "mimetype": "text/x-python",
   "name": "python",
   "nbconvert_exporter": "python",
   "pygments_lexer": "ipython3",
   "version": "3.10.8"
  }
 },
 "nbformat": 4,
 "nbformat_minor": 5
}
