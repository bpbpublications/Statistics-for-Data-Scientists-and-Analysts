{
 "cells": [
  {
   "cell_type": "markdown",
   "id": "016fe3f9-fc82-4516-b862-11a1fce133fa",
   "metadata": {},
   "source": [
    "## Part 1:\n",
    "1. What is Statistics and why is it important? *No Tutorials for this.</li>\n",
    "2. Types of Data: Qualitative and Quantitative Data</li>\n",
    "3. Levels of Measurement: Nominal, Ordinal, Interval, Ratio</li>\n"
   ]
  },
  {
   "cell_type": "markdown",
   "id": "d0f4ae09-7228-4b3a-8a72-7139db8cf3ee",
   "metadata": {},
   "source": [
    "<hr>"
   ]
  },
  {
   "cell_type": "markdown",
   "id": "603a9557-0b3b-48a9-b540-ce4a52e12006",
   "metadata": {},
   "source": [
    "#### Examples of Qualitative and Quantitative Data"
   ]
  },
  {
   "cell_type": "markdown",
   "id": "a6553ae1-d819-4d13-810b-bf2c7110df58",
   "metadata": {},
   "source": [
    "**Example 1 : Create a dataframe consisting of qualitative data ?**"
   ]
  },
  {
   "cell_type": "code",
   "execution_count": 36,
   "id": "5f45c54a-d470-44fa-a351-a1a3c75cd9dc",
   "metadata": {},
   "outputs": [
    {
     "name": "stdout",
     "output_type": "stream",
     "text": [
      "      Name           City  Gender Occupation       Race Smartphone Brand\n",
      "0     John       New York    Male   Engineer      Black            Apple\n",
      "1    Alice    Los Angeles  Female     Artist      White          Samsung\n",
      "2      Bob        Chicago    Male    Teacher      Asian            Xiomi\n",
      "3      Eve  San Francisco  Female     Doctor     Indian            Apple\n",
      "4  Michael          Miami    Male     Lawyer  Mongolian           Google\n"
     ]
    }
   ],
   "source": [
    "**Tutorial : An example to create a dataframe consisting of qualitative data ?**\n",
    "\n",
    "#Import the Pandas library to create a pandas Dataframe\n",
    "import pandas as pd\n",
    "\n",
    "# Sample qualitative data\n",
    "qualitative_data = {\n",
    "    'Name': ['John', 'Alice', 'Bob', 'Eve', 'Michael'],\n",
    "    'City': ['New York', 'Los Angeles', 'Chicago', 'San Francisco', 'Miami'],\n",
    "    'Gender': ['Male', 'Female', 'Male', 'Female', 'Male'],\n",
    "    'Occupation': ['Engineer', 'Artist', 'Teacher', 'Doctor', 'Lawyer'],\n",
    "    'Race': ['Black', 'White', 'Asian', 'Indian', 'Mongolian'],\n",
    "    'Smartphone Brand': ['Apple', 'Samsung', 'Xiomi', 'Apple', 'Google']\n",
    "}\n",
    "\n",
    "# Create the DataFrame\n",
    "qualtitative_df = pd.DataFrame(qualitative_data)\n",
    "\n",
    "# Prints the created DataFrame\n",
    "print(qualtitative_df)"
   ]
  },
  {
   "cell_type": "markdown",
   "id": "ec44deb0-eb5f-4749-a94d-9c091df639a2",
   "metadata": {},
   "source": [
    "***Row consisting number 0, 1, 2, 3, 4 is index column which is not part of qualitative data.\n",
    "To exclude it from output simply hide the index column using `to_string()`***"
   ]
  },
  {
   "cell_type": "code",
   "execution_count": 40,
   "id": "4ecbf52e-cd79-4faa-87d6-d240fec8ad17",
   "metadata": {},
   "outputs": [
    {
     "name": "stdout",
     "output_type": "stream",
     "text": [
      "   Name          City Gender Occupation      Race Smartphone Brand\n",
      "   John      New York   Male   Engineer     Black            Apple\n",
      "  Alice   Los Angeles Female     Artist     White          Samsung\n",
      "    Bob       Chicago   Male    Teacher     Asian            Xiomi\n",
      "    Eve San Francisco Female     Doctor    Indian            Apple\n",
      "Michael         Miami   Male     Lawyer Mongolian           Google\n"
     ]
    }
   ],
   "source": [
    "print(qualtitative_df.to_string(index=False))"
   ]
  },
  {
   "cell_type": "markdown",
   "id": "fa295a96-27ce-451b-8055-2bab2bffa85e",
   "metadata": {},
   "source": [
    "**Example 2 : Create a dataframe consisting of quantitative data ?**"
   ]
  },
  {
   "cell_type": "code",
   "execution_count": 38,
   "id": "016b9a88-8f6a-466f-977a-79482042a314",
   "metadata": {},
   "outputs": [
    {
     "name": "stdout",
     "output_type": "stream",
     "text": [
      " price  distance  height  weight  salary  temperature\n",
      "300000        10     170      70    5000           25\n",
      "250000        15     180      80    6000           30\n",
      "400000        20     190      90    7000           35\n",
      "350000        25     160      60    8000           40\n",
      "450000        30     175      75    9000           45\n"
     ]
    }
   ],
   "source": [
    "**Tutorial : An example to create a dataframe consisting of quantitative data ?**\n",
    "\n",
    "#Import the Pandas library to create a pandas Dataframe\n",
    "import pandas as pd\n",
    "quantitative_df = pd.DataFrame({\n",
    "    \"price\": [300000, 250000, 400000, 350000, 450000], \n",
    "    \"distance\": [10, 15, 20, 25, 30], \n",
    "    \"height\": [170, 180, 190, 160, 175], \n",
    "    \"weight\": [70, 80, 90, 60, 75], \n",
    "    \"salary\": [5000, 6000, 7000, 8000, 9000], \n",
    "    \"temperature\": [25, 30, 35, 40, 45], \n",
    "})\n",
    "\n",
    "# Print the DataFrame without index\n",
    "print(quantitative_df.to_string(index=False))\n"
   ]
  },
  {
   "cell_type": "markdown",
   "id": "04779837-82c2-4112-9489-ce14e87c1818",
   "metadata": {},
   "source": [
    "**Example 3 : Create a dataframe consisting of qualitative nominal data ?**"
   ]
  },
  {
   "cell_type": "code",
   "execution_count": 3,
   "id": "db5a1816-23e9-4b37-a4c2-27cdf2aeae2c",
   "metadata": {},
   "outputs": [
    {
     "name": "stdout",
     "output_type": "stream",
     "text": [
      "   Gender   Religion  Ethnicity   Color Electronic Appliances Ownership  \\\n",
      "0    Male      Hindu     Indian     Red                         Samsung   \n",
      "1  Female     Muslim  Pakistani   Green                              LG   \n",
      "2    Male  Christian   American    Blue                           Apple   \n",
      "3  Female   Buddhist    Chinese  Yellow                          Huawei   \n",
      "4    Male     Jewish    Israeli   White                            Sony   \n",
      "\n",
      "  Person Favorite Meal Pet Preference  \n",
      "0              Biryani            Dog  \n",
      "1                Kebab            Cat  \n",
      "2                Pizza         Parrot  \n",
      "3              Noodles           Fish  \n",
      "4              Falafel        Hamster  \n"
     ]
    }
   ],
   "source": [
    "**Tutorial : An example to create a dataframe consisting of nominal data ?**\n",
    "\n",
    "#Import the Pandas library to create a pandas Dataframe\n",
    "import pandas as pd\n",
    "nominal_data = {\n",
    "    \"Gender\": [\"Male\", \"Female\", \"Male\", \"Female\", \"Male\"],\n",
    "    \"Religion\": [\"Hindu\", \"Muslim\", \"Christian\", \"Buddhist\", \"Jewish\"],\n",
    "    \"Ethnicity\": [\"Indian\", \"Pakistani\", \"American\", \"Chinese\", \"Israeli\"],\n",
    "    \"Color\": [\"Red\", \"Green\", \"Blue\", \"Yellow\", \"White\"],\n",
    "    \"Electronic Appliances Ownership\": [\"Samsung\", \"LG\", \"Apple\", \"Huawei\", \"Sony\"],\n",
    "    \"Person Favorite Meal\": [\"Biryani\", \"Kebab\", \"Pizza\", \"Noodles\", \"Falafel\"],\n",
    "    \"Pet Preference\": [\"Dog\", \"Cat\", \"Parrot\", \"Fish\", \"Hamster\"]\n",
    "}\n",
    "nominal_df = pd.DataFrame(nominal_data)\n",
    "print(nominal_df)"
   ]
  },
  {
   "cell_type": "markdown",
   "id": "a4f72f9e-85ef-493d-9aa0-ac41d717bd19",
   "metadata": {},
   "source": [
    "**Example 4 : Create a dataframe consisting of qualitative ordinal data ?**"
   ]
  },
  {
   "cell_type": "code",
   "execution_count": 3,
   "id": "fbfa9700-f606-4ddc-8047-7775194d712a",
   "metadata": {
    "jupyter": {
     "source_hidden": true
    }
   },
   "outputs": [
    {
     "name": "stdout",
     "output_type": "stream",
     "text": [
      "   Gender   Religion  Ethnicity   Color Electronic Appliances Ownership  \\\n",
      "0    Male      Hindu     Indian     Red                         Samsung   \n",
      "1  Female     Muslim  Pakistani   Green                              LG   \n",
      "2    Male  Christian   American    Blue                           Apple   \n",
      "3  Female   Buddhist    Chinese  Yellow                          Huawei   \n",
      "4    Male     Jewish    Israeli   White                            Sony   \n",
      "\n",
      "  Person Favorite Meal Pet Preference  \n",
      "0              Biryani            Dog  \n",
      "1                Kebab            Cat  \n",
      "2                Pizza         Parrot  \n",
      "3              Noodles           Fish  \n",
      "4              Falafel        Hamster  \n"
     ]
    }
   ],
   "source": [
    "**Tutorial : An example to create a dataframe consisting of ordinal data ?**\n",
    "\n",
    "#Import the Pandas library to create a pandas Dataframe\n",
    "import pandas as pd\n",
    "ordinal_data = {\n",
    "    \"Student Rank in a Class\": [\"1st\", \"2nd\", \"3rd\", \"4th\", \"5th\"],\n",
    "    \"Educational Qualification\": [\"Graduate\", \"Undergraduate\", \"High School\", \"Graduate\", \"Undergraduate\"],\n",
    "    \"Satisfaction Level\": [\"Good\", \"Average\", \"Bad\", \"Average\", \"Good\"],\n",
    "    \"Income Level Range\": [\"80,000-100,000\", \"60,000-80,000\", \"40,000-60,000\", \"100,000-120,000\", \"50,000-70,000\"],\n",
    "    \"Level of Agreement\": [\"Agree\", \"Neutral\", \"Disagree\", \"Neutral\", \"Agree\"]\n",
    "}\n",
    "ordinal_df = pd.DataFrame(ordinal_data)\n",
    "print(ordinal_df)"
   ]
  },
  {
   "cell_type": "markdown",
   "id": "072d2603-2168-4aad-b45d-4ffb6703f828",
   "metadata": {},
   "source": [
    "**Example 5 : Create a dataframe consisting of quantitative discrete data ?**"
   ]
  },
  {
   "cell_type": "code",
   "execution_count": 3,
   "id": "69a03f20-5314-4481-bba1-afdc0c667184",
   "metadata": {},
   "outputs": [
    {
     "name": "stdout",
     "output_type": "stream",
     "text": [
      "   Gender   Religion  Ethnicity   Color Electronic Appliances Ownership  \\\n",
      "0    Male      Hindu     Indian     Red                         Samsung   \n",
      "1  Female     Muslim  Pakistani   Green                              LG   \n",
      "2    Male  Christian   American    Blue                           Apple   \n",
      "3  Female   Buddhist    Chinese  Yellow                          Huawei   \n",
      "4    Male     Jewish    Israeli   White                            Sony   \n",
      "\n",
      "  Person Favorite Meal Pet Preference  \n",
      "0              Biryani            Dog  \n",
      "1                Kebab            Cat  \n",
      "2                Pizza         Parrot  \n",
      "3              Noodles           Fish  \n",
      "4              Falafel        Hamster  \n"
     ]
    }
   ],
   "source": [
    "**Tutorial : An example to create a dataframe consisting of discrete data ?**\n",
    "\n",
    "#Import the Pandas library to create a pandas Dataframe\n",
    "import pandas as pd\n",
    "discrete_data = {\n",
    "    \"Total Numbers of Students Present in a Class\": [25, 30, 35, 40, 45],\n",
    "    \"Cost of a Cell Phone\": [500, 600, 700, 800, 900],\n",
    "    \"Numbers of Employees in a Company\": [100, 150, 200, 250, 300],\n",
    "    \"The Total Number of Players who Participated in a Competition\": [50, 40, 30, 20, 10],\n",
    "    \"Days in a Week\": [7, 7, 7, 7, 7]\n",
    "}\n",
    "discrete_df = pd.DataFrame(discrete_data)\n",
    "print(discrete_df)\n"
   ]
  },
  {
   "cell_type": "markdown",
   "id": "981f0395-2d2b-43ac-b0e9-6e736588b4f7",
   "metadata": {},
   "source": [
    "**Example 6 : Create a dataframe consisting of quantitative interval data ?**"
   ]
  },
  {
   "cell_type": "code",
   "execution_count": 9,
   "id": "76a139d9-076c-4fa3-b5e8-cea738d199c3",
   "metadata": {},
   "outputs": [
    {
     "data": {
      "text/html": [
       "<div>\n",
       "<style scoped>\n",
       "    .dataframe tbody tr th:only-of-type {\n",
       "        vertical-align: middle;\n",
       "    }\n",
       "\n",
       "    .dataframe tbody tr th {\n",
       "        vertical-align: top;\n",
       "    }\n",
       "\n",
       "    .dataframe thead th {\n",
       "        text-align: right;\n",
       "    }\n",
       "</style>\n",
       "<table border=\"1\" class=\"dataframe\">\n",
       "  <thead>\n",
       "    <tr style=\"text-align: right;\">\n",
       "      <th></th>\n",
       "      <th>Temperature (Celsius)</th>\n",
       "      <th>GMAT Score (200 - 800)</th>\n",
       "      <th>SAT Score (400 - 1600)</th>\n",
       "      <th>Time</th>\n",
       "    </tr>\n",
       "  </thead>\n",
       "  <tbody>\n",
       "    <tr>\n",
       "      <th>0</th>\n",
       "      <td>10</td>\n",
       "      <td>600</td>\n",
       "      <td>1200</td>\n",
       "      <td>9:00</td>\n",
       "    </tr>\n",
       "    <tr>\n",
       "      <th>1</th>\n",
       "      <td>15</td>\n",
       "      <td>650</td>\n",
       "      <td>1300</td>\n",
       "      <td>10:00</td>\n",
       "    </tr>\n",
       "    <tr>\n",
       "      <th>2</th>\n",
       "      <td>20</td>\n",
       "      <td>700</td>\n",
       "      <td>1400</td>\n",
       "      <td>11:00</td>\n",
       "    </tr>\n",
       "    <tr>\n",
       "      <th>3</th>\n",
       "      <td>25</td>\n",
       "      <td>750</td>\n",
       "      <td>1500</td>\n",
       "      <td>12:00</td>\n",
       "    </tr>\n",
       "    <tr>\n",
       "      <th>4</th>\n",
       "      <td>30</td>\n",
       "      <td>800</td>\n",
       "      <td>1600</td>\n",
       "      <td>13:00</td>\n",
       "    </tr>\n",
       "  </tbody>\n",
       "</table>\n",
       "</div>"
      ],
      "text/plain": [
       "   Temperature (Celsius)  GMAT Score (200 - 800)  SAT Score (400 - 1600)  \\\n",
       "0                     10                     600                    1200   \n",
       "1                     15                     650                    1300   \n",
       "2                     20                     700                    1400   \n",
       "3                     25                     750                    1500   \n",
       "4                     30                     800                    1600   \n",
       "\n",
       "    Time  \n",
       "0   9:00  \n",
       "1  10:00  \n",
       "2  11:00  \n",
       "3  12:00  \n",
       "4  13:00  "
      ]
     },
     "execution_count": 9,
     "metadata": {},
     "output_type": "execute_result"
    }
   ],
   "source": [
    "**Tutorial : An example to create a dataframe consisting of interval data ?**\n",
    "\n",
    "#Import the Pandas library to create a pandas Dataframe\n",
    "import pandas as pd\n",
    "interval_data = {\n",
    "    \"Temperature (Celsius)\": [10, 15, 20, 25, 30],\n",
    "    \"GMAT Score (200 - 800)\": [600, 650, 700, 750, 800],\n",
    "    \"SAT Score (400 - 1600)\": [1200, 1300, 1400, 1500, 1600],\n",
    "    \"Time\": [\"9:00\", \"10:00\", \"11:00\", \"12:00\", \"13:00\"]\n",
    "}\n",
    "interval_df = pd.DataFrame(interval_data)\n",
    "# Print DataFrame as it is without print() also\n",
    "interval_df"
   ]
  },
  {
   "cell_type": "markdown",
   "id": "6e47bbf6-19bd-4a50-81f2-bae7a80995a4",
   "metadata": {},
   "source": [
    "**Example 7 : Create a dataframe consisting of quantitative ratio data ?**"
   ]
  },
  {
   "cell_type": "code",
   "execution_count": 9,
   "id": "4a2df40d-e14a-47da-a612-dc20becfffe3",
   "metadata": {},
   "outputs": [
    {
     "data": {
      "text/html": [
       "<div>\n",
       "<style scoped>\n",
       "    .dataframe tbody tr th:only-of-type {\n",
       "        vertical-align: middle;\n",
       "    }\n",
       "\n",
       "    .dataframe tbody tr th {\n",
       "        vertical-align: top;\n",
       "    }\n",
       "\n",
       "    .dataframe thead th {\n",
       "        text-align: right;\n",
       "    }\n",
       "</style>\n",
       "<table border=\"1\" class=\"dataframe\">\n",
       "  <thead>\n",
       "    <tr style=\"text-align: right;\">\n",
       "      <th></th>\n",
       "      <th>Temperature (Celsius)</th>\n",
       "      <th>GMAT Score (200 - 800)</th>\n",
       "      <th>SAT Score (400 - 1600)</th>\n",
       "      <th>Time</th>\n",
       "    </tr>\n",
       "  </thead>\n",
       "  <tbody>\n",
       "    <tr>\n",
       "      <th>0</th>\n",
       "      <td>10</td>\n",
       "      <td>600</td>\n",
       "      <td>1200</td>\n",
       "      <td>9:00</td>\n",
       "    </tr>\n",
       "    <tr>\n",
       "      <th>1</th>\n",
       "      <td>15</td>\n",
       "      <td>650</td>\n",
       "      <td>1300</td>\n",
       "      <td>10:00</td>\n",
       "    </tr>\n",
       "    <tr>\n",
       "      <th>2</th>\n",
       "      <td>20</td>\n",
       "      <td>700</td>\n",
       "      <td>1400</td>\n",
       "      <td>11:00</td>\n",
       "    </tr>\n",
       "    <tr>\n",
       "      <th>3</th>\n",
       "      <td>25</td>\n",
       "      <td>750</td>\n",
       "      <td>1500</td>\n",
       "      <td>12:00</td>\n",
       "    </tr>\n",
       "    <tr>\n",
       "      <th>4</th>\n",
       "      <td>30</td>\n",
       "      <td>800</td>\n",
       "      <td>1600</td>\n",
       "      <td>13:00</td>\n",
       "    </tr>\n",
       "  </tbody>\n",
       "</table>\n",
       "</div>"
      ],
      "text/plain": [
       "   Temperature (Celsius)  GMAT Score (200 - 800)  SAT Score (400 - 1600)  \\\n",
       "0                     10                     600                    1200   \n",
       "1                     15                     650                    1300   \n",
       "2                     20                     700                    1400   \n",
       "3                     25                     750                    1500   \n",
       "4                     30                     800                    1600   \n",
       "\n",
       "    Time  \n",
       "0   9:00  \n",
       "1  10:00  \n",
       "2  11:00  \n",
       "3  12:00  \n",
       "4  13:00  "
      ]
     },
     "execution_count": 9,
     "metadata": {},
     "output_type": "execute_result"
    }
   ],
   "source": [
    "**Tutorial : An example to create a dataframe consisting of ratio data ?**\n",
    "\n",
    "#Import the Pandas library to create a pandas Dataframe\n",
    "import pandas as pd\n",
    "ratio_data = {\n",
    "    \"Height\": [170, 180, 190, 200, 210],\n",
    "    \"Weight\": [60, 70, 80, 90, 100],\n",
    "    \"Age\": [20, 25, 30, 35, 40],\n",
    "    \"Speed\": [80, 90, 100, 110, 120],\n",
    "    \"Tax Amount\": [1000, 1500, 2000, 2500, 3000]\n",
    "}\n",
    "ratio_df = pd.DataFrame(ratio_data)\n",
    "ratio_df"
   ]
  },
  {
   "cell_type": "markdown",
   "id": "1acac68c-8f19-4631-a1c4-a4d87753de97",
   "metadata": {},
   "source": [
    "**Example 7.1 : Sometimes data can be in JSON. As the data used in above tutorial is in JSON format. In that case ´json.loads()´method can load it ?**"
   ]
  },
  {
   "cell_type": "code",
   "execution_count": 12,
   "id": "b3d98a7d-502d-47b7-aa2d-4a9b586f037f",
   "metadata": {},
   "outputs": [
    {
     "data": {
      "text/plain": [
       "[{'Height': 170, 'Weight': 60, 'Age': 20, 'Speed': 80, 'Tax Amount': 1000},\n",
       " {'Height': 180, 'Weight': 70, 'Age': 25, 'Speed': 90, 'Tax Amount': 1500},\n",
       " {'Height': 190, 'Weight': 80, 'Age': 30, 'Speed': 100, 'Tax Amount': 2000},\n",
       " {'Height': 200, 'Weight': 90, 'Age': 35, 'Speed': 110, 'Tax Amount': 2500},\n",
       " {'Height': 210, 'Weight': 100, 'Age': 40, 'Speed': 120, 'Tax Amount': 3000}]"
      ]
     },
     "execution_count": 12,
     "metadata": {},
     "output_type": "execute_result"
    }
   ],
   "source": [
    "import json\n",
    "\n",
    "# The JSON string:\n",
    "json_data = \"\"\"\n",
    "[\n",
    "  {\n",
    "    \"Height\": 170,\n",
    "    \"Weight\": 60,\n",
    "    \"Age\": 20,\n",
    "    \"Speed\": 80,\n",
    "    \"Tax Amount\": 1000\n",
    "  },\n",
    "  {\n",
    "    \"Height\": 180,\n",
    "    \"Weight\": 70,\n",
    "    \"Age\": 25,\n",
    "    \"Speed\": 90,\n",
    "    \"Tax Amount\": 1500\n",
    "  },\n",
    "  {\n",
    "    \"Height\": 190,\n",
    "    \"Weight\": 80,\n",
    "    \"Age\": 30,\n",
    "    \"Speed\": 100,\n",
    "    \"Tax Amount\": 2000\n",
    "  },\n",
    "  {\n",
    "    \"Height\": 200,\n",
    "    \"Weight\": 90,\n",
    "    \"Age\": 35,\n",
    "    \"Speed\": 110,\n",
    "    \"Tax Amount\": 2500\n",
    "  },\n",
    "  {\n",
    "    \"Height\": 210,\n",
    "    \"Weight\": 100,\n",
    "    \"Age\": 40,\n",
    "    \"Speed\": 120,\n",
    "    \"Tax Amount\": 3000\n",
    "   }\n",
    "]\n",
    "\"\"\"\n",
    "\n",
    "# Convert to Python object (list of dicts):\n",
    "data = json.loads(json_data)\n",
    "data"
   ]
  },
  {
   "cell_type": "markdown",
   "id": "157189c0-238f-4bc7-a247-c9264aaa6a4b",
   "metadata": {},
   "source": [
    "**Contining Qualitative Data Image, Auido, Video, Text Data are also qualitative data**\n",
    "<br>\n",
    "**Example 8. To access and create a DataFrame of the image data.**"
   ]
  },
  {
   "cell_type": "markdown",
   "id": "cbd4092e-d544-4162-b8f7-46872b2affa7",
   "metadata": {},
   "source": [
    "For this we used open source Olivetti faces dataset. This dataset contains a set of face images taken between April 1992 and April 1994 at AT&T Laboratories Cambridge. There are ten different images of each of 40 distinct subjects, with varying lighting, facial expressions, and facial details. \n",
    "The images are quantized to 256 grey levels and have a resolution of 64x64 pixels (Source: https://kapernikov.com/tutorial-image-classification-with-scikit-learn/).To create a dataframe consisting of the Olivetti faces dataset, you can use the following steps:\n",
    "First, you need to fetch the Olivetti faces dataset from sklearn using the sklearn.datasets.fetch_olivetti_faces function. \n",
    "This will return a Bunch object that holds the data and some metadata.\n",
    "Next, you can use the pandas.DataFrame constructor to create a dataframe from the data and the feature names. \n",
    "You can also add a column for the target labels using the target and target_names attributes of the Bunch object.\n",
    "Finally, you can use the pandas methods to display and analyze the dataframe. For example, you can use df.head(), df.describe(), df.info(), etc."
   ]
  },
  {
   "cell_type": "code",
   "execution_count": 7,
   "id": "05e881d7-c79a-49f7-b899-c55c41ff0926",
   "metadata": {},
   "outputs": [
    {
     "name": "stdout",
     "output_type": "stream",
     "text": [
      "          0         1         2         3         4         5         6  \\\n",
      "0  0.309917  0.367769  0.417355  0.442149  0.528926  0.607438  0.657025   \n",
      "1  0.454545  0.471074  0.512397  0.557851  0.595041  0.640496  0.681818   \n",
      "2  0.318182  0.400826  0.491736  0.528926  0.586777  0.657025  0.681818   \n",
      "\n",
      "          7         8         9  ...      4087      4088      4089      4090  \\\n",
      "0  0.677686  0.690083  0.685950  ...  0.669421  0.652893  0.661157  0.475207   \n",
      "1  0.702479  0.710744  0.702479  ...  0.157025  0.136364  0.148760  0.152893   \n",
      "2  0.685950  0.702479  0.698347  ...  0.132231  0.181818  0.136364  0.128099   \n",
      "\n",
      "       4091      4092      4093      4094      4095  target  \n",
      "0  0.132231  0.148760  0.152893  0.161157  0.157025       0  \n",
      "1  0.152893  0.152893  0.152893  0.152893  0.152893       0  \n",
      "2  0.148760  0.144628  0.140496  0.148760  0.152893       0  \n",
      "\n",
      "[3 rows x 4097 columns]\n",
      "\n",
      "\n"
     ]
    },
    {
     "data": {
      "image/png": "[encoded data removed]",
      "text/plain": [
       "<Figure size 640x480 with 1 Axes>"
      ]
     },
     "metadata": {},
     "output_type": "display_data"
    }
   ],
   "source": [
    "**Tutorial : To access and create a DataFrame of the image data.**\n",
    "    \n",
    "import pandas as pd\n",
    "#Import datasets from the sklearn library\n",
    "from sklearn import datasets\n",
    "\n",
    "# Fetch the Olivetti faces dataset\n",
    "faces = datasets.fetch_olivetti_faces()\n",
    "\n",
    "# Create a dataframe from the data and feature names\n",
    "df = pd.DataFrame(faces.data)\n",
    "\n",
    "# Add a column for the target labels\n",
    "df[\"target\"] = faces.target\n",
    "\n",
    "# Display the first 3 rows of the dataframe\n",
    "print(f\"{df.head(3)}\")\n",
    "# Print new line\n",
    "print(\"\\n\")\n",
    "\n",
    "# Display the first image in the dataset\n",
    "import matplotlib.pyplot as plt\n",
    "plt.imshow(df.iloc[0, :-1].values.reshape(64, 64), cmap=\"gray\")\n",
    "plt.title(f\"Image of person {df.iloc[0, -1]}\")\n",
    "plt.show()"
   ]
  },
  {
   "cell_type": "markdown",
   "id": "c08f8a99-23a9-4d78-9ac6-5be0bd548326",
   "metadata": {},
   "source": [
    "**Contining quantitative Data: For this we will use tabular iris dataset provided by sklearn**\n",
    "<br>\n",
    "**Example 9. To access and create a DataFrame by loading the tabular iris data.**"
   ]
  },
  {
   "cell_type": "markdown",
   "id": "3a4cdcbc-f874-4887-a03b-7bb75aa717e7",
   "metadata": {},
   "source": [
    "Iris tabular dataset contains 150 samples of iris flowers, with four features (sepal length, sepal width, petal length, and petal width)\n",
    "and three classes (setosa, versicolor, and virginica). The sepal length, sepal width, petal length, petal width and target(class) are columns \n",
    "of the table(Source: https://scikit-learn.org/stable/datasets/toy_dataset.html#iris-dataset)\n",
    "<br>\n",
    "To create a dataframe consisting of the iris dataset, you can use the following steps:\n",
    "\n",
    "First, you need to load the iris dataset from sklearn using the sklearn.datasets.load_iris function. This will return a Bunch object that holds the data and some metadata.\n",
    "Next, you can use the pandas.DataFrame constructor to create a dataframe from the data and the feature names. You can also add a column for the target labels using the target and target_names attributes of the Bunch object.\n",
    "Finally, you can use the pandas methods to display and analyze the dataframe. For example, you can use df.head(), df.describe(), df.info(), etc"
   ]
  },
  {
   "cell_type": "code",
   "execution_count": 12,
   "id": "58d74893-f38e-445f-aa88-6f8897a678d6",
   "metadata": {},
   "outputs": [
    {
     "data": {
      "text/html": [
       "<div>\n",
       "<style scoped>\n",
       "    .dataframe tbody tr th:only-of-type {\n",
       "        vertical-align: middle;\n",
       "    }\n",
       "\n",
       "    .dataframe tbody tr th {\n",
       "        vertical-align: top;\n",
       "    }\n",
       "\n",
       "    .dataframe thead th {\n",
       "        text-align: right;\n",
       "    }\n",
       "</style>\n",
       "<table border=\"1\" class=\"dataframe\">\n",
       "  <thead>\n",
       "    <tr style=\"text-align: right;\">\n",
       "      <th></th>\n",
       "      <th>sepal length (cm)</th>\n",
       "      <th>sepal width (cm)</th>\n",
       "      <th>petal length (cm)</th>\n",
       "      <th>petal width (cm)</th>\n",
       "      <th>target</th>\n",
       "    </tr>\n",
       "  </thead>\n",
       "  <tbody>\n",
       "    <tr>\n",
       "      <th>0</th>\n",
       "      <td>5.1</td>\n",
       "      <td>3.5</td>\n",
       "      <td>1.4</td>\n",
       "      <td>0.2</td>\n",
       "      <td>0</td>\n",
       "    </tr>\n",
       "    <tr>\n",
       "      <th>1</th>\n",
       "      <td>4.9</td>\n",
       "      <td>3.0</td>\n",
       "      <td>1.4</td>\n",
       "      <td>0.2</td>\n",
       "      <td>0</td>\n",
       "    </tr>\n",
       "    <tr>\n",
       "      <th>2</th>\n",
       "      <td>4.7</td>\n",
       "      <td>3.2</td>\n",
       "      <td>1.3</td>\n",
       "      <td>0.2</td>\n",
       "      <td>0</td>\n",
       "    </tr>\n",
       "    <tr>\n",
       "      <th>3</th>\n",
       "      <td>4.6</td>\n",
       "      <td>3.1</td>\n",
       "      <td>1.5</td>\n",
       "      <td>0.2</td>\n",
       "      <td>0</td>\n",
       "    </tr>\n",
       "    <tr>\n",
       "      <th>4</th>\n",
       "      <td>5.0</td>\n",
       "      <td>3.6</td>\n",
       "      <td>1.4</td>\n",
       "      <td>0.2</td>\n",
       "      <td>0</td>\n",
       "    </tr>\n",
       "  </tbody>\n",
       "</table>\n",
       "</div>"
      ],
      "text/plain": [
       "   sepal length (cm)  sepal width (cm)  petal length (cm)  petal width (cm)  \\\n",
       "0                5.1               3.5                1.4               0.2   \n",
       "1                4.9               3.0                1.4               0.2   \n",
       "2                4.7               3.2                1.3               0.2   \n",
       "3                4.6               3.1                1.5               0.2   \n",
       "4                5.0               3.6                1.4               0.2   \n",
       "\n",
       "   target  \n",
       "0       0  \n",
       "1       0  \n",
       "2       0  \n",
       "3       0  \n",
       "4       0  "
      ]
     },
     "execution_count": 12,
     "metadata": {},
     "output_type": "execute_result"
    }
   ],
   "source": [
    "** Tutorial: To access and create a DataFrame by loading the tabular iris data. **\n",
    "\n",
    "import pandas as pd\n",
    "from sklearn import datasets\n",
    "\n",
    "# Load the iris dataset\n",
    "iris = datasets.load_iris()\n",
    "\n",
    "# Create a dataframe from the data and feature names\n",
    "df = pd.DataFrame(iris.data, columns=iris.feature_names)\n",
    "\n",
    "# Add a column for the target labels\n",
    "df[\"target\"] = iris.target\n",
    "\n",
    "# Display the first 5 rows of the dataframe\n",
    "df.head()"
   ]
  },
  {
   "cell_type": "markdown",
   "id": "5edc32c5-1504-4852-8e50-e9bdcc274219",
   "metadata": {},
   "source": [
    "#### Ways to differenciate and determine Qualitative and Quantitative Data and its subtypes\n",
    "Methods listed below can be used to understand the data and DataFrame. These methods assist in sneeking and describing the types of information present. Knowing the types will help in classfing if a data is nominal,ordinal,interval or ratio.   "
   ]
  },
  {
   "cell_type": "markdown",
   "id": "45eebc90-0074-4906-80c6-49cee8f76486",
   "metadata": {},
   "source": [
    "**Way 1: `dtype()`** <br> **Tutorial : Use dtype() to check the datatypes of the different features or column in a dataframe**"
   ]
  },
  {
   "cell_type": "code",
   "execution_count": 2,
   "id": "b89630e5-ee6b-45ab-a898-ea25fe8471fe",
   "metadata": {},
   "outputs": [
    {
     "name": "stdout",
     "output_type": "stream",
     "text": [
      "      name  age  gender hair color marital status  salary  height  weight\n",
      "0    Alice   25  female      black         single    5000     6.0      60\n",
      "1      Bob   30    male      brown        married    6000     5.7      57\n",
      "2  Charlie   35    male      white       divorced    7000     5.5      55\n",
      "name               object\n",
      "age                 int64\n",
      "gender             object\n",
      "hair color         object\n",
      "marital status     object\n",
      "salary              int64\n",
      "height            float64\n",
      "weight              int64\n",
      "dtype: object\n"
     ]
    }
   ],
   "source": [
    "\n",
    "import pandas as pd\n",
    "\n",
    "# Create a data frame with qualitative and quantitative columns\n",
    "df = pd.DataFrame({\n",
    "    \"name\": [\"Alice\", \"Bob\", \"Charlie\"], # a qualitative column\n",
    "    \"age\": [25, 30, 35], # a quantitative column\n",
    "    \"gender\": [\"female\", \"male\", \"male\"], # a qualitative column\n",
    "    \"hair color\": [\"black\", \"brown\", \"white\"], # a qualitative column\n",
    "    \"marital status\": [\"single\", \"married\", \"divorced\"], # a qualitative column\n",
    "    \"salary\": [5000, 6000, 7000], # a quantitative column\n",
    "    \"height\": [6, 5.7, 5.5], # a quantitative column\n",
    "    \"weight\": [60, 57, 55] # a quantitative column\n",
    "})\n",
    "\n",
    "# Print the data frame\n",
    "print(df)\n",
    "\n",
    "# Print the data types of each column\n",
    "print(df.dtypes)"
   ]
  },
  {
   "cell_type": "markdown",
   "id": "30cf63d6-5ebc-4c93-aabd-760e7ecdb566",
   "metadata": {},
   "source": [
    "**Way 2: `describe()`**\n",
    "<br>\n",
    "**Tutorial : To describe() the dataframe used in tutorial of dtype()**\n",
    "You can also use the describe method of a pandas data frame to generate descriptive statistics for each column. \n",
    "This method will only show statistics for quantitative columns by default, such as mean, standard deviation, minimum, maximum, etc. \n",
    "To include qualitative columns, you need to specify include='O' as an argument. This will show statistics for qualitative columns, \n",
    "such as count, unique values, top value, and frequency.\n",
    "As you can see, the descriptive statistics for qualitative and quantitative columns are different, \n",
    "reflecting the nature of the data."
   ]
  },
  {
   "cell_type": "code",
   "execution_count": 23,
   "id": "9bfd60f3-bfdb-4913-a931-d087e94ab4c9",
   "metadata": {},
   "outputs": [
    {
     "name": "stdout",
     "output_type": "stream",
     "text": [
      "        age  salary    height     weight\n",
      "count   3.0     3.0  3.000000   3.000000\n",
      "mean   30.0  6000.0  5.733333  57.333333\n",
      "std     5.0  1000.0  0.251661   2.516611\n",
      "min    25.0  5000.0  5.500000  55.000000\n",
      "25%    27.5  5500.0  5.600000  56.000000\n",
      "50%    30.0  6000.0  5.700000  57.000000\n",
      "75%    32.5  6500.0  5.850000  58.500000\n",
      "max    35.0  7000.0  6.000000  60.000000\n",
      "         name gender hair color marital status\n",
      "count       3      3          3              3\n",
      "unique      3      2          3              3\n",
      "top     Alice   male      black         single\n",
      "freq        1      2          1              1\n"
     ]
    }
   ],
   "source": [
    "# Print the descriptive statistics for quantitative columns\n",
    "print(df.describe())\n",
    "\n",
    "# Print the descriptive statistics for qualitative columns\n",
    "print(df.describe(include='O'))"
   ]
  },
  {
   "cell_type": "markdown",
   "id": "4c92022d-fb45-400f-8013-39453ae38265",
   "metadata": {},
   "source": [
    "**Way 3: `value_count()`**\n",
    "<br>\n",
    "Tutorial: Counting the frequency of each unique value in a column or showing the distribution of categories or labels helps knowing qualitative data.\n",
    "<br>\n",
    "For this the `value_counts()` is used. It will also display the data type`dtype`. The dtype displayed is the data type of the values in the Series object returned by the value_counts method. In case of `gender`, the values are counts of each unique value in the gender column of the dataframe, and the data type is int64, which means 64-bit integer."
   ]
  },
  {
   "cell_type": "code",
   "execution_count": 19,
   "id": "5518f990-7c64-49f9-9561-9c37f308101c",
   "metadata": {},
   "outputs": [
    {
     "name": "stdout",
     "output_type": "stream",
     "text": [
      "gender\n",
      "male      2\n",
      "female    1\n",
      "Name: count, dtype: int64\n",
      "\n",
      "\n",
      "age\n",
      "25    1\n",
      "30    1\n",
      "35    1\n",
      "Name: count, dtype: int64\n"
     ]
    }
   ],
   "source": [
    "# To count the values in `gender` column\n",
    "print(df['gender'].value_counts())\n",
    "print(\"\\n\")\n",
    "# To count the values in `age` column\n",
    "print(df['age'].value_counts())"
   ]
  },
  {
   "cell_type": "markdown",
   "id": "e1ecc851-d347-4209-a941-c1856e61acfd",
   "metadata": {},
   "source": [
    "**Way 4: `is_numeric_dtype()`, `is_string_dtype()`**\n",
    "<br>\n",
    "Functions `is_numeric_dtype()` and `is_string_dtype()`from the pandas.api.types module can help you determine if a column contains numeric or string (object) data."
   ]
  },
  {
   "cell_type": "code",
   "execution_count": 21,
   "id": "2a338d99-311b-438f-8822-dd2283ee5a70",
   "metadata": {},
   "outputs": [
    {
     "name": "stdout",
     "output_type": "stream",
     "text": [
      "Is string?:  True\n",
      "Is numeric?:  True\n",
      "Is string?:  False\n",
      "Is numeric?:  False\n"
     ]
    }
   ],
   "source": [
    "import pandas.api.types as ptypes\n",
    "\n",
    "print(f\"Is string?:  {ptypes.is_string_dtype(df['hair color'])}\")\n",
    "print(f\"Is numeric?:  {ptypes.is_numeric_dtype(df['weight'])}\")\n",
    "\n",
    "print(f\"Is string?:  {ptypes.is_string_dtype(df['salary'])}\")\n",
    "print(f\"Is numeric?:  {ptypes.is_numeric_dtype(df['name'])}\")"
   ]
  },
  {
   "cell_type": "markdown",
   "id": "e0215357-007b-4a54-8b84-9a18e9acbc07",
   "metadata": {},
   "source": [
    "Also we ca use a for loop to check it for all the columns iteratively"
   ]
  },
  {
   "cell_type": "code",
   "execution_count": 22,
   "id": "b7aebc82-de55-4175-bfd5-d4001a2207cd",
   "metadata": {},
   "outputs": [
    {
     "name": "stdout",
     "output_type": "stream",
     "text": [
      "name:\n",
      "Is numeric? False\n",
      "Is string? True\n",
      "\n",
      "age:\n",
      "Is numeric? True\n",
      "Is string? False\n",
      "\n",
      "gender:\n",
      "Is numeric? False\n",
      "Is string? True\n",
      "\n",
      "hair color:\n",
      "Is numeric? False\n",
      "Is string? True\n",
      "\n",
      "marital status:\n",
      "Is numeric? False\n",
      "Is string? True\n",
      "\n",
      "salary:\n",
      "Is numeric? True\n",
      "Is string? False\n",
      "\n",
      "height:\n",
      "Is numeric? True\n",
      "Is string? False\n",
      "\n",
      "weight:\n",
      "Is numeric? True\n",
      "Is string? False\n",
      "\n"
     ]
    }
   ],
   "source": [
    "# Check the data types of each column using is_numeric_dtype() and is_string_dtype()\n",
    "for col in df.columns:\n",
    "    print(f\"{col}:\")\n",
    "    print(f\"Is numeric? {ptypes.is_numeric_dtype(df[col])}\")\n",
    "    print(f\"Is string? {ptypes.is_string_dtype(df[col])}\")\n",
    "    print()"
   ]
  },
  {
   "cell_type": "markdown",
   "id": "19181475-7dd8-4b0e-abe9-8e95e91fab92",
   "metadata": {},
   "source": [
    "**Way 5: `info()`**\n",
    "<br>\n",
    "`info()` describes the dataframe with column name, the number of not null values and data type of each column"
   ]
  },
  {
   "cell_type": "code",
   "execution_count": 27,
   "id": "bb9d4bdc-9cad-404d-bcf9-07bce87fd2c9",
   "metadata": {},
   "outputs": [
    {
     "name": "stdout",
     "output_type": "stream",
     "text": [
      "<class 'pandas.core.frame.DataFrame'>\n",
      "RangeIndex: 3 entries, 0 to 2\n",
      "Data columns (total 8 columns):\n",
      " #   Column          Non-Null Count  Dtype  \n",
      "---  ------          --------------  -----  \n",
      " 0   name            3 non-null      object \n",
      " 1   age             3 non-null      int64  \n",
      " 2   gender          3 non-null      object \n",
      " 3   hair color      3 non-null      object \n",
      " 4   marital status  3 non-null      object \n",
      " 5   salary          3 non-null      int64  \n",
      " 6   height          3 non-null      float64\n",
      " 7   weight          3 non-null      int64  \n",
      "dtypes: float64(1), int64(3), object(4)\n",
      "memory usage: 320.0+ bytes\n"
     ]
    }
   ],
   "source": [
    "df.info()"
   ]
  },
  {
   "cell_type": "markdown",
   "id": "7180efe9-6ec5-47e8-b97b-cad1e84c7883",
   "metadata": {},
   "source": [
    "**Way 6: head() and tail()**\n",
    "<br>\n",
    "`head()` displays the DataFrame with first few rows. Also inside the parathesis if head() you can define the number of rows you want to view.\n",
    "For example to view first 10 rows of the DataFrame write `head(10)`. "
   ]
  },
  {
   "cell_type": "code",
   "execution_count": 34,
   "id": "01ea6b31-345f-40a1-bd9e-1b02ed88afa0",
   "metadata": {},
   "outputs": [
    {
     "name": "stdout",
     "output_type": "stream",
     "text": [
      "      name  age  gender hair color marital status  salary  height  weight\n",
      "0    Alice   25  female      black         single    5000     6.0      60\n",
      "1      Bob   30    male      brown        married    6000     5.7      57\n",
      "2  Charlie   35    male      white       divorced    7000     5.5      55\n"
     ]
    },
    {
     "data": {
      "text/html": [
       "<div>\n",
       "<style scoped>\n",
       "    .dataframe tbody tr th:only-of-type {\n",
       "        vertical-align: middle;\n",
       "    }\n",
       "\n",
       "    .dataframe tbody tr th {\n",
       "        vertical-align: top;\n",
       "    }\n",
       "\n",
       "    .dataframe thead th {\n",
       "        text-align: right;\n",
       "    }\n",
       "</style>\n",
       "<table border=\"1\" class=\"dataframe\">\n",
       "  <thead>\n",
       "    <tr style=\"text-align: right;\">\n",
       "      <th></th>\n",
       "      <th>name</th>\n",
       "      <th>age</th>\n",
       "      <th>gender</th>\n",
       "      <th>hair color</th>\n",
       "      <th>marital status</th>\n",
       "      <th>salary</th>\n",
       "      <th>height</th>\n",
       "      <th>weight</th>\n",
       "    </tr>\n",
       "  </thead>\n",
       "  <tbody>\n",
       "    <tr>\n",
       "      <th>0</th>\n",
       "      <td>Alice</td>\n",
       "      <td>25</td>\n",
       "      <td>female</td>\n",
       "      <td>black</td>\n",
       "      <td>single</td>\n",
       "      <td>5000</td>\n",
       "      <td>6.0</td>\n",
       "      <td>60</td>\n",
       "    </tr>\n",
       "  </tbody>\n",
       "</table>\n",
       "</div>"
      ],
      "text/plain": [
       "    name  age  gender hair color marital status  salary  height  weight\n",
       "0  Alice   25  female      black         single    5000     6.0      60"
      ]
     },
     "execution_count": 34,
     "metadata": {},
     "output_type": "execute_result"
    }
   ],
   "source": [
    "# View the first few rows of the DataFrame\n",
    "print(df.head())\n",
    "\n",
    "# View first 2 rows of the DataFrame\n",
    "df.head(1)"
   ]
  },
  {
   "cell_type": "markdown",
   "id": "8efee3f6-95ad-4d90-83a1-279d8422bc89",
   "metadata": {},
   "source": [
    "Similarly to that to display the bottomost rows `tail()` is used.\n",
    "<br>\n",
    "`IPython.display` module is a module that provides tools to display various types of data and media in `IPython` environments, such as notebooks and terminals.\n",
    "It can display text, images, audio, video, HTML, LaTeX, JSON, and more. \n",
    "Here we used it to display multiple objects in a single output cell. (Source: https://ipython.readthedocs.io/en/stable/api/generated/IPython.display.html)"
   ]
  },
  {
   "cell_type": "code",
   "execution_count": 33,
   "id": "d0c89daf-74e1-4a80-911a-f5bd162a666f",
   "metadata": {},
   "outputs": [
    {
     "data": {
      "text/html": [
       "<div>\n",
       "<style scoped>\n",
       "    .dataframe tbody tr th:only-of-type {\n",
       "        vertical-align: middle;\n",
       "    }\n",
       "\n",
       "    .dataframe tbody tr th {\n",
       "        vertical-align: top;\n",
       "    }\n",
       "\n",
       "    .dataframe thead th {\n",
       "        text-align: right;\n",
       "    }\n",
       "</style>\n",
       "<table border=\"1\" class=\"dataframe\">\n",
       "  <thead>\n",
       "    <tr style=\"text-align: right;\">\n",
       "      <th></th>\n",
       "      <th>name</th>\n",
       "      <th>age</th>\n",
       "      <th>gender</th>\n",
       "      <th>hair color</th>\n",
       "      <th>marital status</th>\n",
       "      <th>salary</th>\n",
       "      <th>height</th>\n",
       "      <th>weight</th>\n",
       "    </tr>\n",
       "  </thead>\n",
       "  <tbody>\n",
       "    <tr>\n",
       "      <th>0</th>\n",
       "      <td>Alice</td>\n",
       "      <td>25</td>\n",
       "      <td>female</td>\n",
       "      <td>black</td>\n",
       "      <td>single</td>\n",
       "      <td>5000</td>\n",
       "      <td>6.0</td>\n",
       "      <td>60</td>\n",
       "    </tr>\n",
       "    <tr>\n",
       "      <th>1</th>\n",
       "      <td>Bob</td>\n",
       "      <td>30</td>\n",
       "      <td>male</td>\n",
       "      <td>brown</td>\n",
       "      <td>married</td>\n",
       "      <td>6000</td>\n",
       "      <td>5.7</td>\n",
       "      <td>57</td>\n",
       "    </tr>\n",
       "    <tr>\n",
       "      <th>2</th>\n",
       "      <td>Charlie</td>\n",
       "      <td>35</td>\n",
       "      <td>male</td>\n",
       "      <td>white</td>\n",
       "      <td>divorced</td>\n",
       "      <td>7000</td>\n",
       "      <td>5.5</td>\n",
       "      <td>55</td>\n",
       "    </tr>\n",
       "  </tbody>\n",
       "</table>\n",
       "</div>"
      ],
      "text/plain": [
       "      name  age  gender hair color marital status  salary  height  weight\n",
       "0    Alice   25  female      black         single    5000     6.0      60\n",
       "1      Bob   30    male      brown        married    6000     5.7      57\n",
       "2  Charlie   35    male      white       divorced    7000     5.5      55"
      ]
     },
     "metadata": {},
     "output_type": "display_data"
    },
    {
     "data": {
      "text/html": [
       "<div>\n",
       "<style scoped>\n",
       "    .dataframe tbody tr th:only-of-type {\n",
       "        vertical-align: middle;\n",
       "    }\n",
       "\n",
       "    .dataframe tbody tr th {\n",
       "        vertical-align: top;\n",
       "    }\n",
       "\n",
       "    .dataframe thead th {\n",
       "        text-align: right;\n",
       "    }\n",
       "</style>\n",
       "<table border=\"1\" class=\"dataframe\">\n",
       "  <thead>\n",
       "    <tr style=\"text-align: right;\">\n",
       "      <th></th>\n",
       "      <th>name</th>\n",
       "      <th>age</th>\n",
       "      <th>gender</th>\n",
       "      <th>hair color</th>\n",
       "      <th>marital status</th>\n",
       "      <th>salary</th>\n",
       "      <th>height</th>\n",
       "      <th>weight</th>\n",
       "    </tr>\n",
       "  </thead>\n",
       "  <tbody>\n",
       "    <tr>\n",
       "      <th>2</th>\n",
       "      <td>Charlie</td>\n",
       "      <td>35</td>\n",
       "      <td>male</td>\n",
       "      <td>white</td>\n",
       "      <td>divorced</td>\n",
       "      <td>7000</td>\n",
       "      <td>5.5</td>\n",
       "      <td>55</td>\n",
       "    </tr>\n",
       "  </tbody>\n",
       "</table>\n",
       "</div>"
      ],
      "text/plain": [
       "      name  age gender hair color marital status  salary  height  weight\n",
       "2  Charlie   35   male      white       divorced    7000     5.5      55"
      ]
     },
     "metadata": {},
     "output_type": "display_data"
    }
   ],
   "source": [
    "from IPython.display import display\n",
    "# View the last few rows of the DataFrame\n",
    "display(df.tail())\n",
    "# View last 2 rows of the DataFrame\n",
    "display(df.tail(1))"
   ]
  },
  {
   "cell_type": "markdown",
   "id": "d397375b-6293-4d89-aec1-757457208390",
   "metadata": {},
   "source": [
    "**Way 7: Other ways**\n",
    "<br>\n",
    "<ol>\n",
    "    <li>select_dtypes(include='____')</li>\n",
    "    <li>groupby()</li>\n",
    "    <li>groupby().sum()</li>\n",
    "    <li>columns</li>\n",
    "    <li>type()</li>\n",
    "</ol>"
   ]
  },
  {
   "cell_type": "markdown",
   "id": "27498c62-547a-4155-b7f7-85f48bb24f3b",
   "metadata": {},
   "source": [
    "***Way 7.1. `select_dtypes(include='____')`***\n",
    "<br>\n",
    "Used to select columns with specific datatype. i.e, `number`and `object`"
   ]
  },
  {
   "cell_type": "code",
   "execution_count": 9,
   "id": "8d911328-8bfc-4858-8fa8-82b30f0ee4c8",
   "metadata": {},
   "outputs": [
    {
     "data": {
      "text/html": [
       "<div>\n",
       "<style scoped>\n",
       "    .dataframe tbody tr th:only-of-type {\n",
       "        vertical-align: middle;\n",
       "    }\n",
       "\n",
       "    .dataframe tbody tr th {\n",
       "        vertical-align: top;\n",
       "    }\n",
       "\n",
       "    .dataframe thead th {\n",
       "        text-align: right;\n",
       "    }\n",
       "</style>\n",
       "<table border=\"1\" class=\"dataframe\">\n",
       "  <thead>\n",
       "    <tr style=\"text-align: right;\">\n",
       "      <th></th>\n",
       "      <th>age</th>\n",
       "      <th>salary</th>\n",
       "      <th>height</th>\n",
       "      <th>weight</th>\n",
       "    </tr>\n",
       "  </thead>\n",
       "  <tbody>\n",
       "    <tr>\n",
       "      <th>0</th>\n",
       "      <td>25</td>\n",
       "      <td>5000</td>\n",
       "      <td>6.0</td>\n",
       "      <td>60</td>\n",
       "    </tr>\n",
       "    <tr>\n",
       "      <th>1</th>\n",
       "      <td>30</td>\n",
       "      <td>6000</td>\n",
       "      <td>5.7</td>\n",
       "      <td>57</td>\n",
       "    </tr>\n",
       "    <tr>\n",
       "      <th>2</th>\n",
       "      <td>35</td>\n",
       "      <td>7000</td>\n",
       "      <td>5.5</td>\n",
       "      <td>55</td>\n",
       "    </tr>\n",
       "  </tbody>\n",
       "</table>\n",
       "</div>"
      ],
      "text/plain": [
       "   age  salary  height  weight\n",
       "0   25    5000     6.0      60\n",
       "1   30    6000     5.7      57\n",
       "2   35    7000     5.5      55"
      ]
     },
     "metadata": {},
     "output_type": "display_data"
    },
    {
     "data": {
      "text/html": [
       "<div>\n",
       "<style scoped>\n",
       "    .dataframe tbody tr th:only-of-type {\n",
       "        vertical-align: middle;\n",
       "    }\n",
       "\n",
       "    .dataframe tbody tr th {\n",
       "        vertical-align: top;\n",
       "    }\n",
       "\n",
       "    .dataframe thead th {\n",
       "        text-align: right;\n",
       "    }\n",
       "</style>\n",
       "<table border=\"1\" class=\"dataframe\">\n",
       "  <thead>\n",
       "    <tr style=\"text-align: right;\">\n",
       "      <th></th>\n",
       "      <th>name</th>\n",
       "      <th>gender</th>\n",
       "      <th>hair color</th>\n",
       "      <th>marital status</th>\n",
       "    </tr>\n",
       "  </thead>\n",
       "  <tbody>\n",
       "    <tr>\n",
       "      <th>0</th>\n",
       "      <td>Alice</td>\n",
       "      <td>female</td>\n",
       "      <td>black</td>\n",
       "      <td>single</td>\n",
       "    </tr>\n",
       "    <tr>\n",
       "      <th>1</th>\n",
       "      <td>Bob</td>\n",
       "      <td>male</td>\n",
       "      <td>brown</td>\n",
       "      <td>married</td>\n",
       "    </tr>\n",
       "    <tr>\n",
       "      <th>2</th>\n",
       "      <td>Charlie</td>\n",
       "      <td>male</td>\n",
       "      <td>white</td>\n",
       "      <td>divorced</td>\n",
       "    </tr>\n",
       "  </tbody>\n",
       "</table>\n",
       "</div>"
      ],
      "text/plain": [
       "      name  gender hair color marital status\n",
       "0    Alice  female      black         single\n",
       "1      Bob    male      brown        married\n",
       "2  Charlie    male      white       divorced"
      ]
     },
     "metadata": {},
     "output_type": "display_data"
    }
   ],
   "source": [
    "# Select and display DataFrame with only numeric values\n",
    "display(df.select_dtypes(include='number'))\n",
    "\n",
    "# Select and display DataFrame with only object values in the same cell(display() displays DataFrame in same cell)\n",
    "'''In pandas, object are the column containing strings or mixed types of data. \n",
    "It is the default data type for columns that have text or arbitrary Python objects'''\n",
    "display(df.select_dtypes(include='object'))"
   ]
  },
  {
   "cell_type": "markdown",
   "id": "8d3a6d5b-29a7-49f6-b6ea-9bb4b5434582",
   "metadata": {},
   "source": [
    "***Way 7.2. `groupby()`***\n",
    "<br>\n",
    "Used to group based on column"
   ]
  },
  {
   "cell_type": "code",
   "execution_count": 3,
   "id": "77f794c5-8199-4379-8e18-a1db417c9ace",
   "metadata": {},
   "outputs": [
    {
     "data": {
      "text/html": [
       "<div>\n",
       "<style scoped>\n",
       "    .dataframe tbody tr th:only-of-type {\n",
       "        vertical-align: middle;\n",
       "    }\n",
       "\n",
       "    .dataframe tbody tr th {\n",
       "        vertical-align: top;\n",
       "    }\n",
       "\n",
       "    .dataframe thead th {\n",
       "        text-align: right;\n",
       "    }\n",
       "</style>\n",
       "<table border=\"1\" class=\"dataframe\">\n",
       "  <thead>\n",
       "    <tr style=\"text-align: right;\">\n",
       "      <th></th>\n",
       "      <th>name</th>\n",
       "      <th>age</th>\n",
       "      <th>hair color</th>\n",
       "      <th>marital status</th>\n",
       "      <th>salary</th>\n",
       "      <th>height</th>\n",
       "      <th>weight</th>\n",
       "    </tr>\n",
       "    <tr>\n",
       "      <th>gender</th>\n",
       "      <th></th>\n",
       "      <th></th>\n",
       "      <th></th>\n",
       "      <th></th>\n",
       "      <th></th>\n",
       "      <th></th>\n",
       "      <th></th>\n",
       "    </tr>\n",
       "  </thead>\n",
       "  <tbody>\n",
       "    <tr>\n",
       "      <th>female</th>\n",
       "      <td>Alice</td>\n",
       "      <td>25</td>\n",
       "      <td>black</td>\n",
       "      <td>single</td>\n",
       "      <td>5000</td>\n",
       "      <td>6.0</td>\n",
       "      <td>60</td>\n",
       "    </tr>\n",
       "    <tr>\n",
       "      <th>male</th>\n",
       "      <td>BobCharlie</td>\n",
       "      <td>65</td>\n",
       "      <td>brownwhite</td>\n",
       "      <td>marrieddivorced</td>\n",
       "      <td>13000</td>\n",
       "      <td>11.2</td>\n",
       "      <td>112</td>\n",
       "    </tr>\n",
       "  </tbody>\n",
       "</table>\n",
       "</div>"
      ],
      "text/plain": [
       "              name  age  hair color   marital status  salary  height  weight\n",
       "gender                                                                      \n",
       "female       Alice   25       black           single    5000     6.0      60\n",
       "male    BobCharlie   65  brownwhite  marrieddivorced   13000    11.2     112"
      ]
     },
     "metadata": {},
     "output_type": "display_data"
    }
   ],
   "source": [
    "# Group by gender and calculate the sum of each group\n",
    "display(df.groupby(\"gender\").sum())"
   ]
  },
  {
   "cell_type": "markdown",
   "id": "68fd6ead-3603-4879-9549-d25f2a7d19a3",
   "metadata": {},
   "source": [
    "***Way 7.3. `groupby().sum()`***\n",
    "<br>\n",
    "Display based on group and calculates sum in each group"
   ]
  },
  {
   "cell_type": "code",
   "execution_count": 4,
   "id": "d9bd99d4-6697-437d-b4d4-9297486aa45d",
   "metadata": {},
   "outputs": [
    {
     "data": {
      "text/html": [
       "<div>\n",
       "<style scoped>\n",
       "    .dataframe tbody tr th:only-of-type {\n",
       "        vertical-align: middle;\n",
       "    }\n",
       "\n",
       "    .dataframe tbody tr th {\n",
       "        vertical-align: top;\n",
       "    }\n",
       "\n",
       "    .dataframe thead th {\n",
       "        text-align: right;\n",
       "    }\n",
       "</style>\n",
       "<table border=\"1\" class=\"dataframe\">\n",
       "  <thead>\n",
       "    <tr style=\"text-align: right;\">\n",
       "      <th></th>\n",
       "      <th></th>\n",
       "      <th>name</th>\n",
       "      <th>age</th>\n",
       "      <th>marital status</th>\n",
       "      <th>salary</th>\n",
       "      <th>height</th>\n",
       "      <th>weight</th>\n",
       "    </tr>\n",
       "    <tr>\n",
       "      <th>gender</th>\n",
       "      <th>hair color</th>\n",
       "      <th></th>\n",
       "      <th></th>\n",
       "      <th></th>\n",
       "      <th></th>\n",
       "      <th></th>\n",
       "      <th></th>\n",
       "    </tr>\n",
       "  </thead>\n",
       "  <tbody>\n",
       "    <tr>\n",
       "      <th>female</th>\n",
       "      <th>black</th>\n",
       "      <td>Alice</td>\n",
       "      <td>25</td>\n",
       "      <td>single</td>\n",
       "      <td>5000</td>\n",
       "      <td>6.0</td>\n",
       "      <td>60</td>\n",
       "    </tr>\n",
       "    <tr>\n",
       "      <th rowspan=\"2\" valign=\"top\">male</th>\n",
       "      <th>brown</th>\n",
       "      <td>Bob</td>\n",
       "      <td>30</td>\n",
       "      <td>married</td>\n",
       "      <td>6000</td>\n",
       "      <td>5.7</td>\n",
       "      <td>57</td>\n",
       "    </tr>\n",
       "    <tr>\n",
       "      <th>white</th>\n",
       "      <td>Charlie</td>\n",
       "      <td>35</td>\n",
       "      <td>divorced</td>\n",
       "      <td>7000</td>\n",
       "      <td>5.5</td>\n",
       "      <td>55</td>\n",
       "    </tr>\n",
       "  </tbody>\n",
       "</table>\n",
       "</div>"
      ],
      "text/plain": [
       "                      name  age marital status  salary  height  weight\n",
       "gender hair color                                                     \n",
       "female black         Alice   25         single    5000     6.0      60\n",
       "male   brown           Bob   30        married    6000     5.7      57\n",
       "       white       Charlie   35       divorced    7000     5.5      55"
      ]
     },
     "execution_count": 4,
     "metadata": {},
     "output_type": "execute_result"
    }
   ],
   "source": [
    "# Group by gender and hair color and calculate the sum of each group\n",
    "df.groupby([\"gender\", \"hair color\"]).sum()"
   ]
  },
  {
   "cell_type": "markdown",
   "id": "71034bd3-544d-43cc-8230-90af622a5b10",
   "metadata": {},
   "source": [
    "***Way 7.4. columns***"
   ]
  },
  {
   "cell_type": "code",
   "execution_count": 10,
   "id": "b08db71d-47c3-4dd6-a119-6f28d1b5bf8f",
   "metadata": {},
   "outputs": [
    {
     "data": {
      "text/plain": [
       "Index(['name', 'age', 'gender', 'hair color', 'marital status', 'salary',\n",
       "       'height', 'weight'],\n",
       "      dtype='object')"
      ]
     },
     "execution_count": 10,
     "metadata": {},
     "output_type": "execute_result"
    }
   ],
   "source": [
    "# Displayes column names. Sometime through descriptive columns names type of data can be distinguished. So diplaying column name can be useful\n",
    "df.columns"
   ]
  },
  {
   "cell_type": "markdown",
   "id": "5ca6e7b1-8b3d-466e-b1c5-520ed55e7e45",
   "metadata": {},
   "source": [
    "***Way 7.5. type()***\n",
    "type() is used to display the type of a variable. It can be used to determine the type of a single variable"
   ]
  },
  {
   "cell_type": "code",
   "execution_count": 63,
   "id": "3818d983-031a-4236-9d3c-0faf5a001825",
   "metadata": {},
   "outputs": [
    {
     "name": "stdout",
     "output_type": "stream",
     "text": [
      "<class 'int'>\n",
      "<class 'str'>\n",
      "<class 'list'>\n"
     ]
    }
   ],
   "source": [
    "x = 42\n",
    "y = \"Hello\"\n",
    "z = [1, 2, 3]\n",
    "\n",
    "print(type(x))  \n",
    "print(type(y))  \n",
    "print(type(z))  "
   ]
  },
  {
   "cell_type": "markdown",
   "id": "1e046cb4-634f-434e-b6f7-8deccb4ec97f",
   "metadata": {},
   "source": [
    "**Example 10: Read and view a dataset (JSON) using `read_json()`**\n",
    "<br>\n",
    "Lets load a dataset and see what kind of data does it contains. \n",
    "<br>\n",
    "Tutorial 10 uses `Nobel Prize Dataset` from Github, which is made available under the CC0-1.0 license from Source: https://github.com/jdorfman/awesome-json-datasets#nobel-prize"
   ]
  },
  {
   "cell_type": "code",
   "execution_count": 20,
   "id": "45cebd43-c065-4c57-974a-7f089c7c55c8",
   "metadata": {},
   "outputs": [
    {
     "data": {
      "text/html": [
       "<div>\n",
       "<style scoped>\n",
       "    .dataframe tbody tr th:only-of-type {\n",
       "        vertical-align: middle;\n",
       "    }\n",
       "\n",
       "    .dataframe tbody tr th {\n",
       "        vertical-align: top;\n",
       "    }\n",
       "\n",
       "    .dataframe thead th {\n",
       "        text-align: right;\n",
       "    }\n",
       "</style>\n",
       "<table border=\"1\" class=\"dataframe\">\n",
       "  <thead>\n",
       "    <tr style=\"text-align: right;\">\n",
       "      <th></th>\n",
       "      <th>year</th>\n",
       "      <th>category</th>\n",
       "      <th>laureates</th>\n",
       "      <th>overallMotivation</th>\n",
       "    </tr>\n",
       "  </thead>\n",
       "  <tbody>\n",
       "    <tr>\n",
       "      <th>0</th>\n",
       "      <td>2022</td>\n",
       "      <td>chemistry</td>\n",
       "      <td>[{'id': '1015', 'firstname': 'Carolyn', 'surna...</td>\n",
       "      <td>NaN</td>\n",
       "    </tr>\n",
       "    <tr>\n",
       "      <th>1</th>\n",
       "      <td>2022</td>\n",
       "      <td>economics</td>\n",
       "      <td>[{'id': '1021', 'firstname': 'Ben', 'surname':...</td>\n",
       "      <td>NaN</td>\n",
       "    </tr>\n",
       "    <tr>\n",
       "      <th>2</th>\n",
       "      <td>2022</td>\n",
       "      <td>literature</td>\n",
       "      <td>[{'id': '1017', 'firstname': 'Annie', 'surname...</td>\n",
       "      <td>NaN</td>\n",
       "    </tr>\n",
       "    <tr>\n",
       "      <th>3</th>\n",
       "      <td>2022</td>\n",
       "      <td>peace</td>\n",
       "      <td>[{'id': '1018', 'firstname': 'Ales', 'surname'...</td>\n",
       "      <td>NaN</td>\n",
       "    </tr>\n",
       "    <tr>\n",
       "      <th>4</th>\n",
       "      <td>2022</td>\n",
       "      <td>physics</td>\n",
       "      <td>[{'id': '1012', 'firstname': 'Alain', 'surname...</td>\n",
       "      <td>NaN</td>\n",
       "    </tr>\n",
       "    <tr>\n",
       "      <th>...</th>\n",
       "      <td>...</td>\n",
       "      <td>...</td>\n",
       "      <td>...</td>\n",
       "      <td>...</td>\n",
       "    </tr>\n",
       "    <tr>\n",
       "      <th>659</th>\n",
       "      <td>1901</td>\n",
       "      <td>chemistry</td>\n",
       "      <td>[{'id': '160', 'firstname': 'Jacobus H.', 'sur...</td>\n",
       "      <td>NaN</td>\n",
       "    </tr>\n",
       "    <tr>\n",
       "      <th>660</th>\n",
       "      <td>1901</td>\n",
       "      <td>literature</td>\n",
       "      <td>[{'id': '569', 'firstname': 'Sully', 'surname'...</td>\n",
       "      <td>NaN</td>\n",
       "    </tr>\n",
       "    <tr>\n",
       "      <th>661</th>\n",
       "      <td>1901</td>\n",
       "      <td>peace</td>\n",
       "      <td>[{'id': '462', 'firstname': 'Henry', 'surname'...</td>\n",
       "      <td>NaN</td>\n",
       "    </tr>\n",
       "    <tr>\n",
       "      <th>662</th>\n",
       "      <td>1901</td>\n",
       "      <td>physics</td>\n",
       "      <td>[{'id': '1', 'firstname': 'Wilhelm Conrad', 's...</td>\n",
       "      <td>NaN</td>\n",
       "    </tr>\n",
       "    <tr>\n",
       "      <th>663</th>\n",
       "      <td>1901</td>\n",
       "      <td>medicine</td>\n",
       "      <td>[{'id': '293', 'firstname': 'Emil', 'surname':...</td>\n",
       "      <td>NaN</td>\n",
       "    </tr>\n",
       "  </tbody>\n",
       "</table>\n",
       "<p>664 rows × 4 columns</p>\n",
       "</div>"
      ],
      "text/plain": [
       "     year    category                                          laureates  \\\n",
       "0    2022   chemistry  [{'id': '1015', 'firstname': 'Carolyn', 'surna...   \n",
       "1    2022   economics  [{'id': '1021', 'firstname': 'Ben', 'surname':...   \n",
       "2    2022  literature  [{'id': '1017', 'firstname': 'Annie', 'surname...   \n",
       "3    2022       peace  [{'id': '1018', 'firstname': 'Ales', 'surname'...   \n",
       "4    2022     physics  [{'id': '1012', 'firstname': 'Alain', 'surname...   \n",
       "..    ...         ...                                                ...   \n",
       "659  1901   chemistry  [{'id': '160', 'firstname': 'Jacobus H.', 'sur...   \n",
       "660  1901  literature  [{'id': '569', 'firstname': 'Sully', 'surname'...   \n",
       "661  1901       peace  [{'id': '462', 'firstname': 'Henry', 'surname'...   \n",
       "662  1901     physics  [{'id': '1', 'firstname': 'Wilhelm Conrad', 's...   \n",
       "663  1901    medicine  [{'id': '293', 'firstname': 'Emil', 'surname':...   \n",
       "\n",
       "    overallMotivation  \n",
       "0                 NaN  \n",
       "1                 NaN  \n",
       "2                 NaN  \n",
       "3                 NaN  \n",
       "4                 NaN  \n",
       "..                ...  \n",
       "659               NaN  \n",
       "660               NaN  \n",
       "661               NaN  \n",
       "662               NaN  \n",
       "663               NaN  \n",
       "\n",
       "[664 rows x 4 columns]"
      ]
     },
     "execution_count": 20,
     "metadata": {},
     "output_type": "execute_result"
    }
   ],
   "source": [
    "import pandas as pd\n",
    "\n",
    "# Read the json file from the direcotory\n",
    "json_df = pd.read_json(\"/workspaces/ImplementingStatisticsWithPython/data/chapter1/prize.json\")\n",
    "\n",
    "# Convert the json data into a dataframe\n",
    "data = json_df[\"prizes\"]\n",
    "prize_df = pd.json_normalize(data)\n",
    "\n",
    "# Display the dataframe\n",
    "prize_df"
   ]
  },
  {
   "cell_type": "markdown",
   "id": "f6950580-d412-47f6-a319-228b0154bbfa",
   "metadata": {},
   "source": [
    "**Tutorial 10.1. Read and view a dataset in CSV format using `read_csv()`**\n",
    "<br>\n",
    "For this we converted the `https://github.com/jdorfman/awesome-json-datasets#nobel-prize` json file into CSV."
   ]
  },
  {
   "cell_type": "code",
   "execution_count": 21,
   "id": "9aa38e6d-b08d-4573-a688-7391bc1ee57c",
   "metadata": {},
   "outputs": [
    {
     "data": {
      "text/html": [
       "<div>\n",
       "<style scoped>\n",
       "    .dataframe tbody tr th:only-of-type {\n",
       "        vertical-align: middle;\n",
       "    }\n",
       "\n",
       "    .dataframe tbody tr th {\n",
       "        vertical-align: top;\n",
       "    }\n",
       "\n",
       "    .dataframe thead th {\n",
       "        text-align: right;\n",
       "    }\n",
       "</style>\n",
       "<table border=\"1\" class=\"dataframe\">\n",
       "  <thead>\n",
       "    <tr style=\"text-align: right;\">\n",
       "      <th></th>\n",
       "      <th>year</th>\n",
       "      <th>category</th>\n",
       "      <th>overallMotivation</th>\n",
       "      <th>laureates__id</th>\n",
       "      <th>laureates__firstname</th>\n",
       "      <th>laureates__surname</th>\n",
       "      <th>laureates__motivation</th>\n",
       "      <th>laureates__share</th>\n",
       "    </tr>\n",
       "  </thead>\n",
       "  <tbody>\n",
       "    <tr>\n",
       "      <th>0</th>\n",
       "      <td>2022.0</td>\n",
       "      <td>chemistry</td>\n",
       "      <td>NaN</td>\n",
       "      <td>1015.0</td>\n",
       "      <td>Carolyn</td>\n",
       "      <td>Bertozzi</td>\n",
       "      <td>\"for the development of click chemistry and bi...</td>\n",
       "      <td>3.0</td>\n",
       "    </tr>\n",
       "    <tr>\n",
       "      <th>1</th>\n",
       "      <td>NaN</td>\n",
       "      <td>NaN</td>\n",
       "      <td>NaN</td>\n",
       "      <td>1016.0</td>\n",
       "      <td>Morten</td>\n",
       "      <td>Meldal</td>\n",
       "      <td>\"for the development of click chemistry and bi...</td>\n",
       "      <td>3.0</td>\n",
       "    </tr>\n",
       "    <tr>\n",
       "      <th>2</th>\n",
       "      <td>NaN</td>\n",
       "      <td>NaN</td>\n",
       "      <td>NaN</td>\n",
       "      <td>743.0</td>\n",
       "      <td>Barry</td>\n",
       "      <td>Sharpless</td>\n",
       "      <td>\"for the development of click chemistry and bi...</td>\n",
       "      <td>3.0</td>\n",
       "    </tr>\n",
       "    <tr>\n",
       "      <th>3</th>\n",
       "      <td>2022.0</td>\n",
       "      <td>economics</td>\n",
       "      <td>NaN</td>\n",
       "      <td>1021.0</td>\n",
       "      <td>Ben</td>\n",
       "      <td>Bernanke</td>\n",
       "      <td>\"for research on banks and financial crises\"</td>\n",
       "      <td>3.0</td>\n",
       "    </tr>\n",
       "    <tr>\n",
       "      <th>4</th>\n",
       "      <td>NaN</td>\n",
       "      <td>NaN</td>\n",
       "      <td>NaN</td>\n",
       "      <td>1022.0</td>\n",
       "      <td>Douglas</td>\n",
       "      <td>Diamond</td>\n",
       "      <td>\"for research on banks and financial crises\"</td>\n",
       "      <td>3.0</td>\n",
       "    </tr>\n",
       "    <tr>\n",
       "      <th>...</th>\n",
       "      <td>...</td>\n",
       "      <td>...</td>\n",
       "      <td>...</td>\n",
       "      <td>...</td>\n",
       "      <td>...</td>\n",
       "      <td>...</td>\n",
       "      <td>...</td>\n",
       "      <td>...</td>\n",
       "    </tr>\n",
       "    <tr>\n",
       "      <th>1033</th>\n",
       "      <td>1901.0</td>\n",
       "      <td>literature</td>\n",
       "      <td>NaN</td>\n",
       "      <td>569.0</td>\n",
       "      <td>Sully</td>\n",
       "      <td>Prudhomme</td>\n",
       "      <td>\"in special recognition of his poetic composit...</td>\n",
       "      <td>1.0</td>\n",
       "    </tr>\n",
       "    <tr>\n",
       "      <th>1034</th>\n",
       "      <td>1901.0</td>\n",
       "      <td>peace</td>\n",
       "      <td>NaN</td>\n",
       "      <td>462.0</td>\n",
       "      <td>Henry</td>\n",
       "      <td>Dunant</td>\n",
       "      <td>\"for his humanitarian efforts to help wounded ...</td>\n",
       "      <td>2.0</td>\n",
       "    </tr>\n",
       "    <tr>\n",
       "      <th>1035</th>\n",
       "      <td>NaN</td>\n",
       "      <td>NaN</td>\n",
       "      <td>NaN</td>\n",
       "      <td>463.0</td>\n",
       "      <td>Frédéric</td>\n",
       "      <td>Passy</td>\n",
       "      <td>\"for his lifelong work for international peace...</td>\n",
       "      <td>2.0</td>\n",
       "    </tr>\n",
       "    <tr>\n",
       "      <th>1036</th>\n",
       "      <td>1901.0</td>\n",
       "      <td>physics</td>\n",
       "      <td>NaN</td>\n",
       "      <td>1.0</td>\n",
       "      <td>Wilhelm Conrad</td>\n",
       "      <td>Röntgen</td>\n",
       "      <td>\"in recognition of the extraordinary services ...</td>\n",
       "      <td>1.0</td>\n",
       "    </tr>\n",
       "    <tr>\n",
       "      <th>1037</th>\n",
       "      <td>1901.0</td>\n",
       "      <td>medicine</td>\n",
       "      <td>NaN</td>\n",
       "      <td>293.0</td>\n",
       "      <td>Emil</td>\n",
       "      <td>von Behring</td>\n",
       "      <td>\"for his work on serum therapy, especially its...</td>\n",
       "      <td>1.0</td>\n",
       "    </tr>\n",
       "  </tbody>\n",
       "</table>\n",
       "<p>1038 rows × 8 columns</p>\n",
       "</div>"
      ],
      "text/plain": [
       "        year    category overallMotivation  laureates__id  \\\n",
       "0     2022.0   chemistry               NaN         1015.0   \n",
       "1        NaN         NaN               NaN         1016.0   \n",
       "2        NaN         NaN               NaN          743.0   \n",
       "3     2022.0   economics               NaN         1021.0   \n",
       "4        NaN         NaN               NaN         1022.0   \n",
       "...      ...         ...               ...            ...   \n",
       "1033  1901.0  literature               NaN          569.0   \n",
       "1034  1901.0       peace               NaN          462.0   \n",
       "1035     NaN         NaN               NaN          463.0   \n",
       "1036  1901.0     physics               NaN            1.0   \n",
       "1037  1901.0    medicine               NaN          293.0   \n",
       "\n",
       "     laureates__firstname laureates__surname  \\\n",
       "0                 Carolyn           Bertozzi   \n",
       "1                  Morten             Meldal   \n",
       "2                   Barry          Sharpless   \n",
       "3                     Ben           Bernanke   \n",
       "4                 Douglas            Diamond   \n",
       "...                   ...                ...   \n",
       "1033                Sully          Prudhomme   \n",
       "1034                Henry             Dunant   \n",
       "1035             Frédéric              Passy   \n",
       "1036       Wilhelm Conrad            Röntgen   \n",
       "1037                 Emil        von Behring   \n",
       "\n",
       "                                  laureates__motivation  laureates__share  \n",
       "0     \"for the development of click chemistry and bi...               3.0  \n",
       "1     \"for the development of click chemistry and bi...               3.0  \n",
       "2     \"for the development of click chemistry and bi...               3.0  \n",
       "3          \"for research on banks and financial crises\"               3.0  \n",
       "4          \"for research on banks and financial crises\"               3.0  \n",
       "...                                                 ...               ...  \n",
       "1033  \"in special recognition of his poetic composit...               1.0  \n",
       "1034  \"for his humanitarian efforts to help wounded ...               2.0  \n",
       "1035  \"for his lifelong work for international peace...               2.0  \n",
       "1036  \"in recognition of the extraordinary services ...               1.0  \n",
       "1037  \"for his work on serum therapy, especially its...               1.0  \n",
       "\n",
       "[1038 rows x 8 columns]"
      ]
     },
     "execution_count": 21,
     "metadata": {},
     "output_type": "execute_result"
    }
   ],
   "source": [
    "import pandas as pd\n",
    "\n",
    "# Read the json file from the direcotory\n",
    "prize_csv_df = pd.read_csv(\"/workspaces/ImplementingStatisticsWithPython/data/chapter1/prize.csv\")\n",
    "\n",
    "\n",
    "# Display the dataframe\n",
    "prize_csv_df"
   ]
  },
  {
   "cell_type": "markdown",
   "id": "3d426fac-3a6f-4956-b6db-e73e528f5c27",
   "metadata": {},
   "source": [
    "**Tutorial 10.2: Lets Use `info()` and `head()` to know what type of data it contains**"
   ]
  },
  {
   "cell_type": "code",
   "execution_count": 59,
   "id": "3a318133-886e-4fbb-b97d-1a3d1e856092",
   "metadata": {},
   "outputs": [
    {
     "name": "stdout",
     "output_type": "stream",
     "text": [
      "<class 'pandas.core.frame.DataFrame'>\n",
      "RangeIndex: 664 entries, 0 to 663\n",
      "Data columns (total 4 columns):\n",
      " #   Column             Non-Null Count  Dtype \n",
      "---  ------             --------------  ----- \n",
      " 0   year               664 non-null    object\n",
      " 1   category           664 non-null    object\n",
      " 2   laureates          615 non-null    object\n",
      " 3   overallMotivation  58 non-null     object\n",
      "dtypes: object(4)\n",
      "memory usage: 20.9+ KB\n"
     ]
    },
    {
     "data": {
      "text/html": [
       "<div>\n",
       "<style scoped>\n",
       "    .dataframe tbody tr th:only-of-type {\n",
       "        vertical-align: middle;\n",
       "    }\n",
       "\n",
       "    .dataframe tbody tr th {\n",
       "        vertical-align: top;\n",
       "    }\n",
       "\n",
       "    .dataframe thead th {\n",
       "        text-align: right;\n",
       "    }\n",
       "</style>\n",
       "<table border=\"1\" class=\"dataframe\">\n",
       "  <thead>\n",
       "    <tr style=\"text-align: right;\">\n",
       "      <th></th>\n",
       "      <th>year</th>\n",
       "      <th>category</th>\n",
       "      <th>laureates</th>\n",
       "      <th>overallMotivation</th>\n",
       "    </tr>\n",
       "  </thead>\n",
       "  <tbody>\n",
       "    <tr>\n",
       "      <th>0</th>\n",
       "      <td>2022</td>\n",
       "      <td>chemistry</td>\n",
       "      <td>[{'id': '1015', 'firstname': 'Carolyn', 'surna...</td>\n",
       "      <td>NaN</td>\n",
       "    </tr>\n",
       "    <tr>\n",
       "      <th>1</th>\n",
       "      <td>2022</td>\n",
       "      <td>economics</td>\n",
       "      <td>[{'id': '1021', 'firstname': 'Ben', 'surname':...</td>\n",
       "      <td>NaN</td>\n",
       "    </tr>\n",
       "    <tr>\n",
       "      <th>2</th>\n",
       "      <td>2022</td>\n",
       "      <td>literature</td>\n",
       "      <td>[{'id': '1017', 'firstname': 'Annie', 'surname...</td>\n",
       "      <td>NaN</td>\n",
       "    </tr>\n",
       "    <tr>\n",
       "      <th>3</th>\n",
       "      <td>2022</td>\n",
       "      <td>peace</td>\n",
       "      <td>[{'id': '1018', 'firstname': 'Ales', 'surname'...</td>\n",
       "      <td>NaN</td>\n",
       "    </tr>\n",
       "    <tr>\n",
       "      <th>4</th>\n",
       "      <td>2022</td>\n",
       "      <td>physics</td>\n",
       "      <td>[{'id': '1012', 'firstname': 'Alain', 'surname...</td>\n",
       "      <td>NaN</td>\n",
       "    </tr>\n",
       "  </tbody>\n",
       "</table>\n",
       "</div>"
      ],
      "text/plain": [
       "   year    category                                          laureates  \\\n",
       "0  2022   chemistry  [{'id': '1015', 'firstname': 'Carolyn', 'surna...   \n",
       "1  2022   economics  [{'id': '1021', 'firstname': 'Ben', 'surname':...   \n",
       "2  2022  literature  [{'id': '1017', 'firstname': 'Annie', 'surname...   \n",
       "3  2022       peace  [{'id': '1018', 'firstname': 'Ales', 'surname'...   \n",
       "4  2022     physics  [{'id': '1012', 'firstname': 'Alain', 'surname...   \n",
       "\n",
       "  overallMotivation  \n",
       "0               NaN  \n",
       "1               NaN  \n",
       "2               NaN  \n",
       "3               NaN  \n",
       "4               NaN  "
      ]
     },
     "execution_count": 59,
     "metadata": {},
     "output_type": "execute_result"
    }
   ],
   "source": [
    "prize_df.info()\n",
    "prize_df.head()"
   ]
  },
  {
   "cell_type": "markdown",
   "id": "fcb45304-cb3a-4871-a7aa-29258f301269",
   "metadata": {},
   "source": [
    "***Alternatively the data for `Example 10` can directly be accessed be sending the request as shown in snipped below***"
   ]
  },
  {
   "cell_type": "code",
   "execution_count": 9,
   "id": "23b2ead1-bf79-457a-9abe-4a2c6185edb8",
   "metadata": {},
   "outputs": [
    {
     "data": {
      "text/html": [
       "<div>\n",
       "<style scoped>\n",
       "    .dataframe tbody tr th:only-of-type {\n",
       "        vertical-align: middle;\n",
       "    }\n",
       "\n",
       "    .dataframe tbody tr th {\n",
       "        vertical-align: top;\n",
       "    }\n",
       "\n",
       "    .dataframe thead th {\n",
       "        text-align: right;\n",
       "    }\n",
       "</style>\n",
       "<table border=\"1\" class=\"dataframe\">\n",
       "  <thead>\n",
       "    <tr style=\"text-align: right;\">\n",
       "      <th></th>\n",
       "      <th>year</th>\n",
       "      <th>category</th>\n",
       "      <th>laureates</th>\n",
       "      <th>overallMotivation</th>\n",
       "    </tr>\n",
       "  </thead>\n",
       "  <tbody>\n",
       "    <tr>\n",
       "      <th>0</th>\n",
       "      <td>2022</td>\n",
       "      <td>chemistry</td>\n",
       "      <td>[{'id': '1015', 'firstname': 'Carolyn', 'surna...</td>\n",
       "      <td>NaN</td>\n",
       "    </tr>\n",
       "    <tr>\n",
       "      <th>1</th>\n",
       "      <td>2022</td>\n",
       "      <td>economics</td>\n",
       "      <td>[{'id': '1021', 'firstname': 'Ben', 'surname':...</td>\n",
       "      <td>NaN</td>\n",
       "    </tr>\n",
       "    <tr>\n",
       "      <th>2</th>\n",
       "      <td>2022</td>\n",
       "      <td>literature</td>\n",
       "      <td>[{'id': '1017', 'firstname': 'Annie', 'surname...</td>\n",
       "      <td>NaN</td>\n",
       "    </tr>\n",
       "    <tr>\n",
       "      <th>3</th>\n",
       "      <td>2022</td>\n",
       "      <td>peace</td>\n",
       "      <td>[{'id': '1018', 'firstname': 'Ales', 'surname'...</td>\n",
       "      <td>NaN</td>\n",
       "    </tr>\n",
       "    <tr>\n",
       "      <th>4</th>\n",
       "      <td>2022</td>\n",
       "      <td>physics</td>\n",
       "      <td>[{'id': '1012', 'firstname': 'Alain', 'surname...</td>\n",
       "      <td>NaN</td>\n",
       "    </tr>\n",
       "    <tr>\n",
       "      <th>...</th>\n",
       "      <td>...</td>\n",
       "      <td>...</td>\n",
       "      <td>...</td>\n",
       "      <td>...</td>\n",
       "    </tr>\n",
       "    <tr>\n",
       "      <th>659</th>\n",
       "      <td>1901</td>\n",
       "      <td>chemistry</td>\n",
       "      <td>[{'id': '160', 'firstname': 'Jacobus H.', 'sur...</td>\n",
       "      <td>NaN</td>\n",
       "    </tr>\n",
       "    <tr>\n",
       "      <th>660</th>\n",
       "      <td>1901</td>\n",
       "      <td>literature</td>\n",
       "      <td>[{'id': '569', 'firstname': 'Sully', 'surname'...</td>\n",
       "      <td>NaN</td>\n",
       "    </tr>\n",
       "    <tr>\n",
       "      <th>661</th>\n",
       "      <td>1901</td>\n",
       "      <td>peace</td>\n",
       "      <td>[{'id': '462', 'firstname': 'Henry', 'surname'...</td>\n",
       "      <td>NaN</td>\n",
       "    </tr>\n",
       "    <tr>\n",
       "      <th>662</th>\n",
       "      <td>1901</td>\n",
       "      <td>physics</td>\n",
       "      <td>[{'id': '1', 'firstname': 'Wilhelm Conrad', 's...</td>\n",
       "      <td>NaN</td>\n",
       "    </tr>\n",
       "    <tr>\n",
       "      <th>663</th>\n",
       "      <td>1901</td>\n",
       "      <td>medicine</td>\n",
       "      <td>[{'id': '293', 'firstname': 'Emil', 'surname':...</td>\n",
       "      <td>NaN</td>\n",
       "    </tr>\n",
       "  </tbody>\n",
       "</table>\n",
       "<p>664 rows × 4 columns</p>\n",
       "</div>"
      ],
      "text/plain": [
       "     year    category                                          laureates  \\\n",
       "0    2022   chemistry  [{'id': '1015', 'firstname': 'Carolyn', 'surna...   \n",
       "1    2022   economics  [{'id': '1021', 'firstname': 'Ben', 'surname':...   \n",
       "2    2022  literature  [{'id': '1017', 'firstname': 'Annie', 'surname...   \n",
       "3    2022       peace  [{'id': '1018', 'firstname': 'Ales', 'surname'...   \n",
       "4    2022     physics  [{'id': '1012', 'firstname': 'Alain', 'surname...   \n",
       "..    ...         ...                                                ...   \n",
       "659  1901   chemistry  [{'id': '160', 'firstname': 'Jacobus H.', 'sur...   \n",
       "660  1901  literature  [{'id': '569', 'firstname': 'Sully', 'surname'...   \n",
       "661  1901       peace  [{'id': '462', 'firstname': 'Henry', 'surname'...   \n",
       "662  1901     physics  [{'id': '1', 'firstname': 'Wilhelm Conrad', 's...   \n",
       "663  1901    medicine  [{'id': '293', 'firstname': 'Emil', 'surname':...   \n",
       "\n",
       "    overallMotivation  \n",
       "0                 NaN  \n",
       "1                 NaN  \n",
       "2                 NaN  \n",
       "3                 NaN  \n",
       "4                 NaN  \n",
       "..                ...  \n",
       "659               NaN  \n",
       "660               NaN  \n",
       "661               NaN  \n",
       "662               NaN  \n",
       "663               NaN  \n",
       "\n",
       "[664 rows x 4 columns]"
      ]
     },
     "execution_count": 9,
     "metadata": {},
     "output_type": "execute_result"
    }
   ],
   "source": [
    "import pandas as pd\n",
    "import requests\n",
    "\n",
    "# Get the json data from the url\n",
    "response = requests.get(\"https://api.nobelprize.org/v1/prize.json\")\n",
    "data = response.json()\n",
    "\n",
    "# Convert the json data into a dataframe\n",
    "prize_json_df = pd.json_normalize(data, record_path=\"prizes\")\n",
    "prize_json_df"
   ]
  },
  {
   "cell_type": "markdown",
   "id": "6e8d22f1-a4a1-4681-97d2-b060a665c977",
   "metadata": {},
   "source": [
    "**Tutorial 10.3. Use numpy to read files like CSV files or JSON files**"
   ]
  },
  {
   "cell_type": "markdown",
   "id": "7f94520b-6f57-4c9b-9638-148b80a51798",
   "metadata": {},
   "source": [
    "Most common ways are using `numpy.loadtxt()` and using `numpy.genfromtxt()`. `numpy.loadtxt()` assumes that the file has no missing values, no comments, no headers, \n",
    "and uses whitespace as the delimiter by default. You can change the delimiter to a comma by passing delimiter=‘,’ as a parameter. You can also specify the data type of the array by passing dtype=… as a parameter.\n",
    "Here CSV file has one header row which is string so we use `skiprows = 1` this skip the first row of the CSV file and load the rest of the data as a NumPy array.\n",
    "<br>\n",
    "Tutorial 10.3 uses `Diabetes Dataset` from Kaggle, which is made available by the `National Institute of Diabetes and Digestive and Kidney Diseases`, USA under the Creative Commons Attribution 0.0 International license (CC0: Public Domain). (Source: https://www.kaggle.com/datasets/mathchi/diabetes-data-set?select=diabetes.csv)"
   ]
  },
  {
   "cell_type": "code",
   "execution_count": 7,
   "id": "d360c1ac-29d4-4aa4-be3c-d2a85fd423af",
   "metadata": {},
   "outputs": [
    {
     "name": "stdout",
     "output_type": "stream",
     "text": [
      "[[  6.    148.     72.    ...   0.627  50.      1.   ]\n",
      " [  1.     85.     66.    ...   0.351  31.      0.   ]\n",
      " [  8.    183.     64.    ...   0.672  32.      1.   ]\n",
      " ...\n",
      " [  5.    121.     72.    ...   0.245  30.      0.   ]\n",
      " [  1.    126.     60.    ...   0.349  47.      1.   ]\n",
      " [  1.     93.     70.    ...   0.315  23.      0.   ]]\n"
     ]
    }
   ],
   "source": [
    "import numpy as np \n",
    "arr = np.loadtxt('/workspaces/ImplementingStatisticsWithPython/data/chapter1/diabetes.csv', delimiter=',', skiprows=1) \n",
    "print(arr)"
   ]
  },
  {
   "cell_type": "markdown",
   "id": "98bcc695-2969-466c-a946-7cf67c40772f",
   "metadata": {},
   "source": [
    "The `numpy.genfromtxt()` function can handle missing values, comments, headers, and various delimiters. You can use the missing_values parameter to specify which values to treat as missing, such as NA' or '?\n",
    "You can use the comments parameter to specify which character indicates a comment line, such as #' or `%'. You can use the names parameter to indicate whether the file has a header line with column names. \n",
    "You can use the delimiter parameter to specify which character separates the values in each row, such as ',' or ';'. You can also specify the data type of the array by passing dtype=... as a parameter. \n",
    "For example, if you have a CSV file named diabetes.csv that looks like this"
   ]
  },
  {
   "cell_type": "code",
   "execution_count": null,
   "id": "cd028bb1-afc0-43a6-b98a-78b7550f1bd5",
   "metadata": {},
   "outputs": [],
   "source": [
    "import numpy as np \n",
    "arr = np.genfromtxt('/workspaces/ImplementingStatisticsWithPython/data/chapter1/diabetes.csv', delimiter=',', names=True, missing_values='?', dtype=None) \n",
    "print(arr)"
   ]
  },
  {
   "cell_type": "markdown",
   "id": "1c310c81-0288-47ce-a204-1019c69fcf90",
   "metadata": {},
   "source": [
    "<hr>"
   ]
  },
  {
   "cell_type": "markdown",
   "id": "6565ef7e-4bed-4ace-bd42-a07c292f75ad",
   "metadata": {},
   "source": [
    "## Part 2:\n",
    "4. Univariate, Bivariate and Multivariate data</li>\n",
    "5. Data Sources, Collection Methods, Population and Samples</li>\n",
    "6. Data Quality, Cleaning, Wrangling and Manipulation</li>\n"
   ]
  },
  {
   "cell_type": "markdown",
   "id": "42af1ad2-c59b-436b-a36b-8480137c431e",
   "metadata": {},
   "source": [
    "**Tutorial 4.1.Univariate data and Univariate analysis:**\n",
    "<br> **Select a column/variable/attribute from the CSV dataset and compute its mean, median, mode range, standard deviation, frequency or distribution of variables.**\n",
    "<br> Dataset used: `Diabetes Dataset`"
   ]
  },
  {
   "cell_type": "code",
   "execution_count": null,
   "id": "75c981cd-d5d5-4d14-ac9b-7cb45204a5e9",
   "metadata": {},
   "outputs": [],
   "source": [
    "import pandas as pd\n",
    "from IPython.display import display\n",
    "diabities_df = pd.read_csv('/workspaces/ImplementingStatisticsWithPython/data/chapter1/diabetes.csv')\n",
    "#To view all the column names\n",
    "print(diabities_df.columns)\n",
    "# Select the column Glucose column as a DataFrame from diabities_df DataFrame\n",
    "display(diabities_df[['Glucose']])\n",
    "# describe() gives the mean,standard deviation\n",
    "print(diabities_df[['Glucose']].describe())"
   ]
  },
  {
   "cell_type": "markdown",
   "id": "a8ad18a1-eda6-413b-9f54-af94af11f68b",
   "metadata": {},
   "source": [
    "***Tutorial 4.1.1. Further To get the median, mode range, frequency or distribution of variables***"
   ]
  },
  {
   "cell_type": "code",
   "execution_count": null,
   "id": "4b97a465-562c-4eff-a098-d185c3d7bb64",
   "metadata": {},
   "outputs": [],
   "source": [
    "# Use mode() for computing most frequest value i.e, mode\n",
    "print(diabities_df[['Glucose']].mode())\n",
    "\n",
    "# To get range simply subtract DataFrame maximum value by the DataFrame minimum value. Use df.max() and df.min() for maximum and minimum value\n",
    "mode_range = diabities_df[['Glucose']].max() - diabities_df[['Glucose']].min()\n",
    "print(mode_range)\n",
    "\n",
    "# For frequency or distribution of variables use value_counts()\n",
    "diabities_df[['Glucose']].value_counts()"
   ]
  },
  {
   "cell_type": "markdown",
   "id": "4ea3a36c-4f4f-459e-831d-657c0a45e02e",
   "metadata": {},
   "source": [
    "**Tutorial 4.2.Bivariate data and Bivariate analysis:**\n",
    "<br> **Select two columns/variables/attributes from the CSV dataset and describe them.**\n",
    "<br> Dataset used: `Diabetes Dataset`"
   ]
  },
  {
   "cell_type": "code",
   "execution_count": null,
   "id": "4d233d4b-104a-41a9-9e00-0bcbaac24f1d",
   "metadata": {},
   "outputs": [],
   "source": [
    "import pandas as pd\n",
    "from IPython.display import display\n",
    "diabities_df = pd.read_csv('/workspaces/ImplementingStatisticsWithPython/data/chapter1/diabetes.csv')\n",
    "#To view all the column names\n",
    "print(diabities_df.columns)\n",
    "# Select two column Glucose column as a DataFrame from diabities_df DataFrame\n",
    "display(diabities_df[['Glucose','Age']])\n",
    "\n",
    "# describe() gives the mean,standard deviation\n",
    "print(diabities_df[['Glucose','Age']].describe())\n",
    "\n",
    "# Use mode() for computing most frequest value i.e, mode\n",
    "print(diabities_df[['Glucose']].mode())\n",
    "\n",
    "# To get range simply subtract DataFrame maximum value by the DataFrame minimum value. Use df.max() and df.min() for maximum and minimum value\n",
    "mode_range = diabities_df[['Glucose']].max() - diabities_df[['Glucose']].min()\n",
    "print(mode_range)\n",
    "\n",
    "# For frequency or distribution of variables use value_counts()\n",
    "diabities_df[['Glucose']].value_counts()"
   ]
  },
  {
   "cell_type": "markdown",
   "id": "71f65303-c1b3-424b-b84f-9c07935ddf0c",
   "metadata": {},
   "source": [
    "**Alternatively two or more columns can be accessed using `loc[row_start:row:stop,column_start:column:stop]` Or also through column index via slicing using `iloc[row_start:row:stop,column_start:column:stop]`**"
   ]
  },
  {
   "cell_type": "code",
   "execution_count": null,
   "id": "b4e278a3-bf83-4201-96bc-f00438612cb5",
   "metadata": {},
   "outputs": [],
   "source": [
    "# Using loc\n",
    "diabities_df.loc[:, ['Glucose','Age']]\n",
    "\n",
    "# Using iloc, column index and slicing\n",
    "diabities_df.iloc[:,0:2]"
   ]
  },
  {
   "cell_type": "markdown",
   "id": "49b466ee-acf9-4818-bece-e7182a7dfd75",
   "metadata": {},
   "source": [
    "***Tutorial 4.2.1. Further, compute correlation between two variables.***\n",
    "To compute the correlation among only two columns, such as `Glucose` and `Age`, you can use columns along with `corr()`"
   ]
  },
  {
   "cell_type": "code",
   "execution_count": null,
   "id": "b8e04cba-4a88-40d6-80aa-082747a86eea",
   "metadata": {},
   "outputs": [],
   "source": [
    "diabities_df['Glucose'].corr(diabities_df['Age'])"
   ]
  },
  {
   "cell_type": "markdown",
   "id": "66bdb35a-ae64-4063-8695-6824519df0ad",
   "metadata": {},
   "source": [
    "If you want to compute the correlation using a different type, such as 'pearson', 'kendall', or 'spearman' then specify `method ='__'` in `corr()`"
   ]
  },
  {
   "cell_type": "code",
   "execution_count": null,
   "id": "d124b4a7-fa1b-40b9-8a25-1c8cedac254f",
   "metadata": {},
   "outputs": [],
   "source": [
    "diabities_df['Glucose'].corr(diabities_df['Age'], method='kendall')"
   ]
  },
  {
   "cell_type": "markdown",
   "id": "8bfeee3c-9aeb-4776-936f-1faea1d598ea",
   "metadata": {},
   "source": [
    "**Tutorial 4.3.Multivariate data and Multivariate analysis:\n",
    "Select multiple columns/variables/attributes from the CSV dataset and describe them.**\n",
    "    <br>\n",
    "Dataset used: `Diabetes Dataset`"
   ]
  },
  {
   "cell_type": "code",
   "execution_count": 2,
   "id": "e5b8a9e5-dc87-4129-a960-1e0d729f5b13",
   "metadata": {},
   "outputs": [
    {
     "name": "stdout",
     "output_type": "stream",
     "text": [
      "Index(['Pregnancies', 'Glucose', 'BloodPressure', 'SkinThickness', 'Insulin',\n",
      "       'BMI', 'DiabetesPedigreeFunction', 'Age', 'Outcome'],\n",
      "      dtype='object')\n"
     ]
    },
    {
     "data": {
      "text/html": [
       "<div>\n",
       "<style scoped>\n",
       "    .dataframe tbody tr th:only-of-type {\n",
       "        vertical-align: middle;\n",
       "    }\n",
       "\n",
       "    .dataframe tbody tr th {\n",
       "        vertical-align: top;\n",
       "    }\n",
       "\n",
       "    .dataframe thead th {\n",
       "        text-align: right;\n",
       "    }\n",
       "</style>\n",
       "<table border=\"1\" class=\"dataframe\">\n",
       "  <thead>\n",
       "    <tr style=\"text-align: right;\">\n",
       "      <th></th>\n",
       "      <th>Glucose</th>\n",
       "      <th>BMI</th>\n",
       "      <th>Age</th>\n",
       "      <th>Outcome</th>\n",
       "    </tr>\n",
       "  </thead>\n",
       "  <tbody>\n",
       "    <tr>\n",
       "      <th>0</th>\n",
       "      <td>148</td>\n",
       "      <td>33.6</td>\n",
       "      <td>50</td>\n",
       "      <td>1</td>\n",
       "    </tr>\n",
       "    <tr>\n",
       "      <th>1</th>\n",
       "      <td>85</td>\n",
       "      <td>26.6</td>\n",
       "      <td>31</td>\n",
       "      <td>0</td>\n",
       "    </tr>\n",
       "    <tr>\n",
       "      <th>2</th>\n",
       "      <td>183</td>\n",
       "      <td>23.3</td>\n",
       "      <td>32</td>\n",
       "      <td>1</td>\n",
       "    </tr>\n",
       "    <tr>\n",
       "      <th>3</th>\n",
       "      <td>89</td>\n",
       "      <td>28.1</td>\n",
       "      <td>21</td>\n",
       "      <td>0</td>\n",
       "    </tr>\n",
       "    <tr>\n",
       "      <th>4</th>\n",
       "      <td>137</td>\n",
       "      <td>43.1</td>\n",
       "      <td>33</td>\n",
       "      <td>1</td>\n",
       "    </tr>\n",
       "    <tr>\n",
       "      <th>...</th>\n",
       "      <td>...</td>\n",
       "      <td>...</td>\n",
       "      <td>...</td>\n",
       "      <td>...</td>\n",
       "    </tr>\n",
       "    <tr>\n",
       "      <th>763</th>\n",
       "      <td>101</td>\n",
       "      <td>32.9</td>\n",
       "      <td>63</td>\n",
       "      <td>0</td>\n",
       "    </tr>\n",
       "    <tr>\n",
       "      <th>764</th>\n",
       "      <td>122</td>\n",
       "      <td>36.8</td>\n",
       "      <td>27</td>\n",
       "      <td>0</td>\n",
       "    </tr>\n",
       "    <tr>\n",
       "      <th>765</th>\n",
       "      <td>121</td>\n",
       "      <td>26.2</td>\n",
       "      <td>30</td>\n",
       "      <td>0</td>\n",
       "    </tr>\n",
       "    <tr>\n",
       "      <th>766</th>\n",
       "      <td>126</td>\n",
       "      <td>30.1</td>\n",
       "      <td>47</td>\n",
       "      <td>1</td>\n",
       "    </tr>\n",
       "    <tr>\n",
       "      <th>767</th>\n",
       "      <td>93</td>\n",
       "      <td>30.4</td>\n",
       "      <td>23</td>\n",
       "      <td>0</td>\n",
       "    </tr>\n",
       "  </tbody>\n",
       "</table>\n",
       "<p>768 rows × 4 columns</p>\n",
       "</div>"
      ],
      "text/plain": [
       "     Glucose   BMI  Age  Outcome\n",
       "0        148  33.6   50        1\n",
       "1         85  26.6   31        0\n",
       "2        183  23.3   32        1\n",
       "3         89  28.1   21        0\n",
       "4        137  43.1   33        1\n",
       "..       ...   ...  ...      ...\n",
       "763      101  32.9   63        0\n",
       "764      122  36.8   27        0\n",
       "765      121  26.2   30        0\n",
       "766      126  30.1   47        1\n",
       "767       93  30.4   23        0\n",
       "\n",
       "[768 rows x 4 columns]"
      ]
     },
     "metadata": {},
     "output_type": "display_data"
    },
    {
     "name": "stdout",
     "output_type": "stream",
     "text": [
      "          Glucose         BMI         Age     Outcome\n",
      "count  768.000000  768.000000  768.000000  768.000000\n",
      "mean   120.894531   31.992578   33.240885    0.348958\n",
      "std     31.972618    7.884160   11.760232    0.476951\n",
      "min      0.000000    0.000000   21.000000    0.000000\n",
      "25%     99.000000   27.300000   24.000000    0.000000\n",
      "50%    117.000000   32.000000   29.000000    0.000000\n",
      "75%    140.250000   36.600000   41.000000    1.000000\n",
      "max    199.000000   67.100000   81.000000    1.000000\n"
     ]
    }
   ],
   "source": [
    "import pandas as pd\n",
    "from IPython.display import display\n",
    "diabities_df = pd.read_csv('/workspaces/ImplementingStatisticsWithPython/data/chapter1/diabetes.csv')\n",
    "#To view all the column names\n",
    "print(diabities_df.columns)\n",
    "# Select the column Glucose column as a DataFrame from diabities_df DataFrame\n",
    "display(diabities_df[['Glucose','BMI', 'Age', 'Outcome']])\n",
    "# describe() gives the mean,standard deviation\n",
    "print(diabities_df[['Glucose','BMI', 'Age', 'Outcome']].describe())"
   ]
  },
  {
   "cell_type": "markdown",
   "id": "8270d7cb-abf8-492e-a1bb-a37934ace84b",
   "metadata": {},
   "source": [
    "***Alternatively to describe the whole DataFrame. Use the DataFrame variable name as below:***"
   ]
  },
  {
   "cell_type": "code",
   "execution_count": null,
   "id": "b9cd2cec-804e-4750-9efc-11e2a4b51b34",
   "metadata": {},
   "outputs": [],
   "source": [
    "# Select the column Glucose column as a DataFrame from diabities_df DataFrame\n",
    "display(diabities_df)\n",
    "# describe() gives the mean,standard deviation\n",
    "print(diabities_df.describe())\n",
    "\n",
    "# Use mode() for computing most frequest value i.e, mode\n",
    "print(diabities_df.mode())\n",
    "\n",
    "# To get range simply subtract DataFrame maximum value by the DataFrame minimum value. Use df.max() and df.min() for maximum and minimum value\n",
    "mode_range = diabities_df.max() - diabities_df.min()\n",
    "print(mode_range)\n",
    "\n",
    "# For frequency or distribution of variables use value_counts()\n",
    "diabities_df.value_counts()"
   ]
  },
  {
   "cell_type": "markdown",
   "id": "561f7abc-8453-48c8-95ad-102774b4ff58",
   "metadata": {},
   "source": [
    "**Tutorial 4.3.1. Further, to compute correlation between all the variables in DataFrame.Use `corr()`**"
   ]
  },
  {
   "cell_type": "code",
   "execution_count": null,
   "id": "39ce3ed6-46a7-4f04-8434-dee3f18df666",
   "metadata": {},
   "outputs": [],
   "source": [
    "diabities_df.corr()"
   ]
  },
  {
   "cell_type": "markdown",
   "id": "b4a20342-bd97-489d-b876-4af0a1d36304",
   "metadata": {},
   "source": [
    "**Tutorial 4.3.2. You can also apply various multivariate analysis techniques, such as:**"
   ]
  },
  {
   "cell_type": "markdown",
   "id": "5177650f-6ec2-49b6-b360-ff5be0c8ba09",
   "metadata": {},
   "source": [
    "<ol>\n",
    "    <li>Principal Component Analysis (PCA): For dimensionality reduction.</li>\n",
    "    Library: Scikit-learn\n",
    "Method: `PCA(n_components=___)` \n",
    "    <li>Multivariate Regression: For analyzing the relationship between multiple dependent and independent variables.</li>\n",
    "    Library: Statsmodels\n",
    "    <br>\n",
    "Method: `statsmodels.api.OLS' for Ordinary Least Squares regression. It allows you to perform multivariate linear regression and analyze the relationship between multiple dependent and independent variables. Regression can also be performed using scikit-learn's `LinearRegression()`, `LogisticRegression()`.  And many more\n",
    "    <li>Cluster Analysis: To group similar data points together based on their characteristics.</li>\n",
    "    Library: Scikit-learn\n",
    "    <br>\n",
    "Method: `sklearn.cluster.KMeans` for K-means clustering. It allows you to group similar data points together based on their characteristics. And many more\n",
    "    <li>Factor Analysis: To identify underlying latent variables that explain the observed variance.</li>\n",
    "    Library: FactorAnalyzer\n",
    "    <br>\n",
    "Method: `FactorAnalyzer` for factor analysis. It allows you to perform exploratory factor analysis (EFA) to identify underlying latent variables that explain the observed variance.\n",
    "    <li>Canonical Correlation Analysis (CCA): To explore the relationship between two sets of variables.</li>\n",
    "    Library: Scikit-learn\n",
    "Method: `sklearn.cross_decomposition.CCA` for Canonical Correlation Analysis. It allows you to explore the relationship between two sets of variables and find linear combinations that maximize the correlation between the two sets.\n",
    "</ol>"
   ]
  },
  {
   "cell_type": "markdown",
   "id": "99def48c-3c19-4b85-a700-3b515c250147",
   "metadata": {},
   "source": [
    "**Tutorial 4.3.2.1. To apply Principle Component Analysis for dimentionality reduction use `PCA(n_components=___)`**\n",
    "<br>\n",
    "PCA reduces the dimensions, it also results in some loss of information as we only retain the most important components. \n",
    "Here, the original 8-dimensional diabetes data set has been transformed into a new 2-dimensional data set. \n",
    "The two new columns represent the first and second principal components, which are linear combinations of the original features. These principal components capture the most significant variation in the data.\n",
    "<br>\n",
    "The columns of the data set \"Pregnancies, Glucose, BloodPressure, SkinThickness, Insulin, BMI, DiabetesPedigreeFunction, Age\" are reduced to 2 principal components because we specify `n_components=2`."
   ]
  },
  {
   "cell_type": "code",
   "execution_count": null,
   "id": "2641b6f6-12e0-49ec-a46b-38d9ea491834",
   "metadata": {},
   "outputs": [],
   "source": [
    "import pandas as pd\n",
    "from sklearn.decomposition import PCA\n",
    "from sklearn.preprocessing import StandardScaler\n",
    "import matplotlib.pyplot as plt\n",
    "\n",
    "# Step 1: Load your dataset into a DataFrame\n",
    "# Assuming you have your dataset stored in a CSV file called \"data.csv\", load it into a Pandas DataFrame.\n",
    "data = pd.read_csv(\"/workspaces/ImplementingStatisticsWithPython/data/chapter1/diabetes.csv\")\n",
    "\n",
    "# Step 2: Separate the features and the outcome variable (if applicable)\n",
    "# If the \"Outcome\" column represents the dependent variable and not a feature, you should separate it from the features.\n",
    "# If it's not the case, you can skip this step.\n",
    "X = data.drop(\"Outcome\", axis=1)  # Features\n",
    "y = data[\"Outcome\"]  # Outcome (if applicable)\n",
    "\n",
    "# Step 3: Standardize the features\n",
    "# PCA is sensitive to the scale of features, so it's crucial to standardize them to have zero mean and unit variance.\n",
    "scaler = StandardScaler()\n",
    "X_scaled = scaler.fit_transform(X)\n",
    "\n",
    "# Step 4: Apply PCA for dimensionality reduction\n",
    "# Create a PCA instance and specify the number of components you want to retain.\n",
    "# If you want to reduce the dataset to a certain number of dimensions (e.g., 2 or 3), set the 'n_components' accordingly.\n",
    "pca = PCA(n_components=2)  # Reduce to 2 principal components\n",
    "X_pca = pca.fit_transform(X_scaled)\n",
    "\n",
    "# Step 5: Explained Variance Ratio\n",
    "# The explained variance ratio gives us an idea of how much information each principal component captures.\n",
    "explained_variance_ratio = pca.explained_variance_ratio_\n",
    "\n",
    "# Step 6: Visualize the Explained Variance Ratio\n",
    "plt.bar(range(len(explained_variance_ratio)), explained_variance_ratio)\n",
    "plt.xlabel(\"Principal Component\")\n",
    "plt.ylabel(\"Explained Variance Ratio\")\n",
    "plt.title(\"Explained Variance Ratio for Each Principal Component\")\n",
    "plt.show()\n",
    "\n",
    "\n",
    "\n",
    "'''Here's what you can infer from these explained variance ratios:\n",
    "\n",
    "The First Principal Component (PC1):\n",
    "\n",
    "With an explained variance of 0.27, PC1 captures the largest portion of the data's variability.\n",
    "It represents the direction in the data space along which the data points exhibit the most significant variation.\n",
    "PC1 is the principal component that explains the most significant patterns in the data.\n",
    "The Second Principal Component (PC2):\n",
    "\n",
    "With an explained variance of 0.23, PC2 captures the second-largest portion of the data's variability.\n",
    "PC2 is orthogonal (uncorrelated) to PC1, meaning it represents a different direction in the data space from PC1.\n",
    "PC2 captures additional patterns that are not explained by PC1 and provides complementary information.\n",
    "Together, PC1 and PC2 account for approximately 50% (0.27 + 0.23) of the total variance.'''\n"
   ]
  },
  {
   "cell_type": "markdown",
   "id": "65806265-9a66-4c80-90fe-0651c7b7ebf1",
   "metadata": {},
   "source": [
    "**Tutorial 5**"
   ]
  },
  {
   "cell_type": "markdown",
   "id": "b450e098-c1c8-4997-b4ef-cf64442b2034",
   "metadata": {},
   "source": [
    "**Tutorial 5.1. Read data from different source and Viewing Stastical and Non Stastical Data**"
   ]
  },
  {
   "cell_type": "markdown",
   "id": "214d0f9f-1b91-4802-bfb2-11940a96e8c5",
   "metadata": {},
   "source": [
    "To access or read data from different sources pandas provides `read_csv(),read_json()`. And `loadtxt()`,`genfromtxt()` in numpy. Also many others. \n",
    "The URL can also be used Like https://api.nobelprize.org/v1/prize.json\n",
    ",These URL should be accessible. As most data server would need authentication to access the server.\n",
    "<br>\n",
    "To read an XML file from a server with numpy, you can use the np.loadtxt() function and pass as an argument a file object created using the `urllib.request.urlopen()` function from the `urllib.request` module. \n",
    "You must also specify the delimiter parameter as '<' or '>' to separate the XML tags from the data values."
   ]
  },
  {
   "cell_type": "code",
   "execution_count": null,
   "id": "4453401c-56b6-4def-afc9-dabbf401007b",
   "metadata": {},
   "outputs": [],
   "source": [
    "import pandas as pd\n",
    "import urllib.request \n",
    "\n",
    "# To access CSV file\n",
    "df = pd.read_csv('url_to_csv_file.csv')\n",
    "\n",
    "# To access JSON data\n",
    "df = pd.read_json('your_file_name.json')\n",
    "\n",
    "# To access and read the XML file using URL\n",
    "file = urllib.request.urlopen('your_url_to_accessible_xml_file.xml') \n",
    "arr = np.loadtxt(file, delimiter='<') \n",
    "print(arr)"
   ]
  },
  {
   "cell_type": "markdown",
   "id": "0b360d25-bb32-4194-bd09-ab42a8f02eed",
   "metadata": {},
   "source": [
    "**Tutorial 5.2. Example to select Population and Sample using random or sklearn modules**"
   ]
  },
  {
   "cell_type": "markdown",
   "id": "e3b5b529-d3de-493e-9a47-3cf45a795c6f",
   "metadata": {},
   "source": [
    "***Tutorial 5.2.1. Using `rand()` to select items from the population.***"
   ]
  },
  {
   "cell_type": "code",
   "execution_count": 1,
   "id": "63419c86-a426-456c-9bf7-aa6a956497bd",
   "metadata": {},
   "outputs": [
    {
     "name": "stdout",
     "output_type": "stream",
     "text": [
      "Sample: [4, 8, 1]\n"
     ]
    }
   ],
   "source": [
    "import random\n",
    "\n",
    "population = [1, 2, 3, 4, 5, 6, 7, 8, 9, 10]\n",
    "sample_size = 3\n",
    "\n",
    "# Randomly select a sample from the population\n",
    "sample = random.sample(population, sample_size)\n",
    "\n",
    "print(\"Sample:\", sample)"
   ]
  },
  {
   "cell_type": "markdown",
   "id": "5aa96cd3-8ce6-41f0-bafc-5e31da56752e",
   "metadata": {},
   "source": [
    "***Tutorial 5.2.2. Using `rand()` to select items from the patient registry data population.***"
   ]
  },
  {
   "cell_type": "code",
   "execution_count": 5,
   "id": "172d429e-7f9c-4e5d-9eb0-6c52986f14d0",
   "metadata": {},
   "outputs": [
    {
     "name": "stdout",
     "output_type": "stream",
     "text": [
      "Random Sample From Patient Registry Population:\n"
     ]
    },
    {
     "data": {
      "text/html": [
       "<div>\n",
       "<style scoped>\n",
       "    .dataframe tbody tr th:only-of-type {\n",
       "        vertical-align: middle;\n",
       "    }\n",
       "\n",
       "    .dataframe tbody tr th {\n",
       "        vertical-align: top;\n",
       "    }\n",
       "\n",
       "    .dataframe thead th {\n",
       "        text-align: right;\n",
       "    }\n",
       "</style>\n",
       "<table border=\"1\" class=\"dataframe\">\n",
       "  <thead>\n",
       "    <tr style=\"text-align: right;\">\n",
       "      <th></th>\n",
       "      <th>Pregnancies</th>\n",
       "      <th>Glucose</th>\n",
       "      <th>BloodPressure</th>\n",
       "      <th>SkinThickness</th>\n",
       "      <th>Insulin</th>\n",
       "      <th>BMI</th>\n",
       "      <th>DiabetesPedigreeFunction</th>\n",
       "      <th>Age</th>\n",
       "      <th>Outcome</th>\n",
       "    </tr>\n",
       "  </thead>\n",
       "  <tbody>\n",
       "    <tr>\n",
       "      <th>132</th>\n",
       "      <td>3</td>\n",
       "      <td>170</td>\n",
       "      <td>64</td>\n",
       "      <td>37</td>\n",
       "      <td>225</td>\n",
       "      <td>34.5</td>\n",
       "      <td>0.356</td>\n",
       "      <td>30</td>\n",
       "      <td>1</td>\n",
       "    </tr>\n",
       "    <tr>\n",
       "      <th>80</th>\n",
       "      <td>3</td>\n",
       "      <td>113</td>\n",
       "      <td>44</td>\n",
       "      <td>13</td>\n",
       "      <td>0</td>\n",
       "      <td>22.4</td>\n",
       "      <td>0.140</td>\n",
       "      <td>22</td>\n",
       "      <td>0</td>\n",
       "    </tr>\n",
       "    <tr>\n",
       "      <th>354</th>\n",
       "      <td>3</td>\n",
       "      <td>90</td>\n",
       "      <td>78</td>\n",
       "      <td>0</td>\n",
       "      <td>0</td>\n",
       "      <td>42.7</td>\n",
       "      <td>0.559</td>\n",
       "      <td>21</td>\n",
       "      <td>0</td>\n",
       "    </tr>\n",
       "    <tr>\n",
       "      <th>543</th>\n",
       "      <td>4</td>\n",
       "      <td>84</td>\n",
       "      <td>90</td>\n",
       "      <td>23</td>\n",
       "      <td>56</td>\n",
       "      <td>39.5</td>\n",
       "      <td>0.159</td>\n",
       "      <td>25</td>\n",
       "      <td>0</td>\n",
       "    </tr>\n",
       "    <tr>\n",
       "      <th>131</th>\n",
       "      <td>9</td>\n",
       "      <td>122</td>\n",
       "      <td>56</td>\n",
       "      <td>0</td>\n",
       "      <td>0</td>\n",
       "      <td>33.3</td>\n",
       "      <td>1.114</td>\n",
       "      <td>33</td>\n",
       "      <td>1</td>\n",
       "    </tr>\n",
       "  </tbody>\n",
       "</table>\n",
       "</div>"
      ],
      "text/plain": [
       "     Pregnancies  Glucose  BloodPressure  SkinThickness  Insulin   BMI  \\\n",
       "132            3      170             64             37      225  34.5   \n",
       "80             3      113             44             13        0  22.4   \n",
       "354            3       90             78              0        0  42.7   \n",
       "543            4       84             90             23       56  39.5   \n",
       "131            9      122             56              0        0  33.3   \n",
       "\n",
       "     DiabetesPedigreeFunction  Age  Outcome  \n",
       "132                     0.356   30        1  \n",
       "80                      0.140   22        0  \n",
       "354                     0.559   21        0  \n",
       "543                     0.159   25        0  \n",
       "131                     1.114   33        1  "
      ]
     },
     "metadata": {},
     "output_type": "display_data"
    }
   ],
   "source": [
    "import pandas as pd\n",
    "from IPython.display import display\n",
    "import random\n",
    "\n",
    "diabities_df = pd.read_csv('/workspaces/ImplementingStatisticsWithPython/data/chapter1/diabetes.csv')\n",
    "\n",
    "diabities_df = pd.DataFrame(diabities_df)\n",
    "\n",
    "# Define the sample size\n",
    "sample_size = 5\n",
    "\n",
    "# Get the number of rows in the DataFrame\n",
    "num_rows = diabities_df.shape[0]\n",
    "\n",
    "# Generate random indices for selecting rows\n",
    "random_indices = random.sample(range(num_rows), sample_size)\n",
    "\n",
    "# Select the rows using the random indices\n",
    "sample_diabities_df = diabities_df.iloc[random_indices]\n",
    "\n",
    "display(sample_diabities_df)"
   ]
  },
  {
   "cell_type": "markdown",
   "id": "207c2c01-d67e-4c9c-9d98-f7b37e879831",
   "metadata": {},
   "source": [
    "Similarly in order to select a sample, the `rand()` can be used to randomly select the unstructured as well as semi-structured datasets or files."
   ]
  },
  {
   "cell_type": "markdown",
   "id": "ea74125f-baa1-4f5a-aacd-5dd416183324",
   "metadata": {},
   "source": [
    "***Tutorial 5.2.3. Using `train_test_split()` to select items from the patient registry data population.***"
   ]
  },
  {
   "cell_type": "code",
   "execution_count": 7,
   "id": "11ace65e-d3c3-4b37-b4d0-31d8117432d1",
   "metadata": {},
   "outputs": [
    {
     "name": "stdout",
     "output_type": "stream",
     "text": [
      "Training Set: [6, 1, 8, 3, 10, 5, 4, 7]\n",
      "Testing Set: [9, 2]\n"
     ]
    }
   ],
   "source": [
    "from sklearn.model_selection import train_test_split\n",
    "\n",
    "population = [1, 2, 3, 4, 5, 6, 7, 8, 9, 10]\n",
    "test_size = 0.2  # Proportion of data to reserve for testing\n",
    "\n",
    "# Split the population into training and testing sets\n",
    "train_set, test_set = train_test_split(population, test_size=test_size, random_state=42)\n",
    "\n",
    "print(\"Training Set:\", train_set)\n",
    "print(\"Testing Set:\", test_set)"
   ]
  },
  {
   "cell_type": "markdown",
   "id": "fcd8b1b3-c387-4de3-9423-161e8829d017",
   "metadata": {},
   "source": [
    "**Tutorial 6. Data Quality, Cleaning, Wrangling and Manipulation**"
   ]
  },
  {
   "cell_type": "markdown",
   "id": "58db9cec-ac95-4236-97d7-05f09a9f283b",
   "metadata": {},
   "source": [
    "***Tutorial 6.1. Checking the Data Quality of CSV File DataFrame***\n",
    "1. Check missing values with `isna()` or `isnull()`\n",
    "2. Check summary with `describe()` or `info()`\n",
    "3. Check shape with `shape`,size with `size` and memory usage with `memory_usage()`\n",
    "4. Check duplicates with `duplicated()` and remove duplicate with `drop_duplicates()`"
   ]
  },
  {
   "cell_type": "code",
   "execution_count": 11,
   "id": "d21e348e-ca11-4944-bb66-939391e51ded",
   "metadata": {},
   "outputs": [
    {
     "name": "stdout",
     "output_type": "stream",
     "text": [
      "Pregnancies                 0\n",
      "Glucose                     0\n",
      "BloodPressure               0\n",
      "SkinThickness               0\n",
      "Insulin                     0\n",
      "BMI                         0\n",
      "DiabetesPedigreeFunction    0\n",
      "Age                         0\n",
      "Outcome                     0\n",
      "dtype: int64\n",
      "       Pregnancies     Glucose  BloodPressure  SkinThickness     Insulin  \\\n",
      "count   768.000000  768.000000     768.000000     768.000000  768.000000   \n",
      "mean      3.845052  120.894531      69.105469      20.536458   79.799479   \n",
      "std       3.369578   31.972618      19.355807      15.952218  115.244002   \n",
      "min       0.000000    0.000000       0.000000       0.000000    0.000000   \n",
      "25%       1.000000   99.000000      62.000000       0.000000    0.000000   \n",
      "50%       3.000000  117.000000      72.000000      23.000000   30.500000   \n",
      "75%       6.000000  140.250000      80.000000      32.000000  127.250000   \n",
      "max      17.000000  199.000000     122.000000      99.000000  846.000000   \n",
      "\n",
      "              BMI  DiabetesPedigreeFunction         Age     Outcome  \n",
      "count  768.000000                768.000000  768.000000  768.000000  \n",
      "mean    31.992578                  0.471876   33.240885    0.348958  \n",
      "std      7.884160                  0.331329   11.760232    0.476951  \n",
      "min      0.000000                  0.078000   21.000000    0.000000  \n",
      "25%     27.300000                  0.243750   24.000000    0.000000  \n",
      "50%     32.000000                  0.372500   29.000000    0.000000  \n",
      "75%     36.600000                  0.626250   41.000000    1.000000  \n",
      "max     67.100000                  2.420000   81.000000    1.000000  \n",
      "Shape: (768, 9) Size: 6912 Memory Usage: Index                        128\n",
      "Pregnancies                 6144\n",
      "Glucose                     6144\n",
      "BloodPressure               6144\n",
      "SkinThickness               6144\n",
      "Insulin                     6144\n",
      "BMI                         6144\n",
      "DiabetesPedigreeFunction    6144\n",
      "Age                         6144\n",
      "Outcome                     6144\n",
      "dtype: int64\n",
      "0      False\n",
      "1      False\n",
      "2      False\n",
      "3      False\n",
      "4      False\n",
      "       ...  \n",
      "763    False\n",
      "764    False\n",
      "765    False\n",
      "766    False\n",
      "767    False\n",
      "Length: 768, dtype: bool\n"
     ]
    }
   ],
   "source": [
    "import pandas as pd\n",
    "\n",
    "diabities_df = pd.read_csv('/workspaces/ImplementingStatisticsWithPython/data/chapter1/diabetes.csv')\n",
    "\n",
    "# Check for missing values using isna() or isnull()\n",
    "print(diabities_df.isna().sum())\n",
    "\n",
    "#Describe the dataframe with describe() or info()\n",
    "print(diabities_df.describe())\n",
    "\n",
    "# Check for the shape,size and memory usage \n",
    "print(f'Shape: {diabities_df.shape} Size: {diabities_df.size} Memory Usage: {diabities_df.memory_usage()}')\n",
    "\n",
    "# Check for the duplicates using duplicated() and drop them if necessary using drop_duplicates()\n",
    "print(diabities_df.duplicated())"
   ]
  },
  {
   "cell_type": "raw",
   "id": "0a382cf6-d677-49f6-9558-3ed3bd264bac",
   "metadata": {},
   "source": [
    "For JSON File DataFrame it is same except use `read_json()`and if necessary normalize the data using `json_normalize`"
   ]
  },
  {
   "cell_type": "markdown",
   "id": "8432dbe0-9f0b-4f40-9662-75cd46645a03",
   "metadata": {},
   "source": [
    "**Tutorial 6.2. Checking the Data Quality of Multiple .txt Files with Textual Information**"
   ]
  },
  {
   "cell_type": "markdown",
   "id": "c4feee8d-cea7-4eb9-b773-8f607b29b4b7",
   "metadata": {},
   "source": [
    "For this we use synthetically transaction narrative data containing unstructured information about the nature of the transaction."
   ]
  },
  {
   "cell_type": "markdown",
   "id": "24011c9f-4a48-41db-af5f-8fd9215ec284",
   "metadata": {},
   "source": [
    "***Tutorial 6.2.1. Textual information in the files can be viewed using the following snippet.***"
   ]
  },
  {
   "cell_type": "code",
   "execution_count": 10,
   "id": "79b86e09-6c30-4e67-a919-cdfe5d36ec49",
   "metadata": {},
   "outputs": [
    {
     "name": "stdout",
     "output_type": "stream",
     "text": [
      "Date: 2023-08-01\n",
      "Merchant: VideoStream Plus\n",
      "Amount: $9.99\n",
      "Description: Monthly renewal of VideoStream Plus subscription.\n",
      "\n",
      "Your subscription to VideoStream Plus has been successfully renewed for $9.99.\n",
      "\n",
      "Date: 2023-08-05\n",
      "Merchant: Bistro Delight\n",
      "Amount: $42.75\n",
      "Description: Dinner with colleagues - celebrating a successful project launch.\n",
      "\n",
      "Thank you for choosing Bistro Delight. Your payment of $42.75 has been processed.\n",
      "\n",
      "Date: 2023-08-03\n",
      "Sender: International Business Ltd.\n",
      "Amount: $5,000.00\n",
      "Description: Payment for goods shipped last month - Invoice #INV12345.\n",
      "\n",
      "You have received an incoming wire transfer of $5,000.00 from International Business Ltd.\n",
      "\n",
      "Date: 2023-08-08\n",
      "Location: ABC Bank ATM - Main Street\n",
      "Amount: $200.00\n",
      "Description: Cash withdrawal for weekend trip expenses.\n",
      "\n",
      "Here is your transaction receipt for the withdrawal of $200.00.\n",
      "\n",
      "Date: 2023-08-07\n",
      "Credit Card: XYZ Bank - Platinum Card\n",
      "Amount: $350.00\n",
      "Description: Payment towards credit card bill for the August statement.\n",
      "\n",
      "Thank you for your payment of $350.00 towards your credit card account.\n",
      "\n"
     ]
    }
   ],
   "source": [
    "import pandas as pd\n",
    "import numpy as np\n",
    "import glob\n",
    "\n",
    "path = \"/workspaces/ImplementingStatisticsWithPython/data/chapter1/TransactionNarrative\"\n",
    "\n",
    "files = glob.glob(path + \"/*.txt\")\n",
    "for file in files: \n",
    "    with open(file, \"r\", encoding=\"utf-8\") as f: \n",
    "        print(f.read())"
   ]
  },
  {
   "cell_type": "markdown",
   "id": "4d591d26-a1fc-45c8-9d24-8dc71aa4f67c",
   "metadata": {},
   "source": [
    "***Tutorial 6.2.2. To check the quality of information in this case we checke `file_size`,`line_count`,`missing_field`***"
   ]
  },
  {
   "cell_type": "code",
   "execution_count": 9,
   "id": "694b7370-8bff-4a2a-80cb-927302575d08",
   "metadata": {},
   "outputs": [
    {
     "name": "stdout",
     "output_type": "stream",
     "text": [
      "Date: 2023-08-01\n",
      "Merchant: VideoStream Plus\n",
      "Amount: $9.99\n",
      "Description: Monthly renewal of VideoStream Plus subscription.\n",
      "\n",
      "Your subscription to VideoStream Plus has been successfully renewed for $9.99.\n",
      "\n",
      "\n",
      "Quality Assessment for /workspaces/ImplementingStatisticsWithPython/data/chapter1/TransactionNarrative/3.txt:\n",
      "File Size: 201 bytes\n",
      "Line Count: 7 lines\n",
      "All required fields present.\n",
      "========================================\n",
      "Date: 2023-08-05\n",
      "Merchant: Bistro Delight\n",
      "Amount: $42.75\n",
      "Description: Dinner with colleagues - celebrating a successful project launch.\n",
      "\n",
      "Thank you for choosing Bistro Delight. Your payment of $42.75 has been processed.\n",
      "\n",
      "\n",
      "Quality Assessment for /workspaces/ImplementingStatisticsWithPython/data/chapter1/TransactionNarrative/1.txt:\n",
      "File Size: 219 bytes\n",
      "Line Count: 7 lines\n",
      "All required fields present.\n",
      "========================================\n",
      "Date: 2023-08-03\n",
      "Sender: International Business Ltd.\n",
      "Amount: $5,000.00\n",
      "Description: Payment for goods shipped last month - Invoice #INV12345.\n",
      "\n",
      "You have received an incoming wire transfer of $5,000.00 from International Business Ltd.\n",
      "\n",
      "\n",
      "Quality Assessment for /workspaces/ImplementingStatisticsWithPython/data/chapter1/TransactionNarrative/4.txt:\n",
      "File Size: 233 bytes\n",
      "Line Count: 7 lines\n",
      "Missing Fields: Merchant:\n",
      "========================================\n",
      "Date: 2023-08-08\n",
      "Location: ABC Bank ATM - Main Street\n",
      "Amount: $200.00\n",
      "Description: Cash withdrawal for weekend trip expenses.\n",
      "\n",
      "Here is your transaction receipt for the withdrawal of $200.00.\n",
      "\n",
      "\n",
      "Quality Assessment for /workspaces/ImplementingStatisticsWithPython/data/chapter1/TransactionNarrative/2.txt:\n",
      "File Size: 191 bytes\n",
      "Line Count: 7 lines\n",
      "Missing Fields: Merchant:\n",
      "========================================\n",
      "Date: 2023-08-07\n",
      "Credit Card: XYZ Bank - Platinum Card\n",
      "Amount: $350.00\n",
      "Description: Payment towards credit card bill for the August statement.\n",
      "\n",
      "Thank you for your payment of $350.00 towards your credit card account.\n",
      "\n",
      "\n",
      "Quality Assessment for /workspaces/ImplementingStatisticsWithPython/data/chapter1/TransactionNarrative/5.txt:\n",
      "File Size: 216 bytes\n",
      "Line Count: 7 lines\n",
      "Missing Fields: Merchant:\n",
      "========================================\n"
     ]
    }
   ],
   "source": [
    "import os\n",
    "import glob\n",
    "\n",
    "def check_file_quality(content):\n",
    "    # Check for presence of required fields\n",
    "    required_fields = ['Date:', 'Merchant:', 'Amount:', 'Description:']\n",
    "    missing_fields = [field for field in required_fields if field not in content]\n",
    "\n",
    "    # Calculate file size\n",
    "    file_size = len(content.encode('utf-8'))\n",
    "\n",
    "    # Count lines in the content\n",
    "    line_count = content.count('\\n') + 1\n",
    "\n",
    "    # Return quality assessment\n",
    "    quality_assessment = {\n",
    "        \"file_name\": file,\n",
    "        \"file_size_bytes\": file_size,\n",
    "        \"line_count\": line_count,\n",
    "        \"missing_fields\": missing_fields\n",
    "    }\n",
    "    return quality_assessment\n",
    "\n",
    "path = \"/workspaces/ImplementingStatisticsWithPython/data/chapter1/TransactionNarrative\"\n",
    "files = glob.glob(path + \"/*.txt\")\n",
    "\n",
    "for file in files:\n",
    "    with open(file, \"r\", encoding=\"utf-8\") as f:\n",
    "        content = f.read()\n",
    "        print(content)\n",
    "        \n",
    "        quality_result = check_file_quality(content)\n",
    "        \n",
    "        print(f\"\\nQuality Assessment for {quality_result['file_name']}:\")\n",
    "        print(f\"File Size: {quality_result['file_size_bytes']} bytes\")\n",
    "        print(f\"Line Count: {quality_result['line_count']} lines\")\n",
    "        \n",
    "        if quality_result['missing_fields']:\n",
    "            print(\"Missing Fields:\", ', '.join(quality_result['missing_fields']))\n",
    "        else:\n",
    "            print(\"All required fields present.\")\n",
    "        \n",
    "        print(\"=\" * 40)\n"
   ]
  },
  {
   "cell_type": "markdown",
   "id": "daa7c8d5-2492-4613-9da7-5a2d9d23fd8e",
   "metadata": {},
   "source": [
    "***Tutorial 6.3. Cleaning the Data***"
   ]
  },
  {
   "cell_type": "markdown",
   "id": "acaf1662-5e43-4fdb-9b4f-d4b25463e9a4",
   "metadata": {},
   "source": [
    "***Tutorial 6.3.1. Finding the missing value and dropping it***\n",
    "<br>\n",
    "Lets check diabities and prize dataset csv file for null values and drop the null ones"
   ]
  },
  {
   "cell_type": "code",
   "execution_count": 30,
   "id": "fc05c502-79e1-4800-ba1b-1e24601ef2c4",
   "metadata": {},
   "outputs": [
    {
     "name": "stdout",
     "output_type": "stream",
     "text": [
      "year                     374\n",
      "category                 374\n",
      "overallMotivation        980\n",
      "laureates__id             49\n",
      "laureates__firstname      50\n",
      "laureates__surname        82\n",
      "laureates__motivation     49\n",
      "laureates__share          49\n",
      "dtype: int64\n",
      "Pregnancies                 0\n",
      "Glucose                     0\n",
      "BloodPressure               0\n",
      "SkinThickness               0\n",
      "Insulin                     0\n",
      "BMI                         0\n",
      "DiabetesPedigreeFunction    0\n",
      "Age                         0\n",
      "Outcome                     0\n",
      "dtype: int64\n",
      "\n",
      " \n",
      " **** After droping the null values ****\n"
     ]
    },
    {
     "data": {
      "text/html": [
       "<div>\n",
       "<style scoped>\n",
       "    .dataframe tbody tr th:only-of-type {\n",
       "        vertical-align: middle;\n",
       "    }\n",
       "\n",
       "    .dataframe tbody tr th {\n",
       "        vertical-align: top;\n",
       "    }\n",
       "\n",
       "    .dataframe thead th {\n",
       "        text-align: right;\n",
       "    }\n",
       "</style>\n",
       "<table border=\"1\" class=\"dataframe\">\n",
       "  <thead>\n",
       "    <tr style=\"text-align: right;\">\n",
       "      <th></th>\n",
       "      <th>year</th>\n",
       "      <th>category</th>\n",
       "      <th>overallMotivation</th>\n",
       "      <th>laureates__id</th>\n",
       "      <th>laureates__firstname</th>\n",
       "      <th>laureates__surname</th>\n",
       "      <th>laureates__motivation</th>\n",
       "      <th>laureates__share</th>\n",
       "    </tr>\n",
       "  </thead>\n",
       "  <tbody>\n",
       "    <tr>\n",
       "      <th>22</th>\n",
       "      <td>2021.0</td>\n",
       "      <td>physics</td>\n",
       "      <td>\"for groundbreaking contributions to our under...</td>\n",
       "      <td>999.0</td>\n",
       "      <td>Syukuro</td>\n",
       "      <td>Manabe</td>\n",
       "      <td>\"for the physical modelling of Earth’s climate...</td>\n",
       "      <td>4.0</td>\n",
       "    </tr>\n",
       "    <tr>\n",
       "      <th>47</th>\n",
       "      <td>2019.0</td>\n",
       "      <td>physics</td>\n",
       "      <td>\"for contributions to our understanding of the...</td>\n",
       "      <td>973.0</td>\n",
       "      <td>James</td>\n",
       "      <td>Peebles</td>\n",
       "      <td>\"for theoretical discoveries in physical cosmo...</td>\n",
       "      <td>2.0</td>\n",
       "    </tr>\n",
       "    <tr>\n",
       "      <th>61</th>\n",
       "      <td>2018.0</td>\n",
       "      <td>physics</td>\n",
       "      <td>\"for groundbreaking inventions in the field of...</td>\n",
       "      <td>960.0</td>\n",
       "      <td>Arthur</td>\n",
       "      <td>Ashkin</td>\n",
       "      <td>\"for the optical tweezers and their applicatio...</td>\n",
       "      <td>2.0</td>\n",
       "    </tr>\n",
       "    <tr>\n",
       "      <th>231</th>\n",
       "      <td>2003.0</td>\n",
       "      <td>chemistry</td>\n",
       "      <td>\"for discoveries concerning channels in cell m...</td>\n",
       "      <td>769.0</td>\n",
       "      <td>Peter</td>\n",
       "      <td>Agre</td>\n",
       "      <td>\"for the discovery of water channels\"</td>\n",
       "      <td>2.0</td>\n",
       "    </tr>\n",
       "    <tr>\n",
       "      <th>242</th>\n",
       "      <td>2002.0</td>\n",
       "      <td>chemistry</td>\n",
       "      <td>\"for the development of methods for identifica...</td>\n",
       "      <td>756.0</td>\n",
       "      <td>John B.</td>\n",
       "      <td>Fenn</td>\n",
       "      <td>\"for their development of soft desorption ioni...</td>\n",
       "      <td>4.0</td>\n",
       "    </tr>\n",
       "    <tr>\n",
       "      <th>277</th>\n",
       "      <td>2000.0</td>\n",
       "      <td>physics</td>\n",
       "      <td>\"for basic work on information and communicati...</td>\n",
       "      <td>726.0</td>\n",
       "      <td>Zhores</td>\n",
       "      <td>Alferov</td>\n",
       "      <td>\"for developing semiconductor heterostructures...</td>\n",
       "      <td>4.0</td>\n",
       "    </tr>\n",
       "    <tr>\n",
       "      <th>334</th>\n",
       "      <td>1995.0</td>\n",
       "      <td>physics</td>\n",
       "      <td>\"for pioneering experimental contributions to ...</td>\n",
       "      <td>147.0</td>\n",
       "      <td>Martin L.</td>\n",
       "      <td>Perl</td>\n",
       "      <td>\"for the discovery of the tau lepton\"</td>\n",
       "      <td>2.0</td>\n",
       "    </tr>\n",
       "    <tr>\n",
       "      <th>347</th>\n",
       "      <td>1994.0</td>\n",
       "      <td>physics</td>\n",
       "      <td>\"for pioneering contributions to the developme...</td>\n",
       "      <td>145.0</td>\n",
       "      <td>Bertram N.</td>\n",
       "      <td>Brockhouse</td>\n",
       "      <td>\"for the development of neutron spectroscopy\"</td>\n",
       "      <td>2.0</td>\n",
       "    </tr>\n",
       "    <tr>\n",
       "      <th>351</th>\n",
       "      <td>1993.0</td>\n",
       "      <td>chemistry</td>\n",
       "      <td>\"for contributions to the developments of meth...</td>\n",
       "      <td>278.0</td>\n",
       "      <td>Kary B.</td>\n",
       "      <td>Mullis</td>\n",
       "      <td>\"for his invention of the polymerase chain rea...</td>\n",
       "      <td>2.0</td>\n",
       "    </tr>\n",
       "  </tbody>\n",
       "</table>\n",
       "</div>"
      ],
      "text/plain": [
       "       year   category                                  overallMotivation  \\\n",
       "22   2021.0    physics  \"for groundbreaking contributions to our under...   \n",
       "47   2019.0    physics  \"for contributions to our understanding of the...   \n",
       "61   2018.0    physics  \"for groundbreaking inventions in the field of...   \n",
       "231  2003.0  chemistry  \"for discoveries concerning channels in cell m...   \n",
       "242  2002.0  chemistry  \"for the development of methods for identifica...   \n",
       "277  2000.0    physics  \"for basic work on information and communicati...   \n",
       "334  1995.0    physics  \"for pioneering experimental contributions to ...   \n",
       "347  1994.0    physics  \"for pioneering contributions to the developme...   \n",
       "351  1993.0  chemistry  \"for contributions to the developments of meth...   \n",
       "\n",
       "     laureates__id laureates__firstname laureates__surname  \\\n",
       "22           999.0              Syukuro             Manabe   \n",
       "47           973.0                James            Peebles   \n",
       "61           960.0               Arthur             Ashkin   \n",
       "231          769.0                Peter               Agre   \n",
       "242          756.0              John B.               Fenn   \n",
       "277          726.0               Zhores            Alferov   \n",
       "334          147.0            Martin L.               Perl   \n",
       "347          145.0           Bertram N.         Brockhouse   \n",
       "351          278.0              Kary B.             Mullis   \n",
       "\n",
       "                                 laureates__motivation  laureates__share  \n",
       "22   \"for the physical modelling of Earth’s climate...               4.0  \n",
       "47   \"for theoretical discoveries in physical cosmo...               2.0  \n",
       "61   \"for the optical tweezers and their applicatio...               2.0  \n",
       "231              \"for the discovery of water channels\"               2.0  \n",
       "242  \"for their development of soft desorption ioni...               4.0  \n",
       "277  \"for developing semiconductor heterostructures...               4.0  \n",
       "334              \"for the discovery of the tau lepton\"               2.0  \n",
       "347      \"for the development of neutron spectroscopy\"               2.0  \n",
       "351  \"for his invention of the polymerase chain rea...               2.0  "
      ]
     },
     "metadata": {},
     "output_type": "display_data"
    },
    {
     "name": "stdout",
     "output_type": "stream",
     "text": [
      "year                     0\n",
      "category                 0\n",
      "overallMotivation        0\n",
      "laureates__id            0\n",
      "laureates__firstname     0\n",
      "laureates__surname       0\n",
      "laureates__motivation    0\n",
      "laureates__share         0\n",
      "dtype: int64\n"
     ]
    }
   ],
   "source": [
    "import pandas as pd\n",
    "from IPython.display import display\n",
    "\n",
    "# Read the prize csv file from the direcotory\n",
    "prize_csv_df = pd.read_csv(\"/workspaces/ImplementingStatisticsWithPython/data/chapter1/prize.csv\")\n",
    "# Read the diabities csv file from the direcotory\n",
    "diabities_df = pd.read_csv('/workspaces/ImplementingStatisticsWithPython/data/chapter1/diabetes.csv')\n",
    "\n",
    "# Display the dataframe\n",
    "print(prize_csv_df.isna().sum())\n",
    "\n",
    "# Display the dataframe\n",
    "print(diabities_df.isna().sum())\n",
    "\n",
    "'''Since prize_csv_df only have null values so lets drop them'''\n",
    "\n",
    "print(\"\\n \\n **** After droping the null values ****\")\n",
    "after_droping_null_prize_df = prize_csv_df.dropna()\n",
    "display(after_droping_null_prize_df)\n",
    "print(after_droping_null_prize_df.isna().sum())"
   ]
  },
  {
   "cell_type": "markdown",
   "id": "792251e3-75de-4603-a4d8-f975da319b87",
   "metadata": {},
   "source": [
    "***Tutorial 6.3.2. Imputing the mean value of the column***"
   ]
  },
  {
   "cell_type": "code",
   "execution_count": null,
   "id": "ac415685-c4d9-4a6a-a065-a4dd41406dea",
   "metadata": {},
   "outputs": [],
   "source": []
  },
  {
   "cell_type": "markdown",
   "id": "f2838f6a-88e2-4439-923a-0bbf67f7e3e5",
   "metadata": {},
   "source": [
    "***Tutorial 6.3.3. Identify and remove duplicates***"
   ]
  },
  {
   "cell_type": "code",
   "execution_count": null,
   "id": "7e821654-d9c2-4826-8d9a-e75c011f3ad5",
   "metadata": {},
   "outputs": [],
   "source": []
  },
  {
   "cell_type": "markdown",
   "id": "26ff4904-23fc-451c-80b0-b9cd9bc3d1ec",
   "metadata": {},
   "source": [
    "***Tutorial 6.4. Wrangling and Manipulation of the Data***"
   ]
  },
  {
   "cell_type": "code",
   "execution_count": null,
   "id": "29706279-19c4-483c-924b-fba1259af03d",
   "metadata": {},
   "outputs": [],
   "source": []
  },
  {
   "cell_type": "code",
   "execution_count": null,
   "id": "99abca16-7fc2-49b4-a776-410ebcacdcd4",
   "metadata": {},
   "outputs": [],
   "source": []
  },
  {
   "cell_type": "code",
   "execution_count": null,
   "id": "43f4ff60-e160-4f5a-a5ad-e7257ca2ad56",
   "metadata": {},
   "outputs": [],
   "source": []
  }
 ],
 "metadata": {
  "kernelspec": {
   "display_name": "Python 3 (ipykernel)",
   "language": "python",
   "name": "python3"
  },
  "language_info": {
   "codemirror_mode": {
    "name": "ipython",
    "version": 3
   },
   "file_extension": ".py",
   "mimetype": "text/x-python",
   "name": "python",
   "nbconvert_exporter": "python",
   "pygments_lexer": "ipython3",
   "version": "3.10.8"
  }
 },
 "nbformat": 4,
 "nbformat_minor": 5
}
