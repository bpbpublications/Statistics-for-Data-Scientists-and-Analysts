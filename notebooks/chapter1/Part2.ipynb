{
 "cells": [
  {
   "cell_type": "markdown",
   "id": "057dccd9-9947-4827-bf1a-887a8b586c13",
   "metadata": {},
   "source": [
    "## Part 2:\n",
    "<ol>\n",
    "    <li>Univariate, Bivariate and Multivariate data</li>\n",
    "    <li>Data Sources, Collection Methods, Population and Samples</li>\n",
    "    <li>Data Quality, Cleaning, Wrangling and Manipulation</li>\n",
    "</ol>"
   ]
  },
  {
   "cell_type": "code",
   "execution_count": null,
   "id": "2d154439-82c8-4778-852c-19aab6910c82",
   "metadata": {},
   "outputs": [],
   "source": [
    "Univariate data"
   ]
  },
  {
   "cell_type": "code",
   "execution_count": null,
   "id": "cacfd28b-86bb-499c-8112-a41750c12b0b",
   "metadata": {},
   "outputs": [],
   "source": [
    "Univariate analysis"
   ]
  },
  {
   "cell_type": "code",
   "execution_count": null,
   "id": "9f49d9be-1cf5-4ac8-af08-4c181c4d7995",
   "metadata": {},
   "outputs": [],
   "source": []
  }
 ],
 "metadata": {
  "kernelspec": {
   "display_name": "Python 3 (ipykernel)",
   "language": "python",
   "name": "python3"
  },
  "language_info": {
   "codemirror_mode": {
    "name": "ipython",
    "version": 3
   },
   "file_extension": ".py",
   "mimetype": "text/x-python",
   "name": "python",
   "nbconvert_exporter": "python",
   "pygments_lexer": "ipython3",
   "version": "3.10.8"
  }
 },
 "nbformat": 4,
 "nbformat_minor": 5
}
