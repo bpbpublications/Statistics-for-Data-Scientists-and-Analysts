{
 "cells": [
  {
   "cell_type": "markdown",
   "id": "5ba5fee4-320f-4881-b8e2-eab8fcd42bb4",
   "metadata": {},
   "source": [
    "### Hypothesis Testing: Definition, Steps, Types, and Examples"
   ]
  },
  {
   "cell_type": "markdown",
   "id": "88e54051-6b76-491b-baef-2fc55c669e13",
   "metadata": {},
   "source": [
    "**illustration of the hypothesis testing using the example ‘men are taller than women on average’**"
   ]
  },
  {
   "cell_type": "code",
   "execution_count": 4,
   "id": "9addb1d7-47c0-4fba-8a9d-5ce5ab83d10e",
   "metadata": {},
   "outputs": [
    {
     "name": "stdout",
     "output_type": "stream",
     "text": [
      "Men: mean = 174.48, std = 9.66\n",
      "Women: mean = 165.16, std = 7.18\n",
      "t-statistic = 7.70\n",
      "p-value = 0.0000\n",
      "Reject the null hypothesis: the population means are not equal.\n"
     ]
    }
   ],
   "source": [
    "# import the scipy.stats library\n",
    "import scipy.stats as stats\n",
    "# define the significance level\n",
    "# alpha = 0.05, which means there is a 5% chance of making a type I error (rejecting the null hypothesis when it is true)\n",
    "alpha = 0.05\n",
    "# generate some random data for men and women heights (in cm)\n",
    "# you can replace this with your own data\n",
    "men_heights = stats.norm.rvs(loc=175, scale=10, size=100) # mean = 175, std = 10\n",
    "women_heights = stats.norm.rvs(loc=165, scale=8, size=100) # mean = 165, std = 8\n",
    "# calculate the sample means and standard deviations\n",
    "men_mean = men_heights.mean()\n",
    "men_std = men_heights.std()\n",
    "women_mean = women_heights.mean()\n",
    "women_std = women_heights.std()\n",
    "# print the sample statistics\n",
    "print(\"Men: mean = {:.2f}, std = {:.2f}\".format(men_mean, men_std))\n",
    "print(\"Women: mean = {:.2f}, std = {:.2f}\".format(women_mean, women_std))\n",
    "# perform a two-sample t-test\n",
    "# the null hypothesis is that the population means are equal\n",
    "# the alternative hypothesis is that the population means are not equal\n",
    "t_stat, p_value = stats.ttest_ind(men_heights, women_heights)\n",
    "# print the test statistic and the p-value\n",
    "print(\"t-statistic = {:.2f}\".format(t_stat))\n",
    "print(\"p-value = {:.4f}\".format(p_value))\n",
    "# compare the p-value with the significance level and make a decision\n",
    "if p_value <= alpha:\n",
    "    print(\"Reject the null hypothesis: the population means are not equal.\")\n",
    "else:\n",
    "    print(\"Fail to reject the null hypothesis: the population means are equal.\")"
   ]
  },
  {
   "attachments": {},
   "cell_type": "markdown",
   "id": "f715a3ff-db74-44a0-8b7f-1e082e581e84",
   "metadata": {},
   "source": [
    "**illustration of the hypothesis testing using the example ‘jar of candies’**"
   ]
  },
  {
   "cell_type": "code",
   "execution_count": 14,
   "id": "3bc4d4ee-263e-474f-acd2-f662c6a23c9b",
   "metadata": {},
   "outputs": [
    {
     "name": "stdout",
     "output_type": "stream",
     "text": [
      "Red candies: 6\n",
      "Blue candies: 14\n",
      "p-value = 0.1153\n",
      "Fail to reject the null hypothesis: the probability of success is 0.5.\n"
     ]
    }
   ],
   "source": [
    "# import the scipy.stats library\n",
    "import scipy.stats as stats\n",
    "# define the significance level\n",
    "alpha = 0.05\n",
    "# geerate some random data for the number of red and blue candies in a handful\n",
    "# you can replace this with your own data\n",
    "n = 20 # number of trials (candies)\n",
    "p = 0.5 # probability of success (red candy)\n",
    "red_candies = stats.binom.rvs(n, p) # number of red candies\n",
    "blue_candies = n - red_candies # number of blue candies\n",
    "# print the sample data\n",
    "print(\"Red candies: {}\".format(red_candies))\n",
    "print(\"Blue candies: {}\".format(blue_candies))\n",
    "# perform a binomial test\n",
    "# the null hypothesis is that the probability of success is 0.5\n",
    "# the alternative hypothesis is that the probability of success is not 0.5\n",
    "p_value = stats.binomtest(red_candies, n, p, alternative='two-sided')\n",
    "# print the p-value\n",
    "print(\"p-value = {:.4f}\".format(p_value.pvalue))\n",
    "# compare the p-value with the significance level and make a decision\n",
    "if p_value.pvalue <= alpha:\n",
    "    print(\"Reject the null hypothesis: the probability of success is not 0.5.\")\n",
    "else:\n",
    "    print(\"Fail to reject the null hypothesis: the probability of success is 0.5.\")"
   ]
  },
  {
   "cell_type": "markdown",
   "id": "c049cc86-5f44-410a-ab50-b47fb992cdb1",
   "metadata": {},
   "source": [
    "**One sided and two sided test**"
   ]
  },
  {
   "cell_type": "code",
   "execution_count": 1,
   "id": "c294961c-4cd1-4693-a6f7-2516240154a5",
   "metadata": {},
   "outputs": [
    {
     "name": "stdout",
     "output_type": "stream",
     "text": [
      "One-sided test results:\n",
      "t-statistic: 0.7385489458759964\n",
      "p-value: 0.23485103640040045\n",
      "We fail to reject the null hypothesis and cannot conclude that class1 is smarter than class2.\n"
     ]
    }
   ],
   "source": [
    "# Import the scipy.stats module\n",
    "import scipy.stats as stats\n",
    "# Define the scores of both classes as lists\n",
    "class1 = [80, 85, 90, 95, 100, 105, 110, 115, 120, 125]\n",
    "class2 = [75, 80, 85, 90, 95, 100, 105, 110, 115, 120]\n",
    "# Perform a one-sided test to see if class1 is smarter than class2\n",
    "# The null hypothesis is that the mean of class1 is less than or equal to the mean of class2\n",
    "# The alternative hypothesis is that the mean of class1 is greater than the mean of class2\n",
    "t_stat, p_value = stats.ttest_ind(class1, class2, alternative='greater')\n",
    "print('One-sided test results:')\n",
    "print('t-statistic:', t_stat)\n",
    "print('p-value:', p_value)\n",
    "# Compare the p-value with the significance level\n",
    "if p_value < 0.05:\n",
    "    print('We reject the null hypothesis and conclude that class1 is smarter than class2.')\n",
    "else:\n",
    "    print('We fail to reject the null hypothesis and cannot conclude that class1 is smarter than class2.')"
   ]
  },
  {
   "cell_type": "code",
   "execution_count": 4,
   "id": "eb7bbdde-6dae-4b0b-bb80-8a15c1301319",
   "metadata": {},
   "outputs": [
    {
     "name": "stdout",
     "output_type": "stream",
     "text": [
      "Two-sided test results:\n",
      "t-statistic: 0.7385489458759964\n",
      "p-value: 0.4697020728008009\n",
      "We fail to reject the null hypothesis and cannot conclude that class1 and class2 are different in smartness.\n"
     ]
    }
   ],
   "source": [
    "# Import the scipy.stats module\n",
    "import scipy.stats as stats\n",
    "# Define the scores of both classes as lists\n",
    "class1 = [80, 85, 90, 95, 100, 105, 110, 115, 120, 125]\n",
    "class2 = [75, 80, 85, 90, 95, 100, 105, 110, 115, 120]\n",
    "# Perform a two-sided test to see if class1 and class2 are different in smartness\n",
    "# The null hypothesis is that the mean of class1 is equal to the mean of class2\n",
    "# The alternative hypothesis is that the mean of class1 is not equal to the mean of class2\n",
    "t_stat, p_value = stats.ttest_ind(class1, class2, alternative='two-sided')\n",
    "print('Two-sided test results:')\n",
    "print('t-statistic:', t_stat)\n",
    "print('p-value:', p_value)\n",
    "# Compare the p-value with the significance level\n",
    "if p_value < 0.05:\n",
    "    print('We reject the null hypothesis and conclude that class1 and class2 are different in smartness.')\n",
    "else:\n",
    "    print('We fail to reject the null hypothesis and cannot conclude that class1 and class2 are different in smartness.')"
   ]
  },
  {
   "cell_type": "markdown",
   "id": "dd840c58-32b8-4d65-a016-7875cc129ad1",
   "metadata": {},
   "source": [
    "**One-Sample and Two-Sample Tests**"
   ]
  },
  {
   "cell_type": "code",
   "execution_count": 5,
   "id": "2f4536e5-a213-4017-949f-9301264efa79",
   "metadata": {},
   "outputs": [
    {
     "name": "stdout",
     "output_type": "stream",
     "text": [
      "One-sample test results:\n",
      "t-statistic: 4.313644314582188\n",
      "p-value: 0.0019512458685808432\n",
      "We reject the null hypothesis and conclude that your class is different in height from the average height for kids your age.\n"
     ]
    }
   ],
   "source": [
    "# Import the scipy.stats module\n",
    "import scipy.stats as stats\n",
    "# Define the heights of your class as a list\n",
    "my_class = [150, 155, 160, 165, 170, 175, 180, 185, 190, 195]\n",
    "# Perform a one-sample test to see if your class is taller than the average height for kids your age\n",
    "# The null hypothesis is that the mean of your class is equal to the population mean\n",
    "# The alternative hypothesis is that the mean of your class is not equal to the population mean (two-sided)\n",
    "# or that the mean of your class is greater than the population mean (one-sided)\n",
    "# According to the WHO, the average height for kids aged 12 years is 152.4 cm for boys and 151.3 cm for girls [^1^][1]\n",
    "# We will use the average of these two values as the population mean\n",
    "pop_mean = (152.4 + 151.3) / 2\n",
    "t_stat, p_value = stats.ttest_1samp(my_class, pop_mean, alternative='two-sided')\n",
    "print('One-sample test results:')\n",
    "print('t-statistic:', t_stat)\n",
    "print('p-value:', p_value)\n",
    "# Compare the p-value with the significance level\n",
    "if p_value < 0.05:\n",
    "    print('We reject the null hypothesis and conclude that your class is different in height from the average height for kids your age.')\n",
    "else:\n",
    "    print('We fail to reject the null hypothesis and cannot conclude that your class is different in height from the average height for kids your age.')"
   ]
  },
  {
   "cell_type": "code",
   "execution_count": 7,
   "id": "33846a8f-cc42-49a9-b62c-4832e44d8a2d",
   "metadata": {},
   "outputs": [
    {
     "name": "stdout",
     "output_type": "stream",
     "text": [
      "Two-sample test results:\n",
      "t-statistic: 0.7385489458759964\n",
      "p-value: 0.4697020728008009\n",
      "We fail to reject the null hypothesis and cannot conclude that your class and the other class are different in height.\n"
     ]
    }
   ],
   "source": [
    "# Import the scipy.stats module\n",
    "import scipy.stats as stats\n",
    "# Define the heights of your class as a list\n",
    "my_class = [150, 155, 160, 165, 170, 175, 180, 185, 190, 195]\n",
    "# Perform a two-sample test to see if your class is taller than the other class\n",
    "# The null hypothesis is that the means of both classes are equal\n",
    "# The alternative hypothesis is that the means of both classes are not equal (two-sided)\n",
    "# or that the mean of your class is greater than the mean of the other class (one-sided)\n",
    "# Define the heights of the other class as a list\n",
    "other_class = [145, 150, 155, 160, 165, 170, 175, 180, 185, 190]\n",
    "t_stat, p_value = stats.ttest_ind(my_class, other_class, alternative='two-sided')\n",
    "print('Two-sample test results:')\n",
    "print('t-statistic:', t_stat)\n",
    "print('p-value:', p_value)\n",
    "# Compare the p-value with the significance level\n",
    "if p_value < 0.05:\n",
    "    print('We reject the null hypothesis and conclude that your class and the other class are different in height.')\n",
    "else:\n",
    "    print('We fail to reject the null hypothesis and cannot conclude that your class and the other class are different in height.')"
   ]
  },
  {
   "cell_type": "markdown",
   "id": "d6e42625-5ecb-4e9a-b87f-84f7059355fa",
   "metadata": {},
   "source": [
    "**Paired and Independent Tests**"
   ]
  },
  {
   "cell_type": "code",
   "execution_count": 8,
   "id": "639e3079-0a8b-4f39-a4a5-76c84c74ea37",
   "metadata": {},
   "outputs": [
    {
     "name": "stdout",
     "output_type": "stream",
     "text": [
      "Paired t-test results:\n",
      "t-statistic: -inf\n",
      "p-value: 0.0\n"
     ]
    },
    {
     "name": "stderr",
     "output_type": "stream",
     "text": [
      "/home/codespace/.local/lib/python3.10/site-packages/scipy/stats/_axis_nan_policy.py:502: RuntimeWarning: Precision loss occurred in moment calculation due to catastrophic cancellation. This occurs when the data are nearly identical. Results may be unreliable.\n",
      "  res = hypotest_fun_out(*samples, **kwds)\n"
     ]
    }
   ],
   "source": [
    "# We use scipy.stats.ttest_rel to perform a paired t-test\n",
    "# We assume that the happiness ratings are on a scale of 1 to 10\n",
    "import scipy.stats as stats\n",
    "# The happiness ratings of the class before and after the field trip\n",
    "before = [7, 8, 6, 9, 5, 7, 8, 6, 7, 9]\n",
    "after = [8, 9, 7, 10, 6, 8, 9, 7, 8, 10]\n",
    "# Perform the paired t-test\n",
    "t_stat, p_value = stats.ttest_rel(before, after)\n",
    "# Print the results\n",
    "print(\"Paired t-test results:\")\n",
    "print(\"t-statistic:\", t_stat)\n",
    "print(\"p-value:\", p_value)"
   ]
  },
  {
   "cell_type": "code",
   "execution_count": 10,
   "id": "0b23ed85-c9fa-454e-bbf8-6117a53598aa",
   "metadata": {},
   "outputs": [
    {
     "name": "stdout",
     "output_type": "stream",
     "text": [
      "Independent t-test results:\n",
      "t-statistic: 1.698415551216892\n",
      "p-value: 0.10664842826837892\n"
     ]
    }
   ],
   "source": [
    "# We use scipy.stats.ttest_ind to perform an independent t-test\n",
    "# We assume that the happiness ratings of the other class are also on a scale of 1 to 10\n",
    "import scipy.stats as stats\n",
    "# The happiness ratings of the other class before and after the field trip\n",
    "other_before = [6, 7, 5, 8, 4, 6, 7, 5, 6, 8]\n",
    "other_after = [7, 8, 6, 9, 5, 7, 8, 6, 7, 9]\n",
    "# Perform the independent t-test\n",
    "t_stat, p_value = stats.ttest_ind(after, other_after)\n",
    "# Print the results\n",
    "print(\"Independent t-test results:\")\n",
    "print(\"t-statistic:\", t_stat)\n",
    "print(\"p-value:\", p_value)"
   ]
  },
  {
   "cell_type": "markdown",
   "id": "32bfe3c7-d367-440e-8fbc-ad09bcc8fdc8",
   "metadata": {},
   "source": [
    "**Parametric and Non-parametric test**"
   ]
  },
  {
   "cell_type": "code",
   "execution_count": 11,
   "id": "c6a32a7a-a38c-48d0-9bf4-64181750c7d7",
   "metadata": {},
   "outputs": [
    {
     "name": "stdout",
     "output_type": "stream",
     "text": [
      "Parametric t-test results:\n",
      "t-statistic: 5.190169516378603\n",
      "p-value: 6.162927154861931e-05\n"
     ]
    }
   ],
   "source": [
    "# We use scipy.stats.ttest_ind to perform a parametric t-test\n",
    "# We assume that the data follows a normal distribution\n",
    "import scipy.stats as stats\n",
    "# The number of students who like chocolate and vanilla ice cream\n",
    "chocolate = [25, 27, 29, 28, 26, 30, 31, 24, 27, 29]\n",
    "vanilla = [22, 23, 21, 24, 25, 26, 20, 19, 23, 22]\n",
    "# Perform the parametric t-test\n",
    "t_stat, p_value = stats.ttest_ind(chocolate, vanilla)\n",
    "# Print the results\n",
    "print(\"Parametric t-test results:\")\n",
    "print(\"t-statistic:\", t_stat)\n",
    "print(\"p-value:\", p_value)"
   ]
  },
  {
   "cell_type": "code",
   "execution_count": 12,
   "id": "5e38a44e-0928-4a62-8cf9-ac593acc14d8",
   "metadata": {},
   "outputs": [
    {
     "name": "stdout",
     "output_type": "stream",
     "text": [
      "Nonparametric Mann-Whitney U test results:\n",
      "U-statistic: 95.5\n",
      "p-value: 0.0006480405677249192\n"
     ]
    }
   ],
   "source": [
    "# We use scipy.stats.mannwhitneyu to perform a nonparametric Mann-Whitney U test\n",
    "# We do not assume any distribution for the data\n",
    "import scipy.stats as stats\n",
    "# The number of students who like chocolate and vanilla ice cream\n",
    "chocolate = [25, 27, 29, 28, 26, 30, 31, 24, 27, 29]\n",
    "vanilla = [22, 23, 21, 24, 25, 26, 20, 19, 23, 22]\n",
    "# Perform the nonparametric Mann-Whitney U test\n",
    "u_stat, p_value = stats.mannwhitneyu(chocolate, vanilla)\n",
    "# Print the results\n",
    "print(\"Nonparametric Mann-Whitney U test results:\")\n",
    "print(\"U-statistic:\", u_stat)\n",
    "print(\"p-value:\", p_value)"
   ]
  },
  {
   "cell_type": "markdown",
   "id": "46de6cd7-2415-42e9-b44f-4ae385cd3d1e",
   "metadata": {},
   "source": [
    "### Significance Tests: Definition, Interpretation, Calculation, and Examples"
   ]
  },
  {
   "cell_type": "code",
   "execution_count": null,
   "id": "b1cbe65f-c252-4fb1-9a9e-5b65d9e78093",
   "metadata": {},
   "outputs": [],
   "source": [
    "Define \"signifiance testing\" in statistics ?\n",
    "Explain briefly \"signifiance testing\" to a eigth grader with an example?\n",
    "Explain how \"signifiance testing\" is different from \"hypothesis testing\" ?\n",
    "Explain briefly how \"signifiance testing\" is different from \"hypothesis testing\" to a eigth grader with an example?\n",
    "Explain the steps to perform \"signifiance testing\" in statistics, with an example divided into steps ?\n",
    "Explain the steps to perform \"signifiance testing\" in statistics, with an example divided into steps to a eigth grader ?\n",
    "Explain the Interpretation of \"signifiance testing\" in statistics ?\n",
    "Explain the Interpretation of \"signifiance testing\" in statistics to a eigth grader ?"
   ]
  },
  {
   "cell_type": "markdown",
   "id": "850c184d-e797-40e0-acdd-e6e689bab0e3",
   "metadata": {},
   "source": [
    "**Significant test illustartion, coin toss**"
   ]
  },
  {
   "cell_type": "code",
   "execution_count": 1,
   "id": "19174176-0f7e-4d52-9b67-b6685dbe7d68",
   "metadata": {},
   "outputs": [
    {
     "name": "stdin",
     "output_type": "stream",
     "text": [
      "How many correct guesses did your friend make out of 10 coin tosses?  2\n"
     ]
    },
    {
     "name": "stdout",
     "output_type": "stream",
     "text": [
      "p-value = 0.9893\n",
      "This result is not statistically significant. We do not reject the claim that the coin is fair and the friend is guessing.\n"
     ]
    }
   ],
   "source": [
    "# Import the binom_test function from scipy.stats\n",
    "from scipy.stats import binomtest\n",
    "# Ask the user to input the number of correct guesses by their friend\n",
    "correct = int(input(\"How many correct guesses did your friend make out of 10 coin tosses? \"))\n",
    "# Calculate the p-value using the binom_test function\n",
    "# The arguments are: number of successes, number of trials, probability of success, alternative hypothesis\n",
    "p_value = binomtest(correct, 10, 0.5, \"greater\")\n",
    "# Print the p-value\n",
    "print(\"p-value = {:.4f}\".format(p_value.pvalue))\n",
    "# Compare the p-value with the cutoff of 0.05\n",
    "if p_value.pvalue < 0.05:\n",
    "    # If the p-value is less than 0.05, reject the claim that the coin is fair and the friend is guessing\n",
    "    print(\"This result is statistically significant. We reject the claim that the coin is fair and the friend is guessing.\")\n",
    "else:\n",
    "    # If the p-value is greater than 0.05, do not reject the claim that the coin is fair and the friend is guessing\n",
    "    print(\"This result is not statistically significant. We do not reject the claim that the coin is fair and the friend is guessing.\")"
   ]
  },
  {
   "cell_type": "markdown",
   "id": "0a1e1314-ac1f-462f-af92-ff3fae50c0f8",
   "metadata": {},
   "source": [
    "**Significant test illustartion, candy and smartness**"
   ]
  },
  {
   "cell_type": "code",
   "execution_count": 16,
   "id": "67d828bb-3327-41b0-82cc-108fc807e397",
   "metadata": {},
   "outputs": [
    {
     "name": "stdout",
     "output_type": "stream",
     "text": [
      "The test statistic is 5.6127\n",
      "The p-value is 0.0003\n",
      "This result is statistically significant. We reject the null hypothesis and accept the alternative hypothesis.\n",
      "We conclude that the candy makes the children smarter.\n"
     ]
    }
   ],
   "source": [
    "# Import the ttest_rel function from scipy.stats\n",
    "from scipy.stats import ttest_rel\n",
    "# Define the IQ scores of the candy group before and after the treatment\n",
    "candy_before = [100, 105, 110, 115, 120, 125, 130, 135, 140]\n",
    "candy_after = [104, 105, 110, 120, 123, 125, 135, 135, 144]\n",
    "# Define the IQ scores of the placebo group before and after the treatment\n",
    "placebo_before = [101, 106, 111, 116, 121, 126, 131, 136, 141]\n",
    "placebo_after = [100, 104, 109, 113, 117, 121, 125, 129, 133]\n",
    "# Calculate the difference in IQ scores for each group\n",
    "candy_diff = [candy_after[i] - candy_before[i] for i in range(9)]\n",
    "placebo_diff = [placebo_after[i] - placebo_before[i] for i in range(9)]\n",
    "# Perform a paired t-test on the difference scores\n",
    "# The null hypothesis is that the mean difference is zero\n",
    "# The alternative hypothesis is that the mean difference is positive\n",
    "t_stat, p_value = ttest_rel(candy_diff, placebo_diff, alternative=\"greater\")\n",
    "# Print the test statistic and the p-value\n",
    "print(f\"The test statistic is {t_stat:.4f}\")\n",
    "print(f\"The p-value is {p_value:.4f}\")\n",
    "# Compare the p-value with the significance level of 0.05\n",
    "if p_value < 0.05:\n",
    "    # If the p-value is less than 0.05, reject the null hypothesis and accept the alternative hypothesis\n",
    "    print(\"This result is statistically significant. We reject the null hypothesis and accept the alternative hypothesis.\")\n",
    "    print(\"We conclude that the candy makes the children smarter.\")\n",
    "else:\n",
    "    # If the p-value is greater than 0.05, do not reject the null hypothesis and do not accept the alternative hypothesis\n",
    "    print(\"This result is not statistically significant. We do not reject the null hypothesis and do not accept the alternative hypothesis.\")\n",
    "    print(\"We conclude that the candy has no effect on the children's intelligence.\")"
   ]
  },
  {
   "cell_type": "markdown",
   "id": "2fa7b2f6-9cf4-414a-a815-763822f19a1f",
   "metadata": {},
   "source": [
    "**Z-Test**"
   ]
  },
  {
   "cell_type": "code",
   "execution_count": 1,
   "id": "54e56d04-eb8d-48b1-90b2-a02ce7bd215e",
   "metadata": {},
   "outputs": [
    {
     "name": "stdout",
     "output_type": "stream",
     "text": [
      "Z-statistic: -2.020774406815312\n",
      "P-value: 0.04330312332391124\n",
      "We reject the null hypothesis and conclude that the mean heights of the two teams are significantly different.\n"
     ]
    }
   ],
   "source": [
    "# import the ztest function from statsmodels package\n",
    "from statsmodels.stats.weightstats import ztest\n",
    "# create a list of heights (in cm) for each team\n",
    "teamA = [180, 182, 185, 189, 191, 191, 192, 194, 199, 199, 205, 209, 209, 209, 210, 212, 212, 213, 214, 214]\n",
    "teamB = [190, 191, 191, 191, 195, 195, 199, 199, 208, 209, 209, 214, 215, 216, 217, 217, 228, 229, 230, 233]\n",
    "# perform a two sample z-test to compare the mean heights of the two teams\n",
    "# the null hypothesis is that the mean heights are equal\n",
    "# the alternative hypothesis is that the mean heights are different\n",
    "# we use a two-tailed test with a significance level of 0.05\n",
    "z_stat, p_value = ztest(teamA, teamB, value=0)\n",
    "# print the test statistic and the p-value\n",
    "print(\"Z-statistic:\", z_stat)\n",
    "print(\"P-value:\", p_value)\n",
    "# interpret the result\n",
    "if p_value < 0.05:\n",
    "    print(\"We reject the null hypothesis and conclude that the mean heights of the two teams are significantly different.\")\n",
    "else:\n",
    "    print(\"We fail to reject the null hypothesis and conclude that the mean heights of the two teams are not significantly different.\")"
   ]
  },
  {
   "cell_type": "markdown",
   "id": "2cfd3138-550e-4479-8eb3-6fc55bd5a1f3",
   "metadata": {},
   "source": [
    "**T-test**"
   ]
  },
  {
   "cell_type": "code",
   "execution_count": 2,
   "id": "67528557-9e4a-4f36-88ba-3cd80b442f30",
   "metadata": {},
   "outputs": [
    {
     "name": "stdout",
     "output_type": "stream",
     "text": [
      "Z-statistic: 1.7407039045950503\n",
      "P-value: 0.08173549351419786\n",
      "We fail to reject the null hypothesis and conclude that the mean delivery times of the two pizza places are not significantly different.\n"
     ]
    }
   ],
   "source": [
    "# import the ztest function from statsmodels package\n",
    "from statsmodels.stats.weightstats import ztest\n",
    "# create a list of delivery times (in minutes) for each pizza place\n",
    "placeA = [15, 18, 20, 22, 25, 28, 30, 32, 35, 40]\n",
    "placeB = [12, 14, 16, 18, 20, 22, 24, 26, 28, 30]\n",
    "# perform a two sample z-test to compare the mean delivery times of the two pizza places\n",
    "# the null hypothesis is that the mean delivery times are equal\n",
    "# the alternative hypothesis is that the mean delivery times are different\n",
    "# we use a two-tailed test with a significance level of 0.05\n",
    "z_stat, p_value = ztest(placeA, placeB, value=0)\n",
    "# print the test statistic and the p-value\n",
    "print(\"Z-statistic:\", z_stat)\n",
    "print(\"P-value:\", p_value)\n",
    "# interpret the result\n",
    "if p_value < 0.05:\n",
    "    print(\"We reject the null hypothesis and conclude that the mean delivery times of the two pizza places are significantly different.\")\n",
    "else:\n",
    "    print(\"We fail to reject the null hypothesis and conclude that the mean delivery times of the two pizza places are not significantly different.\")"
   ]
  },
  {
   "cell_type": "markdown",
   "id": "45d5751f-f10d-4cb4-9dee-510e1ff9b9af",
   "metadata": {},
   "source": [
    "**Chi-Square Test**"
   ]
  },
  {
   "cell_type": "code",
   "execution_count": 3,
   "id": "d619b073-9180-4f37-80f6-82e6c1ae32ab",
   "metadata": {},
   "outputs": [
    {
     "name": "stdout",
     "output_type": "stream",
     "text": [
      "Test statistic: 6.740632143071166\n",
      "P-value: 0.34550083293175876\n",
      "Expected frequencies:\n",
      "[[10.18518519 16.7037037  15.07407407 13.03703704]\n",
      " [ 8.33333333 13.66666667 12.33333333 10.66666667]\n",
      " [ 6.48148148 10.62962963  9.59259259  8.2962963 ]]\n",
      "We fail to reject the null hypothesis and conclude that there is no significant association between the type of pet and the favorite color.\n"
     ]
    }
   ],
   "source": [
    "# import the chi2_contingency function\n",
    "from scipy.stats import chi2_contingency\n",
    "# create a contingency table as a list of lists\n",
    "data = [[12, 18, 10, 15], [8, 14, 12, 11], [5, 9, 15, 6]]\n",
    "# perform the chi-square test\n",
    "stat, p, dof, expected = chi2_contingency(data)\n",
    "# print the test statistic, the p-value, and the expected frequencies\n",
    "print(\"Test statistic:\", stat)\n",
    "print(\"P-value:\", p)\n",
    "print(\"Expected frequencies:\")\n",
    "print(expected)\n",
    "# interpret the result\n",
    "significance_level = 0.05\n",
    "if p <= significance_level:\n",
    "    print(\"We reject the null hypothesis and conclude that there is a significant association between the type of pet and the favorite color.\")\n",
    "else:\n",
    "    print(\"We fail to reject the null hypothesis and conclude that there is no significant association between the type of pet and the favorite color.\")"
   ]
  },
  {
   "cell_type": "markdown",
   "id": "d3e3132c-c4fd-48e7-9acd-ce2c89b45f1e",
   "metadata": {},
   "source": [
    "**One-way ANOVA**"
   ]
  },
  {
   "cell_type": "code",
   "execution_count": 4,
   "id": "e90277ef-5851-4c0b-8137-c884ac55e677",
   "metadata": {},
   "outputs": [
    {
     "name": "stdout",
     "output_type": "stream",
     "text": [
      "F-statistic: 11.716117216117217\n",
      "P-value: 0.001509024295003377\n"
     ]
    }
   ],
   "source": [
    "import numpy as np\n",
    "import scipy.stats as stats\n",
    "# Define the ratings of the cakes by the judges\n",
    "cake1 = [8.4, 7.6, 9.2, 8.9, 7.8] # Cake made with flour type 1\n",
    "cake2 = [6.5, 5.7, 7.3, 6.8, 6.4] # Cake made with flour type 2\n",
    "cake3 = [7.1, 6.9, 8.2, 7.4, 7.0] # Cake made with flour type 3\n",
    "# Perform one-way ANOVA\n",
    "f_stat, p_value = stats.f_oneway(cake1, cake2, cake3)\n",
    "# Print the results\n",
    "print(\"F-statistic:\", f_stat)\n",
    "print(\"P-value:\", p_value)"
   ]
  },
  {
   "cell_type": "markdown",
   "id": "a3379e2c-a132-442a-8668-2e0e6be44127",
   "metadata": {},
   "source": [
    "**Two-way ANOVA**"
   ]
  },
  {
   "cell_type": "code",
   "execution_count": 5,
   "id": "d0284062-1703-41b4-9be0-74060a7c81a3",
   "metadata": {},
   "outputs": [
    {
     "name": "stdout",
     "output_type": "stream",
     "text": [
      "                     sum_sq   df          F    PR(>F)\n",
      "C(music)          54.933333  2.0  36.622222  0.000434\n",
      "C(time)            1.433333  2.0   0.955556  0.436256\n",
      "C(music):C(time)  24.066667  4.0   8.022222  0.013788\n",
      "Residual           4.500000  6.0        NaN       NaN\n"
     ]
    }
   ],
   "source": [
    "import pandas as pd\n",
    "import statsmodels.api as sm\n",
    "from statsmodels.formula.api import ols\n",
    "from statsmodels.stats.anova import anova_lm\n",
    "# Define the data\n",
    "data = {\"music\": [\"classical\", \"classical\", \"classical\", \"classical\", \"classical\",\n",
    "                  \"rock\", \"rock\", \"rock\", \"rock\", \"rock\",\n",
    "                  \"pop\", \"pop\", \"pop\", \"pop\", \"pop\"],\n",
    "        \"time\": [\"morning\", \"morning\", \"afternoon\", \"afternoon\", \"evening\",\n",
    "                 \"morning\", \"morning\", \"afternoon\", \"afternoon\", \"evening\",\n",
    "                 \"morning\", \"morning\", \"afternoon\", \"afternoon\", \"evening\"],\n",
    "        \"score\": [12, 14, 11, 10, 9,\n",
    "                  8, 7, 9, 8, 6,\n",
    "                  10, 11, 12, 13, 14]}\n",
    "# Create a pandas DataFrame\n",
    "df = pd.DataFrame(data)\n",
    "# Perform two-way ANOVA\n",
    "model = ols(\"score ~ C(music) + C(time) + C(music):C(time)\", data=df).fit()\n",
    "aov_table = anova_lm(model, typ=2)\n",
    "# Print the results\n",
    "print(aov_table)"
   ]
  },
  {
   "cell_type": "code",
   "execution_count": null,
   "id": "81cf4cb6-cbfd-4e4e-aa34-981a5dd30424",
   "metadata": {},
   "outputs": [],
   "source": [
    "P-value, Significance Level, Power of the Test and and making conclusions"
   ]
  },
  {
   "cell_type": "code",
   "execution_count": null,
   "id": "8df07eea-61f3-4607-8374-ce56cad6cbd6",
   "metadata": {},
   "outputs": [],
   "source": [
    "Sampling Techniques and Sampling Distributions"
   ]
  }
 ],
 "metadata": {
  "kernelspec": {
   "display_name": "Python 3 (ipykernel)",
   "language": "python",
   "name": "python3"
  },
  "language_info": {
   "codemirror_mode": {
    "name": "ipython",
    "version": 3
   },
   "file_extension": ".py",
   "mimetype": "text/x-python",
   "name": "python",
   "nbconvert_exporter": "python",
   "pygments_lexer": "ipython3",
   "version": "3.10.8"
  }
 },
 "nbformat": 4,
 "nbformat_minor": 5
}
