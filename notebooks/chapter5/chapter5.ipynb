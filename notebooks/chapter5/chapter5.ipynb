{
 "cells": [
  {
   "cell_type": "markdown",
   "id": "8ba547a1-ea04-4ec3-b82a-34e5a45d2d71",
   "metadata": {},
   "source": [
    "#### Point Estimate"
   ]
  },
  {
   "cell_type": "markdown",
   "id": "27cb10f2-b3fb-42f1-aa02-b3264fbd818b",
   "metadata": {},
   "source": [
    "**Point estimate of the expected lifespan of the product in general**"
   ]
  },
  {
   "cell_type": "code",
   "execution_count": 10,
   "id": "f4994953-ad91-4ba5-87e0-7432ac4d3244",
   "metadata": {},
   "outputs": [
    {
     "name": "stdout",
     "output_type": "stream",
     "text": [
      "Lifespan of the product: [539.84, 458.1, 474.71, 560.67, 465.95, 474.46, 545.27, 419.74, 447.93, 471.52]\n",
      "Point estimate for the average lifespan of the product:485.82\n"
     ]
    }
   ],
   "source": [
    "import numpy as np\n",
    "# Simulate product lifespans for a sample of 10 products\n",
    "product_lifespans = [539.84,458.10,474.71,560.67,465.95,474.46,545.27,419.74,447.93,471.52]\n",
    "# Print the lifespan of the product\n",
    "print(\"Lifespan of the product:\", product_lifespans)\n",
    "# Calculate the average lifespan of the sample\n",
    "average_lifespan = np.mean(product_lifespans)\n",
    "# Print the point estimate for the average lifespan of the product\n",
    "print(f\"Point estimate for the average lifespan of the product:{average_lifespan:.2f}\")"
   ]
  },
  {
   "attachments": {},
   "cell_type": "markdown",
   "id": "8b181afb-d712-4d4f-9230-318f3e38033b",
   "metadata": {},
   "source": [
    "**Point estimate of the total expenditure of all households in the Oslo**"
   ]
  },
  {
   "cell_type": "code",
   "execution_count": 16,
   "id": "5664b4ea-746c-44f2-a96f-a5543e3b67a8",
   "metadata": {},
   "outputs": [
    {
     "name": "stdout",
     "output_type": "stream",
     "text": [
      "Point estimate of the total expenditure of all households in the Oslo: NOK 298.64\n"
     ]
    }
   ],
   "source": [
    "import numpy as np\n",
    "# Set the seed for reproducibility\n",
    "np.random.seed(0)\n",
    "# Assume the average household spending on groceries is between $100 and $500\n",
    "expenditures = np.random.uniform(low=100, high=500, size=500)\n",
    "# Calculate the point estimate (average expenditure of the sample)\n",
    "point_estimate = np.mean(expenditures)\n",
    "print(f\"Point estimate of the total expenditure of all households in the Oslo: NOK {point_estimate:.2f}\")"
   ]
  },
  {
   "cell_type": "markdown",
   "id": "188e6be4-30cd-493b-b8fd-5b714bf2d6a8",
   "metadata": {},
   "source": [
    "**Point estimate based on mean, median, mode, variance standard deviation, proportion of the sample**"
   ]
  },
  {
   "cell_type": "code",
   "execution_count": 20,
   "id": "daac0cdb-87e5-4748-a951-9698d2da881f",
   "metadata": {},
   "outputs": [
    {
     "name": "stdout",
     "output_type": "stream",
     "text": [
      "Point estimate of household spending using mean:227.706\n",
      "Point estimate of household spending using median:229.735\n",
      "Point estimate of household spending using mode:228.24\n",
      "Point estimate of household spending using variance:305.40\n",
      "Point estimate of household spending using standard deviation:17.48\n",
      "Proportion of households spending over NOK 213: 0.7\n"
     ]
    }
   ],
   "source": [
    "import numpy as np\n",
    "# Sample data for household spending on groceries\n",
    "household_spending = np.array([250.32, 195.87, 228.24, 212.81, 233.99, 241.45, 253.34, 208.53, 231.23, 221.28])\n",
    "# Calculate point estimate for household spending using mean\n",
    "mean_household_spending = np.mean(household_spending)\n",
    "print(f\"Point estimate of household spending using mean:{mean_household_spending}\")\n",
    "# Calculate point estimate for household spending using median\n",
    "median_household_spending = np.median(household_spending)\n",
    "print(f\"Point estimate of household spending using median:{median_household_spending}\")\n",
    "# Calculate point estimate for household spending using mode\n",
    "mode_household_spending = np.argmax(np.histogram(household_spending)[0])\n",
    "print(f\"Point estimate of household spending using mode:{household_spending[mode_household_spending]}\")\n",
    "# Calculate point estimate for household spending using variance\n",
    "variance_household_spending = np.var(household_spending)\n",
    "print(f\"Point estimate of household spending using variance:{variance_household_spending:.2f}\")\n",
    "# Calculate point estimate for household spending using standard deviation\n",
    "std_dev_household_spending = np.std(household_spending)\n",
    "print(f\"Point estimate of household spending using standard deviation:{std_dev_household_spending:.2f}\")\n",
    "# Calculate point estimate for proportion of households spending over $213\n",
    "proportion_household_spending_over_213 = len(household_spending[household_spending > 213]) / len(household_spending)\n",
    "print(\"Proportion of households spending over NOK 213:\", proportion_household_spending_over_213)"
   ]
  },
  {
   "cell_type": "markdown",
   "id": "2bc87f24-dab9-4bc4-a9c5-800400592b77",
   "metadata": {},
   "source": [
    "#### Interval estimate"
   ]
  },
  {
   "cell_type": "markdown",
   "id": "c8f4e1b2-4022-4ad0-8204-98cd532fcdac",
   "metadata": {},
   "source": [
    "**Estimate an interval of average lifespan of the product**"
   ]
  },
  {
   "cell_type": "code",
   "execution_count": 28,
   "id": "d4ec65c0-8d7d-4c1b-830c-507dce19b726",
   "metadata": {},
   "outputs": [
    {
     "name": "stdout",
     "output_type": "stream",
     "text": [
      "Lifespan of the product: [546.83712318 570.6163853  381.52065474 543.20261502 388.01979707\n",
      " 520.07495275 561.24352821 503.24280532 436.01554134 470.72843979\n",
      " 486.91772771 490.88776081 489.85515796 494.50586103 510.67400245\n",
      " 439.57131731 487.89900851 575.91305852 480.76772884 477.80819534]\n",
      "95% confidence interval for the average lifespan of the product: (469.90930134271343, 515.7208647778637)\n"
     ]
    }
   ],
   "source": [
    "import numpy as np\n",
    "# Simulate product lifespans for a sample of 20 products\n",
    "product_lifespans = np.random.normal(500, 50, 20)\n",
    "# Print the lifespan of the product\n",
    "print(\"Lifespan of the product:\", product_lifespans)\n",
    "# Calculate the sample mean and standard deviation\n",
    "sample_mean = np.mean(product_lifespans)\n",
    "sample_std = np.std(product_lifespans)\n",
    "# Calculate the 95% confidence interval\n",
    "confidence_level = 0.95\n",
    "margin_of_error = 1.96 * sample_std / np.sqrt(20)\n",
    "lower_bound = sample_mean - margin_of_error\n",
    "upper_bound = sample_mean + margin_of_error\n",
    "# Print the 95% confidence interval\n",
    "print(\n",
    "    \"95% confidence interval for the average lifespan of the product:\", (lower_bound, upper_bound)\n",
    ")"
   ]
  },
  {
   "cell_type": "markdown",
   "id": "27b6f090-6d21-4c9c-8f59-fe1e6dba089a",
   "metadata": {},
   "source": [
    "**Estimate an interval of average household spending on groceries**"
   ]
  },
  {
   "cell_type": "code",
   "execution_count": 31,
   "id": "7e834793-6d79-4491-b0d8-4ef336378ac0",
   "metadata": {},
   "outputs": [
    {
     "name": "stdout",
     "output_type": "stream",
     "text": [
      "95% confidence interval for the average household spending: (216.87441676204998, 238.53758323795)\n"
     ]
    }
   ],
   "source": [
    "import numpy as np\n",
    "# Sample data for household spending on groceries\n",
    "household_spending = np.array([250.32, 195.87, 228.24, 212.81, 233.99, 241.45, 253.34, 208.53, 231.23, 221.28])\n",
    "# Calculate the sample mean and standard deviation\n",
    "sample_mean = np.mean(household_spending)\n",
    "sample_std = np.std(household_spending)\n",
    "# Calculate the 95% confidence interval\n",
    "confidence_level = 0.95\n",
    "margin_of_error = 1.96 * sample_std / np.sqrt(len(household_spending))\n",
    "lower_bound = sample_mean - margin_of_error\n",
    "upper_bound = sample_mean + margin_of_error\n",
    "# Print the 95% confidence interval\n",
    "print(\n",
    "    \"95% confidence interval for the average household spending:\", (lower_bound, upper_bound)\n",
    ")"
   ]
  },
  {
   "cell_type": "markdown",
   "id": "fa98e581-91e6-42b8-b853-5994eeb44e33",
   "metadata": {},
   "source": [
    "#### Standard Error and Margin of Error "
   ]
  },
  {
   "cell_type": "markdown",
   "id": "14ba06d6-1f40-442c-918d-0e0d44810d4b",
   "metadata": {},
   "source": [
    "**Standard of error**"
   ]
  },
  {
   "cell_type": "code",
   "execution_count": 32,
   "id": "be5965b4-c5fe-455c-a0d3-dbdde0bfc183",
   "metadata": {},
   "outputs": [
    {
     "name": "stdout",
     "output_type": "stream",
     "text": [
      "Standard error: 1.5\n"
     ]
    }
   ],
   "source": [
    "import math\n",
    "# Sample size\n",
    "n = 100\n",
    "# Sample mean\n",
    "mean = 160\n",
    "# Sample standard deviation\n",
    "sd = 15\n",
    "# Standard error\n",
    "se = sd / math.sqrt(n)\n",
    "# Print standard error\n",
    "print(\"Standard error:\", se)"
   ]
  },
  {
   "cell_type": "markdown",
   "id": "3e2d2561-52ea-4c92-8ef0-539934a20727",
   "metadata": {},
   "source": [
    "**Margin of Error**"
   ]
  },
  {
   "cell_type": "code",
   "execution_count": 34,
   "id": "a76d9400-7f59-46d4-9c08-bf93e04c98be",
   "metadata": {},
   "outputs": [
    {
     "name": "stdout",
     "output_type": "stream",
     "text": [
      "Margin of error: 2.94\n",
      "Confidence interval: (157.06, 162.94)\n"
     ]
    }
   ],
   "source": [
    "import math\n",
    "# Sample size\n",
    "n = 100\n",
    "# Sample mean\n",
    "mean = 160\n",
    "# Sample standard deviation\n",
    "sd = 15\n",
    "# Z-score for 95% confidence\n",
    "z_score = 1.96\n",
    "# Margin of error\n",
    "moe = z_score * sd / math.sqrt(n)\n",
    "# Print margin of error\n",
    "print(\"Margin of error:\", moe)\n",
    "# Calculate confidence interval\n",
    "confidence_interval = (mean - moe, mean + moe)\n",
    "# Print confidence interval\n",
    "print(\"Confidence interval:\", confidence_interval)"
   ]
  },
  {
   "cell_type": "code",
   "execution_count": null,
   "id": "362ca9bf-ea89-47e6-886c-3ab136935726",
   "metadata": {},
   "outputs": [],
   "source": []
  }
 ],
 "metadata": {
  "kernelspec": {
   "display_name": "Python 3 (ipykernel)",
   "language": "python",
   "name": "python3"
  },
  "language_info": {
   "codemirror_mode": {
    "name": "ipython",
    "version": 3
   },
   "file_extension": ".py",
   "mimetype": "text/x-python",
   "name": "python",
   "nbconvert_exporter": "python",
   "pygments_lexer": "ipython3",
   "version": "3.10.8"
  }
 },
 "nbformat": 4,
 "nbformat_minor": 5
}
