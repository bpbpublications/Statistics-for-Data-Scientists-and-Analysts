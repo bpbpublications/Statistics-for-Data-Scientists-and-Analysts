{
 "cells": [
  {
   "cell_type": "markdown",
   "id": "8ba547a1-ea04-4ec3-b82a-34e5a45d2d71",
   "metadata": {},
   "source": [
    "#### Point Estimate"
   ]
  },
  {
   "cell_type": "markdown",
   "id": "27cb10f2-b3fb-42f1-aa02-b3264fbd818b",
   "metadata": {},
   "source": [
    "**Point estimate of the expected lifespan of the product in general**"
   ]
  },
  {
   "cell_type": "code",
   "execution_count": 10,
   "id": "f4994953-ad91-4ba5-87e0-7432ac4d3244",
   "metadata": {},
   "outputs": [
    {
     "name": "stdout",
     "output_type": "stream",
     "text": [
      "Lifespan of the product: [539.84, 458.1, 474.71, 560.67, 465.95, 474.46, 545.27, 419.74, 447.93, 471.52]\n",
      "Point estimate for the average lifespan of the product:485.82\n"
     ]
    }
   ],
   "source": [
    "import numpy as np\n",
    "# Simulate product lifespans for a sample of 10 products\n",
    "product_lifespans = [539.84,458.10,474.71,560.67,465.95,474.46,545.27,419.74,447.93,471.52]\n",
    "# Print the lifespan of the product\n",
    "print(\"Lifespan of the product:\", product_lifespans)\n",
    "# Calculate the average lifespan of the sample\n",
    "average_lifespan = np.mean(product_lifespans)\n",
    "# Print the point estimate for the average lifespan of the product\n",
    "print(f\"Point estimate for the average lifespan of the product:{average_lifespan:.2f}\")"
   ]
  },
  {
   "attachments": {},
   "cell_type": "markdown",
   "id": "8b181afb-d712-4d4f-9230-318f3e38033b",
   "metadata": {},
   "source": [
    "**Point estimate of the total expenditure of all households in the Oslo**"
   ]
  },
  {
   "cell_type": "code",
   "execution_count": 16,
   "id": "5664b4ea-746c-44f2-a96f-a5543e3b67a8",
   "metadata": {},
   "outputs": [
    {
     "name": "stdout",
     "output_type": "stream",
     "text": [
      "Point estimate of the total expenditure of all households in the Oslo: NOK 298.64\n"
     ]
    }
   ],
   "source": [
    "import numpy as np\n",
    "# Set the seed for reproducibility\n",
    "np.random.seed(0)\n",
    "# Assume the average household spending on groceries is between $100 and $500\n",
    "expenditures = np.random.uniform(low=100, high=500, size=500)\n",
    "# Calculate the point estimate (average expenditure of the sample)\n",
    "point_estimate = np.mean(expenditures)\n",
    "print(f\"Point estimate of the total expenditure of all households in the Oslo: NOK {point_estimate:.2f}\")"
   ]
  },
  {
   "cell_type": "markdown",
   "id": "188e6be4-30cd-493b-b8fd-5b714bf2d6a8",
   "metadata": {},
   "source": [
    "**Point estimate based on mean, median, mode, variance standard deviation, proportion of the sample**"
   ]
  },
  {
   "cell_type": "code",
   "execution_count": 20,
   "id": "daac0cdb-87e5-4748-a951-9698d2da881f",
   "metadata": {},
   "outputs": [
    {
     "name": "stdout",
     "output_type": "stream",
     "text": [
      "Point estimate of household spending using mean:227.706\n",
      "Point estimate of household spending using median:229.735\n",
      "Point estimate of household spending using mode:228.24\n",
      "Point estimate of household spending using variance:305.40\n",
      "Point estimate of household spending using standard deviation:17.48\n",
      "Proportion of households spending over NOK 213: 0.7\n"
     ]
    }
   ],
   "source": [
    "import numpy as np\n",
    "# Sample data for household spending on groceries\n",
    "household_spending = np.array([250.32, 195.87, 228.24, 212.81, 233.99, 241.45, 253.34, 208.53, 231.23, 221.28])\n",
    "# Calculate point estimate for household spending using mean\n",
    "mean_household_spending = np.mean(household_spending)\n",
    "print(f\"Point estimate of household spending using mean:{mean_household_spending}\")\n",
    "# Calculate point estimate for household spending using median\n",
    "median_household_spending = np.median(household_spending)\n",
    "print(f\"Point estimate of household spending using median:{median_household_spending}\")\n",
    "# Calculate point estimate for household spending using mode\n",
    "mode_household_spending = np.argmax(np.histogram(household_spending)[0])\n",
    "print(f\"Point estimate of household spending using mode:{household_spending[mode_household_spending]}\")\n",
    "# Calculate point estimate for household spending using variance\n",
    "variance_household_spending = np.var(household_spending)\n",
    "print(f\"Point estimate of household spending using variance:{variance_household_spending:.2f}\")\n",
    "# Calculate point estimate for household spending using standard deviation\n",
    "std_dev_household_spending = np.std(household_spending)\n",
    "print(f\"Point estimate of household spending using standard deviation:{std_dev_household_spending:.2f}\")\n",
    "# Calculate point estimate for proportion of households spending over $213\n",
    "proportion_household_spending_over_213 = len(household_spending[household_spending > 213]) / len(household_spending)\n",
    "print(\"Proportion of households spending over NOK 213:\", proportion_household_spending_over_213)"
   ]
  },
  {
   "cell_type": "markdown",
   "id": "2bc87f24-dab9-4bc4-a9c5-800400592b77",
   "metadata": {},
   "source": [
    "#### Interval estimate"
   ]
  },
  {
   "cell_type": "markdown",
   "id": "c8f4e1b2-4022-4ad0-8204-98cd532fcdac",
   "metadata": {},
   "source": [
    "**Estimate an interval of average lifespan of the product**"
   ]
  },
  {
   "cell_type": "code",
   "execution_count": 28,
   "id": "d4ec65c0-8d7d-4c1b-830c-507dce19b726",
   "metadata": {},
   "outputs": [
    {
     "name": "stdout",
     "output_type": "stream",
     "text": [
      "Lifespan of the product: [546.83712318 570.6163853  381.52065474 543.20261502 388.01979707\n",
      " 520.07495275 561.24352821 503.24280532 436.01554134 470.72843979\n",
      " 486.91772771 490.88776081 489.85515796 494.50586103 510.67400245\n",
      " 439.57131731 487.89900851 575.91305852 480.76772884 477.80819534]\n",
      "95% confidence interval for the average lifespan of the product: (469.90930134271343, 515.7208647778637)\n"
     ]
    }
   ],
   "source": [
    "import numpy as np\n",
    "# Simulate product lifespans for a sample of 20 products\n",
    "product_lifespans = np.random.normal(500, 50, 20)\n",
    "# Print the lifespan of the product\n",
    "print(\"Lifespan of the product:\", product_lifespans)\n",
    "# Calculate the sample mean and standard deviation\n",
    "sample_mean = np.mean(product_lifespans)\n",
    "sample_std = np.std(product_lifespans)\n",
    "# Calculate the 95% confidence interval\n",
    "confidence_level = 0.95\n",
    "margin_of_error = 1.96 * sample_std / np.sqrt(20)\n",
    "lower_bound = sample_mean - margin_of_error\n",
    "upper_bound = sample_mean + margin_of_error\n",
    "# Print the 95% confidence interval\n",
    "print(\n",
    "    \"95% confidence interval for the average lifespan of the product:\", (lower_bound, upper_bound)\n",
    ")"
   ]
  },
  {
   "cell_type": "markdown",
   "id": "27b6f090-6d21-4c9c-8f59-fe1e6dba089a",
   "metadata": {},
   "source": [
    "**Estimate an interval of average household spending on groceries**"
   ]
  },
  {
   "cell_type": "code",
   "execution_count": 31,
   "id": "7e834793-6d79-4491-b0d8-4ef336378ac0",
   "metadata": {},
   "outputs": [
    {
     "name": "stdout",
     "output_type": "stream",
     "text": [
      "95% confidence interval for the average household spending: (216.87441676204998, 238.53758323795)\n"
     ]
    }
   ],
   "source": [
    "import numpy as np\n",
    "# Sample data for household spending on groceries\n",
    "household_spending = np.array([250.32, 195.87, 228.24, 212.81, 233.99, 241.45, 253.34, 208.53, 231.23, 221.28])\n",
    "# Calculate the sample mean and standard deviation\n",
    "sample_mean = np.mean(household_spending)\n",
    "sample_std = np.std(household_spending)\n",
    "# Calculate the 95% confidence interval\n",
    "confidence_level = 0.95\n",
    "margin_of_error = 1.96 * sample_std / np.sqrt(len(household_spending))\n",
    "lower_bound = sample_mean - margin_of_error\n",
    "upper_bound = sample_mean + margin_of_error\n",
    "# Print the 95% confidence interval\n",
    "print(\n",
    "    \"95% confidence interval for the average household spending:\", (lower_bound, upper_bound)\n",
    ")"
   ]
  },
  {
   "cell_type": "markdown",
   "id": "fa98e581-91e6-42b8-b853-5994eeb44e33",
   "metadata": {},
   "source": [
    "#### Standard Error and Margin of Error "
   ]
  },
  {
   "cell_type": "markdown",
   "id": "14ba06d6-1f40-442c-918d-0e0d44810d4b",
   "metadata": {},
   "source": [
    "**Standard of error**"
   ]
  },
  {
   "cell_type": "code",
   "execution_count": 32,
   "id": "be5965b4-c5fe-455c-a0d3-dbdde0bfc183",
   "metadata": {},
   "outputs": [
    {
     "name": "stdout",
     "output_type": "stream",
     "text": [
      "Standard error: 1.5\n"
     ]
    }
   ],
   "source": [
    "import math\n",
    "# Sample size\n",
    "n = 100\n",
    "# Sample mean\n",
    "mean = 160\n",
    "# Sample standard deviation\n",
    "sd = 15\n",
    "# Standard error\n",
    "se = sd / math.sqrt(n)\n",
    "# Print standard error\n",
    "print(\"Standard error:\", se)"
   ]
  },
  {
   "cell_type": "markdown",
   "id": "3e2d2561-52ea-4c92-8ef0-539934a20727",
   "metadata": {},
   "source": [
    "**Margin of Error**"
   ]
  },
  {
   "cell_type": "code",
   "execution_count": 34,
   "id": "a76d9400-7f59-46d4-9c08-bf93e04c98be",
   "metadata": {},
   "outputs": [
    {
     "name": "stdout",
     "output_type": "stream",
     "text": [
      "Margin of error: 2.94\n",
      "Confidence interval: (157.06, 162.94)\n"
     ]
    }
   ],
   "source": [
    "import math\n",
    "# Sample size\n",
    "n = 100\n",
    "# Sample mean\n",
    "mean = 160\n",
    "# Sample standard deviation\n",
    "sd = 15\n",
    "# Z-score for 95% confidence\n",
    "z_score = 1.96\n",
    "# Margin of error\n",
    "moe = z_score * sd / math.sqrt(n)\n",
    "# Print margin of error\n",
    "print(\"Margin of error:\", moe)\n",
    "# Calculate confidence interval\n",
    "confidence_interval = (mean - moe, mean + moe)\n",
    "# Print confidence interval\n",
    "print(\"Confidence interval:\", confidence_interval)"
   ]
  },
  {
   "cell_type": "markdown",
   "id": "de0b0872-a32c-444d-8fd5-d567d04a4997",
   "metadata": {},
   "source": [
    "**Calculating Standard Error and Margin of Error for a Survey**"
   ]
  },
  {
   "cell_type": "code",
   "execution_count": 8,
   "id": "e510e912-27ad-4674-a2c8-a56dc2c0674f",
   "metadata": {},
   "outputs": [
    {
     "name": "stdout",
     "output_type": "stream",
     "text": [
      "Standard Error:0.09\n",
      "Margin of Error:0.19\n"
     ]
    }
   ],
   "source": [
    "import numpy as np\n",
    "# Calculate sample mean\n",
    "sample_mean = 0.6\n",
    "# Calculate sample standard deviation\n",
    "sample_std = np.std([1 if voter == 1 else 0 for voter in [support for support in data]])\n",
    "# Calculate standard error\n",
    "standard_error = sample_std / np.sqrt(len(data))\n",
    "print(f\"Standard Error:{standard_error:.2f}\")\n",
    "# Find z-score for 95% confidence level\n",
    "z_score = 1.96\n",
    "# Calculate margin of error\n",
    "margin_of_error = z_score * standard_error\n",
    "print(f\"Margin of Error:{margin_of_error:.2f}\")"
   ]
  },
  {
   "cell_type": "markdown",
   "id": "ad330a25-30be-4227-9c90-912862774b80",
   "metadata": {},
   "source": [
    "#### Confidence Intervals: Types, Interpretation"
   ]
  },
  {
   "cell_type": "code",
   "execution_count": 10,
   "id": "cc92ea27-6e35-4d93-a542-44a4e45d03e7",
   "metadata": {},
   "outputs": [
    {
     "name": "stdout",
     "output_type": "stream",
     "text": [
      "Sample mean: 5.55\n",
      "Standard deviation: 0.2872281323269015\n",
      "95% confidence interval: (5.371977430445669, 5.728022569554331)\n"
     ]
    }
   ],
   "source": [
    "import numpy as np\n",
    "from scipy import stats\n",
    "# Sample data\n",
    "data = np.array([5.1, 5.2, 5.3, 5.4, 5.5, 5.6, 5.7, 5.8, 5.9, 6])\n",
    "# Calculate sample mean and standard deviation\n",
    "mean = np.mean(data)\n",
    "std = np.std(data)\n",
    "# Calculate confidence interval with 95% confidence level\n",
    "margin_of_error = stats.norm.ppf(0.975) * std / np.sqrt(len(data))\n",
    "confidence_interval = (mean - margin_of_error, mean + margin_of_error)\n",
    "print(\"Sample mean:\", mean)\n",
    "print(\"Standard deviation:\", std)\n",
    "print(\"95% confidence interval:\", confidence_interval)"
   ]
  },
  {
   "cell_type": "markdown",
   "id": "98b30a0a-eb7c-4ba5-bd1e-55fda894662f",
   "metadata": {},
   "source": [
    "**To calculate the confidence interval for the Glucose column in the diabetes dataset**"
   ]
  },
  {
   "cell_type": "markdown",
   "id": "9ce3af93-91d9-4a89-baca-72c274b8944b",
   "metadata": {},
   "source": [
    "Package required: `pip install pandas scipy`"
   ]
  },
  {
   "cell_type": "code",
   "execution_count": 12,
   "id": "a36f9890-1852-4055-8ca8-467be7c2f127",
   "metadata": {},
   "outputs": [
    {
     "name": "stdout",
     "output_type": "stream",
     "text": [
      "95% confidence interval for the 'Glucose' column is (118.63329633558247, 123.15576616441753)\n"
     ]
    }
   ],
   "source": [
    "import pandas as pd\n",
    "# Load the diabetes data from a csv file\n",
    "diabities_df = pd.read_csv(\"/workspaces/ImplementingStatisticsWithPython/data/chapter1/diabetes.csv\")\n",
    "# Calculate the mean and standard deviation of the 'Glucose' column\n",
    "mean = diabities_df['Glucose'].mean()\n",
    "std_dev = diabities_df['Glucose'].std()\n",
    "# Calculate the standard error\n",
    "std_err = std_dev / (len(diabities_df['Glucose']) ** 0.5)\n",
    "# Calculate the 95% Confidence Interval\n",
    "ci = stats.norm.interval(0.95, loc=mean, scale=std_err)\n",
    "print(f\"95% confidence interval for the 'Glucose' column is {ci}\")"
   ]
  },
  {
   "attachments": {},
   "cell_type": "markdown",
   "id": "93f3fba3-ccea-4829-99f3-4ccd708d0bb1",
   "metadata": {},
   "source": [
    "**Confidence Interval for Non-Normally Distributed Data bootstrap method**"
   ]
  },
  {
   "cell_type": "code",
   "execution_count": 25,
   "id": "6bbbb5f8-81c3-4429-9df7-2725f5c303a8",
   "metadata": {},
   "outputs": [
    {
     "name": "stdout",
     "output_type": "stream",
     "text": [
      "95% confidence interval : [1.614875 2.085   ]\n"
     ]
    }
   ],
   "source": [
    "import numpy as np\n",
    "def bootstrap(data, num_samples, confidence_level):\n",
    "    # Create an array to hold the bootstrap samples\n",
    "    bootstrap_samples = np.zeros(num_samples)\n",
    "    # Generate the samples\n",
    "    for i in range(num_samples):\n",
    "        sample = np.random.choice(data, len(data), replace=True)\n",
    "        bootstrap_samples[i] = np.mean(sample)\n",
    "    # Calculate the confidence interval\n",
    "    lower_percentile = (1 - confidence_level) / 2 * 100\n",
    "    upper_percentile = (1 + confidence_level) / 2 * 100\n",
    "    confidence_interval = np.percentile(bootstrap_samples, [lower_percentile, upper_percentile])\n",
    "    return confidence_interval\n",
    "\n",
    "# Suppose these are your load times\n",
    "load_times = [1.2, 0.9, 1.3, 2.1, 1.8, 2.4, 1.9, 2.2, 1.7, 2.3, 1.5, 2.0, 1.6, 2.5, 1.4, 2.6, 1.1, 2.7, 1.0, 2.8]\n",
    "# Calculate the confidence interval\n",
    "confidence_interval = bootstrap(load_times, 1000, 0.95)\n",
    "print(f\"95% confidence interval : {confidence_interval}\")"
   ]
  },
  {
   "cell_type": "markdown",
   "id": "9c52f049-11da-4462-9ff7-6b2df18b1f16",
   "metadata": {},
   "source": [
    "**Python program that calculates the confidence interval for a proportion. In this case, we’re estimating the proportion of people who prefer coffee over tea**"
   ]
  },
  {
   "cell_type": "code",
   "execution_count": 26,
   "id": "1b908f99-b0b2-4cdc-887e-ac0d0e3767e8",
   "metadata": {},
   "outputs": [
    {
     "name": "stdout",
     "output_type": "stream",
     "text": [
      "The 95.0% confidence interval for the proportion is (0.5, 0.69)\n"
     ]
    }
   ],
   "source": [
    "import scipy.stats as stats\n",
    "# Number of trials and number of successes\n",
    "n = 100\n",
    "x = 60\n",
    "# Calculate the proportion\n",
    "p = x / n\n",
    "# Confidence level\n",
    "confidence_level = 0.95\n",
    "# Calculate the confidence interval\n",
    "ci_low, ci_high = stats.binom.interval(confidence_level, n, p)\n",
    "print(f\"The {confidence_level*100}% confidence interval for the proportion is ({ci_low/n}, {ci_high/n})\")"
   ]
  },
  {
   "cell_type": "markdown",
   "id": "c951427e-078f-45b6-89bd-0b5358440824",
   "metadata": {},
   "source": [
    "**Python program that calculates the confidence interval for the difference between two population means, Neplease and Norwegians**"
   ]
  },
  {
   "cell_type": "code",
   "execution_count": 30,
   "id": "a60669ef-e3e4-4702-b166-a860a24dd3e6",
   "metadata": {},
   "outputs": [
    {
     "name": "stdout",
     "output_type": "stream",
     "text": [
      "The 95.0% confidence interval for the difference in means : (1.85, 3.03)\n"
     ]
    }
   ],
   "source": [
    "import numpy as np\n",
    "import scipy.stats as stats\n",
    "# Suppose these are your data\n",
    "norwegian_hours = np.random.normal(loc=10, scale=2, size=100)  # Normally distributed data with mean=10, std dev=2\n",
    "nepalese_hours = np.random.normal(loc=8, scale=2.5, size=100)  # Normally distributed data with mean=8, std dev=2.5\n",
    "# Calculate the means\n",
    "mean_norwegian = np.mean(norwegian_hours)\n",
    "mean_nepalese = np.mean(nepalese_hours)\n",
    "# Calculate the standard deviations\n",
    "std_norwegian = np.std(norwegian_hours, ddof=1)\n",
    "std_nepalese = np.std(nepalese_hours, ddof=1)\n",
    "# Calculate the standard error of the difference\n",
    "sed = np.sqrt(std_norwegian**2 / len(norwegian_hours) + std_nepalese**2 / len(nepalese_hours))\n",
    "# Confidence level\n",
    "confidence_level = 0.95\n",
    "# Calculate the confidence interval\n",
    "ci_low, ci_high = stats.norm.interval(confidence_level, loc=(mean_norwegian - mean_nepalese), scale=sed)\n",
    "print(f\"The {confidence_level*100}% confidence interval for the difference in means : ({ci_low:.2f}, {ci_high:.2f})\")"
   ]
  },
  {
   "cell_type": "markdown",
   "id": "e34fdb07-bc8a-44d7-b754-7228fcc00f8d",
   "metadata": {},
   "source": [
    "#### Confidence Intervals for Mean, Proportion and Differences "
   ]
  }
 ],
 "metadata": {
  "kernelspec": {
   "display_name": "Python 3 (ipykernel)",
   "language": "python",
   "name": "python3"
  },
  "language_info": {
   "codemirror_mode": {
    "name": "ipython",
    "version": 3
   },
   "file_extension": ".py",
   "mimetype": "text/x-python",
   "name": "python",
   "nbconvert_exporter": "python",
   "pygments_lexer": "ipython3",
   "version": "3.10.8"
  }
 },
 "nbformat": 4,
 "nbformat_minor": 5
}
