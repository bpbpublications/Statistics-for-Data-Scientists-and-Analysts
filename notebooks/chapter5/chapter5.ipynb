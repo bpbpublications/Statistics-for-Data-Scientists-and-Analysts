{
 "cells": [
  {
   "cell_type": "code",
   "execution_count": null,
   "metadata": {},
   "outputs": [],
   "source": [
    "Inferential  Statistics\n",
    "Estimation: Point Estimation and Interval Estimation\n",
    "Confidence Intervals: Interpretation,Examples\n",
    "Confidence Intervals for Mean, Proportion and Differences\n",
    "Margin of Error and Sample Size"
   ]
  }
 ],
 "metadata": {
  "language_info": {
   "name": "python"
  }
 },
 "nbformat": 4,
 "nbformat_minor": 2
}
