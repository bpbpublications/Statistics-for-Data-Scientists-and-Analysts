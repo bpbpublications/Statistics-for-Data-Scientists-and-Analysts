{
 "cells": [
  {
   "cell_type": "markdown",
   "id": "8ba547a1-ea04-4ec3-b82a-34e5a45d2d71",
   "metadata": {},
   "source": [
    "#### Point Estimate"
   ]
  },
  {
   "cell_type": "markdown",
   "id": "27cb10f2-b3fb-42f1-aa02-b3264fbd818b",
   "metadata": {},
   "source": [
    "**Point estimate of the expected lifespan of the product in general**"
   ]
  },
  {
   "cell_type": "code",
   "execution_count": 12,
   "id": "f4994953-ad91-4ba5-87e0-7432ac4d3244",
   "metadata": {},
   "outputs": [
    {
     "name": "stdout",
     "output_type": "stream",
     "text": [
      "Lifespan of the product: [450.72446312 426.40824963 582.40674661 508.21138777 528.36451389\n",
      " 488.86624497 482.32841256 419.17629057 485.40813186 461.92538941]\n",
      "Point estimate for the average lifespan of the product: 483.3819830395848\n"
     ]
    }
   ],
   "source": [
    "import numpy as np\n",
    "\n",
    "# Simulate product lifespans for a sample of 100 products\n",
    "product_lifespans = np.random.normal(500, 50, 10)\n",
    "\n",
    "# Print the lifespan of the product\n",
    "print(\"Lifespan of the product:\", product_lifespans)\n",
    "\n",
    "# Calculate the average lifespan of the sample\n",
    "average_lifespan = np.mean(product_lifespans)\n",
    "\n",
    "# Print the point estimate for the average lifespan of the product\n",
    "print(\"Point estimate for the average lifespan of the product:\", average_lifespan)\n"
   ]
  },
  {
   "cell_type": "markdown",
   "id": "8b181afb-d712-4d4f-9230-318f3e38033b",
   "metadata": {},
   "source": [
    "**Point estimate of the total expenditure of all households in the city**"
   ]
  },
  {
   "cell_type": "code",
   "execution_count": 8,
   "id": "5664b4ea-746c-44f2-a96f-a5543e3b67a8",
   "metadata": {},
   "outputs": [
    {
     "name": "stdout",
     "output_type": "stream",
     "text": [
      "The point estimate of the total expenditure of all households in the city is: $298.64\n"
     ]
    }
   ],
   "source": [
    "import numpy as np\n",
    "\n",
    "# Set the seed for reproducibility\n",
    "np.random.seed(0)\n",
    "\n",
    "# Assume the average household spending on groceries is between $100 and $500\n",
    "expenditures = np.random.uniform(low=100, high=500, size=500)\n",
    "\n",
    "# Calculate the point estimate (average expenditure of the sample)\n",
    "point_estimate = np.mean(expenditures)\n",
    "\n",
    "print(f\"The point estimate of the total expenditure of all households in the city is: ${point_estimate:.2f}\")"
   ]
  },
  {
   "cell_type": "markdown",
   "id": "188e6be4-30cd-493b-b8fd-5b714bf2d6a8",
   "metadata": {},
   "source": [
    "**Point estimate based on mean, median, mode, variance standard deviation, proportion of the sample**"
   ]
  },
  {
   "cell_type": "code",
   "execution_count": 11,
   "id": "daac0cdb-87e5-4748-a951-9698d2da881f",
   "metadata": {},
   "outputs": [
    {
     "name": "stdout",
     "output_type": "stream",
     "text": [
      "Point estimate of household spending using mean: 227.706\n",
      "Point estimate of household spending using median: 229.735\n",
      "Point estimate of household spending using mode: 228.24\n",
      "Point estimate of household spending using variance: 305.40190399999994\n",
      "Point estimate of household spending using standard deviation: 17.475751886542678\n",
      "Proportion of households spending over $213: 0.7\n"
     ]
    }
   ],
   "source": [
    "import numpy as np\n",
    "\n",
    "# Sample data for household spending on groceries\n",
    "household_spending = np.array([250.32, 195.87, 228.24, 212.81, 233.99, 241.45, 253.34, 208.53, 231.23, 221.28])\n",
    "\n",
    "# Calculate point estimate for household spending using mean\n",
    "mean_household_spending = np.mean(household_spending)\n",
    "print(\"Point estimate of household spending using mean:\", mean_household_spending)\n",
    "\n",
    "# Calculate point estimate for household spending using median\n",
    "median_household_spending = np.median(household_spending)\n",
    "print(\"Point estimate of household spending using median:\", median_household_spending)\n",
    "\n",
    "# Calculate point estimate for household spending using mode\n",
    "mode_household_spending = np.argmax(np.histogram(household_spending)[0])\n",
    "print(\"Point estimate of household spending using mode:\", household_spending[mode_household_spending])\n",
    "\n",
    "# Calculate point estimate for household spending using variance\n",
    "variance_household_spending = np.var(household_spending)\n",
    "print(\"Point estimate of household spending using variance:\", variance_household_spending)\n",
    "\n",
    "# Calculate point estimate for household spending using standard deviation\n",
    "std_dev_household_spending = np.std(household_spending)\n",
    "print(\"Point estimate of household spending using standard deviation:\", std_dev_household_spending)\n",
    "\n",
    "# Calculate point estimate for proportion of households spending over $213\n",
    "proportion_household_spending_over_213 = len(household_spending[household_spending > 213]) / len(household_spending)\n",
    "print(\"Proportion of households spending over $213:\", proportion_household_spending_over_213)"
   ]
  },
  {
   "cell_type": "markdown",
   "id": "2bc87f24-dab9-4bc4-a9c5-800400592b77",
   "metadata": {},
   "source": [
    "#### Interval estimate"
   ]
  },
  {
   "cell_type": "code",
   "execution_count": 2,
   "id": "d4ec65c0-8d7d-4c1b-830c-507dce19b726",
   "metadata": {},
   "outputs": [
    {
     "name": "stdout",
     "output_type": "stream",
     "text": [
      "95% confidence interval for the average lifespan of the product: (493.05099292151, 507.0088497432222)\n"
     ]
    }
   ],
   "source": [
    "'''\n",
    "This code first simulates 200 product lifespans from a normal distribution with a mean of 500 and a standard deviation of 50. \n",
    "Then, it calculates the sample mean and standard deviation of the simulated data. Finally, it calculates the 95% confidence interval using the \n",
    "sample mean, standard deviation, and confidence level. The confidence interval is a range of values that is likely to contain the true mean\n",
    "lifespan of the product.\n",
    "'''\n",
    "\n",
    "import numpy as np\n",
    "# Simulate product lifespans for a sample of 200 products\n",
    "product_lifespans = np.random.normal(500, 50, 200)\n",
    "# Calculate the sample mean and standard deviation\n",
    "sample_mean = np.mean(product_lifespans)\n",
    "sample_std = np.std(product_lifespans)\n",
    "# Calculate the 95% confidence interval\n",
    "confidence_level = 0.95\n",
    "margin_of_error = 1.96 * sample_std / np.sqrt(200)\n",
    "lower_bound = sample_mean - margin_of_error\n",
    "upper_bound = sample_mean + margin_of_error\n",
    "\n",
    "# Print the 95% confidence interval\n",
    "print(\n",
    "    \"95% confidence interval for the average lifespan of the product:\", (lower_bound, upper_bound)\n",
    ")"
   ]
  },
  {
   "cell_type": "code",
   "execution_count": 4,
   "id": "7e834793-6d79-4491-b0d8-4ef336378ac0",
   "metadata": {},
   "outputs": [
    {
     "name": "stdout",
     "output_type": "stream",
     "text": [
      "95% confidence interval for the average household spending: (216.87441676204998, 238.53758323795)\n"
     ]
    }
   ],
   "source": [
    "'''\n",
    "This code first calculates the sample mean and standard deviation of the household spending data. \n",
    "Then, it calculates the 95% confidence interval using the sample mean, standard deviation, and confidence level. \n",
    "The confidence interval is a range of values that is likely to contain the true average household spending in the population.\n",
    "'''\n",
    "\n",
    "import numpy as np\n",
    "# Sample data for household spending on groceries\n",
    "household_spending = np.array([250.32, 195.87, 228.24, 212.81, 233.99, 241.45, 253.34, 208.53, 231.23, 221.28])\n",
    "# Calculate the sample mean and standard deviation\n",
    "sample_mean = np.mean(household_spending)\n",
    "sample_std = np.std(household_spending)\n",
    "# Calculate the 95% confidence interval\n",
    "confidence_level = 0.95\n",
    "margin_of_error = 1.96 * sample_std / np.sqrt(len(household_spending))\n",
    "lower_bound = sample_mean - margin_of_error\n",
    "upper_bound = sample_mean + margin_of_error\n",
    "# Print the 95% confidence interval\n",
    "print(\n",
    "    \"95% confidence interval for the average household spending:\", (lower_bound, upper_bound)\n",
    ")"
   ]
  },
  {
   "cell_type": "code",
   "execution_count": null,
   "id": "34449677-2a42-4ab6-9dfa-2ab7fd2a74f2",
   "metadata": {},
   "outputs": [],
   "source": []
  }
 ],
 "metadata": {
  "kernelspec": {
   "display_name": "Python 3 (ipykernel)",
   "language": "python",
   "name": "python3"
  },
  "language_info": {
   "codemirror_mode": {
    "name": "ipython",
    "version": 3
   },
   "file_extension": ".py",
   "mimetype": "text/x-python",
   "name": "python",
   "nbconvert_exporter": "python",
   "pygments_lexer": "ipython3",
   "version": "3.10.8"
  }
 },
 "nbformat": 4,
 "nbformat_minor": 5
}
