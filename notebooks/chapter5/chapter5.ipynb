{
 "cells": [
  {
   "cell_type": "markdown",
   "id": "8ba547a1-ea04-4ec3-b82a-34e5a45d2d71",
   "metadata": {},
   "source": [
    "#### Point Estimate"
   ]
  },
  {
   "cell_type": "markdown",
   "id": "27cb10f2-b3fb-42f1-aa02-b3264fbd818b",
   "metadata": {},
   "source": [
    "**Point estimate of the expected lifespan of the product in general**"
   ]
  },
  {
   "cell_type": "code",
   "execution_count": 10,
   "id": "f4994953-ad91-4ba5-87e0-7432ac4d3244",
   "metadata": {},
   "outputs": [
    {
     "name": "stdout",
     "output_type": "stream",
     "text": [
      "Lifespan of the product: [539.84, 458.1, 474.71, 560.67, 465.95, 474.46, 545.27, 419.74, 447.93, 471.52]\n",
      "Point estimate for the average lifespan of the product:485.82\n"
     ]
    }
   ],
   "source": [
    "import numpy as np\n",
    "# Simulate product lifespans for a sample of 10 products\n",
    "product_lifespans = [539.84,458.10,474.71,560.67,465.95,474.46,545.27,419.74,447.93,471.52]\n",
    "# Print the lifespan of the product\n",
    "print(\"Lifespan of the product:\", product_lifespans)\n",
    "# Calculate the average lifespan of the sample\n",
    "average_lifespan = np.mean(product_lifespans)\n",
    "# Print the point estimate for the average lifespan of the product\n",
    "print(f\"Point estimate for the average lifespan of the product:{average_lifespan:.2f}\")"
   ]
  },
  {
   "attachments": {},
   "cell_type": "markdown",
   "id": "8b181afb-d712-4d4f-9230-318f3e38033b",
   "metadata": {},
   "source": [
    "**Point estimate of the total expenditure of all households in the Oslo**"
   ]
  },
  {
   "cell_type": "code",
   "execution_count": 16,
   "id": "5664b4ea-746c-44f2-a96f-a5543e3b67a8",
   "metadata": {},
   "outputs": [
    {
     "name": "stdout",
     "output_type": "stream",
     "text": [
      "Point estimate of the total expenditure of all households in the Oslo: NOK 298.64\n"
     ]
    }
   ],
   "source": [
    "import numpy as np\n",
    "# Set the seed for reproducibility\n",
    "np.random.seed(0)\n",
    "# Assume the average household spending on groceries is between $100 and $500\n",
    "expenditures = np.random.uniform(low=100, high=500, size=500)\n",
    "# Calculate the point estimate (average expenditure of the sample)\n",
    "point_estimate = np.mean(expenditures)\n",
    "print(f\"Point estimate of the total expenditure of all households in the Oslo: NOK {point_estimate:.2f}\")"
   ]
  },
  {
   "cell_type": "markdown",
   "id": "188e6be4-30cd-493b-b8fd-5b714bf2d6a8",
   "metadata": {},
   "source": [
    "**Point estimate based on mean, median, mode, variance standard deviation, proportion of the sample**"
   ]
  },
  {
   "cell_type": "code",
   "execution_count": 20,
   "id": "daac0cdb-87e5-4748-a951-9698d2da881f",
   "metadata": {},
   "outputs": [
    {
     "name": "stdout",
     "output_type": "stream",
     "text": [
      "Point estimate of household spending using mean:227.706\n",
      "Point estimate of household spending using median:229.735\n",
      "Point estimate of household spending using mode:228.24\n",
      "Point estimate of household spending using variance:305.40\n",
      "Point estimate of household spending using standard deviation:17.48\n",
      "Proportion of households spending over NOK 213: 0.7\n"
     ]
    }
   ],
   "source": [
    "import numpy as np\n",
    "# Sample data for household spending on groceries\n",
    "household_spending = np.array([250.32, 195.87, 228.24, 212.81, 233.99, 241.45, 253.34, 208.53, 231.23, 221.28])\n",
    "# Calculate point estimate for household spending using mean\n",
    "mean_household_spending = np.mean(household_spending)\n",
    "print(f\"Point estimate of household spending using mean:{mean_household_spending}\")\n",
    "# Calculate point estimate for household spending using median\n",
    "median_household_spending = np.median(household_spending)\n",
    "print(f\"Point estimate of household spending using median:{median_household_spending}\")\n",
    "# Calculate point estimate for household spending using mode\n",
    "mode_household_spending = np.argmax(np.histogram(household_spending)[0])\n",
    "print(f\"Point estimate of household spending using mode:{household_spending[mode_household_spending]}\")\n",
    "# Calculate point estimate for household spending using variance\n",
    "variance_household_spending = np.var(household_spending)\n",
    "print(f\"Point estimate of household spending using variance:{variance_household_spending:.2f}\")\n",
    "# Calculate point estimate for household spending using standard deviation\n",
    "std_dev_household_spending = np.std(household_spending)\n",
    "print(f\"Point estimate of household spending using standard deviation:{std_dev_household_spending:.2f}\")\n",
    "# Calculate point estimate for proportion of households spending over $213\n",
    "proportion_household_spending_over_213 = len(household_spending[household_spending > 213]) / len(household_spending)\n",
    "print(\"Proportion of households spending over NOK 213:\", proportion_household_spending_over_213)"
   ]
  },
  {
   "cell_type": "markdown",
   "id": "2bc87f24-dab9-4bc4-a9c5-800400592b77",
   "metadata": {},
   "source": [
    "#### Interval estimate"
   ]
  },
  {
   "cell_type": "markdown",
   "id": "c8f4e1b2-4022-4ad0-8204-98cd532fcdac",
   "metadata": {},
   "source": [
    "**Estimate an interval of average lifespan of the product**"
   ]
  },
  {
   "cell_type": "code",
   "execution_count": 28,
   "id": "d4ec65c0-8d7d-4c1b-830c-507dce19b726",
   "metadata": {},
   "outputs": [
    {
     "name": "stdout",
     "output_type": "stream",
     "text": [
      "Lifespan of the product: [546.83712318 570.6163853  381.52065474 543.20261502 388.01979707\n",
      " 520.07495275 561.24352821 503.24280532 436.01554134 470.72843979\n",
      " 486.91772771 490.88776081 489.85515796 494.50586103 510.67400245\n",
      " 439.57131731 487.89900851 575.91305852 480.76772884 477.80819534]\n",
      "95% confidence interval for the average lifespan of the product: (469.90930134271343, 515.7208647778637)\n"
     ]
    }
   ],
   "source": [
    "import numpy as np\n",
    "# Simulate product lifespans for a sample of 20 products\n",
    "product_lifespans = np.random.normal(500, 50, 20)\n",
    "# Print the lifespan of the product\n",
    "print(\"Lifespan of the product:\", product_lifespans)\n",
    "# Calculate the sample mean and standard deviation\n",
    "sample_mean = np.mean(product_lifespans)\n",
    "sample_std = np.std(product_lifespans)\n",
    "# Calculate the 95% confidence interval\n",
    "confidence_level = 0.95\n",
    "margin_of_error = 1.96 * sample_std / np.sqrt(20)\n",
    "lower_bound = sample_mean - margin_of_error\n",
    "upper_bound = sample_mean + margin_of_error\n",
    "# Print the 95% confidence interval\n",
    "print(\n",
    "    \"95% confidence interval for the average lifespan of the product:\", (lower_bound, upper_bound)\n",
    ")"
   ]
  },
  {
   "cell_type": "markdown",
   "id": "27b6f090-6d21-4c9c-8f59-fe1e6dba089a",
   "metadata": {},
   "source": [
    "**Estimate an interval of average household spending on groceries**"
   ]
  },
  {
   "cell_type": "code",
   "execution_count": 31,
   "id": "7e834793-6d79-4491-b0d8-4ef336378ac0",
   "metadata": {},
   "outputs": [
    {
     "name": "stdout",
     "output_type": "stream",
     "text": [
      "95% confidence interval for the average household spending: (216.87441676204998, 238.53758323795)\n"
     ]
    }
   ],
   "source": [
    "import numpy as np\n",
    "# Sample data for household spending on groceries\n",
    "household_spending = np.array([250.32, 195.87, 228.24, 212.81, 233.99, 241.45, 253.34, 208.53, 231.23, 221.28])\n",
    "# Calculate the sample mean and standard deviation\n",
    "sample_mean = np.mean(household_spending)\n",
    "sample_std = np.std(household_spending)\n",
    "# Calculate the 95% confidence interval\n",
    "confidence_level = 0.95\n",
    "margin_of_error = 1.96 * sample_std / np.sqrt(len(household_spending))\n",
    "lower_bound = sample_mean - margin_of_error\n",
    "upper_bound = sample_mean + margin_of_error\n",
    "# Print the 95% confidence interval\n",
    "print(\n",
    "    \"95% confidence interval for the average household spending:\", (lower_bound, upper_bound)\n",
    ")"
   ]
  },
  {
   "cell_type": "markdown",
   "id": "fa98e581-91e6-42b8-b853-5994eeb44e33",
   "metadata": {},
   "source": [
    "#### Standard Error and Margin of Error "
   ]
  },
  {
   "cell_type": "markdown",
   "id": "14ba06d6-1f40-442c-918d-0e0d44810d4b",
   "metadata": {},
   "source": [
    "**Standard of error**"
   ]
  },
  {
   "cell_type": "code",
   "execution_count": 32,
   "id": "be5965b4-c5fe-455c-a0d3-dbdde0bfc183",
   "metadata": {},
   "outputs": [
    {
     "name": "stdout",
     "output_type": "stream",
     "text": [
      "Standard error: 1.5\n"
     ]
    }
   ],
   "source": [
    "import math\n",
    "# Sample size\n",
    "n = 100\n",
    "# Sample mean\n",
    "mean = 160\n",
    "# Sample standard deviation\n",
    "sd = 15\n",
    "# Standard error\n",
    "se = sd / math.sqrt(n)\n",
    "# Print standard error\n",
    "print(\"Standard error:\", se)"
   ]
  },
  {
   "cell_type": "markdown",
   "id": "3e2d2561-52ea-4c92-8ef0-539934a20727",
   "metadata": {},
   "source": [
    "**Margin of Error**"
   ]
  },
  {
   "cell_type": "code",
   "execution_count": 34,
   "id": "a76d9400-7f59-46d4-9c08-bf93e04c98be",
   "metadata": {},
   "outputs": [
    {
     "name": "stdout",
     "output_type": "stream",
     "text": [
      "Margin of error: 2.94\n",
      "Confidence interval: (157.06, 162.94)\n"
     ]
    }
   ],
   "source": [
    "import math\n",
    "# Sample size\n",
    "n = 100\n",
    "# Sample mean\n",
    "mean = 160\n",
    "# Sample standard deviation\n",
    "sd = 15\n",
    "# Z-score for 95% confidence\n",
    "z_score = 1.96\n",
    "# Margin of error\n",
    "moe = z_score * sd / math.sqrt(n)\n",
    "# Print margin of error\n",
    "print(\"Margin of error:\", moe)\n",
    "# Calculate confidence interval\n",
    "confidence_interval = (mean - moe, mean + moe)\n",
    "# Print confidence interval\n",
    "print(\"Confidence interval:\", confidence_interval)"
   ]
  },
  {
   "cell_type": "markdown",
   "id": "de0b0872-a32c-444d-8fd5-d567d04a4997",
   "metadata": {},
   "source": [
    "**Calculating Standard Error and Margin of Error for a Survey**"
   ]
  },
  {
   "cell_type": "code",
   "execution_count": 8,
   "id": "e510e912-27ad-4674-a2c8-a56dc2c0674f",
   "metadata": {},
   "outputs": [
    {
     "name": "stdout",
     "output_type": "stream",
     "text": [
      "Standard Error:0.09\n",
      "Margin of Error:0.19\n"
     ]
    }
   ],
   "source": [
    "import numpy as np\n",
    "# Calculate sample mean\n",
    "sample_mean = 0.6\n",
    "# Calculate sample standard deviation\n",
    "sample_std = np.std([1 if voter == 1 else 0 for voter in [support for support in data]])\n",
    "# Calculate standard error\n",
    "standard_error = sample_std / np.sqrt(len(data))\n",
    "print(f\"Standard Error:{standard_error:.2f}\")\n",
    "# Find z-score for 95% confidence level\n",
    "z_score = 1.96\n",
    "# Calculate margin of error\n",
    "margin_of_error = z_score * standard_error\n",
    "print(f\"Margin of Error:{margin_of_error:.2f}\")"
   ]
  },
  {
   "cell_type": "markdown",
   "id": "ad330a25-30be-4227-9c90-912862774b80",
   "metadata": {},
   "source": [
    "#### Confidence Intervals: Types, Interpretation"
   ]
  },
  {
   "cell_type": "code",
   "execution_count": 10,
   "id": "cc92ea27-6e35-4d93-a542-44a4e45d03e7",
   "metadata": {},
   "outputs": [
    {
     "name": "stdout",
     "output_type": "stream",
     "text": [
      "Sample mean: 5.55\n",
      "Standard deviation: 0.2872281323269015\n",
      "95% confidence interval: (5.371977430445669, 5.728022569554331)\n"
     ]
    }
   ],
   "source": [
    "import numpy as np\n",
    "from scipy import stats\n",
    "# Sample data\n",
    "data = np.array([5.1, 5.2, 5.3, 5.4, 5.5, 5.6, 5.7, 5.8, 5.9, 6])\n",
    "# Calculate sample mean and standard deviation\n",
    "mean = np.mean(data)\n",
    "std = np.std(data)\n",
    "# Calculate confidence interval with 95% confidence level\n",
    "margin_of_error = stats.norm.ppf(0.975) * std / np.sqrt(len(data))\n",
    "confidence_interval = (mean - margin_of_error, mean + margin_of_error)\n",
    "print(\"Sample mean:\", mean)\n",
    "print(\"Standard deviation:\", std)\n",
    "print(\"95% confidence interval:\", confidence_interval)"
   ]
  },
  {
   "cell_type": "markdown",
   "id": "98b30a0a-eb7c-4ba5-bd1e-55fda894662f",
   "metadata": {},
   "source": [
    "**To calculate the confidence interval for the Glucose column in the diabetes dataset**"
   ]
  },
  {
   "cell_type": "markdown",
   "id": "9ce3af93-91d9-4a89-baca-72c274b8944b",
   "metadata": {},
   "source": [
    "Package required: `pip install pandas scipy`"
   ]
  },
  {
   "cell_type": "code",
   "execution_count": 10,
   "id": "a36f9890-1852-4055-8ca8-467be7c2f127",
   "metadata": {},
   "outputs": [
    {
     "name": "stdout",
     "output_type": "stream",
     "text": [
      "95% confidence interval for the 'Age' column is (32.40915352661263, 34.0726173067207)\n"
     ]
    }
   ],
   "source": [
    "import pandas as pd\n",
    "# Load the diabetes data from a csv file\n",
    "diabities_df = pd.read_csv(\"/workspaces/ImplementingStatisticsWithPython/data/chapter1/diabetes.csv\")\n",
    "# Calculate the mean and standard deviation of the 'Age' column\n",
    "mean = diabities_df['Age'].mean()\n",
    "std_dev = diabities_df['Age'].std()\n",
    "# Calculate the standard error\n",
    "std_err = std_dev / (len(diabities_df['Age']) ** 0.5)\n",
    "# Calculate the 95% Confidence Interval\n",
    "ci = stats.norm.interval(0.95, loc=mean, scale=std_err)\n",
    "print(f\"95% confidence interval for the 'Age' column is {ci}\")"
   ]
  },
  {
   "attachments": {},
   "cell_type": "markdown",
   "id": "93f3fba3-ccea-4829-99f3-4ccd708d0bb1",
   "metadata": {},
   "source": [
    "**Confidence Interval for Non-Normally Distributed Data bootstrap method**"
   ]
  },
  {
   "cell_type": "code",
   "execution_count": 25,
   "id": "6bbbb5f8-81c3-4429-9df7-2725f5c303a8",
   "metadata": {},
   "outputs": [
    {
     "name": "stdout",
     "output_type": "stream",
     "text": [
      "95% confidence interval : [1.614875 2.085   ]\n"
     ]
    }
   ],
   "source": [
    "import numpy as np\n",
    "def bootstrap(data, num_samples, confidence_level):\n",
    "    # Create an array to hold the bootstrap samples\n",
    "    bootstrap_samples = np.zeros(num_samples)\n",
    "    # Generate the samples\n",
    "    for i in range(num_samples):\n",
    "        sample = np.random.choice(data, len(data), replace=True)\n",
    "        bootstrap_samples[i] = np.mean(sample)\n",
    "    # Calculate the confidence interval\n",
    "    lower_percentile = (1 - confidence_level) / 2 * 100\n",
    "    upper_percentile = (1 + confidence_level) / 2 * 100\n",
    "    confidence_interval = np.percentile(bootstrap_samples, [lower_percentile, upper_percentile])\n",
    "    return confidence_interval\n",
    "\n",
    "# Suppose these are your load times\n",
    "load_times = [1.2, 0.9, 1.3, 2.1, 1.8, 2.4, 1.9, 2.2, 1.7, 2.3, 1.5, 2.0, 1.6, 2.5, 1.4, 2.6, 1.1, 2.7, 1.0, 2.8]\n",
    "# Calculate the confidence interval\n",
    "confidence_interval = bootstrap(load_times, 1000, 0.95)\n",
    "print(f\"95% confidence interval : {confidence_interval}\")"
   ]
  },
  {
   "cell_type": "markdown",
   "id": "9c52f049-11da-4462-9ff7-6b2df18b1f16",
   "metadata": {},
   "source": [
    "**Python program that calculates the confidence interval for a proportion. In this case, we’re estimating the proportion of people who prefer coffee over tea**"
   ]
  },
  {
   "cell_type": "code",
   "execution_count": 26,
   "id": "1b908f99-b0b2-4cdc-887e-ac0d0e3767e8",
   "metadata": {},
   "outputs": [
    {
     "name": "stdout",
     "output_type": "stream",
     "text": [
      "The 95.0% confidence interval for the proportion is (0.5, 0.69)\n"
     ]
    }
   ],
   "source": [
    "import scipy.stats as stats\n",
    "# Number of trials and number of successes\n",
    "n = 100\n",
    "x = 60\n",
    "# Calculate the proportion\n",
    "p = x / n\n",
    "# Confidence level\n",
    "confidence_level = 0.95\n",
    "# Calculate the confidence interval\n",
    "ci_low, ci_high = stats.binom.interval(confidence_level, n, p)\n",
    "print(f\"The {confidence_level*100}% confidence interval for the proportion is ({ci_low/n}, {ci_high/n})\")"
   ]
  },
  {
   "cell_type": "markdown",
   "id": "c951427e-078f-45b6-89bd-0b5358440824",
   "metadata": {},
   "source": [
    "**Python program that calculates the confidence interval for the difference between two population means, Neplease and Norwegians**"
   ]
  },
  {
   "cell_type": "code",
   "execution_count": 4,
   "id": "a60669ef-e3e4-4702-b166-a860a24dd3e6",
   "metadata": {},
   "outputs": [
    {
     "name": "stdout",
     "output_type": "stream",
     "text": [
      "The 95.0% confidence interval for the difference in means : (1.44, 2.65)\n"
     ]
    }
   ],
   "source": [
    "import numpy as np\n",
    "import scipy.stats as stats\n",
    "# Suppose these are your data\n",
    "norwegian_hours = np.random.normal(loc=10, scale=2, size=100)  # Normally distributed data with mean=10, std dev=2\n",
    "nepalese_hours = np.random.normal(loc=8, scale=2.5, size=100)  # Normally distributed data with mean=8, std dev=2.5\n",
    "# Calculate the means\n",
    "mean_norwegian = np.mean(norwegian_hours)\n",
    "mean_nepalese = np.mean(nepalese_hours)\n",
    "# Calculate the standard deviations\n",
    "std_norwegian = np.std(norwegian_hours, ddof=1)\n",
    "std_nepalese = np.std(nepalese_hours, ddof=1)\n",
    "# Calculate the standard error of the difference\n",
    "sed = np.sqrt(std_norwegian**2 / len(norwegian_hours) + std_nepalese**2 / len(nepalese_hours))\n",
    "# Confidence level\n",
    "confidence_level = 0.95\n",
    "# Calculate the confidence interval\n",
    "ci_low, ci_high = stats.norm.interval(confidence_level, loc=(mean_norwegian - mean_nepalese), scale=sed)\n",
    "print(f\"The {confidence_level*100}% confidence interval for the difference in means : ({ci_low:.2f}, {ci_high:.2f})\")"
   ]
  },
  {
   "cell_type": "markdown",
   "id": "e34fdb07-bc8a-44d7-b754-7228fcc00f8d",
   "metadata": {},
   "source": [
    "#### Confidence Intervals for Mean, Proportion and Differences "
   ]
  },
  {
   "cell_type": "code",
   "execution_count": null,
   "id": "b688d325-9f7a-4c3b-b3e7-ec77769adf44",
   "metadata": {},
   "outputs": [],
   "source": []
  },
  {
   "cell_type": "markdown",
   "id": "136ad98a-b4b8-4ef6-8f1f-710ae9c7664e",
   "metadata": {},
   "source": [
    "**T-test and confidence interval relation**"
   ]
  },
  {
   "cell_type": "code",
   "execution_count": 2,
   "id": "c68aa09d-0342-42a8-b80d-d9a81ac23d82",
   "metadata": {},
   "outputs": [
    {
     "name": "stdout",
     "output_type": "stream",
     "text": [
      "95% confidence interval for population mean: (94.6838233092545, 101.22728780185659)\n"
     ]
    }
   ],
   "source": [
    "import numpy as np\n",
    "from scipy import stats\n",
    "# Sample heights of 50 male basketball players\n",
    "heights = np.array([75, 78, 76, 79, 80, 81, 82, 83, 84, 85, 86, 87, 88, 89, 90, 91, 92, 93, 94, 95,96, 97, 98, 99, 100, 101, 102, 103, 104, 105, 106, 107, 108, 109, 110, 111, 112, 113, 114,115, 116, 117, 118, 119, 120])\n",
    "# Calculate sample mean and standard deviation\n",
    "mean = heights.mean()\n",
    "std = heights.std()\n",
    "\n",
    "# Calculate degrees of freedom\n",
    "df = len(heights) - 1\n",
    "# Calculate t-statistic for 95% confidence level\n",
    "t = stats.t.ppf(0.95, df)\n",
    "# Calculate standard error of the mean\n",
    "sem = std / np.sqrt(len(heights))\n",
    "# Calculate confidence interval\n",
    "ci = (mean - t * sem, mean + t * sem)\n",
    "print(\"95% confidence interval for population mean:\", ci)"
   ]
  },
  {
   "cell_type": "markdown",
   "id": "9c065bb7-9d6f-4315-b579-7e1f7996f4cb",
   "metadata": {},
   "source": [
    "**P-value and confidence interval relation**"
   ]
  },
  {
   "cell_type": "code",
   "execution_count": 4,
   "id": "31cbd1b2-7475-45ec-bb72-0439fdc228c7",
   "metadata": {},
   "outputs": [
    {
     "name": "stdout",
     "output_type": "stream",
     "text": [
      "95% confidence interval for the population mean : (179.31, 181.29)\n",
      "P-value for the one-sample t-test : 0.5562\n",
      "We fail to reject the null hypothesis that the population mean is 180\n"
     ]
    }
   ],
   "source": [
    "# import numpy and scipy libraries\n",
    "import numpy as np\n",
    "import scipy.stats as st\n",
    "# set the random seed for reproducibility\n",
    "np.random.seed(0)\n",
    "# generate a random sample of 100 heights from a normal distribution\n",
    "# with mean 180 and standard deviation 5\n",
    "heights = np.random.normal(180, 5, 100)\n",
    "# calculate the sample mean and standard deviation\n",
    "mean = np.mean(heights)\n",
    "std = np.std(heights, ddof=1)\n",
    "# calculate the 95% confidence interval for the population mean\n",
    "# using the formula: mean +/- 1.96 * std / sqrt(n)\n",
    "n = len(heights)\n",
    "lower, upper = st.norm.interval(0.95, loc=mean, scale=std/np.sqrt(n))\n",
    "# print the confidence interval\n",
    "print(f\"95% confidence interval for the population mean : ({lower:.2f}, {upper:.2f})\")\n",
    "# test the null hypothesis that the population mean is 180\n",
    "# using a one-sample t-test\n",
    "t_stat, p_value = st.ttest_1samp(heights, 180)\n",
    "# print the p-value\n",
    "print(f\"P-value for the one-sample t-test : {p_value:.4f}\")\n",
    "# compare the p-value with the significance level of 0.05\n",
    "# and draw the conclusion\n",
    "if p_value < 0.05:\n",
    "    print(\"We reject the null hypothesis that the population mean is 180\")\n",
    "else:\n",
    "    print(\"We fail to reject the null hypothesis that the population mean is 180\")"
   ]
  },
  {
   "cell_type": "code",
   "execution_count": null,
   "id": "00dc5011-054b-42ab-a4ba-9a378f910db6",
   "metadata": {},
   "outputs": [],
   "source": [
    "**1**"
   ]
  },
  {
   "cell_type": "code",
   "execution_count": 9,
   "id": "4428bf66-ec69-4afd-86ad-6575033738e6",
   "metadata": {},
   "outputs": [
    {
     "name": "stdout",
     "output_type": "stream",
     "text": [
      "Confidence interval: (171.67074705193303, 193.32925294806697)\n"
     ]
    }
   ],
   "source": [
    "heights = [160, 165, 170, 175, 180, 185, 190, 195, 200, 205]\n",
    "import numpy as np\n",
    "import scipy.stats as st\n",
    "mean = np.mean(heights) # sample mean\n",
    "se = st.sem(heights) # standard error of the mean\n",
    "df = len(heights) - 1 # degrees of freedom\n",
    "ci = st.t.interval(confidence=0.95, df=df, loc=mean, scale=se) # confidence interval\n",
    "print(f\"Confidence interval: {ci}\")"
   ]
  },
  {
   "cell_type": "code",
   "execution_count": null,
   "id": "ea4488aa-63b4-4250-9b96-6fb72748fa1a",
   "metadata": {},
   "outputs": [],
   "source": [
    "**2**"
   ]
  },
  {
   "cell_type": "code",
   "execution_count": 12,
   "id": "01eb1034-24e1-43ae-9f5c-408fcafeaf34",
   "metadata": {},
   "outputs": [
    {
     "name": "stdout",
     "output_type": "stream",
     "text": [
      "Confidence interval: (26.0, 39.0)\n"
     ]
    }
   ],
   "source": [
    "import scipy.stats as st\n",
    "preferences = ['chocolate', 'vanilla', 'chocolate', 'chocolate', 'vanilla', 'chocolate', 'chocolate', 'vanilla', 'chocolate', 'chocolate',\n",
    "               'vanilla', 'chocolate', 'chocolate', 'vanilla', 'chocolate', 'chocolate', 'vanilla', 'chocolate', 'chocolate', 'vanilla',\n",
    "               'chocolate', 'chocolate', 'vanilla', 'chocolate', 'chocolate', 'vanilla', 'chocolate', 'chocolate', 'vanilla', 'chocolate',\n",
    "               'chocolate', 'vanilla', 'chocolate', 'chocolate', 'vanilla', 'chocolate', 'chocolate', 'vanilla', 'chocolate', 'chocolate',\n",
    "               'vanilla', 'chocolate', 'chocolate', 'vanilla', 'chocolate', 'chocolate', 'vanilla', 'chocolate', 'chocolate', 'vanilla']\n",
    "n = len(preferences) # sample size\n",
    "p = preferences.count('chocolate') / n # sample proportion\n",
    "ci = st.binom.interval(confidence=0.95, n=n, p=p) # confidence interval\n",
    "print(f\"Confidence interval: {ci}\")"
   ]
  },
  {
   "cell_type": "code",
   "execution_count": null,
   "id": "c7ef184c-b2de-4dfc-8626-693d47944227",
   "metadata": {},
   "outputs": [],
   "source": [
    "**3**"
   ]
  },
  {
   "cell_type": "code",
   "execution_count": 2,
   "id": "b277d8b2-9550-4adf-899e-eb5a919fa6bf",
   "metadata": {},
   "outputs": [],
   "source": [
    "male_heights = [170, 175, 180, 185, 190, 195, 200, 205, 210, 215]\n",
    "female_heights = [160, 165, 170, 175, 180, 185, 190, 195, 200, 205]"
   ]
  },
  {
   "cell_type": "code",
   "execution_count": 3,
   "id": "80a0d9ec-a115-4f35-b230-5b1183661e50",
   "metadata": {},
   "outputs": [
    {
     "name": "stdout",
     "output_type": "stream",
     "text": [
      "Confidence interval: (-3.2690189017555973, 23.269018901755597)\n"
     ]
    }
   ],
   "source": [
    "import numpy as np\n",
    "import scipy.stats as st\n",
    "t_stat, p_value = st.ttest_ind(male_heights, female_heights, equal_var=False) # t-test\n",
    "mean1 = np.mean(male_heights) # sample mean of male heights\n",
    "mean2 = np.mean(female_heights) # sample mean of female heights\n",
    "se1 = st.sem(male_heights) # standard error of male heights\n",
    "se2 = st.sem(female_heights) # standard error of female heights\n",
    "sed = np.sqrt(se1**2 + se2**2) # standard error of difference\n",
    "confidence = 0.95\n",
    "z = st.norm.ppf((1 + confidence) / 2) # z-score for the confidence level\n",
    "margin_error = z * sed # margin of error\n",
    "ci = ((mean1 - mean2) - margin_error, (mean1 - mean2) + margin_error) # confidence interval\n",
    "print(f\"Confidence interval: {ci}\")"
   ]
  },
  {
   "cell_type": "markdown",
   "id": "4d1a64bf-4ace-42aa-b27f-49d2985ffa73",
   "metadata": {},
   "source": [
    "#### Point and interval estimate in Diabetes dataset"
   ]
  },
  {
   "cell_type": "markdown",
   "id": "58be893b-e5b0-403f-9f59-97f09c85da06",
   "metadata": {},
   "source": [
    "**Estimating the mean of glucose level for the whole population of patients**\n",
    "To estimate the mean of glucose level for the whole population of patients, we can use the sample mean as a point estimate, and construct a 95% confidence interval as an interval estimate."
   ]
  },
  {
   "cell_type": "code",
   "execution_count": 18,
   "id": "3ac2edab-e9fd-4427-8765-b554472f3106",
   "metadata": {},
   "outputs": [
    {
     "name": "stdout",
     "output_type": "stream",
     "text": [
      "Point estimate of the population mean of glucose level is 120.89\n",
      "95% confidence interval of the population mean of glucose level is (118.63, 123.16)\n"
     ]
    }
   ],
   "source": [
    "import pandas as pd \n",
    "import numpy as np \n",
    "import scipy.stats as st \n",
    "import matplotlib.pyplot as plt\n",
    "# Load the diabetes data from a csv file\n",
    "data = pd.read_csv(\"/workspaces/ImplementingStatisticsWithPython/data/chapter1/diabetes.csv\")\n",
    "# get the glucose column\n",
    "x = data[\"Glucose\"] \n",
    "# get the sample size\n",
    "n = len(x) \n",
    "# get the sample mean\n",
    "mean = x.mean() \n",
    "# get the sample standard deviation\n",
    "std = x.std() \n",
    "# set the confidence level\n",
    "confidence = 0.95 \n",
    "# get the critical value\n",
    "z = st.norm.ppf((1 + confidence) / 2) \n",
    "# get the margin of error\n",
    "margin_error = z * std / np.sqrt(n) \n",
    "# get the lower bound of the confidence interval\n",
    "lower = mean - margin_error \n",
    "# get the upper bound of the confidence interval\n",
    "upper = mean + margin_error \n",
    "print(f\"Point estimate of the population mean of glucose level is {mean:.2f}\")\n",
    "print(f\"95% confidence interval of the population mean of glucose level is ({lower:.2f}, {upper:.2f})\")"
   ]
  },
  {
   "cell_type": "markdown",
   "id": "1b80d2fa-b0f7-4e57-8d28-b81f77d33005",
   "metadata": {},
   "source": [
    "**Estimating the proportion of patients with diabetes for the whole population of patients.**\n",
    "To estimate the proportion of patients with diabetes for the whole population of patients, we can use the sample proportion as a point estimate, and construct a 95% confidence interval as an interval estimate."
   ]
  },
  {
   "cell_type": "code",
   "execution_count": 19,
   "id": "3927ac67-d7a1-4a99-b5b2-646ded66db8f",
   "metadata": {},
   "outputs": [
    {
     "name": "stdout",
     "output_type": "stream",
     "text": [
      "Point estimate of the population proportion of patients with diabetes is 0.35\n",
      "95% confidence interval of the population proportion of patients with diabetes is (0.32, 0.38)\n"
     ]
    }
   ],
   "source": [
    "import pandas as pd \n",
    "import numpy as np \n",
    "import scipy.stats as st \n",
    "import matplotlib.pyplot as plt\n",
    "# Load the diabetes data from a csv file\n",
    "data = pd.read_csv(\"/workspaces/ImplementingStatisticsWithPython/data/chapter1/diabetes.csv\")\n",
    "# get the outcome column\n",
    "y = data[\"Outcome\"] \n",
    "# get the sample size\n",
    "n = len(y) \n",
    "# get the sample proportion\n",
    "p = y.mean() \n",
    "# set the confidence level\n",
    "confidence = 0.95 \n",
    "# get the critical value\n",
    "z = st.norm.ppf((1 + confidence) / 2) \n",
    "# get the margin of error\n",
    "margin_error = z * np.sqrt(p * (1 - p) / n) \n",
    "# get the lower bound of the confidence interval\n",
    "lower = p - margin_error \n",
    "# get the upper bound of the confidence interval\n",
    "upper = p + margin_error \n",
    "print(f\"Point estimate of the population proportion of patients with diabetes is {p:.2f}\")\n",
    "print(f\"95% confidence interval of the population proportion of patients with diabetes is ({lower:.2f}, {upper:.2f})\")"
   ]
  },
  {
   "cell_type": "markdown",
   "id": "dc7efc18-fa31-4018-93c0-930acb89b458",
   "metadata": {},
   "source": [
    "#### Point and interval estimate in text dataset"
   ]
  },
  {
   "cell_type": "code",
   "execution_count": 27,
   "id": "d1ab9918-ca54-4660-afe0-d039f8008588",
   "metadata": {},
   "outputs": [
    {
     "name": "stdout",
     "output_type": "stream",
     "text": [
      "Point estimate of the mean length is 6.27 characters\n",
      "95% confidence interval of the mean length is 5.17 to 7.37 characters\n"
     ]
    }
   ],
   "source": [
    "import scipy.stats as st\n",
    "# Read the text file as a string\n",
    "with open(\"/workspaces/ImplementingStatisticsWithPython/data/chapter1/TransactionNarrative/1.txt\", \"r\") as f:\n",
    "    text = f.read()\n",
    "# Split the text by whitespace characters and remove empty strings\n",
    "words = [word for word in text.split() if word]\n",
    "# Calculate the length of each word\n",
    "lengths = [len(word) for word in words]\n",
    "# Calculate the point estimate of the mean length\n",
    "mean = sum(lengths) / len(lengths)\n",
    "# Calculate the standard error of the mean length\n",
    "sem = st.sem(lengths)\n",
    "# Calculate the 95% confidence interval of the mean length\n",
    "ci = st.t.interval(confidence=0.95, df=len(lengths)-1, loc=mean, scale=sem)\n",
    "# Print the results\n",
    "print(f\"Point estimate of the mean length is {mean:.2f} characters\")\n",
    "print(f\"95% confidence interval of the mean length is {ci[0]:.2f} to {ci[1]:.2f} characters\")"
   ]
  },
  {
   "cell_type": "code",
   "execution_count": 28,
   "id": "6af210d2-4018-4076-b9a7-a90034fc6820",
   "metadata": {},
   "outputs": [
    {
     "data": {
      "image/png": "[encoded data removed]",
      "text/plain": [
       "<Figure size 640x480 with 1 Axes>"
      ]
     },
     "metadata": {},
     "output_type": "display_data"
    }
   ],
   "source": [
    "import matplotlib.pyplot as plt\n",
    "# Create a figure and an axis\n",
    "fig, ax = plt.subplots()\n",
    "# Plot the point estimate as a horizontal line\n",
    "ax.hlines(mean, xmin=0, xmax=len(lengths), color='blue', label='Point estimate')\n",
    "# Plot the confidence interval as a shaded area\n",
    "ax.fill_between(x=range(len(lengths)), y1=ci[0], y2=ci[1], color='orange', alpha=0.3, label='95% confidence interval')\n",
    "# Add some labels and a legend\n",
    "ax.set_xlabel('Word index')\n",
    "ax.set_ylabel('Word length')\n",
    "ax.set_title('Confidence interval of the mean word length')\n",
    "ax.legend()\n",
    "plt.savefig(\"pointestimate_ci.jpg\",dpi=600,bbox_inches='tight')\n",
    "plt.show()"
   ]
  }
 ],
 "metadata": {
  "kernelspec": {
   "display_name": "Python 3 (ipykernel)",
   "language": "python",
   "name": "python3"
  },
  "language_info": {
   "codemirror_mode": {
    "name": "ipython",
    "version": 3
   },
   "file_extension": ".py",
   "mimetype": "text/x-python",
   "name": "python",
   "nbconvert_exporter": "python",
   "pygments_lexer": "ipython3",
   "version": "3.10.8"
  }
 },
 "nbformat": 4,
 "nbformat_minor": 5
}
